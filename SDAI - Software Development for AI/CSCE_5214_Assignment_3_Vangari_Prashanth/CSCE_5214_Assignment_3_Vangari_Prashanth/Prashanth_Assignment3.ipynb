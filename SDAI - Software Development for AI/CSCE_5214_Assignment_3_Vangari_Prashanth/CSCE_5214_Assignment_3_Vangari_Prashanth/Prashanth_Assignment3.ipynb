{
  "nbformat": 4,
  "nbformat_minor": 0,
  "metadata": {
    "colab": {
      "provenance": []
    },
    "kernelspec": {
      "name": "python3",
      "display_name": "Python 3"
    },
    "language_info": {
      "name": "python"
    }
  },
  "cells": [
    {
      "cell_type": "code",
      "source": [
        "import pandas as pd"
      ],
      "metadata": {
        "id": "XdlHs3uMm_qG"
      },
      "execution_count": 4,
      "outputs": []
    },
    {
      "cell_type": "code",
      "execution_count": 5,
      "metadata": {
        "id": "WDyE8AJomkd_"
      },
      "outputs": [],
      "source": [
        "def getData(filename):\n",
        "  canData=[] #List to store CAN data\n",
        "  f = open(filename)\n",
        "  #read_file = reader(f)\n",
        "  read_file =f.readlines()\n",
        "\n",
        "  #file = list(read_file)\n",
        "  speed = []\n",
        "  rpm = []\n",
        "  i = 0\n",
        "  for row in read_file:\n",
        "    #Change the positions of the values if needed\n",
        "    record = {'stamp':row[1:18], 'PID':row[25:28], 'const1':row[29:33],\n",
        "'change':row[33:41],'value':int(row[41:45], 16), 'value2':0 ,'attack':0}\n",
        "\n",
        "    if record[\"PID\"] == '254': #Processing of speed\n",
        "      if record[\"value\"] >= 4095:\n",
        "        record[\"attack\"] = 1\n",
        "      record['value'] =  (record['value'] * 0.62137119) /100\n",
        "      speed.append(record['value'])\n",
        "\n",
        "    if record[\"PID\"] == '115': #Processing of RPM\n",
        "      if record[\"value\"] >= 65535:\n",
        "        record[\"attack\"] = 1\n",
        "      record['value'] =  (record['value'] * 2)\n",
        "      rpm.append(record['value'])\n",
        "\n",
        "    i = i+1\n",
        "    canData.append(record)\n",
        "    record={}\n",
        "\n",
        "  f.close()\n",
        "  return canData\n"
      ]
    },
    {
      "cell_type": "code",
      "source": [
        "def dict_to_df(dict):\n",
        "\n",
        "  #load dictionary to dataframe\n",
        "  df = pd.DataFrame.from_dict(dict)\n",
        "  df = df.drop(columns=['stamp','const1','change','value2'])\n",
        "  df = df.loc[(df['PID'] == '115') | (df['PID'] == '254')]\n",
        "  df = df.reset_index(drop=True)\n",
        "  one_hot = pd.get_dummies(df['PID'])\n",
        "  df = df.drop('PID',axis = 1)\n",
        "  df = df.join(one_hot)\n",
        "  df = df[['115', '254', 'value', 'attack']]\n",
        "  df.rename(columns = {'115':'RPM', '254':'Speed'}, inplace = True)\n",
        "  df.loc[df['RPM'] == 1, 'RPM'] = df['value']\n",
        "  df.loc[df['Speed'] == 1, 'Speed'] = df['value']\n",
        "  df = df.drop(columns=['value'])\n",
        "\n",
        "  return df\n"
      ],
      "metadata": {
        "id": "nRwOiJFWmoB2"
      },
      "execution_count": 6,
      "outputs": []
    },
    {
      "cell_type": "code",
      "source": [
        "#edit file name with file directory of downloaded log files\n",
        "fff_injection_df = dict_to_df(getData(\"CAN Bus log - injection of FFF as the speed reading.log\"))\n",
        "rpm_injection_df = dict_to_df(getData(\"CAN Bus log - injection of RPM readings.log\"))\n",
        "no_injection_df = dict_to_df(getData(\"CAN bus log - no injection of messages.log\"))"
      ],
      "metadata": {
        "id": "Te1dlbMBmrjF"
      },
      "execution_count": 7,
      "outputs": []
    },
    {
      "cell_type": "code",
      "source": [
        "#Random Forest Classifier\n",
        "from sklearn.ensemble import RandomForestClassifier\n",
        "from sklearn.metrics import confusion_matrix, classification_report\n",
        "\n",
        "# Create and train the model\n",
        "X= no_injection_df.drop(['attack'],axis =1).values\n",
        "y= no_injection_df['attack'].values\n",
        "\n",
        "\n",
        "model = RandomForestClassifier(random_state=42)\n",
        "model.fit(X, y)\n"
      ],
      "metadata": {
        "colab": {
          "base_uri": "https://localhost:8080/",
          "height": 51
        },
        "id": "_y1zckljnFMa",
        "outputId": "7dda5b00-20c8-4ce6-b674-d3b665ccd919"
      },
      "execution_count": 10,
      "outputs": [
        {
          "output_type": "execute_result",
          "data": {
            "text/plain": [
              "RandomForestClassifier(random_state=42)"
            ],
            "text/html": [
              "<style>#sk-container-id-1 {color: black;background-color: white;}#sk-container-id-1 pre{padding: 0;}#sk-container-id-1 div.sk-toggleable {background-color: white;}#sk-container-id-1 label.sk-toggleable__label {cursor: pointer;display: block;width: 100%;margin-bottom: 0;padding: 0.3em;box-sizing: border-box;text-align: center;}#sk-container-id-1 label.sk-toggleable__label-arrow:before {content: \"▸\";float: left;margin-right: 0.25em;color: #696969;}#sk-container-id-1 label.sk-toggleable__label-arrow:hover:before {color: black;}#sk-container-id-1 div.sk-estimator:hover label.sk-toggleable__label-arrow:before {color: black;}#sk-container-id-1 div.sk-toggleable__content {max-height: 0;max-width: 0;overflow: hidden;text-align: left;background-color: #f0f8ff;}#sk-container-id-1 div.sk-toggleable__content pre {margin: 0.2em;color: black;border-radius: 0.25em;background-color: #f0f8ff;}#sk-container-id-1 input.sk-toggleable__control:checked~div.sk-toggleable__content {max-height: 200px;max-width: 100%;overflow: auto;}#sk-container-id-1 input.sk-toggleable__control:checked~label.sk-toggleable__label-arrow:before {content: \"▾\";}#sk-container-id-1 div.sk-estimator input.sk-toggleable__control:checked~label.sk-toggleable__label {background-color: #d4ebff;}#sk-container-id-1 div.sk-label input.sk-toggleable__control:checked~label.sk-toggleable__label {background-color: #d4ebff;}#sk-container-id-1 input.sk-hidden--visually {border: 0;clip: rect(1px 1px 1px 1px);clip: rect(1px, 1px, 1px, 1px);height: 1px;margin: -1px;overflow: hidden;padding: 0;position: absolute;width: 1px;}#sk-container-id-1 div.sk-estimator {font-family: monospace;background-color: #f0f8ff;border: 1px dotted black;border-radius: 0.25em;box-sizing: border-box;margin-bottom: 0.5em;}#sk-container-id-1 div.sk-estimator:hover {background-color: #d4ebff;}#sk-container-id-1 div.sk-parallel-item::after {content: \"\";width: 100%;border-bottom: 1px solid gray;flex-grow: 1;}#sk-container-id-1 div.sk-label:hover label.sk-toggleable__label {background-color: #d4ebff;}#sk-container-id-1 div.sk-serial::before {content: \"\";position: absolute;border-left: 1px solid gray;box-sizing: border-box;top: 0;bottom: 0;left: 50%;z-index: 0;}#sk-container-id-1 div.sk-serial {display: flex;flex-direction: column;align-items: center;background-color: white;padding-right: 0.2em;padding-left: 0.2em;position: relative;}#sk-container-id-1 div.sk-item {position: relative;z-index: 1;}#sk-container-id-1 div.sk-parallel {display: flex;align-items: stretch;justify-content: center;background-color: white;position: relative;}#sk-container-id-1 div.sk-item::before, #sk-container-id-1 div.sk-parallel-item::before {content: \"\";position: absolute;border-left: 1px solid gray;box-sizing: border-box;top: 0;bottom: 0;left: 50%;z-index: -1;}#sk-container-id-1 div.sk-parallel-item {display: flex;flex-direction: column;z-index: 1;position: relative;background-color: white;}#sk-container-id-1 div.sk-parallel-item:first-child::after {align-self: flex-end;width: 50%;}#sk-container-id-1 div.sk-parallel-item:last-child::after {align-self: flex-start;width: 50%;}#sk-container-id-1 div.sk-parallel-item:only-child::after {width: 0;}#sk-container-id-1 div.sk-dashed-wrapped {border: 1px dashed gray;margin: 0 0.4em 0.5em 0.4em;box-sizing: border-box;padding-bottom: 0.4em;background-color: white;}#sk-container-id-1 div.sk-label label {font-family: monospace;font-weight: bold;display: inline-block;line-height: 1.2em;}#sk-container-id-1 div.sk-label-container {text-align: center;}#sk-container-id-1 div.sk-container {/* jupyter's `normalize.less` sets `[hidden] { display: none; }` but bootstrap.min.css set `[hidden] { display: none !important; }` so we also need the `!important` here to be able to override the default hidden behavior on the sphinx rendered scikit-learn.org. See: https://github.com/scikit-learn/scikit-learn/issues/21755 */display: inline-block !important;position: relative;}#sk-container-id-1 div.sk-text-repr-fallback {display: none;}</style><div id=\"sk-container-id-1\" class=\"sk-top-container\"><div class=\"sk-text-repr-fallback\"><pre>RandomForestClassifier(random_state=42)</pre><b>In a Jupyter environment, please rerun this cell to show the HTML representation or trust the notebook. <br />On GitHub, the HTML representation is unable to render, please try loading this page with nbviewer.org.</b></div><div class=\"sk-container\" hidden><div class=\"sk-item\"><div class=\"sk-estimator sk-toggleable\"><input class=\"sk-toggleable__control sk-hidden--visually\" id=\"sk-estimator-id-1\" type=\"checkbox\" checked><label for=\"sk-estimator-id-1\" class=\"sk-toggleable__label sk-toggleable__label-arrow\">RandomForestClassifier</label><div class=\"sk-toggleable__content\"><pre>RandomForestClassifier(random_state=42)</pre></div></div></div></div></div>"
            ]
          },
          "metadata": {},
          "execution_count": 10
        }
      ]
    },
    {
      "cell_type": "code",
      "source": [
        "import joblib"
      ],
      "metadata": {
        "id": "OJ3Vqug-npnM"
      },
      "execution_count": 11,
      "outputs": []
    },
    {
      "cell_type": "code",
      "source": [
        "joblib.dump(model,\"./random_forest.joblib\")"
      ],
      "metadata": {
        "colab": {
          "base_uri": "https://localhost:8080/"
        },
        "id": "7YrGMtKcoU3Y",
        "outputId": "dc267aac-fd2a-43bc-8dfb-1cd4ef67b646"
      },
      "execution_count": 12,
      "outputs": [
        {
          "output_type": "execute_result",
          "data": {
            "text/plain": [
              "['./random_forest.joblib']"
            ]
          },
          "metadata": {},
          "execution_count": 12
        }
      ]
    },
    {
      "cell_type": "code",
      "source": [],
      "metadata": {
        "id": "h5h627VGos10"
      },
      "execution_count": null,
      "outputs": []
    }
  ]
}