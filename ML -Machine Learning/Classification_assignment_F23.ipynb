{
  "cells": [
    {
      "cell_type": "markdown",
      "id": "ac33febd",
      "metadata": {
        "id": "ac33febd"
      },
      "source": [
        "## Student name: Vangari Prashanth\n",
        "## Assignment: Regression"
      ]
    },
    {
      "cell_type": "markdown",
      "id": "62b63181",
      "metadata": {
        "id": "62b63181"
      },
      "source": [
        "### Part 1: Data Wrangling (50 pts)\n",
        "You have to write code to answer the questions below\n",
        "7 pts each subtask except for the first one (importing pandas...) which is worth 1 pt"
      ]
    },
    {
      "cell_type": "code",
      "execution_count": 61,
      "id": "33213459",
      "metadata": {
        "jupyter": {
          "outputs_hidden": false
        },
        "colab": {
          "base_uri": "https://localhost:8080/",
          "height": 261
        },
        "id": "33213459",
        "outputId": "cb568df8-e7d4-4928-8e6a-d923c1bd847a"
      },
      "outputs": [
        {
          "output_type": "execute_result",
          "data": {
            "text/plain": [
              "      id  gender   age  hypertension  heart_disease ever_married  \\\n",
              "0   9046    Male  67.0             0              1          Yes   \n",
              "1  51676  Female  61.0             0              0          Yes   \n",
              "2  31112    Male  80.0             0              1          Yes   \n",
              "3  60182  Female  49.0             0              0          Yes   \n",
              "4   1665  Female  79.0             1              0          Yes   \n",
              "\n",
              "       work_type Residence_type  avg_glucose_level   bmi   smoking_status  \\\n",
              "0        Private          Urban             228.69  36.6  formerly smoked   \n",
              "1  Self-employed          Rural             202.21   NaN     never smoked   \n",
              "2        Private          Rural             105.92  32.5     never smoked   \n",
              "3        Private          Urban             171.23  34.4           smokes   \n",
              "4  Self-employed          Rural             174.12  24.0     never smoked   \n",
              "\n",
              "   stroke  \n",
              "0       1  \n",
              "1       1  \n",
              "2       1  \n",
              "3       1  \n",
              "4       1  "
            ],
            "text/html": [
              "\n",
              "  <div id=\"df-c84c70fc-6988-4ac3-98e4-248fac07163f\" class=\"colab-df-container\">\n",
              "    <div>\n",
              "<style scoped>\n",
              "    .dataframe tbody tr th:only-of-type {\n",
              "        vertical-align: middle;\n",
              "    }\n",
              "\n",
              "    .dataframe tbody tr th {\n",
              "        vertical-align: top;\n",
              "    }\n",
              "\n",
              "    .dataframe thead th {\n",
              "        text-align: right;\n",
              "    }\n",
              "</style>\n",
              "<table border=\"1\" class=\"dataframe\">\n",
              "  <thead>\n",
              "    <tr style=\"text-align: right;\">\n",
              "      <th></th>\n",
              "      <th>id</th>\n",
              "      <th>gender</th>\n",
              "      <th>age</th>\n",
              "      <th>hypertension</th>\n",
              "      <th>heart_disease</th>\n",
              "      <th>ever_married</th>\n",
              "      <th>work_type</th>\n",
              "      <th>Residence_type</th>\n",
              "      <th>avg_glucose_level</th>\n",
              "      <th>bmi</th>\n",
              "      <th>smoking_status</th>\n",
              "      <th>stroke</th>\n",
              "    </tr>\n",
              "  </thead>\n",
              "  <tbody>\n",
              "    <tr>\n",
              "      <th>0</th>\n",
              "      <td>9046</td>\n",
              "      <td>Male</td>\n",
              "      <td>67.0</td>\n",
              "      <td>0</td>\n",
              "      <td>1</td>\n",
              "      <td>Yes</td>\n",
              "      <td>Private</td>\n",
              "      <td>Urban</td>\n",
              "      <td>228.69</td>\n",
              "      <td>36.6</td>\n",
              "      <td>formerly smoked</td>\n",
              "      <td>1</td>\n",
              "    </tr>\n",
              "    <tr>\n",
              "      <th>1</th>\n",
              "      <td>51676</td>\n",
              "      <td>Female</td>\n",
              "      <td>61.0</td>\n",
              "      <td>0</td>\n",
              "      <td>0</td>\n",
              "      <td>Yes</td>\n",
              "      <td>Self-employed</td>\n",
              "      <td>Rural</td>\n",
              "      <td>202.21</td>\n",
              "      <td>NaN</td>\n",
              "      <td>never smoked</td>\n",
              "      <td>1</td>\n",
              "    </tr>\n",
              "    <tr>\n",
              "      <th>2</th>\n",
              "      <td>31112</td>\n",
              "      <td>Male</td>\n",
              "      <td>80.0</td>\n",
              "      <td>0</td>\n",
              "      <td>1</td>\n",
              "      <td>Yes</td>\n",
              "      <td>Private</td>\n",
              "      <td>Rural</td>\n",
              "      <td>105.92</td>\n",
              "      <td>32.5</td>\n",
              "      <td>never smoked</td>\n",
              "      <td>1</td>\n",
              "    </tr>\n",
              "    <tr>\n",
              "      <th>3</th>\n",
              "      <td>60182</td>\n",
              "      <td>Female</td>\n",
              "      <td>49.0</td>\n",
              "      <td>0</td>\n",
              "      <td>0</td>\n",
              "      <td>Yes</td>\n",
              "      <td>Private</td>\n",
              "      <td>Urban</td>\n",
              "      <td>171.23</td>\n",
              "      <td>34.4</td>\n",
              "      <td>smokes</td>\n",
              "      <td>1</td>\n",
              "    </tr>\n",
              "    <tr>\n",
              "      <th>4</th>\n",
              "      <td>1665</td>\n",
              "      <td>Female</td>\n",
              "      <td>79.0</td>\n",
              "      <td>1</td>\n",
              "      <td>0</td>\n",
              "      <td>Yes</td>\n",
              "      <td>Self-employed</td>\n",
              "      <td>Rural</td>\n",
              "      <td>174.12</td>\n",
              "      <td>24.0</td>\n",
              "      <td>never smoked</td>\n",
              "      <td>1</td>\n",
              "    </tr>\n",
              "  </tbody>\n",
              "</table>\n",
              "</div>\n",
              "    <div class=\"colab-df-buttons\">\n",
              "\n",
              "  <div class=\"colab-df-container\">\n",
              "    <button class=\"colab-df-convert\" onclick=\"convertToInteractive('df-c84c70fc-6988-4ac3-98e4-248fac07163f')\"\n",
              "            title=\"Convert this dataframe to an interactive table.\"\n",
              "            style=\"display:none;\">\n",
              "\n",
              "  <svg xmlns=\"http://www.w3.org/2000/svg\" height=\"24px\" viewBox=\"0 -960 960 960\">\n",
              "    <path d=\"M120-120v-720h720v720H120Zm60-500h600v-160H180v160Zm220 220h160v-160H400v160Zm0 220h160v-160H400v160ZM180-400h160v-160H180v160Zm440 0h160v-160H620v160ZM180-180h160v-160H180v160Zm440 0h160v-160H620v160Z\"/>\n",
              "  </svg>\n",
              "    </button>\n",
              "\n",
              "  <style>\n",
              "    .colab-df-container {\n",
              "      display:flex;\n",
              "      gap: 12px;\n",
              "    }\n",
              "\n",
              "    .colab-df-convert {\n",
              "      background-color: #E8F0FE;\n",
              "      border: none;\n",
              "      border-radius: 50%;\n",
              "      cursor: pointer;\n",
              "      display: none;\n",
              "      fill: #1967D2;\n",
              "      height: 32px;\n",
              "      padding: 0 0 0 0;\n",
              "      width: 32px;\n",
              "    }\n",
              "\n",
              "    .colab-df-convert:hover {\n",
              "      background-color: #E2EBFA;\n",
              "      box-shadow: 0px 1px 2px rgba(60, 64, 67, 0.3), 0px 1px 3px 1px rgba(60, 64, 67, 0.15);\n",
              "      fill: #174EA6;\n",
              "    }\n",
              "\n",
              "    .colab-df-buttons div {\n",
              "      margin-bottom: 4px;\n",
              "    }\n",
              "\n",
              "    [theme=dark] .colab-df-convert {\n",
              "      background-color: #3B4455;\n",
              "      fill: #D2E3FC;\n",
              "    }\n",
              "\n",
              "    [theme=dark] .colab-df-convert:hover {\n",
              "      background-color: #434B5C;\n",
              "      box-shadow: 0px 1px 3px 1px rgba(0, 0, 0, 0.15);\n",
              "      filter: drop-shadow(0px 1px 2px rgba(0, 0, 0, 0.3));\n",
              "      fill: #FFFFFF;\n",
              "    }\n",
              "  </style>\n",
              "\n",
              "    <script>\n",
              "      const buttonEl =\n",
              "        document.querySelector('#df-c84c70fc-6988-4ac3-98e4-248fac07163f button.colab-df-convert');\n",
              "      buttonEl.style.display =\n",
              "        google.colab.kernel.accessAllowed ? 'block' : 'none';\n",
              "\n",
              "      async function convertToInteractive(key) {\n",
              "        const element = document.querySelector('#df-c84c70fc-6988-4ac3-98e4-248fac07163f');\n",
              "        const dataTable =\n",
              "          await google.colab.kernel.invokeFunction('convertToInteractive',\n",
              "                                                    [key], {});\n",
              "        if (!dataTable) return;\n",
              "\n",
              "        const docLinkHtml = 'Like what you see? Visit the ' +\n",
              "          '<a target=\"_blank\" href=https://colab.research.google.com/notebooks/data_table.ipynb>data table notebook</a>'\n",
              "          + ' to learn more about interactive tables.';\n",
              "        element.innerHTML = '';\n",
              "        dataTable['output_type'] = 'display_data';\n",
              "        await google.colab.output.renderOutput(dataTable, element);\n",
              "        const docLink = document.createElement('div');\n",
              "        docLink.innerHTML = docLinkHtml;\n",
              "        element.appendChild(docLink);\n",
              "      }\n",
              "    </script>\n",
              "  </div>\n",
              "\n",
              "\n",
              "<div id=\"df-23d8cb74-37a6-45b0-9207-35b77f80c786\">\n",
              "  <button class=\"colab-df-quickchart\" onclick=\"quickchart('df-23d8cb74-37a6-45b0-9207-35b77f80c786')\"\n",
              "            title=\"Suggest charts.\"\n",
              "            style=\"display:none;\">\n",
              "\n",
              "<svg xmlns=\"http://www.w3.org/2000/svg\" height=\"24px\"viewBox=\"0 0 24 24\"\n",
              "     width=\"24px\">\n",
              "    <g>\n",
              "        <path d=\"M19 3H5c-1.1 0-2 .9-2 2v14c0 1.1.9 2 2 2h14c1.1 0 2-.9 2-2V5c0-1.1-.9-2-2-2zM9 17H7v-7h2v7zm4 0h-2V7h2v10zm4 0h-2v-4h2v4z\"/>\n",
              "    </g>\n",
              "</svg>\n",
              "  </button>\n",
              "\n",
              "<style>\n",
              "  .colab-df-quickchart {\n",
              "      --bg-color: #E8F0FE;\n",
              "      --fill-color: #1967D2;\n",
              "      --hover-bg-color: #E2EBFA;\n",
              "      --hover-fill-color: #174EA6;\n",
              "      --disabled-fill-color: #AAA;\n",
              "      --disabled-bg-color: #DDD;\n",
              "  }\n",
              "\n",
              "  [theme=dark] .colab-df-quickchart {\n",
              "      --bg-color: #3B4455;\n",
              "      --fill-color: #D2E3FC;\n",
              "      --hover-bg-color: #434B5C;\n",
              "      --hover-fill-color: #FFFFFF;\n",
              "      --disabled-bg-color: #3B4455;\n",
              "      --disabled-fill-color: #666;\n",
              "  }\n",
              "\n",
              "  .colab-df-quickchart {\n",
              "    background-color: var(--bg-color);\n",
              "    border: none;\n",
              "    border-radius: 50%;\n",
              "    cursor: pointer;\n",
              "    display: none;\n",
              "    fill: var(--fill-color);\n",
              "    height: 32px;\n",
              "    padding: 0;\n",
              "    width: 32px;\n",
              "  }\n",
              "\n",
              "  .colab-df-quickchart:hover {\n",
              "    background-color: var(--hover-bg-color);\n",
              "    box-shadow: 0 1px 2px rgba(60, 64, 67, 0.3), 0 1px 3px 1px rgba(60, 64, 67, 0.15);\n",
              "    fill: var(--button-hover-fill-color);\n",
              "  }\n",
              "\n",
              "  .colab-df-quickchart-complete:disabled,\n",
              "  .colab-df-quickchart-complete:disabled:hover {\n",
              "    background-color: var(--disabled-bg-color);\n",
              "    fill: var(--disabled-fill-color);\n",
              "    box-shadow: none;\n",
              "  }\n",
              "\n",
              "  .colab-df-spinner {\n",
              "    border: 2px solid var(--fill-color);\n",
              "    border-color: transparent;\n",
              "    border-bottom-color: var(--fill-color);\n",
              "    animation:\n",
              "      spin 1s steps(1) infinite;\n",
              "  }\n",
              "\n",
              "  @keyframes spin {\n",
              "    0% {\n",
              "      border-color: transparent;\n",
              "      border-bottom-color: var(--fill-color);\n",
              "      border-left-color: var(--fill-color);\n",
              "    }\n",
              "    20% {\n",
              "      border-color: transparent;\n",
              "      border-left-color: var(--fill-color);\n",
              "      border-top-color: var(--fill-color);\n",
              "    }\n",
              "    30% {\n",
              "      border-color: transparent;\n",
              "      border-left-color: var(--fill-color);\n",
              "      border-top-color: var(--fill-color);\n",
              "      border-right-color: var(--fill-color);\n",
              "    }\n",
              "    40% {\n",
              "      border-color: transparent;\n",
              "      border-right-color: var(--fill-color);\n",
              "      border-top-color: var(--fill-color);\n",
              "    }\n",
              "    60% {\n",
              "      border-color: transparent;\n",
              "      border-right-color: var(--fill-color);\n",
              "    }\n",
              "    80% {\n",
              "      border-color: transparent;\n",
              "      border-right-color: var(--fill-color);\n",
              "      border-bottom-color: var(--fill-color);\n",
              "    }\n",
              "    90% {\n",
              "      border-color: transparent;\n",
              "      border-bottom-color: var(--fill-color);\n",
              "    }\n",
              "  }\n",
              "</style>\n",
              "\n",
              "  <script>\n",
              "    async function quickchart(key) {\n",
              "      const quickchartButtonEl =\n",
              "        document.querySelector('#' + key + ' button');\n",
              "      quickchartButtonEl.disabled = true;  // To prevent multiple clicks.\n",
              "      quickchartButtonEl.classList.add('colab-df-spinner');\n",
              "      try {\n",
              "        const charts = await google.colab.kernel.invokeFunction(\n",
              "            'suggestCharts', [key], {});\n",
              "      } catch (error) {\n",
              "        console.error('Error during call to suggestCharts:', error);\n",
              "      }\n",
              "      quickchartButtonEl.classList.remove('colab-df-spinner');\n",
              "      quickchartButtonEl.classList.add('colab-df-quickchart-complete');\n",
              "    }\n",
              "    (() => {\n",
              "      let quickchartButtonEl =\n",
              "        document.querySelector('#df-23d8cb74-37a6-45b0-9207-35b77f80c786 button');\n",
              "      quickchartButtonEl.style.display =\n",
              "        google.colab.kernel.accessAllowed ? 'block' : 'none';\n",
              "    })();\n",
              "  </script>\n",
              "</div>\n",
              "    </div>\n",
              "  </div>\n"
            ]
          },
          "metadata": {},
          "execution_count": 61
        }
      ],
      "source": [
        "import pandas as pd\n",
        "import matplotlib.pyplot as plt\n",
        "import numpy as np\n",
        "\n",
        "\"\"\"\n",
        "Import pandas library\n",
        "Read the data stored in your local machine https://www.kaggle.com/datasets/fedesoriano/stroke-prediction-dataset\n",
        "Save data to a variable named df\n",
        "\"\"\"\n",
        "df = pd.read_csv('healthcare-dataset-stroke-data.csv')  # Read the CSV file\n",
        "df.head(5)    # print the first five rows"
      ]
    },
    {
      "cell_type": "code",
      "execution_count": 62,
      "id": "107da10f",
      "metadata": {
        "jupyter": {
          "outputs_hidden": false
        },
        "colab": {
          "base_uri": "https://localhost:8080/",
          "height": 428
        },
        "id": "107da10f",
        "outputId": "eb34ee03-2e12-49c8-92b0-6a9802217d03"
      },
      "outputs": [
        {
          "output_type": "display_data",
          "data": {
            "text/plain": [
              "<Figure size 640x480 with 1 Axes>"
            ],
            "image/png": "[encoded data removed]"
          },
          "metadata": {}
        }
      ],
      "source": [
        "'''\n",
        "Use a pie chart to show the percentage of ever_married with labels and percentage rounded up to 2 decimals.\n",
        "'''\n",
        "\n",
        "count = df['ever_married'].value_counts()\n",
        "l = len(df)\n",
        "pcnt = (count / l) * 100\n",
        "pcnt = pcnt.round(2)\n",
        "\n",
        "label = ['Yes', 'No']\n",
        "\n",
        "plt.pie(pcnt, labels=label, autopct='%1.2f%%')\n",
        "plt.title('Percentage of Ever Married')\n",
        "plt.axis('equal')\n",
        "plt.show()"
      ]
    },
    {
      "cell_type": "code",
      "execution_count": 63,
      "id": "23cea4b9",
      "metadata": {
        "jupyter": {
          "outputs_hidden": false
        },
        "pycharm": {
          "is_executing": true
        },
        "id": "23cea4b9"
      },
      "outputs": [],
      "source": [
        "'''\n",
        "Encode the categorical columns to numeric. There are two types of encoding: ordinal and one-hot. Explain why you choose the encoding technique to the column(s) and implement it. Show some rows of df after encoding. There will be no printed console in this subtask\n",
        "Reference (you may need incognito mode to browse the pages):\n",
        "    https://scikit-learn.org/stable/modules/generated/sklearn.preprocessing.OrdinalEncoder.html\n",
        "    https://towardsdatascience.com/guide-to-encoding-categorical-features-using-scikit-learn-for-machine-learning-5048997a5c79\n",
        "    https://stackoverflow.com/questions/56502864/using-ordinalencoder-to-transform-categorical-values\n",
        "    https://stackoverflow.com/questions/37292872/how-can-i-one-hot-encode-in-python\n",
        "    https://pandas.pydata.org/docs/reference/api/pandas.get_dummies.html\n",
        "'''\n",
        "df_encoded = pd.get_dummies(df, columns=['gender','hypertension','age', 'heart_disease', 'avg_glucose_level', 'work_type', 'Residence_type', 'smoking_status'])\n",
        "# df_encoded.head(5)\n",
        "\n",
        "#Explanation:\n",
        "#When there is no fundamental order or ranking in categorical data and each category is unique, one-hot encoding is used.\n",
        "#When categories are ranked or have a meaningful order, ordinal encoding is used. It maintains the ordinal relationship by giving integer values to categories according to their respective locations.\n",
        "#In this case, One Hot encoding is used because there is no natural order or ranking in the columns.\n",
        "#For example, The gender column has male and female values, assigning 1 to male or female has no impact on the output.\n"
      ]
    },
    {
      "cell_type": "code",
      "execution_count": 64,
      "id": "143d6aef",
      "metadata": {
        "jupyter": {
          "outputs_hidden": true
        },
        "colab": {
          "base_uri": "https://localhost:8080/"
        },
        "id": "143d6aef",
        "outputId": "e53a6489-c239-45dc-d595-ecc42bb0f54e"
      },
      "outputs": [
        {
          "output_type": "stream",
          "name": "stdout",
          "text": [
            "id                   0.000000\n",
            "gender               0.000000\n",
            "age                  0.000000\n",
            "hypertension         0.000000\n",
            "heart_disease        0.000000\n",
            "ever_married         0.000000\n",
            "work_type            0.000000\n",
            "Residence_type       0.000000\n",
            "avg_glucose_level    0.000000\n",
            "smoking_status       0.000000\n",
            "stroke               0.000000\n",
            "bmi                  3.933464\n",
            "dtype: float64\n"
          ]
        }
      ],
      "source": [
        "# Return boolean values indicating the number of missing rows of each column in ascending order. Do not overwrite df.\n",
        "\n",
        "count = df.isna().sum()\n",
        "srt = count.sort_values(ascending=True)   # Sort the missing rows according to the values\n",
        "p = (srt / len(df)) * 100  # Here, p is percentage\n",
        "print(p)"
      ]
    },
    {
      "cell_type": "code",
      "execution_count": 65,
      "id": "a2d5b3d8",
      "metadata": {
        "jupyter": {
          "outputs_hidden": false
        },
        "colab": {
          "base_uri": "https://localhost:8080/"
        },
        "id": "a2d5b3d8",
        "outputId": "bc75cf66-520d-46b4-e805-75b0f5f518ff"
      },
      "outputs": [
        {
          "output_type": "stream",
          "name": "stdout",
          "text": [
            "Total missing values in the dataset: 0\n"
          ]
        }
      ],
      "source": [
        "'''\n",
        "Use one of imputation techniques in https://scikit-learn.org/stable/modules/impute.html#nearest-neighbors-imputation on bmi\n",
        "Remember to keep df as of DataFrame type after applying imputation\n",
        "Show the total number of missing values of the entire dataset\n",
        "'''\n",
        "from sklearn.impute import KNNImputer\n",
        "\n",
        "# KNN Imputer creates a object with k=6\n",
        "imputer = KNNImputer(n_neighbors=6)\n",
        "df['bmi'] = imputer.fit_transform(df[['bmi']])\n",
        "m = df.isna().sum().sum()\n",
        "print(\"Total missing values in the dataset:\", m)"
      ]
    },
    {
      "cell_type": "code",
      "execution_count": 66,
      "id": "5a962fe4",
      "metadata": {
        "jupyter": {
          "outputs_hidden": false
        },
        "colab": {
          "base_uri": "https://localhost:8080/"
        },
        "id": "5a962fe4",
        "outputId": "2fdadf8f-56ab-43f3-f810-13653234dafc"
      },
      "outputs": [
        {
          "output_type": "stream",
          "name": "stdout",
          "text": [
            "       bmi_categories\n",
            "0     Extremely Obese\n",
            "1          Overweight\n",
            "2               Obese\n",
            "3               Obese\n",
            "4              Normal\n",
            "...               ...\n",
            "5105       Overweight\n",
            "5106  Extremely Obese\n",
            "5107            Obese\n",
            "5108       Overweight\n",
            "5109       Overweight\n",
            "\n",
            "[5110 rows x 1 columns]\n"
          ]
        }
      ],
      "source": [
        "'''Categorize bmi into groups as https://images.agoramedia.com/everydayhealth/gcms/BMI-in-Adults-722x406.jpg?width=722.\n",
        "Print the column bmi after transformed. Do not overwrite to df\n",
        "'''\n",
        "# Categorize the weights based on their weights\n",
        "counts = [(df['bmi'] < 18.5),(df['bmi'] >= 18.5) & (df['bmi'] <= 24.9),(df['bmi'] >= 25) & (df['bmi'] <= 29.9),(df['bmi'] >= 30) & (df['bmi'] <= 34.9),(df['bmi'] > 35)]\n",
        "labels = ['Underweight', 'Normal', 'Overweight', 'Obese', 'Extremely Obese']\n",
        "\n",
        "df_upd = df.assign(bmi_categories=np.select(counts, labels))\n",
        "\n",
        "print(df_upd[['bmi_categories']])"
      ]
    },
    {
      "cell_type": "code",
      "execution_count": 67,
      "id": "265875f9",
      "metadata": {
        "jupyter": {
          "outputs_hidden": false
        },
        "colab": {
          "base_uri": "https://localhost:8080/"
        },
        "id": "265875f9",
        "outputId": "90b6e378-aef4-4d83-98eb-fb92c1955b12"
      },
      "outputs": [
        {
          "output_type": "stream",
          "name": "stdout",
          "text": [
            "0       level 9\n",
            "1       level 7\n",
            "2       level 3\n",
            "3       level 6\n",
            "4       level 6\n",
            "         ...   \n",
            "5105    level 2\n",
            "5106    level 4\n",
            "5107    level 2\n",
            "5108    level 6\n",
            "5109    level 2\n",
            "Name: avg_glucose_level, Length: 5110, dtype: category\n",
            "Categories (10, object): ['level 1' < 'level 2' < 'level 3' < 'level 4' ... 'level 7' < 'level 8' <\n",
            "                          'level 9' < 'level 10']\n"
          ]
        }
      ],
      "source": [
        "'''\n",
        "Show the column avg_glucose_level whose values are binned into 10 equal-sized discrete intervals with labels such as \"level 1\", \"level 2\", etc.\n",
        "Do not overwrite to df\n",
        "'''\n",
        "# avg_glucose_level binned to 10 equal sized intervals\n",
        "df1 = df.assign(avg_glucose_level=pd.cut(df['avg_glucose_level'],bins=10,\n",
        "        labels=['level 1', 'level 2', 'level 3', 'level 4', 'level 5', 'level 6', 'level 7', 'level 8', 'level 9', 'level 10']))\n",
        "\n",
        "print(df1['avg_glucose_level'])"
      ]
    },
    {
      "cell_type": "code",
      "execution_count": 68,
      "id": "a74b0584",
      "metadata": {
        "jupyter": {
          "outputs_hidden": false
        },
        "colab": {
          "base_uri": "https://localhost:8080/"
        },
        "id": "a74b0584",
        "outputId": "50c0bc6d-2484-4a52-9914-ffdca1b6db5b"
      },
      "outputs": [
        {
          "output_type": "stream",
          "name": "stdout",
          "text": [
            "0       (124.16, 271.74]\n",
            "1       (124.16, 271.74]\n",
            "2       (98.914, 124.16]\n",
            "3       (124.16, 271.74]\n",
            "4       (124.16, 271.74]\n",
            "              ...       \n",
            "5105       (73.76, 85.6]\n",
            "5106    (124.16, 271.74]\n",
            "5107       (73.76, 85.6]\n",
            "5108    (124.16, 271.74]\n",
            "5109       (73.76, 85.6]\n",
            "Name: avg_glucose_level, Length: 5110, dtype: category\n",
            "Categories (5, interval[float64, right]): [(55.119, 73.76] < (73.76, 85.6] < (85.6, 98.914] <\n",
            "                                           (98.914, 124.16] < (124.16, 271.74]]\n"
          ]
        }
      ],
      "source": [
        "'''\n",
        "Show the column avg_glucose_level whose values are binned into 5 equal percentile intervals as the output.\n",
        "Do not overwrite to df\n",
        "'''\n",
        "df2 = df.assign(avg_glucose_level=pd.qcut(df['avg_glucose_level'],q=5))\n",
        "\n",
        "print(df2['avg_glucose_level'])"
      ]
    },
    {
      "cell_type": "markdown",
      "id": "d83e5adc-89c7-4020-af57-4e3db792ad79",
      "metadata": {
        "id": "d83e5adc-89c7-4020-af57-4e3db792ad79"
      },
      "source": [
        "### Part 2: Logistic Regression(50 pts)"
      ]
    },
    {
      "cell_type": "code",
      "execution_count": 69,
      "id": "abf2fe38-076e-488a-ba73-d296258230d2",
      "metadata": {
        "colab": {
          "base_uri": "https://localhost:8080/"
        },
        "id": "abf2fe38-076e-488a-ba73-d296258230d2",
        "outputId": "17f6e453-7451-4694-c1f6-f298e6779534"
      },
      "outputs": [
        {
          "output_type": "stream",
          "name": "stdout",
          "text": [
            "gender                object\n",
            "age                  float64\n",
            "hypertension           int64\n",
            "heart_disease          int64\n",
            "ever_married          object\n",
            "work_type             object\n",
            "Residence_type        object\n",
            "avg_glucose_level    float64\n",
            "bmi                  float64\n",
            "smoking_status        object\n",
            "stroke                 int64\n",
            "dtype: object\n"
          ]
        }
      ],
      "source": [
        "'''\n",
        "10 pts:\n",
        "Before implementing your LR model, you need to keep feature id since it is the primary key to recognize patients.\n",
        "However, your model cannot work (well) if it's kept as original of string type while numeric type is meaningless.\n",
        "One solution is to set it as index. In practice, you may have to have a mechanism to convert it back to the original id for lookup.\n",
        "Justify your solution.\n",
        "'''\n",
        "df = df.set_index('id')\n",
        "df\n",
        "print(df.dtypes)\n",
        "\n",
        "from sklearn.impute import SimpleImputer\n",
        "from sklearn.preprocessing import KBinsDiscretizer\n",
        "from sklearn.preprocessing import OneHotEncoder\n",
        "from sklearn.model_selection import train_test_split\n",
        "\n",
        "\n",
        "encoded_df = df\n",
        "# Use numerical encoding to convert categorical data to numerical\n",
        "encoded_df = pd.get_dummies(df, columns=['gender', 'ever_married', 'work_type', 'Residence_type', 'smoking_status'])\n",
        "\n",
        "attrbts = ['age', 'hypertension', 'heart_disease', 'avg_glucose_level', 'bmi']\n",
        "encoded_df[attrbts] = (encoded_df[attrbts] - encoded_df[attrbts].mean()) / encoded_df[attrbts].std()\n"
      ]
    },
    {
      "cell_type": "code",
      "execution_count": 70,
      "id": "a5292d4d",
      "metadata": {
        "jupyter": {
          "outputs_hidden": false
        },
        "colab": {
          "base_uri": "https://localhost:8080/"
        },
        "id": "a5292d4d",
        "outputId": "0f41263b-97c3-4686-8059-ca9351b113de"
      },
      "outputs": [
        {
          "output_type": "stream",
          "name": "stdout",
          "text": [
            "0    4861\n",
            "1     249\n",
            "Name: stroke, dtype: int64\n"
          ]
        }
      ],
      "source": [
        "'''\n",
        "10 pts:\n",
        "Assign X to be the whole df without column stroke and y to be the column stroke. Split X and y into X_train, X_test, y_train, and y_test with random_state=1 and test_size=0.2.\n",
        "Should you use stratify? Explain\n",
        "Reference: https://scikit-learn.org/stable/modules/generated/sklearn.model_selection.train_test_split.html\n",
        "'''\n",
        "\n",
        "v = encoded_df['stroke'].value_counts()\n",
        "print(v)\n",
        "\n",
        "X = encoded_df.drop('stroke', axis=1)\n",
        "y = encoded_df['stroke']\n",
        "\n",
        "from sklearn.model_selection import train_test_split\n",
        "\n",
        "# Split the data into training and test sets with stratification\n",
        "X_train, X_test, y_train, y_test = train_test_split(X, y, test_size=0.2, random_state=1, stratify=y)"
      ]
    },
    {
      "cell_type": "markdown",
      "id": "031173ee",
      "metadata": {
        "id": "031173ee"
      },
      "source": [
        "20 pts\n",
        "Write a class My_LR that implements Logistic Regression algorithm. You are required to have the following attributes\n",
        "* Method:\n",
        "    * fit\n",
        "    * predict\n",
        "\n",
        "<br> Reference: https://scikit-learn.org/stable/modules/generated/sklearn.linear_model.LogisticRegression.html\n",
        "<br> **Using a pre-built library yields no credit. You have to write everything from scratch.**"
      ]
    },
    {
      "cell_type": "code",
      "execution_count": 71,
      "id": "cdba1bca",
      "metadata": {
        "jupyter": {
          "outputs_hidden": false
        },
        "id": "cdba1bca"
      },
      "outputs": [],
      "source": [
        "class My_LR:\n",
        "\n",
        "    def __init__(self, lr=0.01, rep=100000, intrcpt=True):\n",
        "        self.lr = lr\n",
        "        self.rep = rep\n",
        "        self.intrcpt = intrcpt\n",
        "\n",
        "    def __sgmd_func(self, z):\n",
        "        return 1 / (1 + np.exp(-z))\n",
        "\n",
        "    def __intercept(self, X):\n",
        "        i = np.ones((X.shape[0], 1))\n",
        "        return np.concatenate((i, X), axis=1)\n",
        "\n",
        "    def fit(self, X, y):\n",
        "        if self.intrcpt:\n",
        "            X = self.__intercept(X)\n",
        "\n",
        "        self.theta = np.zeros(X.shape[1])\n",
        "\n",
        "        for i in range(self.rep):\n",
        "            z = np.dot(X, self.theta)\n",
        "            h = self.__sgmd_func(z)\n",
        "            grdnt = np.dot(X.T, (h - y)) / y.size\n",
        "            self.theta -= self.lr * grdnt\n",
        "\n",
        "    def predict(self, X):\n",
        "        if self.intrcpt:\n",
        "            X = self.__intercept(X)\n",
        "\n",
        "        return np.round(self.__sgmd_func(np.dot(X, self.theta)))"
      ]
    },
    {
      "cell_type": "code",
      "execution_count": 72,
      "id": "e0093a0d",
      "metadata": {
        "jupyter": {
          "outputs_hidden": false
        },
        "colab": {
          "base_uri": "https://localhost:8080/"
        },
        "id": "e0093a0d",
        "outputId": "1ba4c781-0dc6-48cd-9fd1-d1bfd674037a"
      },
      "outputs": [
        {
          "output_type": "stream",
          "name": "stdout",
          "text": [
            "[0. 0. 0. ... 0. 0. 0.]\n"
          ]
        }
      ],
      "source": [
        "# Run the code\n",
        "reg = My_LR()\n",
        "reg.fit(X_train, y_train)\n",
        "y_pred = reg.predict(X_test)\n",
        "\n",
        "print(y_pred)"
      ]
    },
    {
      "cell_type": "code",
      "execution_count": 73,
      "id": "dcc91fdf",
      "metadata": {
        "jupyter": {
          "outputs_hidden": false
        },
        "colab": {
          "base_uri": "https://localhost:8080/",
          "height": 174
        },
        "id": "dcc91fdf",
        "outputId": "937d0637-9b07-45d7-e211-91525c3763a7"
      },
      "outputs": [
        {
          "output_type": "stream",
          "name": "stdout",
          "text": [
            "Accuracy score: 0.9510763209393346\n",
            "Balanced accuracy score: 0.5\n"
          ]
        },
        {
          "output_type": "execute_result",
          "data": {
            "text/plain": [
              "\"\\nThe accuracy score is helpful when classes are balanced, or when they account for almost equal portions of the dataset. \\nSince it gives a clear view of the model's overall performance, the accuracy score is a suitable metric to utilize in this case. \\nIf the courses are not balanced, then the balanced accuracy score is a better metric to use. \\nThis is because it offers a more realistic picture of the model's output and explains the underrepresentation of the minority class. \\nIn general, it is important to consider the class balance and choose the metric that is most appropriate for the given situation when determining a metric to evaluate a model's performance. \\n\\n\""
            ],
            "application/vnd.google.colaboratory.intrinsic+json": {
              "type": "string"
            }
          },
          "metadata": {},
          "execution_count": 73
        }
      ],
      "source": [
        "'''\n",
        "10 pts\n",
        "Use a metric of either accuracy_score or balanced_accuracy_score to evaluate your predicted values and y_test\n",
        "Explain why you prefer this metric over the other.\n",
        "'''\n",
        "\n",
        "from sklearn.metrics import accuracy_score, balanced_accuracy_score\n",
        "\n",
        "# Accuracy score\n",
        "acc = accuracy_score(y_test, y_pred)\n",
        "print(\"Accuracy score:\", acc)\n",
        "\n",
        "# Balanced accuracy score\n",
        "blncd_acc = balanced_accuracy_score(y_test, y_pred)\n",
        "print(\"Balanced accuracy score:\", blncd_acc)\n",
        "\n",
        "'''\n",
        "The accuracy score is helpful when classes are balanced, or when they account for almost equal portions of the dataset.\n",
        "Since it gives a clear view of the model's overall performance, the accuracy score is a suitable metric to utilize in this case.\n",
        "If the courses are not balanced, then the balanced accuracy score is a better metric to use.\n",
        "This is because it offers a more realistic picture of the model's output and explains the underrepresentation of the minority class.\n",
        "In general, it is important to consider the class balance and choose the metric that is most appropriate for the given situation when determining a metric to evaluate a model's performance.\n",
        "\n",
        "'''\n"
      ]
    },
    {
      "cell_type": "code",
      "source": [
        "#converting back the 'id' column from index to a column in the dataframe for lookup\n",
        "\n",
        "df = df.reset_index()\n",
        "\n",
        "print(df)"
      ],
      "metadata": {
        "colab": {
          "base_uri": "https://localhost:8080/"
        },
        "id": "cUjOj2WVShpK",
        "outputId": "fda94da7-9e17-42b7-8965-87b142f4bc6d"
      },
      "id": "cUjOj2WVShpK",
      "execution_count": 74,
      "outputs": [
        {
          "output_type": "stream",
          "name": "stdout",
          "text": [
            "         id  gender   age  hypertension  heart_disease ever_married  \\\n",
            "0      9046    Male  67.0             0              1          Yes   \n",
            "1     51676  Female  61.0             0              0          Yes   \n",
            "2     31112    Male  80.0             0              1          Yes   \n",
            "3     60182  Female  49.0             0              0          Yes   \n",
            "4      1665  Female  79.0             1              0          Yes   \n",
            "...     ...     ...   ...           ...            ...          ...   \n",
            "5105  18234  Female  80.0             1              0          Yes   \n",
            "5106  44873  Female  81.0             0              0          Yes   \n",
            "5107  19723  Female  35.0             0              0          Yes   \n",
            "5108  37544    Male  51.0             0              0          Yes   \n",
            "5109  44679  Female  44.0             0              0          Yes   \n",
            "\n",
            "          work_type Residence_type  avg_glucose_level        bmi  \\\n",
            "0           Private          Urban             228.69  36.600000   \n",
            "1     Self-employed          Rural             202.21  28.893237   \n",
            "2           Private          Rural             105.92  32.500000   \n",
            "3           Private          Urban             171.23  34.400000   \n",
            "4     Self-employed          Rural             174.12  24.000000   \n",
            "...             ...            ...                ...        ...   \n",
            "5105        Private          Urban              83.75  28.893237   \n",
            "5106  Self-employed          Urban             125.20  40.000000   \n",
            "5107  Self-employed          Rural              82.99  30.600000   \n",
            "5108        Private          Rural             166.29  25.600000   \n",
            "5109       Govt_job          Urban              85.28  26.200000   \n",
            "\n",
            "       smoking_status  stroke  \n",
            "0     formerly smoked       1  \n",
            "1        never smoked       1  \n",
            "2        never smoked       1  \n",
            "3              smokes       1  \n",
            "4        never smoked       1  \n",
            "...               ...     ...  \n",
            "5105     never smoked       0  \n",
            "5106     never smoked       0  \n",
            "5107     never smoked       0  \n",
            "5108  formerly smoked       0  \n",
            "5109          Unknown       0  \n",
            "\n",
            "[5110 rows x 12 columns]\n"
          ]
        }
      ]
    }
  ],
  "metadata": {
    "kernelspec": {
      "display_name": "Python 3 (ipykernel)",
      "language": "python",
      "name": "python3"
    },
    "language_info": {
      "codemirror_mode": {
        "name": "ipython",
        "version": 3
      },
      "file_extension": ".py",
      "mimetype": "text/x-python",
      "name": "python",
      "nbconvert_exporter": "python",
      "pygments_lexer": "ipython3",
      "version": "3.8.17"
    },
    "colab": {
      "provenance": []
    }
  },
  "nbformat": 4,
  "nbformat_minor": 5
}