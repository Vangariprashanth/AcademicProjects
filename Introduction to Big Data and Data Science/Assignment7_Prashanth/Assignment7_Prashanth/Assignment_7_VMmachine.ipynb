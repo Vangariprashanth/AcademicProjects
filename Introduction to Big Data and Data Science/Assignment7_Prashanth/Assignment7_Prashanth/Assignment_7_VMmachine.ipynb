{
 "cells": [
  {
   "cell_type": "code",
   "execution_count": 9,
   "id": "e7a8f6b1-5324-4e1d-88b7-e17b81817d44",
   "metadata": {},
   "outputs": [
    {
     "name": "stdout",
     "output_type": "stream",
     "text": [
      "\n",
      "Running for N = 1000\n",
      "Highest Prime Number: 9719\n",
      "Total runtime: 0.021771907806396484 seconds\n",
      "\n",
      "Running for N = 5000\n",
      "Highest Prime Number: 9949\n",
      "Total runtime: 0.22504258155822754 seconds\n",
      "\n",
      "Running for N = 10000\n",
      "Highest Prime Number: 9973\n",
      "Total runtime: 0.02228999137878418 seconds\n",
      "\n",
      "Running for N = 50000\n",
      "Highest Prime Number: 9973\n",
      "Total runtime: 0.07217574119567871 seconds\n",
      "\n",
      "Running for N = 121000\n",
      "Highest Prime Number: 9973\n",
      "Total runtime: 0.15050482749938965 seconds\n"
     ]
    }
   ],
   "source": [
    "# Part 2\n",
    "\n",
    "'''\n",
    "This script makes use of multiprocessing.pool in Python.Using ThreadPool, many threads can split up the process of determining the highest prime number in an array of N numbers. \n",
    "\n",
    "In order to execute each array in parallel, it first creates random arrays of N integers for various values of N. \n",
    "\n",
    "\n",
    "It simultaneously determines the greatest prime number in each chunk by using a ThreadPool with the number of threads indicated by the variable T.\n",
    "\n",
    "The script then uses the variables T, N_vl, ch_sze, a_s, m_ps, h_p, t_t, t1, and t2 to display the greatest prime number obtained and the total runtime for each value of N. \n",
    "\n",
    "By using this method, the script makes effective use of the CPU resources that are available, enhancing performance through multithreading and parallelism.\n",
    "'''\n",
    "import numpy as np\n",
    "import time\n",
    "from multiprocessing.pool import ThreadPool as Pool\n",
    "\n",
    "def is_prm(n):\n",
    "    if n <= 1:\n",
    "        return False\n",
    "    if n == 2:\n",
    "        return True\n",
    "    if n % 2 == 0:  # n is divisible or not\n",
    "        return False\n",
    "    for i in range(3, int(n**0.5) + 1, 2):   # This runs for sqrt(n) times. \n",
    "        if n % i == 0:\n",
    "            return False\n",
    "    return True\n",
    "\n",
    "def fnd_h_prm(a):\n",
    "    m_p = None\n",
    "    for n in a:\n",
    "        if is_prm(n):\n",
    "            if m_p is None or n > m_p:\n",
    "                m_p = n\n",
    "    return m_p\n",
    "\n",
    "T = 4  # Number of threads = 4\n",
    "\n",
    "N_vl = [1000, 5000, 10000, 50000, 121000]\n",
    "\n",
    "# this runs for various N values\n",
    "for N in N_vl:\n",
    "    print(f\"\\nRunning for N = {N}\")\n",
    "    ar_y = np.random.randint(1, 10000, N)\n",
    "    ch_sze = len(ar_y) // T\n",
    "    a_s = [ar_y[i:i+ch_sze] for i in range(0, len(ar_y), ch_sze)]\n",
    "    t1 = time.time()\n",
    "    wr = Pool(T)   # initilalize the workers \n",
    "    m_ps = wr.map(fnd_h_prm, a_s)\n",
    "    wr.close()\n",
    "    wr.join()\n",
    "    h_p = max(m_ps)\n",
    "    t2 = time.time()\n",
    "    t_t = t2 - t1\n",
    "\n",
    "    print(\"Highest Prime Number:\", h_p)\n",
    "    print(\"Total runtime:\", t_t, \"seconds\")\n"
   ]
  },
  {
   "cell_type": "code",
   "execution_count": null,
   "id": "20e671ea-1a62-4abb-9a1e-744c42dd015f",
   "metadata": {},
   "outputs": [],
   "source": []
  }
 ],
 "metadata": {
  "kernelspec": {
   "display_name": "Python 3 (ipykernel)",
   "language": "python",
   "name": "python3"
  },
  "language_info": {
   "codemirror_mode": {
    "name": "ipython",
    "version": 3
   },
   "file_extension": ".py",
   "mimetype": "text/x-python",
   "name": "python",
   "nbconvert_exporter": "python",
   "pygments_lexer": "ipython3",
   "version": "3.10.12"
  }
 },
 "nbformat": 4,
 "nbformat_minor": 5
}
