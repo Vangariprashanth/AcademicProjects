{
 "cells": [
  {
   "cell_type": "code",
   "execution_count": 1,
   "id": "096e319f",
   "metadata": {},
   "outputs": [
    {
     "name": "stdout",
     "output_type": "stream",
     "text": [
      "\n",
      "Running for N = 1000\n",
      "Highest Prime Number: 9949\n",
      "Total runtime: 0.016861438751220703 seconds\n",
      "\n",
      "Running for N = 5000\n",
      "Highest Prime Number: 9973\n",
      "Total runtime: 0.015014410018920898 seconds\n",
      "\n",
      "Running for N = 10000\n",
      "Highest Prime Number: 9973\n",
      "Total runtime: 0.03719139099121094 seconds\n",
      "\n",
      "Running for N = 50000\n",
      "Highest Prime Number: 9973\n",
      "Total runtime: 0.17368078231811523 seconds\n",
      "\n",
      "Running for N = 121000\n",
      "Highest Prime Number: 9973\n",
      "Total runtime: 0.3822336196899414 seconds\n"
     ]
    }
   ],
   "source": [
    "# Part 2\n",
    "\n",
    "'''\n",
    "This script makes use of multiprocessing.pool in Python.Using ThreadPool, many threads can split up the process of determining the highest prime number in an array of N numbers. \n",
    "\n",
    "In order to execute each array in parallel, it first creates random arrays of N integers for various values of N. \n",
    "\n",
    "\n",
    "It simultaneously determines the greatest prime number in each chunk by using a ThreadPool with the number of threads indicated by the variable T.\n",
    "\n",
    "The script then uses the variables T, N_vl, ch_sze, a_s, m_ps, h_p, t_t, t1, and t2 to display the greatest prime number obtained and the total runtime for each value of N. \n",
    "\n",
    "By using this method, the script makes effective use of the CPU resources that are available, enhancing performance through multithreading and parallelism.\n",
    "'''\n",
    "import numpy as np\n",
    "import time\n",
    "from multiprocessing.pool import ThreadPool as Pool\n",
    "\n",
    "def is_prm(n):\n",
    "    if n <= 1:\n",
    "        return False\n",
    "    if n == 2:\n",
    "        return True\n",
    "    if n % 2 == 0:  # n is divisible or not\n",
    "        return False\n",
    "    for i in range(3, int(n**0.5) + 1, 2):   # This runs for sqrt(n) times. \n",
    "        if n % i == 0:\n",
    "            return False\n",
    "    return True\n",
    "\n",
    "def fnd_h_prm(a):\n",
    "    m_p = None\n",
    "    for n in a:\n",
    "        if is_prm(n):\n",
    "            if m_p is None or n > m_p:\n",
    "                m_p = n\n",
    "    return m_p\n",
    "\n",
    "T = 4  # Number of threads = 4\n",
    "\n",
    "N_vl = [1000, 5000, 10000, 50000, 121000]\n",
    "\n",
    "# this runs for various N values\n",
    "for N in N_vl:\n",
    "    print(f\"\\nRunning for N = {N}\")\n",
    "    ar_y = np.random.randint(1, 10000, N)\n",
    "    ch_sze = len(ar_y) // T\n",
    "    a_s = [ar_y[i:i+ch_sze] for i in range(0, len(ar_y), ch_sze)]\n",
    "    t1 = time.time()\n",
    "    wr = Pool(T)   # initilalize the workers \n",
    "    m_ps = wr.map(fnd_h_prm, a_s)\n",
    "    wr.close()\n",
    "    wr.join()\n",
    "    h_p = max(m_ps)\n",
    "    t2 = time.time()\n",
    "    t_t = t2 - t1\n",
    "\n",
    "    print(\"Highest Prime Number:\", h_p)\n",
    "    print(\"Total runtime:\", t_t, \"seconds\")\n"
   ]
  },
  {
   "cell_type": "code",
   "execution_count": null,
   "id": "078cb395",
   "metadata": {},
   "outputs": [],
   "source": []
  }
 ],
 "metadata": {
  "kernelspec": {
   "display_name": "Python 3 (ipykernel)",
   "language": "python",
   "name": "python3"
  },
  "language_info": {
   "codemirror_mode": {
    "name": "ipython",
    "version": 3
   },
   "file_extension": ".py",
   "mimetype": "text/x-python",
   "name": "python",
   "nbconvert_exporter": "python",
   "pygments_lexer": "ipython3",
   "version": "3.11.5"
  }
 },
 "nbformat": 4,
 "nbformat_minor": 5
}
