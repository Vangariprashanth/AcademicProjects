{
  "nbformat": 4,
  "nbformat_minor": 0,
  "metadata": {
    "colab": {
      "provenance": []
    },
    "kernelspec": {
      "name": "python3",
      "display_name": "Python 3"
    },
    "language_info": {
      "name": "python"
    }
  },
  "cells": [
    {
      "cell_type": "code",
      "source": [
        "# part 1\n",
        "\"\"\"\n",
        "This script processes a diabetes dataset that is kept in a CSV file by using PySpark. To start,\n",
        "a SparkSession called \"Diabetes\" is created, and the dataset is loaded into a DataFrame called df. The script creates an updated DataFrame called d by calculating the dataset's mean BMI (body mass index) and replacing any zero values in the BMI column with the mean. After that, a new DataFrame called df_rs is created, with entries in it that have an age of at least 35. Filtering rows where the Diabetes Pedigree Function value is\n",
        "greater than or equal to 0.51 results in the generation of another DataFrame, df_fltd. Lastly, the script produces the modified BMI DataFrame, the DataFrame filtered according to the Diabetes Pedigree Function threshold, and the DataFrame with age greater than or equal to 35. When processing is finished, the Spark session is terminated. Using PySpark, this method makes it possible to manipulate and filter data effectively while gaining insights from the diabetes dataset.\n",
        "\"\"\""
      ],
      "metadata": {
        "colab": {
          "base_uri": "https://localhost:8080/",
          "height": 163
        },
        "id": "FhUGptEqcVo2",
        "outputId": "3260e473-a645-4345-dd55-1804bf21c9ab"
      },
      "execution_count": 1,
      "outputs": [
        {
          "output_type": "execute_result",
          "data": {
            "text/plain": [
              "'\\nThis script processes a diabetes dataset that is kept in a CSV file by using PySpark. To start, \\na SparkSession called \"Diabetes\" is created, and the dataset is loaded into a DataFrame called df. The script creates an updated DataFrame called d by calculating the dataset\\'s mean BMI (body mass index) and replacing any zero values in the BMI column with the mean. After that, a new DataFrame called df_rs is created, with entries in it that have an age of at least 35. Filtering rows where the Diabetes Pedigree Function value is \\ngreater than or equal to 0.51 results in the generation of another DataFrame, df_fltd. Lastly, the script produces the modified BMI DataFrame, the DataFrame filtered according to the Diabetes Pedigree Function threshold, and the DataFrame with age greater than or equal to 35. When processing is finished, the Spark session is terminated. Using PySpark, this method makes it possible to manipulate and filter data effectively while gaining insights from the diabetes dataset. \\n'"
            ],
            "application/vnd.google.colaboratory.intrinsic+json": {
              "type": "string"
            }
          },
          "metadata": {},
          "execution_count": 1
        }
      ]
    },
    {
      "cell_type": "code",
      "source": [
        "!pip install pyspark --quiet"
      ],
      "metadata": {
        "colab": {
          "base_uri": "https://localhost:8080/"
        },
        "id": "WvtB7hFCPNEb",
        "outputId": "04cf489a-6967-4158-8735-5d822c894f6d"
      },
      "execution_count": 2,
      "outputs": [
        {
          "output_type": "stream",
          "name": "stdout",
          "text": [
            "\u001b[2K     \u001b[90m━━━━━━━━━━━━━━━━━━━━━━━━━━━━━━━━━━━━━━━━\u001b[0m \u001b[32m317.0/317.0 MB\u001b[0m \u001b[31m2.2 MB/s\u001b[0m eta \u001b[36m0:00:00\u001b[0m\n",
            "\u001b[?25h  Preparing metadata (setup.py) ... \u001b[?25l\u001b[?25hdone\n",
            "  Building wheel for pyspark (setup.py) ... \u001b[?25l\u001b[?25hdone\n"
          ]
        }
      ]
    },
    {
      "cell_type": "code",
      "execution_count": 3,
      "metadata": {
        "colab": {
          "base_uri": "https://localhost:8080/"
        },
        "id": "xiXPiCkiOyUE",
        "outputId": "2e0aa9d6-0bea-4909-fe27-bbe3bee49eb7"
      },
      "outputs": [
        {
          "output_type": "stream",
          "name": "stdout",
          "text": [
            "Updated BMI:\n",
            "+-----------+-------+-------------+-------------+-------+------------------+------------------------+---+-------+\n",
            "|Pregnancies|Glucose|BloodPressure|SkinThickness|Insulin|               BMI|DiabetesPedigreeFunction|Age|Outcome|\n",
            "+-----------+-------+-------------+-------------+-------+------------------+------------------------+---+-------+\n",
            "|          6|    148|           72|           35|      0|              33.6|                   0.627| 50|      1|\n",
            "|          1|     85|           66|           29|      0|              26.6|                   0.351| 31|      0|\n",
            "|          8|    183|           64|            0|      0|              23.3|                   0.672| 32|      1|\n",
            "|          1|     89|           66|           23|     94|              28.1|                   0.167| 21|      0|\n",
            "|          0|    137|           40|           35|    168|              43.1|                   2.288| 33|      1|\n",
            "|          5|    116|           74|            0|      0|              25.6|                   0.201| 30|      0|\n",
            "|          3|     78|           50|           32|     88|              31.0|                   0.248| 26|      1|\n",
            "|         10|    115|            0|            0|      0|              35.3|                   0.134| 29|      0|\n",
            "|          2|    197|           70|           45|    543|              30.5|                   0.158| 53|      1|\n",
            "|          8|    125|           96|            0|      0|31.992578124999977|                   0.232| 54|      1|\n",
            "|          4|    110|           92|            0|      0|              37.6|                   0.191| 30|      0|\n",
            "|         10|    168|           74|            0|      0|              38.0|                   0.537| 34|      1|\n",
            "|         10|    139|           80|            0|      0|              27.1|                   1.441| 57|      0|\n",
            "|          1|    189|           60|           23|    846|              30.1|                   0.398| 59|      1|\n",
            "|          5|    166|           72|           19|    175|              25.8|                   0.587| 51|      1|\n",
            "|          7|    100|            0|            0|      0|              30.0|                   0.484| 32|      1|\n",
            "|          0|    118|           84|           47|    230|              45.8|                   0.551| 31|      1|\n",
            "|          7|    107|           74|            0|      0|              29.6|                   0.254| 31|      1|\n",
            "|          1|    103|           30|           38|     83|              43.3|                   0.183| 33|      0|\n",
            "|          1|    115|           70|           30|     96|              34.6|                   0.529| 32|      1|\n",
            "+-----------+-------+-------------+-------------+-------+------------------+------------------------+---+-------+\n",
            "only showing top 20 rows\n",
            "\n",
            "Age >= 35:\n",
            "+-----------+-------+-------------+-------------+-------+----+------------------------+---+-------+\n",
            "|Pregnancies|Glucose|BloodPressure|SkinThickness|Insulin| BMI|DiabetesPedigreeFunction|Age|Outcome|\n",
            "+-----------+-------+-------------+-------------+-------+----+------------------------+---+-------+\n",
            "|          6|    148|           72|           35|      0|33.6|                   0.627| 50|      1|\n",
            "|          2|    197|           70|           45|    543|30.5|                   0.158| 53|      1|\n",
            "|          8|    125|           96|            0|      0| 0.0|                   0.232| 54|      1|\n",
            "|         10|    139|           80|            0|      0|27.1|                   1.441| 57|      0|\n",
            "|          1|    189|           60|           23|    846|30.1|                   0.398| 59|      1|\n",
            "|          5|    166|           72|           19|    175|25.8|                   0.587| 51|      1|\n",
            "|          8|     99|           84|            0|      0|35.4|                   0.388| 50|      0|\n",
            "|          7|    196|           90|            0|      0|39.8|                   0.451| 41|      1|\n",
            "|         11|    143|           94|           33|    146|36.6|                   0.254| 51|      1|\n",
            "|         10|    125|           70|           26|    115|31.1|                   0.205| 41|      1|\n",
            "|          7|    147|           76|            0|      0|39.4|                   0.257| 43|      1|\n",
            "|         13|    145|           82|           19|    110|22.2|                   0.245| 57|      0|\n",
            "|          5|    117|           92|            0|      0|34.1|                   0.337| 38|      0|\n",
            "|          5|    109|           75|           26|      0|36.0|                   0.546| 60|      0|\n",
            "|         10|    122|           78|           31|      0|27.6|                   0.512| 45|      0|\n",
            "|         11|    138|           76|            0|      0|33.2|                    0.42| 35|      0|\n",
            "|          9|    102|           76|           37|      0|32.9|                   0.665| 46|      1|\n",
            "|          4|    111|           72|           47|    207|37.1|                    1.39| 56|      1|\n",
            "|          7|    133|           84|            0|      0|40.2|                   0.696| 37|      0|\n",
            "|          7|    106|           92|           18|      0|22.7|                   0.235| 48|      0|\n",
            "+-----------+-------+-------------+-------------+-------+----+------------------------+---+-------+\n",
            "only showing top 20 rows\n",
            "\n",
            "Diabetes Pedigree Function >= 0.51:\n",
            "+-----------+-------+-------------+-------------+-------+----+------------------------+---+-------+\n",
            "|Pregnancies|Glucose|BloodPressure|SkinThickness|Insulin| BMI|DiabetesPedigreeFunction|Age|Outcome|\n",
            "+-----------+-------+-------------+-------------+-------+----+------------------------+---+-------+\n",
            "|          6|    148|           72|           35|      0|33.6|                   0.627| 50|      1|\n",
            "|          8|    183|           64|            0|      0|23.3|                   0.672| 32|      1|\n",
            "|          0|    137|           40|           35|    168|43.1|                   2.288| 33|      1|\n",
            "|         10|    168|           74|            0|      0|38.0|                   0.537| 34|      1|\n",
            "|         10|    139|           80|            0|      0|27.1|                   1.441| 57|      0|\n",
            "|          5|    166|           72|           19|    175|25.8|                   0.587| 51|      1|\n",
            "|          0|    118|           84|           47|    230|45.8|                   0.551| 31|      1|\n",
            "|          1|    115|           70|           30|     96|34.6|                   0.529| 32|      1|\n",
            "|          3|    126|           88|           41|    235|39.3|                   0.704| 27|      0|\n",
            "|          5|    109|           75|           26|      0|36.0|                   0.546| 60|      0|\n",
            "|          3|    158|           76|           36|    245|31.6|                   0.851| 28|      1|\n",
            "|         10|    122|           78|           31|      0|27.6|                   0.512| 45|      0|\n",
            "|          4|    103|           60|           33|    192|24.0|                   0.966| 33|      0|\n",
            "|          9|    102|           76|           37|      0|32.9|                   0.665| 46|      1|\n",
            "|          4|    111|           72|           47|    207|37.1|                    1.39| 56|      1|\n",
            "|          7|    133|           84|            0|      0|40.2|                   0.696| 37|      0|\n",
            "|          9|    171|          110|           24|    240|45.4|                   0.721| 54|      1|\n",
            "|          0|    180|           66|           39|      0|42.0|                   1.893| 25|      1|\n",
            "|          1|    146|           56|            0|      0|29.7|                   0.564| 29|      0|\n",
            "|          2|     71|           70|           27|      0|28.0|                   0.586| 22|      0|\n",
            "+-----------+-------+-------------+-------------+-------+----+------------------------+---+-------+\n",
            "only showing top 20 rows\n",
            "\n"
          ]
        }
      ],
      "source": [
        "\n",
        "from pyspark.sql import SparkSession\n",
        "from pyspark.sql.functions import mean, when\n",
        "\n",
        "spark = SparkSession.builder \\\n",
        "    .appName(\"Diabetes\") \\\n",
        "    .getOrCreate()\n",
        "\n",
        "\n",
        "df = spark.read.csv(\"diabetes.csv\", header=True, inferSchema=True)\n",
        "\n",
        "mn_bmi = df.select(mean(\"BMI\")).collect()[0][0]\n",
        "d = df.withColumn(\"BMI\", when(df[\"BMI\"] == 0, mn_bmi).otherwise(df[\"BMI\"]))\n",
        "\n",
        "# new DataFrame for rows with age >= 35\n",
        "df_rs = df.filter(df[\"Age\"] >= 35)\n",
        "\n",
        "# Diabetes Pedigree Function value is >= 0.51\n",
        "df_fltd = df.filter(df[\"DiabetesPedigreeFunction\"] >= 0.51)\n",
        "\n",
        "\n",
        "print(\"Updated BMI:\")\n",
        "d.show()\n",
        "\n",
        "print(\"Age >= 35:\")\n",
        "df_rs.show()\n",
        "\n",
        "print(\"Diabetes Pedigree Function >= 0.51:\")\n",
        "df_fltd.show()\n",
        "spark.stop()\n"
      ]
    },
    {
      "cell_type": "code",
      "source": [],
      "metadata": {
        "id": "TzZwGtoPPuRP"
      },
      "execution_count": 3,
      "outputs": []
    }
  ]
}