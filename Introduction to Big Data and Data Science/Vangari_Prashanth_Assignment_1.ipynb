{
  "nbformat": 4,
  "nbformat_minor": 0,
  "metadata": {
    "colab": {
      "provenance": []
    },
    "kernelspec": {
      "name": "python3",
      "display_name": "Python 3"
    },
    "language_info": {
      "name": "python"
    }
  },
  "cells": [
    {
      "cell_type": "markdown",
      "source": [
        "# **Part 1: Basic Python Syntax (2 pts.)**"
      ],
      "metadata": {
        "id": "f126CfOGvTYx"
      }
    },
    {
      "cell_type": "code",
      "source": [
        "# 1. Create a variable, var, and set the value to the string “Hello, world!”.\n",
        "var = \"Hello, world!\""
      ],
      "metadata": {
        "id": "0iKulV43vZR-"
      },
      "execution_count": 1,
      "outputs": []
    },
    {
      "cell_type": "code",
      "source": [
        "#2. Now print the length of var.\n",
        "print(\"Length of var:\",len(var))"
      ],
      "metadata": {
        "colab": {
          "base_uri": "https://localhost:8080/"
        },
        "id": "IV5VdJpTvd8M",
        "outputId": "d407372b-863b-4f6f-e27f-cbeea42f16c4"
      },
      "execution_count": 2,
      "outputs": [
        {
          "output_type": "stream",
          "name": "stdout",
          "text": [
            "Length of var: 13\n"
          ]
        }
      ]
    },
    {
      "cell_type": "code",
      "source": [
        "# 3. Extract “world” from var using string index slicing.\n",
        "print(var[7:7+len(\"world\")])"
      ],
      "metadata": {
        "colab": {
          "base_uri": "https://localhost:8080/"
        },
        "id": "Lg0G2e3rvihc",
        "outputId": "d0e533ea-9667-47da-afc0-2cbddb03501b"
      },
      "execution_count": 3,
      "outputs": [
        {
          "output_type": "stream",
          "name": "stdout",
          "text": [
            "world\n"
          ]
        }
      ]
    },
    {
      "cell_type": "code",
      "source": [
        "# 4. Print the types for 1, 1.0, and “1” and note how they differ.\n",
        "print(type(1))\n",
        "print(type(1.0))\n",
        "print(type(\"1\"))\n",
        "\n",
        "\n",
        "# How do they differ?\n",
        "# 1 is of integer type\n",
        "# 1.0 is of float type\n",
        "# \"1\" is of string type"
      ],
      "metadata": {
        "colab": {
          "base_uri": "https://localhost:8080/"
        },
        "id": "8pvXj6LMv31N",
        "outputId": "27e34cc8-e1da-4fb5-8a62-f18bffff7d64"
      },
      "execution_count": 4,
      "outputs": [
        {
          "output_type": "stream",
          "name": "stdout",
          "text": [
            "<class 'int'>\n",
            "<class 'float'>\n",
            "<class 'str'>\n"
          ]
        }
      ]
    },
    {
      "cell_type": "code",
      "source": [
        "#5 Calculate and print the area of a circle of radius 5 to two decimal places.\n",
        "import math\n",
        "radius = 5\n",
        "def calculate_area(radius):\n",
        "  return round(math.pi*radius*radius,2)\n",
        "area = calculate_area(5)\n",
        "print(area)"
      ],
      "metadata": {
        "colab": {
          "base_uri": "https://localhost:8080/"
        },
        "id": "9T86gmYpwB_A",
        "outputId": "a32b43aa-f09d-4ebe-9105-f5338048eedd"
      },
      "execution_count": 5,
      "outputs": [
        {
          "output_type": "stream",
          "name": "stdout",
          "text": [
            "78.54\n"
          ]
        }
      ]
    },
    {
      "cell_type": "code",
      "source": [
        "#6. Write a for loop that prints the numbers 9 to 0.\n",
        "for number in range(9,-1,-1):\n",
        "  print(number)"
      ],
      "metadata": {
        "colab": {
          "base_uri": "https://localhost:8080/"
        },
        "id": "nslcfV99wZMm",
        "outputId": "3414db59-eafa-4098-adce-8a288fb3d8b6"
      },
      "execution_count": 6,
      "outputs": [
        {
          "output_type": "stream",
          "name": "stdout",
          "text": [
            "9\n",
            "8\n",
            "7\n",
            "6\n",
            "5\n",
            "4\n",
            "3\n",
            "2\n",
            "1\n",
            "0\n"
          ]
        }
      ]
    },
    {
      "cell_type": "code",
      "source": [
        "#7. Write a for loop that prints all odd numbers from 9 to 21 including both numbers.\n",
        "for number in range(9,21+1):\n",
        "  if number%2 ==1:\n",
        "    print(number)"
      ],
      "metadata": {
        "colab": {
          "base_uri": "https://localhost:8080/"
        },
        "id": "yiWMsUSswxTU",
        "outputId": "b2b45337-bc46-4f33-dbc1-b2d14e838629"
      },
      "execution_count": 7,
      "outputs": [
        {
          "output_type": "stream",
          "name": "stdout",
          "text": [
            "9\n",
            "11\n",
            "13\n",
            "15\n",
            "17\n",
            "19\n",
            "21\n"
          ]
        }
      ]
    },
    {
      "cell_type": "code",
      "source": [
        "#8. Write an if/else statement that takes a variable var and prints\n",
        "#       “Greater than 8” if var is greater than 8,\n",
        "\n",
        "#           “Less than 9” if var is less than 9,\n",
        "\n",
        "#           “Equal to 10” if var is equal to 10.\n",
        "\n",
        "# Make sure to appropriately test for each case.\n",
        "\n",
        "def calculate(var):\n",
        "  if var >8 and var!=10:\n",
        "    return \"Greater than 8\"\n",
        "  if var<9:\n",
        "    return \"Less than 9\"\n",
        "  elif var==10:\n",
        "    return 'Equal to 10'\n",
        "print(calculate(8.5))\n",
        "print(calculate(5))\n",
        "print(calculate(10))"
      ],
      "metadata": {
        "colab": {
          "base_uri": "https://localhost:8080/"
        },
        "id": "FkzSClQiw7Gj",
        "outputId": "ab30776f-1225-40f7-a157-6b842531d861"
      },
      "execution_count": 8,
      "outputs": [
        {
          "output_type": "stream",
          "name": "stdout",
          "text": [
            "Greater than 8\n",
            "Less than 9\n",
            "Equal to 10\n"
          ]
        }
      ]
    },
    {
      "cell_type": "code",
      "source": [
        "#1. Write a function which takes a string as its parameter and returns the length of the string.\n",
        "def calculate_length(txt):\n",
        "  return len(txt)\n",
        "print(calculate_length(\"Prashanth\"))"
      ],
      "metadata": {
        "colab": {
          "base_uri": "https://localhost:8080/"
        },
        "id": "psx-gjP7yHBZ",
        "outputId": "e74b0cb5-5475-49b9-991a-59bd341959fd"
      },
      "execution_count": 9,
      "outputs": [
        {
          "output_type": "stream",
          "name": "stdout",
          "text": [
            "9\n"
          ]
        }
      ]
    },
    {
      "cell_type": "code",
      "source": [
        "#2. Write a function which takes a positive integer n as its parameter, and prints out all odd numbers from 1 to n-1.\n",
        "def calculate_odd(n):\n",
        "  for number in range(1,n):\n",
        "    if number%2 ==1:\n",
        "      print(number)\n",
        "calculate_odd(11)"
      ],
      "metadata": {
        "colab": {
          "base_uri": "https://localhost:8080/"
        },
        "id": "TYXtzIpLzO2J",
        "outputId": "faa046d9-dc0a-4204-e5ae-2175e0e94335"
      },
      "execution_count": 10,
      "outputs": [
        {
          "output_type": "stream",
          "name": "stdout",
          "text": [
            "1\n",
            "3\n",
            "5\n",
            "7\n",
            "9\n"
          ]
        }
      ]
    },
    {
      "cell_type": "markdown",
      "source": [
        "# **Part 2: File Handling**"
      ],
      "metadata": {
        "id": "P5_aietSRvVw"
      }
    },
    {
      "cell_type": "code",
      "source": [
        "!pip install wget\n",
        "!pip install biopython"
      ],
      "metadata": {
        "colab": {
          "base_uri": "https://localhost:8080/"
        },
        "id": "QnA5L6m3RuYq",
        "outputId": "a59e804b-62b5-4c95-ad71-239beeacf114"
      },
      "execution_count": 11,
      "outputs": [
        {
          "output_type": "stream",
          "name": "stdout",
          "text": [
            "Collecting wget\n",
            "  Downloading wget-3.2.zip (10 kB)\n",
            "  Preparing metadata (setup.py) ... \u001b[?25l\u001b[?25hdone\n",
            "Building wheels for collected packages: wget\n",
            "  Building wheel for wget (setup.py) ... \u001b[?25l\u001b[?25hdone\n",
            "  Created wheel for wget: filename=wget-3.2-py3-none-any.whl size=9655 sha256=ae7346ec0f98db9312f75b716646481bd094d8eabf0395b5e6094d38484e2d80\n",
            "  Stored in directory: /root/.cache/pip/wheels/8b/f1/7f/5c94f0a7a505ca1c81cd1d9208ae2064675d97582078e6c769\n",
            "Successfully built wget\n",
            "Installing collected packages: wget\n",
            "Successfully installed wget-3.2\n",
            "Collecting biopython\n",
            "  Downloading biopython-1.83-cp310-cp310-manylinux_2_17_x86_64.manylinux2014_x86_64.whl (3.1 MB)\n",
            "\u001b[2K     \u001b[90m━━━━━━━━━━━━━━━━━━━━━━━━━━━━━━━━━━━━━━━━\u001b[0m \u001b[32m3.1/3.1 MB\u001b[0m \u001b[31m16.9 MB/s\u001b[0m eta \u001b[36m0:00:00\u001b[0m\n",
            "\u001b[?25hRequirement already satisfied: numpy in /usr/local/lib/python3.10/dist-packages (from biopython) (1.23.5)\n",
            "Installing collected packages: biopython\n",
            "Successfully installed biopython-1.83\n"
          ]
        }
      ]
    },
    {
      "cell_type": "code",
      "source": [
        "import wget\n",
        "import gzip\n",
        "import shutil\n",
        "import re"
      ],
      "metadata": {
        "id": "jBmBAkO6R0I0"
      },
      "execution_count": 12,
      "outputs": []
    },
    {
      "cell_type": "code",
      "source": [
        "file = wget.download(\"https://ftp.ebi.ac.uk/pub/databases/gencode/Gencode_human/release_43/gencode.v43.pc_transcripts.fa.gz\")"
      ],
      "metadata": {
        "id": "MMGU7vOhR2tw"
      },
      "execution_count": 13,
      "outputs": []
    },
    {
      "cell_type": "code",
      "source": [
        "unzpped_file = \"gencode.v43.pc_transcripts.fa\"\n",
        "with gzip.open(file, 'rb') as f_in:\n",
        "    with open(unzpped_file, 'wb') as f_out:\n",
        "        shutil.copyfileobj(f_in, f_out)"
      ],
      "metadata": {
        "id": "yoFS7VJIR5LI"
      },
      "execution_count": 14,
      "outputs": []
    },
    {
      "cell_type": "code",
      "source": [
        "from Bio import SeqIO\n",
        "\n",
        "first_sequence = None\n",
        "for seq_record in SeqIO.parse(unzpped_file, \"fasta\"):\n",
        "    first_sequence = seq_record.seq\n",
        "    break"
      ],
      "metadata": {
        "id": "vtcE60WcSDKp"
      },
      "execution_count": 15,
      "outputs": []
    },
    {
      "cell_type": "code",
      "source": [
        "patterns = ['CG', 'GC', 'AT']\n",
        "for pattern in patterns:\n",
        "    print(f\"Occurrences of {pattern}:\")\n",
        "    for match in re.finditer(pattern, str(first_sequence)):\n",
        "        start = match.start()\n",
        "        end = match.end()\n",
        "        print(f\"Occurrences of {pattern} at index from {start} to {end}\")\n",
        "    print(\"\\n\")"
      ],
      "metadata": {
        "colab": {
          "base_uri": "https://localhost:8080/"
        },
        "id": "Bs1rPYRWSFpX",
        "outputId": "ddc932ae-7d9a-48a1-8676-49283dbe682c"
      },
      "execution_count": 16,
      "outputs": [
        {
          "output_type": "stream",
          "name": "stdout",
          "text": [
            "Occurrences of CG:\n",
            "Occurrences of CG at index from 103 to 105\n",
            "Occurrences of CG at index from 112 to 114\n",
            "Occurrences of CG at index from 215 to 217\n",
            "Occurrences of CG at index from 366 to 368\n",
            "Occurrences of CG at index from 518 to 520\n",
            "Occurrences of CG at index from 527 to 529\n",
            "Occurrences of CG at index from 568 to 570\n",
            "Occurrences of CG at index from 583 to 585\n",
            "Occurrences of CG at index from 590 to 592\n",
            "Occurrences of CG at index from 623 to 625\n",
            "Occurrences of CG at index from 783 to 785\n",
            "Occurrences of CG at index from 799 to 801\n",
            "Occurrences of CG at index from 988 to 990\n",
            "Occurrences of CG at index from 1509 to 1511\n",
            "Occurrences of CG at index from 1635 to 1637\n",
            "Occurrences of CG at index from 1697 to 1699\n",
            "Occurrences of CG at index from 1837 to 1839\n",
            "Occurrences of CG at index from 1949 to 1951\n",
            "\n",
            "\n",
            "Occurrences of GC:\n",
            "Occurrences of GC at index from 22 to 24\n",
            "Occurrences of GC at index from 41 to 43\n",
            "Occurrences of GC at index from 75 to 77\n",
            "Occurrences of GC at index from 81 to 83\n",
            "Occurrences of GC at index from 287 to 289\n",
            "Occurrences of GC at index from 291 to 293\n",
            "Occurrences of GC at index from 333 to 335\n",
            "Occurrences of GC at index from 361 to 363\n",
            "Occurrences of GC at index from 365 to 367\n",
            "Occurrences of GC at index from 367 to 369\n",
            "Occurrences of GC at index from 388 to 390\n",
            "Occurrences of GC at index from 391 to 393\n",
            "Occurrences of GC at index from 450 to 452\n",
            "Occurrences of GC at index from 457 to 459\n",
            "Occurrences of GC at index from 474 to 476\n",
            "Occurrences of GC at index from 481 to 483\n",
            "Occurrences of GC at index from 485 to 487\n",
            "Occurrences of GC at index from 514 to 516\n",
            "Occurrences of GC at index from 519 to 521\n",
            "Occurrences of GC at index from 529 to 531\n",
            "Occurrences of GC at index from 537 to 539\n",
            "Occurrences of GC at index from 556 to 558\n",
            "Occurrences of GC at index from 574 to 576\n",
            "Occurrences of GC at index from 582 to 584\n",
            "Occurrences of GC at index from 588 to 590\n",
            "Occurrences of GC at index from 593 to 595\n",
            "Occurrences of GC at index from 663 to 665\n",
            "Occurrences of GC at index from 683 to 685\n",
            "Occurrences of GC at index from 702 to 704\n",
            "Occurrences of GC at index from 716 to 718\n",
            "Occurrences of GC at index from 779 to 781\n",
            "Occurrences of GC at index from 784 to 786\n",
            "Occurrences of GC at index from 807 to 809\n",
            "Occurrences of GC at index from 825 to 827\n",
            "Occurrences of GC at index from 876 to 878\n",
            "Occurrences of GC at index from 881 to 883\n",
            "Occurrences of GC at index from 915 to 917\n",
            "Occurrences of GC at index from 990 to 992\n",
            "Occurrences of GC at index from 1001 to 1003\n",
            "Occurrences of GC at index from 1017 to 1019\n",
            "Occurrences of GC at index from 1114 to 1116\n",
            "Occurrences of GC at index from 1129 to 1131\n",
            "Occurrences of GC at index from 1181 to 1183\n",
            "Occurrences of GC at index from 1244 to 1246\n",
            "Occurrences of GC at index from 1263 to 1265\n",
            "Occurrences of GC at index from 1286 to 1288\n",
            "Occurrences of GC at index from 1367 to 1369\n",
            "Occurrences of GC at index from 1372 to 1374\n",
            "Occurrences of GC at index from 1459 to 1461\n",
            "Occurrences of GC at index from 1510 to 1512\n",
            "Occurrences of GC at index from 1571 to 1573\n",
            "Occurrences of GC at index from 1603 to 1605\n",
            "Occurrences of GC at index from 1618 to 1620\n",
            "Occurrences of GC at index from 1651 to 1653\n",
            "Occurrences of GC at index from 1659 to 1661\n",
            "Occurrences of GC at index from 1687 to 1689\n",
            "Occurrences of GC at index from 1702 to 1704\n",
            "Occurrences of GC at index from 1759 to 1761\n",
            "Occurrences of GC at index from 1765 to 1767\n",
            "Occurrences of GC at index from 1787 to 1789\n",
            "Occurrences of GC at index from 1829 to 1831\n",
            "Occurrences of GC at index from 1841 to 1843\n",
            "Occurrences of GC at index from 1851 to 1853\n",
            "Occurrences of GC at index from 1894 to 1896\n",
            "Occurrences of GC at index from 1941 to 1943\n",
            "Occurrences of GC at index from 1962 to 1964\n",
            "Occurrences of GC at index from 2008 to 2010\n",
            "Occurrences of GC at index from 2078 to 2080\n",
            "Occurrences of GC at index from 2126 to 2128\n",
            "Occurrences of GC at index from 2169 to 2171\n",
            "Occurrences of GC at index from 2271 to 2273\n",
            "Occurrences of GC at index from 2419 to 2421\n",
            "Occurrences of GC at index from 2477 to 2479\n",
            "Occurrences of GC at index from 2490 to 2492\n",
            "Occurrences of GC at index from 2522 to 2524\n",
            "Occurrences of GC at index from 2554 to 2556\n",
            "Occurrences of GC at index from 2566 to 2568\n",
            "\n",
            "\n",
            "Occurrences of AT:\n",
            "Occurrences of AT at index from 5 to 7\n",
            "Occurrences of AT at index from 20 to 22\n",
            "Occurrences of AT at index from 27 to 29\n",
            "Occurrences of AT at index from 38 to 40\n",
            "Occurrences of AT at index from 60 to 62\n",
            "Occurrences of AT at index from 84 to 86\n",
            "Occurrences of AT at index from 94 to 96\n",
            "Occurrences of AT at index from 98 to 100\n",
            "Occurrences of AT at index from 115 to 117\n",
            "Occurrences of AT at index from 123 to 125\n",
            "Occurrences of AT at index from 134 to 136\n",
            "Occurrences of AT at index from 138 to 140\n",
            "Occurrences of AT at index from 157 to 159\n",
            "Occurrences of AT at index from 182 to 184\n",
            "Occurrences of AT at index from 186 to 188\n",
            "Occurrences of AT at index from 200 to 202\n",
            "Occurrences of AT at index from 205 to 207\n",
            "Occurrences of AT at index from 213 to 215\n",
            "Occurrences of AT at index from 234 to 236\n",
            "Occurrences of AT at index from 240 to 242\n",
            "Occurrences of AT at index from 251 to 253\n",
            "Occurrences of AT at index from 276 to 278\n",
            "Occurrences of AT at index from 306 to 308\n",
            "Occurrences of AT at index from 310 to 312\n",
            "Occurrences of AT at index from 342 to 344\n",
            "Occurrences of AT at index from 345 to 347\n",
            "Occurrences of AT at index from 375 to 377\n",
            "Occurrences of AT at index from 402 to 404\n",
            "Occurrences of AT at index from 404 to 406\n",
            "Occurrences of AT at index from 435 to 437\n",
            "Occurrences of AT at index from 441 to 443\n",
            "Occurrences of AT at index from 447 to 449\n",
            "Occurrences of AT at index from 453 to 455\n",
            "Occurrences of AT at index from 467 to 469\n",
            "Occurrences of AT at index from 469 to 471\n",
            "Occurrences of AT at index from 471 to 473\n",
            "Occurrences of AT at index from 477 to 479\n",
            "Occurrences of AT at index from 479 to 481\n",
            "Occurrences of AT at index from 504 to 506\n",
            "Occurrences of AT at index from 507 to 509\n",
            "Occurrences of AT at index from 521 to 523\n",
            "Occurrences of AT at index from 531 to 533\n",
            "Occurrences of AT at index from 534 to 536\n",
            "Occurrences of AT at index from 545 to 547\n",
            "Occurrences of AT at index from 552 to 554\n",
            "Occurrences of AT at index from 565 to 567\n",
            "Occurrences of AT at index from 616 to 618\n",
            "Occurrences of AT at index from 625 to 627\n",
            "Occurrences of AT at index from 634 to 636\n",
            "Occurrences of AT at index from 654 to 656\n",
            "Occurrences of AT at index from 673 to 675\n",
            "Occurrences of AT at index from 688 to 690\n",
            "Occurrences of AT at index from 690 to 692\n",
            "Occurrences of AT at index from 693 to 695\n",
            "Occurrences of AT at index from 699 to 701\n",
            "Occurrences of AT at index from 744 to 746\n",
            "Occurrences of AT at index from 747 to 749\n",
            "Occurrences of AT at index from 752 to 754\n",
            "Occurrences of AT at index from 759 to 761\n",
            "Occurrences of AT at index from 762 to 764\n",
            "Occurrences of AT at index from 768 to 770\n",
            "Occurrences of AT at index from 774 to 776\n",
            "Occurrences of AT at index from 781 to 783\n",
            "Occurrences of AT at index from 793 to 795\n",
            "Occurrences of AT at index from 831 to 833\n",
            "Occurrences of AT at index from 860 to 862\n",
            "Occurrences of AT at index from 870 to 872\n",
            "Occurrences of AT at index from 874 to 876\n",
            "Occurrences of AT at index from 884 to 886\n",
            "Occurrences of AT at index from 891 to 893\n",
            "Occurrences of AT at index from 899 to 901\n",
            "Occurrences of AT at index from 904 to 906\n",
            "Occurrences of AT at index from 908 to 910\n",
            "Occurrences of AT at index from 920 to 922\n",
            "Occurrences of AT at index from 925 to 927\n",
            "Occurrences of AT at index from 933 to 935\n",
            "Occurrences of AT at index from 954 to 956\n",
            "Occurrences of AT at index from 957 to 959\n",
            "Occurrences of AT at index from 959 to 961\n",
            "Occurrences of AT at index from 981 to 983\n",
            "Occurrences of AT at index from 993 to 995\n",
            "Occurrences of AT at index from 1010 to 1012\n",
            "Occurrences of AT at index from 1015 to 1017\n",
            "Occurrences of AT at index from 1021 to 1023\n",
            "Occurrences of AT at index from 1041 to 1043\n",
            "Occurrences of AT at index from 1046 to 1048\n",
            "Occurrences of AT at index from 1048 to 1050\n",
            "Occurrences of AT at index from 1059 to 1061\n",
            "Occurrences of AT at index from 1063 to 1065\n",
            "Occurrences of AT at index from 1070 to 1072\n",
            "Occurrences of AT at index from 1073 to 1075\n",
            "Occurrences of AT at index from 1083 to 1085\n",
            "Occurrences of AT at index from 1085 to 1087\n",
            "Occurrences of AT at index from 1104 to 1106\n",
            "Occurrences of AT at index from 1118 to 1120\n",
            "Occurrences of AT at index from 1124 to 1126\n",
            "Occurrences of AT at index from 1136 to 1138\n",
            "Occurrences of AT at index from 1142 to 1144\n",
            "Occurrences of AT at index from 1144 to 1146\n",
            "Occurrences of AT at index from 1147 to 1149\n",
            "Occurrences of AT at index from 1155 to 1157\n",
            "Occurrences of AT at index from 1174 to 1176\n",
            "Occurrences of AT at index from 1178 to 1180\n",
            "Occurrences of AT at index from 1187 to 1189\n",
            "Occurrences of AT at index from 1191 to 1193\n",
            "Occurrences of AT at index from 1213 to 1215\n",
            "Occurrences of AT at index from 1215 to 1217\n",
            "Occurrences of AT at index from 1223 to 1225\n",
            "Occurrences of AT at index from 1229 to 1231\n",
            "Occurrences of AT at index from 1239 to 1241\n",
            "Occurrences of AT at index from 1242 to 1244\n",
            "Occurrences of AT at index from 1253 to 1255\n",
            "Occurrences of AT at index from 1255 to 1257\n",
            "Occurrences of AT at index from 1267 to 1269\n",
            "Occurrences of AT at index from 1288 to 1290\n",
            "Occurrences of AT at index from 1292 to 1294\n",
            "Occurrences of AT at index from 1294 to 1296\n",
            "Occurrences of AT at index from 1296 to 1298\n",
            "Occurrences of AT at index from 1302 to 1304\n",
            "Occurrences of AT at index from 1362 to 1364\n",
            "Occurrences of AT at index from 1364 to 1366\n",
            "Occurrences of AT at index from 1376 to 1378\n",
            "Occurrences of AT at index from 1380 to 1382\n",
            "Occurrences of AT at index from 1392 to 1394\n",
            "Occurrences of AT at index from 1396 to 1398\n",
            "Occurrences of AT at index from 1405 to 1407\n",
            "Occurrences of AT at index from 1419 to 1421\n",
            "Occurrences of AT at index from 1438 to 1440\n",
            "Occurrences of AT at index from 1444 to 1446\n",
            "Occurrences of AT at index from 1453 to 1455\n",
            "Occurrences of AT at index from 1455 to 1457\n",
            "Occurrences of AT at index from 1457 to 1459\n",
            "Occurrences of AT at index from 1475 to 1477\n",
            "Occurrences of AT at index from 1477 to 1479\n",
            "Occurrences of AT at index from 1479 to 1481\n",
            "Occurrences of AT at index from 1517 to 1519\n",
            "Occurrences of AT at index from 1520 to 1522\n",
            "Occurrences of AT at index from 1528 to 1530\n",
            "Occurrences of AT at index from 1548 to 1550\n",
            "Occurrences of AT at index from 1561 to 1563\n",
            "Occurrences of AT at index from 1565 to 1567\n",
            "Occurrences of AT at index from 1573 to 1575\n",
            "Occurrences of AT at index from 1576 to 1578\n",
            "Occurrences of AT at index from 1607 to 1609\n",
            "Occurrences of AT at index from 1614 to 1616\n",
            "Occurrences of AT at index from 1645 to 1647\n",
            "Occurrences of AT at index from 1655 to 1657\n",
            "Occurrences of AT at index from 1671 to 1673\n",
            "Occurrences of AT at index from 1681 to 1683\n",
            "Occurrences of AT at index from 1693 to 1695\n",
            "Occurrences of AT at index from 1711 to 1713\n",
            "Occurrences of AT at index from 1713 to 1715\n",
            "Occurrences of AT at index from 1722 to 1724\n",
            "Occurrences of AT at index from 1726 to 1728\n",
            "Occurrences of AT at index from 1730 to 1732\n",
            "Occurrences of AT at index from 1735 to 1737\n",
            "Occurrences of AT at index from 1742 to 1744\n",
            "Occurrences of AT at index from 1749 to 1751\n",
            "Occurrences of AT at index from 1792 to 1794\n",
            "Occurrences of AT at index from 1812 to 1814\n",
            "Occurrences of AT at index from 1816 to 1818\n",
            "Occurrences of AT at index from 1819 to 1821\n",
            "Occurrences of AT at index from 1822 to 1824\n",
            "Occurrences of AT at index from 1833 to 1835\n",
            "Occurrences of AT at index from 1847 to 1849\n",
            "Occurrences of AT at index from 1865 to 1867\n",
            "Occurrences of AT at index from 1869 to 1871\n",
            "Occurrences of AT at index from 1880 to 1882\n",
            "Occurrences of AT at index from 1883 to 1885\n",
            "Occurrences of AT at index from 1889 to 1891\n",
            "Occurrences of AT at index from 1892 to 1894\n",
            "Occurrences of AT at index from 1896 to 1898\n",
            "Occurrences of AT at index from 1902 to 1904\n",
            "Occurrences of AT at index from 1905 to 1907\n",
            "Occurrences of AT at index from 1915 to 1917\n",
            "Occurrences of AT at index from 1923 to 1925\n",
            "Occurrences of AT at index from 1927 to 1929\n",
            "Occurrences of AT at index from 1929 to 1931\n",
            "Occurrences of AT at index from 1933 to 1935\n",
            "Occurrences of AT at index from 1938 to 1940\n",
            "Occurrences of AT at index from 1955 to 1957\n",
            "Occurrences of AT at index from 1957 to 1959\n",
            "Occurrences of AT at index from 1964 to 1966\n",
            "Occurrences of AT at index from 1968 to 1970\n",
            "Occurrences of AT at index from 1974 to 1976\n",
            "Occurrences of AT at index from 1979 to 1981\n",
            "Occurrences of AT at index from 1984 to 1986\n",
            "Occurrences of AT at index from 1990 to 1992\n",
            "Occurrences of AT at index from 1995 to 1997\n",
            "Occurrences of AT at index from 1997 to 1999\n",
            "Occurrences of AT at index from 1999 to 2001\n",
            "Occurrences of AT at index from 2040 to 2042\n",
            "Occurrences of AT at index from 2051 to 2053\n",
            "Occurrences of AT at index from 2053 to 2055\n",
            "Occurrences of AT at index from 2060 to 2062\n",
            "Occurrences of AT at index from 2066 to 2068\n",
            "Occurrences of AT at index from 2076 to 2078\n",
            "Occurrences of AT at index from 2082 to 2084\n",
            "Occurrences of AT at index from 2089 to 2091\n",
            "Occurrences of AT at index from 2116 to 2118\n",
            "Occurrences of AT at index from 2118 to 2120\n",
            "Occurrences of AT at index from 2140 to 2142\n",
            "Occurrences of AT at index from 2142 to 2144\n",
            "Occurrences of AT at index from 2171 to 2173\n",
            "Occurrences of AT at index from 2174 to 2176\n",
            "Occurrences of AT at index from 2180 to 2182\n",
            "Occurrences of AT at index from 2187 to 2189\n",
            "Occurrences of AT at index from 2198 to 2200\n",
            "Occurrences of AT at index from 2200 to 2202\n",
            "Occurrences of AT at index from 2204 to 2206\n",
            "Occurrences of AT at index from 2228 to 2230\n",
            "Occurrences of AT at index from 2231 to 2233\n",
            "Occurrences of AT at index from 2241 to 2243\n",
            "Occurrences of AT at index from 2243 to 2245\n",
            "Occurrences of AT at index from 2263 to 2265\n",
            "Occurrences of AT at index from 2277 to 2279\n",
            "Occurrences of AT at index from 2282 to 2284\n",
            "Occurrences of AT at index from 2294 to 2296\n",
            "Occurrences of AT at index from 2296 to 2298\n",
            "Occurrences of AT at index from 2313 to 2315\n",
            "Occurrences of AT at index from 2328 to 2330\n",
            "Occurrences of AT at index from 2339 to 2341\n",
            "Occurrences of AT at index from 2343 to 2345\n",
            "Occurrences of AT at index from 2347 to 2349\n",
            "Occurrences of AT at index from 2361 to 2363\n",
            "Occurrences of AT at index from 2364 to 2366\n",
            "Occurrences of AT at index from 2378 to 2380\n",
            "Occurrences of AT at index from 2381 to 2383\n",
            "Occurrences of AT at index from 2387 to 2389\n",
            "Occurrences of AT at index from 2404 to 2406\n",
            "Occurrences of AT at index from 2411 to 2413\n",
            "Occurrences of AT at index from 2415 to 2417\n",
            "Occurrences of AT at index from 2423 to 2425\n",
            "Occurrences of AT at index from 2434 to 2436\n",
            "Occurrences of AT at index from 2437 to 2439\n",
            "Occurrences of AT at index from 2450 to 2452\n",
            "Occurrences of AT at index from 2453 to 2455\n",
            "Occurrences of AT at index from 2456 to 2458\n",
            "Occurrences of AT at index from 2464 to 2466\n",
            "Occurrences of AT at index from 2471 to 2473\n",
            "Occurrences of AT at index from 2498 to 2500\n",
            "Occurrences of AT at index from 2503 to 2505\n",
            "Occurrences of AT at index from 2511 to 2513\n",
            "Occurrences of AT at index from 2514 to 2516\n",
            "Occurrences of AT at index from 2519 to 2521\n",
            "Occurrences of AT at index from 2525 to 2527\n",
            "Occurrences of AT at index from 2527 to 2529\n",
            "Occurrences of AT at index from 2537 to 2539\n",
            "Occurrences of AT at index from 2539 to 2541\n",
            "Occurrences of AT at index from 2541 to 2543\n",
            "Occurrences of AT at index from 2546 to 2548\n",
            "Occurrences of AT at index from 2550 to 2552\n",
            "Occurrences of AT at index from 2564 to 2566\n",
            "Occurrences of AT at index from 2575 to 2577\n",
            "Occurrences of AT at index from 2587 to 2589\n",
            "Occurrences of AT at index from 2596 to 2598\n",
            "\n",
            "\n"
          ]
        }
      ]
    }
  ]
}