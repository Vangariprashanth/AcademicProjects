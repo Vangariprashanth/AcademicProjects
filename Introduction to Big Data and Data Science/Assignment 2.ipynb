{
  "nbformat": 4,
  "nbformat_minor": 0,
  "metadata": {
    "colab": {
      "provenance": []
    },
    "kernelspec": {
      "name": "python3",
      "display_name": "Python 3"
    },
    "language_info": {
      "name": "python"
    }
  },
  "cells": [
    {
      "cell_type": "code",
      "execution_count": 40,
      "metadata": {
        "id": "lbbqo0pH4XD_"
      },
      "outputs": [],
      "source": [
        "import pandas as pd"
      ]
    },
    {
      "cell_type": "code",
      "source": [
        "# 1. Load the data into a DataFrame\n",
        "df = pd.read_csv(\"NCI_SEER_CRC.csv\")"
      ],
      "metadata": {
        "id": "ZY2c8yMp6eas"
      },
      "execution_count": 41,
      "outputs": []
    },
    {
      "cell_type": "code",
      "source": [
        "# 2. Rename the columns\n",
        "df.rename(columns={\n",
        "    'Year of diagnosis': 'YDD',\n",
        "    'Race recode (W, B, AI, API)': 'Race',\n",
        "    'Origin recode NHIA (Hispanic, Non-Hisp)': 'Ethnicity',\n",
        "    'Age recode with single ages and 100+': 'Age',\n",
        "    'Grade (thru 2017)': 'Grade',\n",
        "    'Marital status at diagnosis': 'Marital Status'\n",
        "}, inplace=True)"
      ],
      "metadata": {
        "id": "vWpZFL4v6r9g"
      },
      "execution_count": 42,
      "outputs": []
    },
    {
      "cell_type": "code",
      "source": [
        "# 3. Drop the specified columns\n",
        "sel_cols = [\n",
        "    'Age recode with <1 year olds',\n",
        "    'Primary Site - labeled',\n",
        "    'Total number of in situ/malignant tumors for patient',\n",
        "    'COD to site recode',\n",
        "    'SEER registry (with CA and GA as whole states)',\n",
        "    'Behavior recode for analysis'\n",
        "]\n",
        "df.drop(columns=sel_cols, inplace=True)"
      ],
      "metadata": {
        "id": "egPozTB56u3V"
      },
      "execution_count": 43,
      "outputs": []
    },
    {
      "cell_type": "code",
      "source": [
        "# 4. Remove 'years' from the Age column\n",
        "df['Age'] = df['Age'].str.replace(' years', '', regex=False)\n"
      ],
      "metadata": {
        "id": "1FdEOKPV6y7f"
      },
      "execution_count": 44,
      "outputs": []
    },
    {
      "cell_type": "code",
      "source": [
        "# 5. Enumerate Ethnicity\n",
        "df['Ethnicity'] = df['Ethnicity'].map({'Spanish-Hispanic-Latino': 1, 'Non-Spanish-Hispanic-Latino': 0})"
      ],
      "metadata": {
        "id": "sentNW0J610v"
      },
      "execution_count": 45,
      "outputs": []
    },
    {
      "cell_type": "code",
      "source": [
        "# 6. Enumerate Grade\n",
        "grds = {\n",
        "    'Well differentiated; Grade I': 1,\n",
        "    'Moderately differentiated; Grade II': 2,\n",
        "    'Poorly differentiated; Grade III': 3,\n",
        "    'Undifferentiated; anaplastic; Grade IV': 4,\n",
        "    'Unknown': 99\n",
        "}\n",
        "df['Grade'] = df['Grade'].map(grds)"
      ],
      "metadata": {
        "id": "D9DWW6mq64jB"
      },
      "execution_count": 46,
      "outputs": []
    },
    {
      "cell_type": "code",
      "source": [
        "# 7. Enumerate Sex\n",
        "df['Sex'] = df['Sex'].map({'Female': 1, 'Male': 0})"
      ],
      "metadata": {
        "id": "FYF135ya7Koc"
      },
      "execution_count": 47,
      "outputs": []
    },
    {
      "cell_type": "code",
      "source": [
        "# 8. Drop records with null values and fill empty cells with 0\n",
        "df.dropna(inplace=True)\n",
        "df.fillna(0, inplace=True)\n",
        "\n",
        "print(df.head())"
      ],
      "metadata": {
        "colab": {
          "base_uri": "https://localhost:8080/"
        },
        "id": "5H-6jCRd7Ky5",
        "outputId": "7205a091-6dc0-4e44-b875-f07f383cbabb"
      },
      "execution_count": 48,
      "outputs": [
        {
          "output_type": "stream",
          "name": "stdout",
          "text": [
            "    YDD   Race  Ethnicity  Sex Age  Grade Combined Summary Stage (2004+)  \\\n",
            "0  2000  White          0    0  82    2.0                       Blank(s)   \n",
            "1  2000  White          0    0  76    2.0                       Blank(s)   \n",
            "2  2000  White          0    1  65    2.0                       Blank(s)   \n",
            "3  2000  White          0    0  86    3.0                       Blank(s)   \n",
            "4  2000  White          0    1  82    2.0                       Blank(s)   \n",
            "\n",
            "  Survival months                  Marital Status  Appalachia  \n",
            "0              17  Married (including common law)           1  \n",
            "1              67                         Unknown           1  \n",
            "2              41                         Unknown           1  \n",
            "3              15                         Unknown           1  \n",
            "4               0                         Unknown           1  \n"
          ]
        }
      ]
    }
  ]
}