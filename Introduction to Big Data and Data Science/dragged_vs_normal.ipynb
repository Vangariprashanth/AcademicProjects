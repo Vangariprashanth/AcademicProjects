{
 "cells": [
  {
   "cell_type": "markdown",
   "metadata": {},
   "source": [
    "### K-Nearest Neighbors for Image Processing"
   ]
  },
  {
   "cell_type": "code",
   "execution_count": 62,
   "metadata": {
    "id": "7fyWsgtmaB4f"
   },
   "outputs": [],
   "source": [
    "'''\n",
    "This script does image categorization using the K-Nearest Neighbors technique by utilizing scikit-learn. \n",
    "The first step is to import the required libraries, which include PIL, numpy, and matplotlib. After that, a KNN classifier is trained, image files are loaded via glob and arranged into a matrix. It uses the metrics provided by scikit-learn to assess the classifier's accuracy after training. Image conversion to numpy arrays, reshaping, and feature extraction are the steps in the procedure. With flexibility for experimentation and optimization, \n",
    "this script offers a fundamental framework for KNN-based image categorization applications.\n",
    "'''\n",
    "\n",
    "import matplotlib.pyplot as plt\n",
    "import matplotlib.image as mpimg\n",
    "import os\n",
    "import numpy as np\n",
    "from PIL import Image \n",
    "from sklearn import neighbors\n",
    "from sklearn import metrics\n",
    "from sklearn.neighbors import KNeighborsClassifier\n",
    "from sklearn.metrics import accuracy_score\n",
    "\n",
    "import glob\n",
    "\n",
    "#utilizing sklearn for the KNN classifier and accuracy metrics and glob to retrieve file directories"
   ]
  },
  {
   "cell_type": "markdown",
   "metadata": {
    "id": "MTDaEYiKanlz"
   },
   "source": [
    "#### 1. Setup Image Arrays"
   ]
  },
  {
   "cell_type": "code",
   "execution_count": 63,
   "metadata": {
    "id": "J1-I7vO4ALVW"
   },
   "outputs": [],
   "source": [
    "'''\n",
    "Two lists are being created by these lines of code: `glucoma_} and `normal_}. To identify all file paths that match the provided patterns, use the `glob` module. In particular, all files in the \"normal\" directory are found by `glob.glob('normal/*')}, and all files in the \"glaucoma\" directory are found by `glob.glob('glaucoma/*')}. The file path is inserted to the corresponding list (`glucoma_} for glaucoma images and `normal_} for normal images) for each file that is detected.\n",
    "The photos for categorization will then be loaded and processed using these lists.\n",
    "\n",
    "'''\n",
    "\n",
    "normal_ = []\n",
    "glucoma_ = []\n",
    "\n",
    "\n",
    "#Loop through all files in the 'normal' directory\n",
    "for normal in glob.glob('normal/*'):\n",
    "    normal_.append(normal)\n",
    "\n",
    "    #Loop through all files in the 'draged-disc' directory\n",
    "for glucoma in glob.glob('dragged-disc/*'):\n",
    "    glucoma_.append(glucoma)"
   ]
  },
  {
   "cell_type": "code",
   "execution_count": 64,
   "metadata": {},
   "outputs": [
    {
     "name": "stdout",
     "output_type": "stream",
     "text": [
      "#normal, #dragged-disc 38 10\n"
     ]
    }
   ],
   "source": [
    "print (\"#normal, #dragged-disc\", len(normal_), len(glucoma_))"
   ]
  },
  {
   "cell_type": "markdown",
   "metadata": {
    "id": "hcX2n-lVZYxr"
   },
   "source": [
    "#### 2. Setup list of files and build a single list (aka flat list) of lists"
   ]
  },
  {
   "cell_type": "code",
   "execution_count": 65,
   "metadata": {},
   "outputs": [],
   "source": [
    "'''\n",
    "This section creates a list named `all_images`. `normal_} and `glucoma_} are the two sub-lists that are then added to this list. File paths to images are stored in each of these sub-lists; paths to images of normal eyes are stored in `normal_}, while paths to photos of glaucoma eyes are stored in `glucoma_}. The script is getting ready to process and classify both kinds of photos together by appending these two sub-lists to `all_images`. \n",
    "It is simple to iterate through all of the picture paths for the following processing steps thanks to this arrangement.\n",
    "'''\n",
    "\n",
    "all_images = []\n",
    "all_images.append(normal_)\n",
    "all_images.append(glucoma_)"
   ]
  },
  {
   "cell_type": "code",
   "execution_count": 66,
   "metadata": {},
   "outputs": [],
   "source": [
    "'''\n",
    "In this snippet, the `reduce` function from the `functools` module is used in combination with `operator.add` to concatenate all the sub-lists within `all_images` into a single list. This means that instead of having two separate lists (`normal_` and `glucoma_`), all the file paths to both types of images are now combined into one list named `all_images`. \n",
    "This unified list simplifies the process of iterating through all image paths for subsequent operations such as loading and processing the images.\n",
    "'''\n",
    "\n",
    "import operator\n",
    "from functools import reduce\n",
    "all_images = reduce(operator.add, all_images)"
   ]
  },
  {
   "cell_type": "code",
   "execution_count": 67,
   "metadata": {},
   "outputs": [
    {
     "name": "stdout",
     "output_type": "stream",
     "text": [
      "['normal', 'normal', 'normal', 'normal', 'normal', 'normal', 'normal', 'normal', 'normal', 'normal', 'normal', 'normal', 'normal', 'normal', 'normal', 'normal', 'normal', 'normal', 'normal', 'normal', 'normal', 'normal', 'normal', 'normal', 'normal', 'normal', 'normal', 'normal', 'normal', 'normal', 'normal', 'normal', 'normal', 'normal', 'normal', 'normal', 'normal', 'normal', 'dragdisc', 'dragdisc', 'dragdisc', 'dragdisc', 'dragdisc', 'dragdisc', 'dragdisc', 'dragdisc', 'dragdisc', 'dragdisc'] # of labels:  48\n"
     ]
    }
   ],
   "source": [
    "'''\n",
    "In order to extract matching labels for categorization, the script runs over a list of picture paths. Before splitting the paths to separate the labels, it first collects filenames without extensions from each picture path. After removing the trailing numbers, the labels are added to a list called `all_labels`. \n",
    "This gives the images' labels, which is useful for supervised learning tasks.\n",
    "\n",
    "'''\n",
    "\n",
    "#Iterating through the list of extracted labels to clean and append to 'all_labels'\n",
    "\n",
    "all_labels = []\n",
    "all_image_labels = [os.path.splitext(each)[0].split(\"\\\\\")[-1] for each in all_images]\n",
    "import string\n",
    "for i in range(len(all_image_labels)):\n",
    "    item = all_image_labels[i].rstrip(string.digits)\n",
    "    all_labels.append(item.split(\"\\\\\")[-1])\n",
    "\n",
    "print(all_labels, \"# of labels: \", len(all_labels))"
   ]
  },
  {
   "cell_type": "markdown",
   "metadata": {},
   "source": [
    "#### In this method, use RGB percentage for image recognition"
   ]
  },
  {
   "cell_type": "code",
   "execution_count": 68,
   "metadata": {},
   "outputs": [],
   "source": [
    "'''\n",
    "These lists will be used to store the red, green, and blue channel pixel values for both normal and glaucoma images. For every photograph in each category (normal or glaucoma), a list containing the pixel values of a particular color channel will be kept. \n",
    "In image processing activities, these color channels can be used for feature extraction or analysis.\n",
    "'''\n",
    "normal_green = []\n",
    "normal_red = []\n",
    "normal_blue = []\n",
    "glucoma_blue = []\n",
    "glucoma_red = []\n",
    "glucoma_green = []"
   ]
  },
  {
   "cell_type": "markdown",
   "metadata": {},
   "source": [
    "#### Now scan image of the images for percent Red, Blue, and Green"
   ]
  },
  {
   "cell_type": "code",
   "execution_count": 69,
   "metadata": {},
   "outputs": [],
   "source": [
    "'''\n",
    "The normal and glaucoma groups' average percentages of the color channels in the images are calculated. After averaging the RGB values for each pixel, the percentages of red, green, and blue are determined. \n",
    "Potential categorization jobs are aided by these values, which fill lists for each category.\n",
    "'''\n",
    "\n",
    "\n",
    "# Processing normal images\n",
    "for image in all_images[:len(normal_)]:\n",
    "    img = mpimg.imread(image)\n",
    "    RGBtuple = np.array(img).mean(axis=(0,1))\n",
    "    averageRed = RGBtuple[0]\n",
    "    averageGreen = RGBtuple[1]\n",
    "    averageBlue = RGBtuple[2]\n",
    "    percentage_green = averageGreen/(averageGreen+averageBlue+averageRed)\n",
    "    percentage_blue = averageBlue/(averageGreen+averageBlue+averageRed)\n",
    "    percentage_red = averageRed/(averageGreen+averageBlue+averageRed)\n",
    "    normal_green.append(percentage_green)\n",
    "    normal_blue.append(percentage_blue)\n",
    "    normal_red.append(percentage_red)\n",
    "# # Calculating the percentages of each color\n",
    "for image in all_images[len(normal_)+1:]:\n",
    "    img = mpimg.imread(image)\n",
    "    RGBtuple = np.array(img).mean(axis=(0,1))\n",
    "    averageRed = RGBtuple[0]\n",
    "    averageGreen = RGBtuple[1]\n",
    "    averageBlue = RGBtuple[2]\n",
    "    percentage_green = averageGreen/(averageGreen+averageBlue+averageRed)\n",
    "    percentage_blue = averageBlue/(averageGreen+averageBlue+averageRed)\n",
    "    percentage_red = averageRed/(averageGreen+averageBlue+averageRed)\n",
    "    glucoma_green.append(percentage_green)\n",
    "    glucoma_blue.append(percentage_blue)\n",
    "    glucoma_red.append(percentage_red)"
   ]
  },
  {
   "cell_type": "markdown",
   "metadata": {},
   "source": [
    "#### Scatter plot "
   ]
  },
  {
   "cell_type": "code",
   "execution_count": 70,
   "metadata": {},
   "outputs": [
    {
     "data": {
      "image/png": "[encoded data removed]",
      "text/plain": [
       "<Figure size 640x480 with 1 Axes>"
      ]
     },
     "metadata": {},
     "output_type": "display_data"
    }
   ],
   "source": [
    "'''\n",
    "The sample of code creates a scatter plot with matplotlib. The distribution of the mean percentages of the green and blue color channels is shown for both the normal and glaucoma groups. There are two scatter plots produced: \n",
    "one with red markers for normal images and one with blue markers for glaucoma photos. \n",
    "'''\n",
    "\n",
    "\n",
    "# plot the graphs\n",
    "plt.scatter(normal_green, normal_blue, s=100, facecolors='red', edgecolor='black', alpha=0.5)\n",
    "plt.scatter(glucoma_green, glucoma_blue, s=100, facecolors='blue', edgecolor='black', alpha=0.5)\n",
    "plt.xlabel('Percentage of green')\n",
    "plt.ylabel('Percentage of blue')\n",
    "plt.title('Diabetic Retinopathy: Normal and Dragged Disc Training images')\n",
    "plt.legend(['Normal', 'Gluecoma'])\n",
    "plt.show()"
   ]
  },
  {
   "cell_type": "markdown",
   "metadata": {},
   "source": [
    "#### Setup 80-20 train and test data\n"
   ]
  },
  {
   "cell_type": "code",
   "execution_count": 71,
   "metadata": {},
   "outputs": [
    {
     "name": "stdout",
     "output_type": "stream",
     "text": [
      "38 9\n"
     ]
    }
   ],
   "source": [
    "'''\n",
    "The first step in this script segment is to import the required libraries and set a random seed (random.seed(42)) to ensure reproducibility. Using random.shuffle(all_images), \n",
    "the paths to each image file are shuffled randomly in the all_images array.\n",
    "'''\n",
    "\n",
    "import os\n",
    "import random\n",
    "import shutil\n",
    "\n",
    "random.seed(42)\n",
    "random.shuffle(all_images)\n",
    "\n",
    "# Setting the random seed for reproducibility\n",
    "\n",
    "# Shuffling the list of all images\n",
    "\n",
    "\n",
    "train_size = int(len(all_images) * 0.80)\n",
    "test_size = int(len(all_images) * 0.20)\n",
    "print (train_size, test_size)"
   ]
  },
  {
   "cell_type": "markdown",
   "metadata": {},
   "source": [
    "#### Move train and test data into respective folder"
   ]
  },
  {
   "cell_type": "code",
   "execution_count": 72,
   "metadata": {},
   "outputs": [],
   "source": [
    "'''\n",
    "The script builds a list of picture filenames, checks for image extensions, and sets up destination folders for training and testing images. The image files are copied from the current directory to the appropriate train or test folders, and the destination directories are verified to be present. It also produces a local copy of the training data, \n",
    "adding picture filenames to the `training_data} list, for processing later.\n",
    "'''\n",
    "\n",
    "dest_path = \"data\\\\\"\n",
    "\n",
    "# Getting the current working directory\n",
    "data_path = os.getcwd()\n",
    "\n",
    "train_folder = os.path.join(dest_path, 'train')\n",
    "test_folder = os.path.join(dest_path, 'test')\n",
    "\n",
    "image_extensions = ['.JPG']\n",
    "\n",
    "imgs_list = [filename for filename in os.listdir(data_path) if os.path.splitext(filename)[-1] in image_extensions]\n",
    "\n",
    "for folder_path in [train_folder, test_folder]:\n",
    "    if not os.path.exists(folder_path):\n",
    "        os.makedirs(folder_path)\n",
    "\n",
    "# split into training and testing\n",
    "training_data = []\n",
    "for i, f in enumerate(all_images):\n",
    "    if i < train_size:\n",
    "        dest_folder = train_folder\n",
    "    else:\n",
    "        dest_folder = test_folder\n",
    "    shutil.copy(os.path.join(data_path, f), os.path.join(data_path,dest_folder))\n",
    "\n",
    "    #setup training data copy for local processing\n",
    "    training_data.append(f)"
   ]
  },
  {
   "cell_type": "code",
   "execution_count": 73,
   "metadata": {},
   "outputs": [],
   "source": [
    "'''\n",
    "The `training_data} list's image filenames are used to generate the `img_labels} list, which is made up of labels. Using `os.path.splitext(each)[0]}, it eliminates file extensions and then splits the path on backslashes (`\\\\}) to isolate the label.\n",
    "A list of labels for each image in the `training_data} list is the end result of this.\n",
    "'''\n",
    "\n",
    "img_labels = [os.path.splitext(each)[0].split(\"\\\\\")[-1] for each in training_data]"
   ]
  },
  {
   "cell_type": "code",
   "execution_count": 74,
   "metadata": {},
   "outputs": [
    {
     "name": "stdout",
     "output_type": "stream",
     "text": [
      "['normal', 'normal', 'normal', 'normal', 'normal', 'normal', 'normal', 'dragdisc', 'normal', 'normal', 'normal', 'normal', 'dragdisc', 'normal', 'normal', 'normal', 'normal', 'dragdisc', 'normal', 'normal', 'dragdisc', 'normal', 'normal', 'normal', 'normal', 'normal', 'dragdisc', 'dragdisc', 'normal', 'normal', 'normal', 'dragdisc', 'normal', 'dragdisc', 'dragdisc', 'normal', 'normal', 'normal', 'normal', 'normal', 'normal', 'normal', 'normal', 'normal', 'normal', 'normal', 'normal', 'dragdisc'] # of labels:  48\n"
     ]
    }
   ],
   "source": [
    "'''\n",
    "After processing `img_labels}, this script generates a list of cleaned labels for training data called `training_labels}. Iterating over `img_labels}, it splits the path on backslashes (`\\\\}) to isolate the label and removes trailing digits. Together with the total number of labels, \n",
    "the cleaned labels for every image in the `training_data} are displayed in the resultant `training_labels} list.\n",
    "'''\n",
    "\n",
    "import string\n",
    "training_labels = []\n",
    "for i in range(len(img_labels)):\n",
    "    training_labels.append(img_labels[i].split(\"\\\\\")[-1].rstrip(string.digits))\n",
    "print(training_labels, \"# of labels: \", len(training_labels))"
   ]
  },
  {
   "cell_type": "markdown",
   "metadata": {},
   "source": [
    "#### Now Setup test_data and test_labels"
   ]
  },
  {
   "cell_type": "code",
   "execution_count": 75,
   "metadata": {},
   "outputs": [],
   "source": [
    "'''\n",
    "A list of filenames in the test data folder called `test_data} is created by the code segment, which also defines `test` as the path to the test data folder ({'./data/test/'}). Using `os.listdir(test)}, which collects all filenames in the `test} directory, it fills `test_data} with selected filenames.\n",
    "In order to facilitate subsequent processing or assessment, this produces the test data filenames.\n",
    "'''\n",
    "test = './data/test/'\n",
    "test_data = [filename for filename in os.listdir(test)]"
   ]
  },
  {
   "cell_type": "code",
   "execution_count": 76,
   "metadata": {},
   "outputs": [
    {
     "name": "stdout",
     "output_type": "stream",
     "text": [
      "['dragdisc2.JPG', 'normal10.JPG', 'normal14.JPG', 'normal15.JPG', 'normal16.JPG', 'normal17.JPG', 'normal22.JPG', 'normal23.JPG', 'normal25.JPG', 'normal6.JPG']\n",
      "10\n"
     ]
    }
   ],
   "source": [
    "print(test_data)\n",
    "print (len(test_data))"
   ]
  },
  {
   "cell_type": "code",
   "execution_count": 77,
   "metadata": {},
   "outputs": [
    {
     "name": "stdout",
     "output_type": "stream",
     "text": [
      "['dragdisc2', 'normal10', 'normal14', 'normal15', 'normal16', 'normal17', 'normal22', 'normal23', 'normal25', 'normal6']\n"
     ]
    }
   ],
   "source": [
    "'''\n",
    "`test_data_noext} is a list of filenames from `test_data} that has had its file extensions deleted thanks to this code. Using `os.path.splitext(each)[0]`, the file extension is eliminated from each filename in `test_data}. The `test_data_noext} \n",
    "list that is produced has filenames without extensions that are prepared for additional processing or examination.\n",
    "'''\n",
    "test_data_noext = [os.path.splitext(each)[0] for each in test_data]\n",
    "print(test_data_noext)"
   ]
  },
  {
   "cell_type": "code",
   "execution_count": 78,
   "metadata": {},
   "outputs": [
    {
     "name": "stdout",
     "output_type": "stream",
     "text": [
      "['dragdisc', 'normal', 'normal', 'normal', 'normal', 'normal', 'normal', 'normal', 'normal', 'normal']\n"
     ]
    }
   ],
   "source": [
    "'''\n",
    "`test_labels` is an empty list created in this script to hold labels for the test data. \n",
    "To extract the labels and remove trailing digits, a loop is used to process the filenames in `test_data_noext}.\n",
    "The resultant label is inserted to the `test_labels} list after `rstrip(string.digits)} eliminates any trailing digits for each filename. This creates a list of labels called `test_labels} that are printed for verification for each image in the test data.\n",
    "'''\n",
    "test_labels = []\n",
    "import string\n",
    "for i in range(len(test_data_noext)):\n",
    "    test_labels.append(test_data_noext[i].rstrip(string.digits))\n",
    "print(test_labels)"
   ]
  },
  {
   "cell_type": "markdown",
   "metadata": {},
   "source": [
    "### KNN Image Processing using RGB data"
   ]
  },
  {
   "cell_type": "markdown",
   "metadata": {},
   "source": [
    "#### Extract distance metrics from train and test data"
   ]
  },
  {
   "cell_type": "code",
   "execution_count": 79,
   "metadata": {},
   "outputs": [],
   "source": [
    "training_data_ = np.zeros((len(training_labels),3))"
   ]
  },
  {
   "cell_type": "code",
   "execution_count": 80,
   "metadata": {},
   "outputs": [],
   "source": [
    "'''\n",
    "`training_data_}, a matrix holding the color channel percentages for every image, is filled with each iteration of `training_labels} by this code. Using the `normal_red}, `normal_blue}, and `normal_green} lists, the matching red, blue, and green percentages are assigned if the label is `'normal'}. The `glucoma_red}, `glucoma_blue}, and `glucoma_green} lists are used to assign values if the label is `'glucoma'}. The indices for each list are tracked by the loop by updating `glucoma_index} and `normal_index}. To aid in the training of machine learning models, the resulting `training_data_} \n",
    "matrix includes color channel percentages for training images.\n",
    "'''\n",
    "normal_index = 0\n",
    "glucoma_index = 0\n",
    "index=0\n",
    "for i in range(len(training_labels)-1):\n",
    "    if training_labels[i] == 'normal':\n",
    "        training_data_[i,0] = normal_red[normal_index]\n",
    "        training_data_[i,1] = normal_blue[normal_index]\n",
    "        training_data_[i,2] = normal_green[normal_index]\n",
    "        normal_index=normal_index+1\n",
    "        index = index + 1 \n",
    "    else:\n",
    "        #print (\"added an element for glucoma\", i) \n",
    "        \n",
    "        training_data_[i,0] = glucoma_red[glucoma_index]\n",
    "        training_data_[i,1] = glucoma_blue[glucoma_index]\n",
    "        training_data_[i,2] = glucoma_green[glucoma_index]\n",
    "        glucoma_index=glucoma_index+1\n",
    "        index = index + 1"
   ]
  },
  {
   "cell_type": "code",
   "execution_count": 81,
   "metadata": {},
   "outputs": [],
   "source": [
    "test_data_ = np.zeros((len(test_labels),3))    "
   ]
  },
  {
   "cell_type": "code",
   "execution_count": 82,
   "metadata": {},
   "outputs": [
    {
     "name": "stdout",
     "output_type": "stream",
     "text": [
      "Total = 9\n",
      "Normal Entries  8\n",
      "Dragged-disc Entries 1\n"
     ]
    }
   ],
   "source": [
    "'''\n",
    "The test data's normal and glaucoma photos are converted into RGB arrays by this script. Assigning RGB values from lists {normal_red{, `normal_blue}, and `normal_green} if the label is `'normal'}, or from lists {glucoma_red}, {glucoma_blue}, and {glucoma_green} if the label is `'glaucoma'}, \n",
    "is done by looping through the `test_labels}.\n",
    "'''\n",
    "\n",
    "normal_index = 0\n",
    "glucoma_index = 0\n",
    "index=0\n",
    "for i in range(len(test_labels)-1):\n",
    "    if test_labels[i] == 'normal':\n",
    "        test_data_[i,0] = normal_red[normal_index]\n",
    "        test_data_[i,1] = normal_blue[normal_index]\n",
    "        test_data_[i,2] = normal_green[normal_index]\n",
    "        normal_index = normal_index+1\n",
    "        index = index + 1 \n",
    "    else:\n",
    "        #print (\"added an element for glucoma\", i) \n",
    "        test_data_[i,0] = glucoma_red[glucoma_index]\n",
    "        test_data_[i,1] = glucoma_blue[glucoma_index]\n",
    "        test_data_[i,2] = glucoma_green[glucoma_index]\n",
    "        glucoma_index = glucoma_index+1\n",
    "        index = index + 1\n",
    "\n",
    "print (\"Total =\", index)\n",
    "print (\"Normal Entries \", normal_index)\n",
    "print (\"Dragged-disc Entries\", glucoma_index)"
   ]
  },
  {
   "cell_type": "code",
   "execution_count": 83,
   "metadata": {},
   "outputs": [
    {
     "name": "stdout",
     "output_type": "stream",
     "text": [
      "K = 1\n",
      "Accuracy: 0.9\n",
      "Confusion Matrix:\n",
      "[[1 0]\n",
      " [1 8]]\n",
      "-------------------\n",
      "K = 2\n",
      "Accuracy: 0.9\n",
      "Confusion Matrix:\n",
      "[[1 0]\n",
      " [1 8]]\n",
      "-------------------\n",
      "K = 3\n",
      "Accuracy: 0.9\n",
      "Confusion Matrix:\n",
      "[[1 0]\n",
      " [1 8]]\n",
      "-------------------\n",
      "K = 4\n",
      "Accuracy: 0.9\n",
      "Confusion Matrix:\n",
      "[[1 0]\n",
      " [1 8]]\n",
      "-------------------\n",
      "K = 5\n",
      "Accuracy: 0.9\n",
      "Confusion Matrix:\n",
      "[[1 0]\n",
      " [1 8]]\n",
      "-------------------\n",
      "K = 6\n",
      "Accuracy: 0.9\n",
      "Confusion Matrix:\n",
      "[[1 0]\n",
      " [1 8]]\n",
      "-------------------\n",
      "K = 7\n",
      "Accuracy: 0.9\n",
      "Confusion Matrix:\n",
      "[[1 0]\n",
      " [1 8]]\n",
      "-------------------\n",
      "K = 8\n",
      "Accuracy: 0.9\n",
      "Confusion Matrix:\n",
      "[[1 0]\n",
      " [1 8]]\n",
      "-------------------\n",
      "K = 9\n",
      "Accuracy: 0.9\n",
      "Confusion Matrix:\n",
      "[[1 0]\n",
      " [1 8]]\n",
      "-------------------\n",
      "K = 10\n",
      "Accuracy: 0.9\n",
      "Confusion Matrix:\n",
      "[[1 0]\n",
      " [1 8]]\n",
      "-------------------\n",
      "K = 11\n",
      "Accuracy: 0.9\n",
      "Confusion Matrix:\n",
      "[[1 0]\n",
      " [1 8]]\n",
      "-------------------\n",
      "K = 12\n",
      "Accuracy: 0.9\n",
      "Confusion Matrix:\n",
      "[[1 0]\n",
      " [1 8]]\n",
      "-------------------\n",
      "K = 13\n",
      "Accuracy: 0.9\n",
      "Confusion Matrix:\n",
      "[[1 0]\n",
      " [1 8]]\n",
      "-------------------\n",
      "K = 14\n",
      "Accuracy: 0.9\n",
      "Confusion Matrix:\n",
      "[[1 0]\n",
      " [1 8]]\n",
      "-------------------\n"
     ]
    },
    {
     "data": {
      "image/png": "[encoded data removed]",
      "text/plain": [
       "<Figure size 640x480 with 1 Axes>"
      ]
     },
     "metadata": {},
     "output_type": "display_data"
    }
   ],
   "source": [
    "'''\n",
    "As a function of the number of neighbors (k), a scatter plot is created to show the accuracy of the model. An accuracy baseline of 0.5 (random guessing) is indicated by a red line on the plot, which displays the knn_array scores against the x values (number of neighbors). \n",
    "Choose the ideal k value for the KNN classifier with the aid of this visualization.\n",
    "'''\n",
    "\n",
    "from sklearn.metrics import confusion_matrix, accuracy_score\n",
    "\n",
    "x = range(1, 15)\n",
    "knn_array = [0] * 14\n",
    "k_pred = [0] * 14\n",
    "\n",
    "for index, i in enumerate(x):\n",
    "    k2 = neighbors.KNeighborsClassifier(n_neighbors=i, weights='distance')\n",
    "    k2.fit(training_data_, training_labels)\n",
    "    k_pred[index] = k2.predict(test_data_)\n",
    "    score = k2.score(test_data_, test_labels)\n",
    "    knn_array[index] = round(score, 3)\n",
    "\n",
    "    # Calculate confusion matrix\n",
    "    conf_matrix = confusion_matrix(test_labels, k_pred[index])\n",
    "\n",
    "    # Calculate accuracy\n",
    "    accuracy = accuracy_score(test_labels, k_pred[index])\n",
    "\n",
    "    # Print accuracy and confusion matrix for each k value\n",
    "    print(f\"K = {i}\")\n",
    "    print(\"Accuracy:\", round(accuracy, 3))\n",
    "    print(\"Confusion Matrix:\")\n",
    "    print(conf_matrix)\n",
    "    print(\"-------------------\")\n",
    "\n",
    "# Plotting\n",
    "plt.scatter(x, knn_array)\n",
    "plt.xlabel('Number of Neighbors')\n",
    "plt.ylabel('KNN Score')\n",
    "plt.title('Model Accuracy as a function of # of neighbors')\n",
    "plt.legend(['Neighbors'])\n",
    "plt.plot([1, 1], [0, 1], color='red', linestyle='-', linewidth=2)\n",
    "plt.show()\n"
   ]
  },
  {
   "cell_type": "code",
   "execution_count": 84,
   "metadata": {},
   "outputs": [
    {
     "data": {
      "text/plain": [
       "'\\nObservations:\\n\\n1. I Performed KNN Regression using neighbours 1 through 14\\n2. The total number of images are 51 \\n3. I used the training 80% of the 51 that is 40 for training and 20% that is 10/11 images for the testing.\\n4. All the models achieved 0.909 percentage accuracy \\n5. There are 2 true positives (correctly predicted glaucoma) and 8 true negatives (correctly predicted normal).\\n6. There is 1 false positive (normal images incorrectly predicted as glaucoma) and 0 false negatives (glaucoma images incorrectly predicted as normal).\\n7. Overall, the model has 10 correct predictions and 1 incorrect prediction.\\n\\nSince we used only few images for training and testing the accuracy 0.909. If we use more images for training and testing we may get more accurate results.\\nFor all the values of 1 through 14 for neighbour we got same accuracy and confusion matrice.\\n'"
      ]
     },
     "execution_count": 84,
     "metadata": {},
     "output_type": "execute_result"
    }
   ],
   "source": [
    "'''\n",
    "Observations:\n",
    "\n",
    "1. I Performed KNN Regression using neighbours 1 through 14\n",
    "2. The total number of images are 48 \n",
    "3. I used the training 80% of the 48 that is 38 for training and 20% that is 9 images for the testing.\n",
    "4. All the models achieved 0.90 percentage accuracy \n",
    "\n",
    "5. There is 1 true positive (correctly predicted dragged disc) and 8 true negatives (correctly predicted normal).\n",
    "6. There is 1 false positive (normal images incorrectly predicted as dragged disc) and 0 false negatives (dragged disc images incorrectly predicted as normal).\n",
    "\n",
    "7. Overall, the model has 9 correct predictions and 1 incorrect prediction when distinguishing between normal and dragged disc eye images.\n",
    "\n",
    "Since we used only few images for training and testing the accuracy 0.90. If we use more images for training and testing we may get more accurate results.\n",
    "For all the values of 1 through 14 for neighbour we got same accuracy and confusion matrice.\n",
    "'''"
   ]
  },
  {
   "cell_type": "code",
   "execution_count": null,
   "metadata": {},
   "outputs": [],
   "source": []
  }
 ],
 "metadata": {
  "colab": {
   "collapsed_sections": [],
   "name": "Assignment10_ImageClassification_BurnImages_and_normalImages.ipynb",
   "provenance": []
  },
  "kernelspec": {
   "display_name": "Python 3 (ipykernel)",
   "language": "python",
   "name": "python3"
  },
  "language_info": {
   "codemirror_mode": {
    "name": "ipython",
    "version": 3
   },
   "file_extension": ".py",
   "mimetype": "text/x-python",
   "name": "python",
   "nbconvert_exporter": "python",
   "pygments_lexer": "ipython3",
   "version": "3.11.5"
  }
 },
 "nbformat": 4,
 "nbformat_minor": 4
}
