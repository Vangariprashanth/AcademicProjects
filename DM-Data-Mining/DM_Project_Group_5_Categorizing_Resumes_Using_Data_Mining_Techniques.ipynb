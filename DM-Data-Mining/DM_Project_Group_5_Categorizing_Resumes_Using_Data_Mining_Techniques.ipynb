{
  "metadata": {
    "kernelspec": {
      "display_name": "Python 3",
      "language": "python",
      "name": "python3"
    },
    "language_info": {
      "name": "python",
      "version": "3.10.12",
      "mimetype": "text/x-python",
      "codemirror_mode": {
        "name": "ipython",
        "version": 3
      },
      "pygments_lexer": "ipython3",
      "nbconvert_exporter": "python",
      "file_extension": ".py"
    },
    "colab": {
      "provenance": []
    }
  },
  "nbformat_minor": 0,
  "nbformat": 4,
  "cells": [
    {
      "cell_type": "code",
      "source": [
        "#import libraries\n",
        "import re\n",
        "import numpy as np\n",
        "import pandas as pd\n",
        "import matplotlib.pyplot as plt\n",
        "%matplotlib inline\n",
        "import seaborn as sns\n",
        "\n",
        "from sklearn.metrics import confusion_matrix,classification_report\n",
        "from collections import Counter\n",
        "\n",
        "import nltk\n",
        "nltk.download('stopwords')\n",
        "nltk.download('punkt')\n",
        "from nltk.corpus import stopwords\n",
        "from nltk.tokenize import word_tokenize\n",
        "from nltk.stem import PorterStemmer\n",
        "\n",
        "#classifier\n",
        "from sklearn.model_selection import train_test_split\n",
        "\n",
        "from sklearn.multiclass import OneVsRestClassifier\n",
        "from sklearn.metrics import classification_report, accuracy_score\n"
      ],
      "metadata": {
        "execution": {
          "iopub.status.busy": "2023-08-13T14:27:58.031087Z",
          "iopub.execute_input": "2023-08-13T14:27:58.031514Z",
          "iopub.status.idle": "2023-08-13T14:27:58.051352Z",
          "shell.execute_reply.started": "2023-08-13T14:27:58.031474Z",
          "shell.execute_reply": "2023-08-13T14:27:58.050308Z"
        },
        "trusted": true,
        "id": "ZPVt1hkJ18YG",
        "colab": {
          "base_uri": "https://localhost:8080/"
        },
        "outputId": "d6ba5593-14ba-46aa-8371-0a93641871ba"
      },
      "execution_count": null,
      "outputs": [
        {
          "output_type": "stream",
          "name": "stderr",
          "text": [
            "[nltk_data] Downloading package stopwords to /root/nltk_data...\n",
            "[nltk_data]   Package stopwords is already up-to-date!\n",
            "[nltk_data] Downloading package punkt to /root/nltk_data...\n",
            "[nltk_data]   Package punkt is already up-to-date!\n"
          ]
        }
      ]
    },
    {
      "cell_type": "code",
      "source": [
        "data=pd.read_csv('Resume.csv')\n",
        "df, resume_test_data = train_test_split(data, test_size=0.15,stratify=data['Category'], random_state=42)\n",
        "resume_test_data.to_csv('test_df.csv', index=False)\n"
      ],
      "metadata": {
        "execution": {
          "iopub.status.busy": "2023-08-13T14:27:58.055877Z",
          "iopub.execute_input": "2023-08-13T14:27:58.056646Z",
          "iopub.status.idle": "2023-08-13T14:27:59.665672Z",
          "shell.execute_reply.started": "2023-08-13T14:27:58.056607Z",
          "shell.execute_reply": "2023-08-13T14:27:59.664675Z"
        },
        "trusted": true,
        "id": "5KymZVAH18YH"
      },
      "execution_count": null,
      "outputs": []
    },
    {
      "cell_type": "code",
      "source": [
        "df.head()"
      ],
      "metadata": {
        "execution": {
          "iopub.status.busy": "2023-08-13T14:27:59.667132Z",
          "iopub.execute_input": "2023-08-13T14:27:59.667525Z",
          "iopub.status.idle": "2023-08-13T14:27:59.682053Z",
          "shell.execute_reply.started": "2023-08-13T14:27:59.667487Z",
          "shell.execute_reply": "2023-08-13T14:27:59.680951Z"
        },
        "trusted": true,
        "id": "rTPgf03218YH",
        "colab": {
          "base_uri": "https://localhost:8080/",
          "height": 206
        },
        "outputId": "6cabe6d6-2f47-4a1b-d12c-ca037f07afd9"
      },
      "execution_count": null,
      "outputs": [
        {
          "output_type": "execute_result",
          "data": {
            "text/plain": [
              "            ID                                         Resume_str  \\\n",
              "1443  16066857           SENIOR EXECUTIVE CHEF           Execu...   \n",
              "56    52979663           SENIOR HR             Highlights     ...   \n",
              "1131  15281412           CONSULTANT       Summary    Transitio...   \n",
              "2472  16279537           SUPERVISORY LOGISTICS MANAGEMENT SPEC...   \n",
              "1710  24647794           ENGINEERING INTERN           Profile ...   \n",
              "\n",
              "                                            Resume_html     Category  \n",
              "1443  <div class=\"fontsize fontface vmargins hmargin...         CHEF  \n",
              "56    <div class=\"fontsize fontface vmargins hmargin...           HR  \n",
              "1131  <div class=\"fontsize fontface vmargins hmargin...   CONSULTANT  \n",
              "2472  <div class=\"fontsize fontface vmargins hmargin...     AVIATION  \n",
              "1710  <div class=\"fontsize fontface vmargins hmargin...  ENGINEERING  "
            ],
            "text/html": [
              "\n",
              "  <div id=\"df-b463052e-b000-4520-83e6-3718e3b966f2\" class=\"colab-df-container\">\n",
              "    <div>\n",
              "<style scoped>\n",
              "    .dataframe tbody tr th:only-of-type {\n",
              "        vertical-align: middle;\n",
              "    }\n",
              "\n",
              "    .dataframe tbody tr th {\n",
              "        vertical-align: top;\n",
              "    }\n",
              "\n",
              "    .dataframe thead th {\n",
              "        text-align: right;\n",
              "    }\n",
              "</style>\n",
              "<table border=\"1\" class=\"dataframe\">\n",
              "  <thead>\n",
              "    <tr style=\"text-align: right;\">\n",
              "      <th></th>\n",
              "      <th>ID</th>\n",
              "      <th>Resume_str</th>\n",
              "      <th>Resume_html</th>\n",
              "      <th>Category</th>\n",
              "    </tr>\n",
              "  </thead>\n",
              "  <tbody>\n",
              "    <tr>\n",
              "      <th>1443</th>\n",
              "      <td>16066857</td>\n",
              "      <td>SENIOR EXECUTIVE CHEF           Execu...</td>\n",
              "      <td>&lt;div class=\"fontsize fontface vmargins hmargin...</td>\n",
              "      <td>CHEF</td>\n",
              "    </tr>\n",
              "    <tr>\n",
              "      <th>56</th>\n",
              "      <td>52979663</td>\n",
              "      <td>SENIOR HR             Highlights     ...</td>\n",
              "      <td>&lt;div class=\"fontsize fontface vmargins hmargin...</td>\n",
              "      <td>HR</td>\n",
              "    </tr>\n",
              "    <tr>\n",
              "      <th>1131</th>\n",
              "      <td>15281412</td>\n",
              "      <td>CONSULTANT       Summary    Transitio...</td>\n",
              "      <td>&lt;div class=\"fontsize fontface vmargins hmargin...</td>\n",
              "      <td>CONSULTANT</td>\n",
              "    </tr>\n",
              "    <tr>\n",
              "      <th>2472</th>\n",
              "      <td>16279537</td>\n",
              "      <td>SUPERVISORY LOGISTICS MANAGEMENT SPEC...</td>\n",
              "      <td>&lt;div class=\"fontsize fontface vmargins hmargin...</td>\n",
              "      <td>AVIATION</td>\n",
              "    </tr>\n",
              "    <tr>\n",
              "      <th>1710</th>\n",
              "      <td>24647794</td>\n",
              "      <td>ENGINEERING INTERN           Profile ...</td>\n",
              "      <td>&lt;div class=\"fontsize fontface vmargins hmargin...</td>\n",
              "      <td>ENGINEERING</td>\n",
              "    </tr>\n",
              "  </tbody>\n",
              "</table>\n",
              "</div>\n",
              "    <div class=\"colab-df-buttons\">\n",
              "\n",
              "  <div class=\"colab-df-container\">\n",
              "    <button class=\"colab-df-convert\" onclick=\"convertToInteractive('df-b463052e-b000-4520-83e6-3718e3b966f2')\"\n",
              "            title=\"Convert this dataframe to an interactive table.\"\n",
              "            style=\"display:none;\">\n",
              "\n",
              "  <svg xmlns=\"http://www.w3.org/2000/svg\" height=\"24px\" viewBox=\"0 -960 960 960\">\n",
              "    <path d=\"M120-120v-720h720v720H120Zm60-500h600v-160H180v160Zm220 220h160v-160H400v160Zm0 220h160v-160H400v160ZM180-400h160v-160H180v160Zm440 0h160v-160H620v160ZM180-180h160v-160H180v160Zm440 0h160v-160H620v160Z\"/>\n",
              "  </svg>\n",
              "    </button>\n",
              "\n",
              "  <style>\n",
              "    .colab-df-container {\n",
              "      display:flex;\n",
              "      gap: 12px;\n",
              "    }\n",
              "\n",
              "    .colab-df-convert {\n",
              "      background-color: #E8F0FE;\n",
              "      border: none;\n",
              "      border-radius: 50%;\n",
              "      cursor: pointer;\n",
              "      display: none;\n",
              "      fill: #1967D2;\n",
              "      height: 32px;\n",
              "      padding: 0 0 0 0;\n",
              "      width: 32px;\n",
              "    }\n",
              "\n",
              "    .colab-df-convert:hover {\n",
              "      background-color: #E2EBFA;\n",
              "      box-shadow: 0px 1px 2px rgba(60, 64, 67, 0.3), 0px 1px 3px 1px rgba(60, 64, 67, 0.15);\n",
              "      fill: #174EA6;\n",
              "    }\n",
              "\n",
              "    .colab-df-buttons div {\n",
              "      margin-bottom: 4px;\n",
              "    }\n",
              "\n",
              "    [theme=dark] .colab-df-convert {\n",
              "      background-color: #3B4455;\n",
              "      fill: #D2E3FC;\n",
              "    }\n",
              "\n",
              "    [theme=dark] .colab-df-convert:hover {\n",
              "      background-color: #434B5C;\n",
              "      box-shadow: 0px 1px 3px 1px rgba(0, 0, 0, 0.15);\n",
              "      filter: drop-shadow(0px 1px 2px rgba(0, 0, 0, 0.3));\n",
              "      fill: #FFFFFF;\n",
              "    }\n",
              "  </style>\n",
              "\n",
              "    <script>\n",
              "      const buttonEl =\n",
              "        document.querySelector('#df-b463052e-b000-4520-83e6-3718e3b966f2 button.colab-df-convert');\n",
              "      buttonEl.style.display =\n",
              "        google.colab.kernel.accessAllowed ? 'block' : 'none';\n",
              "\n",
              "      async function convertToInteractive(key) {\n",
              "        const element = document.querySelector('#df-b463052e-b000-4520-83e6-3718e3b966f2');\n",
              "        const dataTable =\n",
              "          await google.colab.kernel.invokeFunction('convertToInteractive',\n",
              "                                                    [key], {});\n",
              "        if (!dataTable) return;\n",
              "\n",
              "        const docLinkHtml = 'Like what you see? Visit the ' +\n",
              "          '<a target=\"_blank\" href=https://colab.research.google.com/notebooks/data_table.ipynb>data table notebook</a>'\n",
              "          + ' to learn more about interactive tables.';\n",
              "        element.innerHTML = '';\n",
              "        dataTable['output_type'] = 'display_data';\n",
              "        await google.colab.output.renderOutput(dataTable, element);\n",
              "        const docLink = document.createElement('div');\n",
              "        docLink.innerHTML = docLinkHtml;\n",
              "        element.appendChild(docLink);\n",
              "      }\n",
              "    </script>\n",
              "  </div>\n",
              "\n",
              "\n",
              "<div id=\"df-31b32ca4-aab7-4c11-9ce8-62be6403cae9\">\n",
              "  <button class=\"colab-df-quickchart\" onclick=\"quickchart('df-31b32ca4-aab7-4c11-9ce8-62be6403cae9')\"\n",
              "            title=\"Suggest charts\"\n",
              "            style=\"display:none;\">\n",
              "\n",
              "<svg xmlns=\"http://www.w3.org/2000/svg\" height=\"24px\"viewBox=\"0 0 24 24\"\n",
              "     width=\"24px\">\n",
              "    <g>\n",
              "        <path d=\"M19 3H5c-1.1 0-2 .9-2 2v14c0 1.1.9 2 2 2h14c1.1 0 2-.9 2-2V5c0-1.1-.9-2-2-2zM9 17H7v-7h2v7zm4 0h-2V7h2v10zm4 0h-2v-4h2v4z\"/>\n",
              "    </g>\n",
              "</svg>\n",
              "  </button>\n",
              "\n",
              "<style>\n",
              "  .colab-df-quickchart {\n",
              "      --bg-color: #E8F0FE;\n",
              "      --fill-color: #1967D2;\n",
              "      --hover-bg-color: #E2EBFA;\n",
              "      --hover-fill-color: #174EA6;\n",
              "      --disabled-fill-color: #AAA;\n",
              "      --disabled-bg-color: #DDD;\n",
              "  }\n",
              "\n",
              "  [theme=dark] .colab-df-quickchart {\n",
              "      --bg-color: #3B4455;\n",
              "      --fill-color: #D2E3FC;\n",
              "      --hover-bg-color: #434B5C;\n",
              "      --hover-fill-color: #FFFFFF;\n",
              "      --disabled-bg-color: #3B4455;\n",
              "      --disabled-fill-color: #666;\n",
              "  }\n",
              "\n",
              "  .colab-df-quickchart {\n",
              "    background-color: var(--bg-color);\n",
              "    border: none;\n",
              "    border-radius: 50%;\n",
              "    cursor: pointer;\n",
              "    display: none;\n",
              "    fill: var(--fill-color);\n",
              "    height: 32px;\n",
              "    padding: 0;\n",
              "    width: 32px;\n",
              "  }\n",
              "\n",
              "  .colab-df-quickchart:hover {\n",
              "    background-color: var(--hover-bg-color);\n",
              "    box-shadow: 0 1px 2px rgba(60, 64, 67, 0.3), 0 1px 3px 1px rgba(60, 64, 67, 0.15);\n",
              "    fill: var(--button-hover-fill-color);\n",
              "  }\n",
              "\n",
              "  .colab-df-quickchart-complete:disabled,\n",
              "  .colab-df-quickchart-complete:disabled:hover {\n",
              "    background-color: var(--disabled-bg-color);\n",
              "    fill: var(--disabled-fill-color);\n",
              "    box-shadow: none;\n",
              "  }\n",
              "\n",
              "  .colab-df-spinner {\n",
              "    border: 2px solid var(--fill-color);\n",
              "    border-color: transparent;\n",
              "    border-bottom-color: var(--fill-color);\n",
              "    animation:\n",
              "      spin 1s steps(1) infinite;\n",
              "  }\n",
              "\n",
              "  @keyframes spin {\n",
              "    0% {\n",
              "      border-color: transparent;\n",
              "      border-bottom-color: var(--fill-color);\n",
              "      border-left-color: var(--fill-color);\n",
              "    }\n",
              "    20% {\n",
              "      border-color: transparent;\n",
              "      border-left-color: var(--fill-color);\n",
              "      border-top-color: var(--fill-color);\n",
              "    }\n",
              "    30% {\n",
              "      border-color: transparent;\n",
              "      border-left-color: var(--fill-color);\n",
              "      border-top-color: var(--fill-color);\n",
              "      border-right-color: var(--fill-color);\n",
              "    }\n",
              "    40% {\n",
              "      border-color: transparent;\n",
              "      border-right-color: var(--fill-color);\n",
              "      border-top-color: var(--fill-color);\n",
              "    }\n",
              "    60% {\n",
              "      border-color: transparent;\n",
              "      border-right-color: var(--fill-color);\n",
              "    }\n",
              "    80% {\n",
              "      border-color: transparent;\n",
              "      border-right-color: var(--fill-color);\n",
              "      border-bottom-color: var(--fill-color);\n",
              "    }\n",
              "    90% {\n",
              "      border-color: transparent;\n",
              "      border-bottom-color: var(--fill-color);\n",
              "    }\n",
              "  }\n",
              "</style>\n",
              "\n",
              "  <script>\n",
              "    async function quickchart(key) {\n",
              "      const quickchartButtonEl =\n",
              "        document.querySelector('#' + key + ' button');\n",
              "      quickchartButtonEl.disabled = true;  // To prevent multiple clicks.\n",
              "      quickchartButtonEl.classList.add('colab-df-spinner');\n",
              "      try {\n",
              "        const charts = await google.colab.kernel.invokeFunction(\n",
              "            'suggestCharts', [key], {});\n",
              "      } catch (error) {\n",
              "        console.error('Error during call to suggestCharts:', error);\n",
              "      }\n",
              "      quickchartButtonEl.classList.remove('colab-df-spinner');\n",
              "      quickchartButtonEl.classList.add('colab-df-quickchart-complete');\n",
              "    }\n",
              "    (() => {\n",
              "      let quickchartButtonEl =\n",
              "        document.querySelector('#df-31b32ca4-aab7-4c11-9ce8-62be6403cae9 button');\n",
              "      quickchartButtonEl.style.display =\n",
              "        google.colab.kernel.accessAllowed ? 'block' : 'none';\n",
              "    })();\n",
              "  </script>\n",
              "</div>\n",
              "\n",
              "    </div>\n",
              "  </div>\n"
            ],
            "application/vnd.google.colaboratory.intrinsic+json": {
              "type": "dataframe",
              "variable_name": "df",
              "summary": "{\n  \"name\": \"df\",\n  \"rows\": 2111,\n  \"fields\": [\n    {\n      \"column\": \"ID\",\n      \"properties\": {\n        \"dtype\": \"number\",\n        \"std\": 21647735,\n        \"min\": 3547447,\n        \"max\": 99714410,\n        \"num_unique_values\": 2111,\n        \"samples\": [\n          28635795,\n          61065616,\n          14364597\n        ],\n        \"semantic_type\": \"\",\n        \"description\": \"\"\n      }\n    },\n    {\n      \"column\": \"Resume_str\",\n      \"properties\": {\n        \"dtype\": \"string\",\n        \"num_unique_values\": 2109,\n        \"samples\": [\n          \"         APPLECARE CPU ADVISOR           Summary     My goal is to establish a rewarding career in customer service and data entry using my skills in excel proficiency and organization, while being collaborative with a team to serve consumers to provide a positive customer experience.       Highlights          Microsoft Office proficiency  Excellent communication skills  Microsoft Excel certified  Filing and data archiving      Time management  Customer service-oriented  Self-directed  Exceptional telephone etiquette            Accomplishments     Reduced technical escalations to management by 95% to only 2-3 per day.       Skills     Advertising, Budget Maintenance, Data Entry, Graphic Design,  Marketing, Office management, Research,  Phone Support       Experience      AppleCare CPU Advisor    July 2014   to   Current     Company Name   \\uff0d   City  ,   State      Receive inbound calls to provide the customer an individualized experience educating the customer on how to use their Macintosh (Apple) products most efficiently.  Collaborate with customers to improve user experience with software and applications; Resolve technical and computer operating system issues.  Verified that information in the computer system was up-to-date and accurate using iLog/iDesk case-logging tools.  Identified and resolved system and account issues.  Worked with team to represent Apple positively and meet customer expectations.  Adhere and Comply with Apple's business conduct policy; maintain integrity, honesty and respect.          Acquisitions & Public Relations Coordinator    May 2014   to   Current     Company Name   \\uff0d   City  ,   State      Conduct and organize research-relevant content for use on the YDM social media outlets for other means of marketing & advertising.  Contact small businesses and corporations in the Greater Charlotte area to inquire about their marketing needs and acquire sales for Your Design Market products and marketing services to build and establish a firm client base.  Eliminated outdated records by sending the records to be scanned.  Arrange and schedule appointments between the client and the graphics design team.  Host Your Design Market product launch parties introducing latest promotional deals to attain clientele.  Respond to business email inquiries.  Created monthly reports for records, closed terminated records and maintained a master list of clients and potential clients.  Organized billing and invoice data and prepared accounts receivable and expected revenue reports for CEO.  Write and mail response letters.          Hostess    March 2009   to   July 2009     Company Name   \\uff0d   City  ,   State      Provided a warm and welcoming environment for guests.  Assisted diners with seating as needed  Worked with team members to encourage guest satisfaction.  Maintained a clean environment.  Maintained contact with kitchen staff, management, serving staff, and customers  Inspected dining and serving areas to ensure cleanliness and proper setup  Rectified guest complaints.  Planned out the seating chart and organized the reservations.          Education      B.S   :   Business   ,   Present    University of Phoenix    \\uff0d   City  ,   State      GPA:   GPA: 3.0     Business GPA: 3.0         B.A   :   Communication Communication Media  ,   May 2007    Oakwood University   \\uff0d   City  ,   State      GPA:   GPA: 3.0    Communication Communication Media GPA: 3.0        High School Diploma   :     2004    Vance High School                  Additional Information      Volunteer Endeavors:\\nPathfinders of the Seventh Day Adventist Church| August 1998-present \\n1801 Double Oaks Rd. Charlotte, NC 28206 & 827 Tom Hunter Rd, Charlotte, NC 28213 \\n--Community Outreach, Soup Kitchen, Clothes Drive, Fundraising for non-profit organizations, Youth Leadership Development, and life skills enriching activities.     \",\n          \"         BPO TEAM LEADER       Summary    Seeking to provide top-quality support to ensure a competitive advantage in the global marketplace.      Accomplishments    Recognized for playing an instrumental role in exceeding company expectations for turn around time during 4th quarter at 95% in 4 days.\\u00a0\\u00a0 Achieved a strong relationship with agents/sales of company partners in exceeding groups expectation of service, and increased sales relations.      Experience      BPO Team Leader   02/2015   to   02/2017     Company Name   City  ,   State       Managed and motivate BPO Onboarding Team to meet team goals  Auditor of documentation and group implementation.  Interact with PPO Network management, clients, agents and sales  Executed and met project deadlines  Strong sense of urgency; able to resolve escalated issues immediately.  Developed and executed implementation workflow/processes.  Maintain 95% within 4 days TAT for implementation of groups, 5% above agreement with client.  Manage over 3000 clients and brokers.          BPO Implementation Specialist   05/2013   to   02/2015     Company Name   City  ,   State       Infrastructure for O drive and folders.  Developed a more\\u00a0efficient system for emails/BPO Workflow and manual  Enhanced\\u00a0and improved\\u00a0maintenance of agent/group information\\u00a0with DW (Data Warehouse program)   Assistant to Account management team and VP of Administration.       \\u200b    \\u200b         Re-pricing Coordinator   06/2009   to   06/2013     Company Name   City  ,   State       Re-pricing of\\u00a0HCFA and UB's claims.\\u00a0\\u00a0  Developed relationships with PPO network management vendors:\\u00a0   Select Health Partners, Encore, Multiplan, Medicare, DHS and Aetna claims.  Correspond with Examiners regarding status of RRT referrals.  Solely responsible for all Aetna claims, 30,000 lives.\\u00a0 Implemented workflow and\\u00a0first manual of Aetna process.  Improved and decreased errors with auditing process  Verification of Provider/Facility PPO status.             Administrative Assistant/HR Assistant   04/2004   to   04/2009     Company Name   City  ,   State       EZ-Movers - Long Distance Dispatcher Assistant.  Long Distance scheduling of drivers/trucks.  Administrative paperwork for pickup and delivery.  Data entry of information of customers.  Spreadsheet upkeep of scheduled deliveries.  Interact with customers and drivers in regards to pickups/deliveries and/or payments.  Rainbow Hospice - Receptionist.  Front desk duties.  Incoming and outgoing faxes.  Assist PCM, Clinical secretary, RN, Social workers.  Handle all incoming calls, to both main office and ARK location.  Process all faxes accordingly.  Keep accurate track of overnight calls, and team faxes.  General Administrative duties.  Answering phones.  Processing invoices.  Data entry of all purchase orders, using scanning system, batch invoices and close file.  AS400 used.          Administrative Assistant II/HR Coordinator   08/2002   to   01/2004     Company Name   City  ,   State       Assist management in coordination of organizational administration activities (performance review, cost center updates, customer issues) and within scope of authority, resolve problems and issues independently and proactively.  Responsible for the daily operations of the field office, assuring employees were up to date with pertinent information; work closely with the Office of Building in any issues.  Prepare and process, submit reports, timekeeping and other payroll and business operations processes; train staff or management on timekeeping and other administrative processes.  Expense reports submission.  Review; approve all invoices/billing for process.  Submission of checks for payments.  Utilize SAP program.  Assist management in special projects.  Attend meetings, seminars and record notes or provide information when needed.  Schedule and coordinate meetings, conferences, travel arrangements and maintain group or manager's business calendar.  Manage the process of on-board additions/transfers to staff to assist the manger in ensuring a smooth transition.  Responsible for the day to day coordination and routine administration with LAN activities for field office.  Interface with internal and external contacts regarding business unit administration issues and concerns.  Demonstrate the ability to organize and balance the responsibilities of budget control (travel, supplies, invoice processing).  Excellent interpersonal skills, with the ability to interact with internal/external business partners and staff at all levels.  Excellent organizational skills to prioritize and coordinate multiple tasks.          Education      Producers License  :   Life and Health   2013       Kaplan   City  ,   State               B.A  :   Business Administration   2018       Kaplan University   City  ,   State               Associate of Science  :   Business Administration   1992       Northwestern Business College   City  ,   State       Business Administration          Pastoral Counseling   2014       New Hope Counseling School   City  ,   State               B.A. (nonaccrediated)  :   Ministry and Biblical Studies   2014       International School of Ministry   City  ,   State               Skills     Administrative duties: \\u00a0\\u00a0Active Learning, Calendaring, Client Relations, Computer Proficiency, Coordination, Creative Problem Solving, Critical Thinking, Customer Needs Assessment, Customer Service,\\u00a0Data Entry, Documentation, Email, Executive Management Support, Filing, Grammar, Internet Research, Letters and Memos,\\u00a0,\\u00a0Multi-Task Management, Organizational Skills, Prioritization,\\u00a0Scheduling, Service Orientation, Telephone Skills, Time Management, Travel Arrangements,\\u00a0 Type\\u00a085 WPM, Typing, Vendor Management, Documentation auditor.\\u00a0 Hospice Assistant, Human Resources assistant.\\u00a0Invoice processing,\\u00a0\\u00a0Order entry,\\u00a0\\u00a0Re-pricing of claims, Receptionist, Recruiting and trainer.\\u00a0   People skills : great\\u00a0enthusiastic people person, advanced problem-solving, great organizational skills.\\u00a0  Computer skills:\\u00a0  MS Office, Data entry, RIMS, SAP, Outlook, Data Warehouse Maintenance, Provider Maintenance Microsoft Excel, Microsoft Office Suite, Microsoft Outlook, Microsoft PowerPoint, Microsoft Word.    \",\n          \"         SENIOR DIGITAL MARKETING ANALYST       Summary    Highly analytical and process-oriented data analyst with in-depth knowledge of \\nmarketing project management, data manipulation and visualization. Furnish insights, analytics and business intelligence to advance opportunity identification, process reengineering and corporate growth.\\nCore Qualifications  \\nMarket Segmentation\\nBusiness Intelligence\\nReporting\\nRegression Analysis\\nBusiness Analysis\\nDashboard generation\\nData Mining\\nData Modeling\\nStatistical Analysis\\nData Experiments\\nProject Management\\nProcess Improvement      Highlights        Power user of MS Excel, Power BI, Power Query, Power Pivot, Qlikview Desktop, Minitab, Tableau, Google Analytics, JIRA, Salesforce, TSQL, SQL, HTML, PHP, JavaScript, MS Access, MS Visio, MS Project.\\nIn progress - R, Python.              Experience     07/2016   to   Current     Senior Digital Marketing Analyst    Company Name   \\uff0d   City  ,   State      Design and build dashboards to help analyze, monitor and visualize key performance metrics.  ADD skills, accomplishment style.  Interpret data, extract trends and identify insights or opportunities for product decisions.  Design and monitor end-user reporting tools and systems, ensuring reports are accurate and up-to-date.  Work with internal stakeholders and teams across the company.  Accomplishment:.  A 30% increase in revenue by segmenting, resulting in an incremental $2M profit.         02/2014   to   03/2016     Web Analyst    Company Name   \\uff0d   City  ,   State      Extracted, transformed and loaded (ETL) customer data using code that was\\n    Developed.  using SQL.  Built dashboards to monitor and control marketing efforts.  Helped identify and repair datasets that are incomplete, inconsistent, or require\\n    cleaning.  Handled internal customer data inquiries, data investigations, or other information\\n    requests from project teams.  Helped investigate and understand available data sources on the market to solve\\n    customer site content challenges.  Accomplishment:.  A 20% optimization in marketing cost by re-allocating $2M budget to profitable areas.         06/2002   to   08/2005     Web Developer    Company Name   \\uff0d   City        Developed customized web solutions using PHP, HTML, and JavaScript for clients.  Created database structures, relationships, and data types in MySQL and MS\\n    Access.  Accomplishment:.  Increase of 22% in sales by increasing overall visitor traffic by over 400K.          Education          Masters of Business Administration             2013     MBA      University of Redlands                 2011     Bachelor of Sciences      University of Hamburg                 2007     College - Berufsschule City Nord,              Languages    English, German, Hindi, Punjabi      Skills    budget, BI, content, clients, database, English, ETL, German, Google Analytics, Hindi, HTML, PHP, JavaScript, marketing, market, MS\\n    Access, MS Access, MS Excel, MS Project, Minitab, MySQL, optimization, profit, progress, Punjabi, Python, reporting, sales, SQL, Tableau, TSQL, Visio   \"\n        ],\n        \"semantic_type\": \"\",\n        \"description\": \"\"\n      }\n    },\n    {\n      \"column\": \"Resume_html\",\n      \"properties\": {\n        \"dtype\": \"string\",\n        \"num_unique_values\": 2109,\n        \"samples\": [\n          \"<div class=\\\"fontsize fontface vmargins hmargins linespacing pagesize\\\" id=\\\"document\\\"> <div class=\\\"section firstsection\\\" id=\\\"SECTION_NAME530788984\\\" style=\\\"\\n      padding-top:0px;\\n    \\\"> <div class=\\\"paragraph PARAGRAPH_NAME firstparagraph\\\" id=\\\"PARAGRAPH_530788984_1_346657435\\\" style=\\\"\\n      padding-top:0px;\\n    \\\"> <div class=\\\"name thinbottomborder\\\" itemprop=\\\"name\\\"> <span class=\\\"field\\\" id=\\\"530788984FNAM1\\\"> </span> <span> </span> <span class=\\\"field\\\" id=\\\"530788984LNAM1\\\"> APPLECARE CPU ADVISOR</span> </div> <div class=\\\"myGap\\\"> </div> <div class=\\\"lowerborder thinbottomborder\\\"> </div> </div> </div> <div class=\\\"section\\\" id=\\\"SECTION_SUMM530788986\\\" style=\\\"\\n      padding-top:0px;\\n    \\\"> <div class=\\\"heading\\\"> <div class=\\\"sectiontitle thinbottomborder\\\" id=\\\"SECTNAME_SUMM530788986\\\"> Summary</div> </div> <div class=\\\"paragraph firstparagraph\\\" id=\\\"PARAGRAPH_530788986_1_346657450\\\" style=\\\"\\n      padding-top:0px;\\n    \\\"> <div class=\\\"field singlecolumn\\\" id=\\\"530788986FRFM1\\\"> <p align=\\\"LEFT\\\"> My goal is to establish a rewarding career in customer service and data entry using my skills in excel proficiency and organization, while being collaborative with a team to serve consumers to provide a positive customer experience.</p> </div> </div> </div> <div class=\\\"section\\\" id=\\\"SECTION_HILT530788987\\\" style=\\\"\\n      padding-top:0px;\\n    \\\"> <div class=\\\"heading\\\"> <div class=\\\"sectiontitle thinbottomborder\\\" id=\\\"SECTNAME_HILT530788987\\\"> Highlights</div> </div> <div class=\\\"paragraph firstparagraph\\\" id=\\\"PARAGRAPH_530788987_1_346662183\\\" style=\\\"\\n      padding-top:0px;\\n    \\\"> <div class=\\\"singlecolumn maincolumn\\\"> <table class=\\\"twocol\\\"> <tbody> <tr> <td class=\\\"field twocol_1 charspace\\\" id=\\\"530788987SKC11\\\"> <ul> <li> Microsoft Office proficiency</li> <li> Excellent communication skills</li> <li> Microsoft Excel certified</li> <li> Filing and data archiving</li> </ul> </td> <td class=\\\"field twocol_2 charspace\\\" id=\\\"530788987SKC21\\\"> <ul> <li> Time management</li> <li> Customer service-oriented</li> <li> Self-directed</li> <li> Exceptional telephone etiquette</li> </ul> </td> </tr> </tbody> </table> </div> </div> </div> <div class=\\\"section\\\" id=\\\"SECTION_ACCM530788988\\\" style=\\\"\\n      padding-top:0px;\\n    \\\"> <div class=\\\"heading\\\"> <div class=\\\"sectiontitle thinbottomborder\\\" id=\\\"SECTNAME_ACCM530788988\\\"> Accomplishments</div> </div> <div class=\\\"paragraph firstparagraph\\\" id=\\\"PARAGRAPH_530788988_1_346663214\\\" style=\\\"\\n      padding-top:0px;\\n    \\\"> <div class=\\\"field singlecolumn\\\" id=\\\"530788988FRFM1\\\"> <p align=\\\"LEFT\\\"> Reduced technical escalations to management by 95% to only 2-3 per day.</p> </div> </div> </div> <div class=\\\"section\\\" id=\\\"SECTION_SKLL530788998\\\" style=\\\"\\n      padding-top:0px;\\n    \\\"> <div class=\\\"heading\\\"> <div class=\\\"sectiontitle thinbottomborder\\\" id=\\\"SECTNAME_SKLL530788998\\\"> Skills</div> </div> <div class=\\\"paragraph firstparagraph\\\" id=\\\"PARAGRAPH_530788998_1_346657452\\\" style=\\\"\\n      padding-top:0px;\\n    \\\"> <div class=\\\"field singlecolumn\\\" id=\\\"530788998FRFM1\\\"> <p align=\\\"LEFT\\\"> Advertising, Budget Maintenance, Data Entry, Graphic Design,  Marketing, Office management, Research,  Phone Support</p> </div> </div> </div> <div class=\\\"section\\\" id=\\\"SECTION_EXPR530788989\\\" style=\\\"\\n      padding-top:0px;\\n    \\\"> <div class=\\\"heading\\\"> <div class=\\\"sectiontitle thinbottomborder\\\" id=\\\"SECTNAME_EXPR530788989\\\"> Experience</div> </div> <div class=\\\"paragraph firstparagraph\\\" id=\\\"PARAGRAPH_530788989_1_346657439\\\" itemscope=\\\"\\\" itemtype=\\\"https://schema.org/Organization\\\" style=\\\"\\n      padding-top:0px;\\n    \\\"> <div class=\\\"singlecolumn\\\"> <span class=\\\"paddedline\\\"> <span class=\\\"jobtitle\\\" id=\\\"530788989JTIT1\\\"> AppleCare CPU Advisor</span> <br/> <span> <span class=\\\"jobdates\\\" format=\\\"%B %Y\\\" id=\\\"530788989JSTD1\\\"> July 2014</span> <span>  to </span> <span class=\\\"jobdates\\\" format=\\\"%B %Y\\\" id=\\\"530788989EDDT1\\\"> Current</span> </span> </span> <span class=\\\"paddedline\\\" itemscope=\\\"\\\" itemtype=\\\"https://schema.org/postalAddress\\\"> <span class=\\\"companyname\\\" id=\\\"530788989COMP1\\\" itemprop=\\\"name\\\"> Company Name</span> <span>  \\uff0d </span> <span class=\\\"joblocation jobcity\\\" id=\\\"530788989JCIT1\\\" itemprop=\\\"addressLocality\\\"> City</span> <span> , </span> <span class=\\\"joblocation jobstate\\\" id=\\\"530788989JSTA1\\\" itemprop=\\\"addressRegion\\\"> State</span> </span> <span class=\\\"paddedline\\\"> <span class=\\\"jobline\\\" id=\\\"530788989JDES1\\\" itemprop=\\\"description\\\"> <ul> <li> Receive inbound calls to provide the customer an individualized experience educating the customer on how to use their Macintosh (Apple) products most efficiently.</li> <li> Collaborate with customers to improve user experience with software and applications; Resolve technical and computer operating system issues.</li> <li> Verified that information in the computer system was up-to-date and accurate using iLog/iDesk case-logging tools.</li> <li> Identified and resolved system and account issues.</li> <li> Worked with team to represent Apple positively and meet customer expectations.</li> <li> Adhere and Comply with Apple's business conduct policy; maintain integrity, honesty and respect.</li> </ul> </span> </span> </div> </div> <div class=\\\"paragraph\\\" id=\\\"PARAGRAPH_530788989_2_346657441\\\" itemscope=\\\"\\\" itemtype=\\\"https://schema.org/Organization\\\" style=\\\"\\n      padding-top:0px;\\n    \\\"> <div class=\\\"singlecolumn\\\"> <span class=\\\"paddedline\\\"> <span class=\\\"jobtitle\\\" id=\\\"530788989JTIT2\\\"> Acquisitions &amp; Public Relations Coordinator</span> <br/> <span> <span class=\\\"jobdates\\\" format=\\\"%B %Y\\\" id=\\\"530788989JSTD2\\\"> May 2014</span> <span>  to </span> <span class=\\\"jobdates\\\" format=\\\"%B %Y\\\" id=\\\"530788989EDDT2\\\"> Current</span> </span> </span> <span class=\\\"paddedline\\\" itemscope=\\\"\\\" itemtype=\\\"https://schema.org/postalAddress\\\"> <span class=\\\"companyname\\\" id=\\\"530788989COMP2\\\" itemprop=\\\"name\\\"> Company Name</span> <span>  \\uff0d </span> <span class=\\\"joblocation jobcity\\\" id=\\\"530788989JCIT2\\\" itemprop=\\\"addressLocality\\\"> City</span> <span> , </span> <span class=\\\"joblocation jobstate\\\" id=\\\"530788989JSTA2\\\" itemprop=\\\"addressRegion\\\"> State</span> </span> <span class=\\\"paddedline\\\"> <span class=\\\"jobline\\\" id=\\\"530788989JDES2\\\" itemprop=\\\"description\\\"> <ul> <li> Conduct and organize research-relevant content for use on the YDM social media outlets for other means of marketing &amp; advertising.</li> <li> Contact small businesses and corporations in the Greater Charlotte area to inquire about their marketing needs and acquire sales for Your Design Market products and marketing services to build and establish a firm client base.</li> <li> Eliminated outdated records by sending the records to be scanned.</li> <li> Arrange and schedule appointments between the client and the graphics design team.</li> <li> Host Your Design Market product launch parties introducing latest promotional deals to attain clientele.</li> <li> Respond to business email inquiries.</li> <li> Created monthly reports for records, closed terminated records and maintained a master list of clients and potential clients.</li> <li> Organized billing and invoice data and prepared accounts receivable and expected revenue reports for CEO.</li> <li> Write and mail response letters.</li> </ul> </span> </span> </div> </div> <div class=\\\"paragraph\\\" id=\\\"PARAGRAPH_530788989_3_346657444\\\" itemscope=\\\"\\\" itemtype=\\\"https://schema.org/Organization\\\" style=\\\"\\n      padding-top:0px;\\n    \\\"> <div class=\\\"singlecolumn\\\"> <span class=\\\"paddedline\\\"> <span class=\\\"jobtitle\\\" id=\\\"530788989JTIT3\\\"> Hostess</span> <br/> <span> <span class=\\\"jobdates\\\" format=\\\"%B %Y\\\" id=\\\"530788989JSTD3\\\"> March 2009</span> <span>  to </span> <span class=\\\"jobdates\\\" format=\\\"%B %Y\\\" id=\\\"530788989EDDT3\\\"> July 2009</span> </span> </span> <span class=\\\"paddedline\\\" itemscope=\\\"\\\" itemtype=\\\"https://schema.org/postalAddress\\\"> <span class=\\\"companyname\\\" id=\\\"530788989COMP3\\\" itemprop=\\\"name\\\"> Company Name</span> <span>  \\uff0d </span> <span class=\\\"joblocation jobcity\\\" id=\\\"530788989JCIT3\\\" itemprop=\\\"addressLocality\\\"> City</span> <span> , </span> <span class=\\\"joblocation jobstate\\\" id=\\\"530788989JSTA3\\\" itemprop=\\\"addressRegion\\\"> State</span> </span> <span class=\\\"paddedline\\\"> <span class=\\\"jobline\\\" id=\\\"530788989JDES3\\\" itemprop=\\\"description\\\"> <ul> <li> Provided a warm and welcoming environment for guests.</li> <li> Assisted diners with seating as needed</li> <li> Worked with team members to encourage guest satisfaction.</li> <li> Maintained a clean environment.</li> <li> Maintained contact with kitchen staff, management, serving staff, and customers</li> <li> Inspected dining and serving areas to ensure cleanliness and proper setup</li> <li> Rectified guest complaints.</li> <li> Planned out the seating chart and organized the reservations.</li> </ul> </span> </span> </div> </div> </div> <div class=\\\"section\\\" id=\\\"SECTION_EDUC530788990\\\" style=\\\"\\n      padding-top:0px;\\n    \\\"> <div class=\\\"heading\\\"> <div class=\\\"sectiontitle thinbottomborder\\\" id=\\\"SECTNAME_EDUC530788990\\\"> Education</div> </div> <div class=\\\"paragraph firstparagraph\\\" id=\\\"PARAGRAPH_530788990_1_346657447\\\" itemscope=\\\"\\\" itemtype=\\\"https://schema.org/EducationalOrganization\\\" style=\\\"\\n      padding-top:0px;\\n    \\\"> <div class=\\\"singlecolumn\\\"> <span class=\\\"paddedline\\\" itemprop=\\\"description\\\"> <span class=\\\"degree\\\" dependency=\\\"DGRE\\\" id=\\\"530788990DGRE1\\\" itemprop=\\\"name\\\"> B.S</span> <span>  : </span> <span class=\\\"programline\\\" dependency=\\\"STUY\\\" id=\\\"530788990STUY1\\\"> Business </span> <span> , </span> <span class=\\\"jobdates\\\" id=\\\"530788990GRYR1\\\"> Present</span> </span> <span class=\\\"paddedline\\\"> <span class=\\\"companyname companyname_educ\\\" dependency=\\\"SCHO\\\" id=\\\"530788990SCHO1\\\" itemprop=\\\"name\\\"> University of Phoenix </span> <span>  \\uff0d </span> <span class=\\\"joblocation jobcity\\\" id=\\\"530788990SCIT1\\\"> City</span> <span> , </span> <span class=\\\"joblocation jobstate\\\" id=\\\"530788990SSTA1\\\"> State</span> <span class=\\\"joblocation jobstate\\\" id=\\\"530788990SCNT1\\\"> </span> </span> <span class=\\\"paddedline\\\"> <span> GPA: </span> <span class=\\\"field\\\" id=\\\"530788990GRPA1\\\"> GPA: 3.0</span> </span> <span class=\\\"paddedline\\\"> <span class=\\\"field\\\" id=\\\"530788990FRFM1\\\"> <p align=\\\"LEFT\\\"> Business GPA: 3.0</p> </span> </span> </div> </div> <div class=\\\"paragraph\\\" id=\\\"PARAGRAPH_530788990_2_346657448\\\" itemscope=\\\"\\\" itemtype=\\\"https://schema.org/EducationalOrganization\\\" style=\\\"\\n      padding-top:0px;\\n    \\\"> <div class=\\\"singlecolumn\\\"> <span class=\\\"paddedline\\\" itemprop=\\\"description\\\"> <span class=\\\"degree\\\" dependency=\\\"DGRE\\\" id=\\\"530788990DGRE2\\\" itemprop=\\\"name\\\"> B.A</span> <span>  : </span> <span class=\\\"programline\\\" dependency=\\\"STUY\\\" id=\\\"530788990STUY2\\\"> Communication Communication Media</span> <span> , </span> <span class=\\\"jobdates\\\" id=\\\"530788990GRYR2\\\"> May 2007</span> </span> <span class=\\\"paddedline\\\"> <span class=\\\"companyname companyname_educ\\\" dependency=\\\"SCHO\\\" id=\\\"530788990SCHO2\\\" itemprop=\\\"name\\\"> Oakwood University</span> <span>  \\uff0d </span> <span class=\\\"joblocation jobcity\\\" id=\\\"530788990SCIT2\\\"> City</span> <span> , </span> <span class=\\\"joblocation jobstate\\\" id=\\\"530788990SSTA2\\\"> State</span> <span class=\\\"joblocation jobstate\\\" id=\\\"530788990SCNT2\\\"> </span> </span> <span class=\\\"paddedline\\\"> <span> GPA: </span> <span class=\\\"field\\\" id=\\\"530788990GRPA2\\\"> GPA: 3.0</span> </span> <span class=\\\"paddedline\\\"> <span class=\\\"field\\\" id=\\\"530788990FRFM2\\\"> Communication Communication Media GPA: 3.0</span> </span> </div> </div> <div class=\\\"paragraph\\\" id=\\\"PARAGRAPH_530788990_3_346657449\\\" itemscope=\\\"\\\" itemtype=\\\"https://schema.org/EducationalOrganization\\\" style=\\\"\\n      padding-top:0px;\\n    \\\"> <div class=\\\"singlecolumn\\\"> <span class=\\\"paddedline\\\" itemprop=\\\"description\\\"> <span class=\\\"degree\\\" dependency=\\\"DGRE\\\" id=\\\"530788990DGRE3\\\" itemprop=\\\"name\\\"> High School Diploma</span> <span>  : </span> <span class=\\\"programline\\\" dependency=\\\"STUY\\\" id=\\\"530788990STUY3\\\"> </span> <span class=\\\"jobdates\\\" id=\\\"530788990GRYR3\\\"> 2004</span> </span> <span class=\\\"paddedline\\\"> <span class=\\\"companyname companyname_educ\\\" dependency=\\\"SCHO\\\" id=\\\"530788990SCHO3\\\" itemprop=\\\"name\\\"> Vance High School</span> <span class=\\\"joblocation jobcity\\\" id=\\\"530788990SCIT3\\\"> </span> <span class=\\\"joblocation jobstate\\\" id=\\\"530788990SSTA3\\\"> </span> <span class=\\\"joblocation jobstate\\\" id=\\\"530788990SCNT3\\\"> </span> </span> <span class=\\\"paddedline\\\"> <span class=\\\"field\\\" id=\\\"530788990FRFM3\\\"> </span> </span> </div> </div> </div> <div class=\\\"section\\\" id=\\\"SECTION_ADDI530788999\\\" style=\\\"\\n      padding-top:0px;\\n    \\\"> <div class=\\\"heading\\\"> <div class=\\\"sectiontitle thinbottomborder\\\" id=\\\"SECTNAME_ADDI530788999\\\"> Additional Information</div> </div> <div class=\\\"paragraph firstparagraph\\\" id=\\\"PARAGRAPH_530788999_1_346657453\\\" style=\\\"\\n      padding-top:0px;\\n    \\\"> <div class=\\\"field singlecolumn\\\" id=\\\"530788999FRFM1\\\"> <ul> <li> Volunteer Endeavors:\\nPathfinders of the Seventh Day Adventist Church| August 1998-present \\n1801 Double Oaks Rd. Charlotte, NC 28206 &amp; 827 Tom Hunter Rd, Charlotte, NC 28213 \\n--Community Outreach, Soup Kitchen, Clothes Drive, Fundraising for non-profit organizations, Youth Leadership Development, and life skills enriching activities.</li> </ul> </div> </div> </div> </div>\",\n          \"<div class=\\\"fontsize fontface vmargins hmargins linespacing pagesize\\\" id=\\\"document\\\"> <div class=\\\"section firstsection\\\" id=\\\"SECTION_NAME907854984\\\" style=\\\"padding-top:0px;\\\"> <div class=\\\"paragraph PARAGRAPH_NAME firstparagraph\\\" id=\\\"PARAGRAPH_907854984_1_595728132\\\" style=\\\"padding-top:0px;\\\"> <div class=\\\"name\\\" itemprop=\\\"name\\\"> <span class=\\\"field\\\" id=\\\"907854984FNAM1\\\"> </span> <span> </span> <span class=\\\"field lName\\\" id=\\\"907854984LNAM1\\\"> BPO TEAM LEADER</span> </div> </div> </div> <div class=\\\"section\\\" id=\\\"SECTION_SUMM907854988\\\" style=\\\"padding-top:0px;\\\"> <div class=\\\"heading\\\"> <div class=\\\"sectiontitle\\\" id=\\\"SECTNAME_SUMM907854988\\\"> Summary</div> </div> <div class=\\\"paragraph firstparagraph\\\" id=\\\"PARAGRAPH_907854988_1_595728153\\\" style=\\\"padding-top:0px;\\\"> <div class=\\\"field singlecolumn\\\" id=\\\"907854988FRFM1\\\"> Seeking to provide top-quality support to ensure a competitive advantage in the global marketplace.</div> </div> </div> <div class=\\\"section\\\" id=\\\"SECTION_ACCM907855364\\\" style=\\\"padding-top:0px;\\\"> <div class=\\\"heading\\\"> <div class=\\\"sectiontitle\\\" id=\\\"SECTNAME_ACCM907855364\\\"> Accomplishments</div> </div> <div class=\\\"paragraph firstparagraph\\\" id=\\\"PARAGRAPH_907855364_1_595730793\\\" style=\\\"padding-top:0px;\\\"> <div class=\\\"field singlecolumn\\\" id=\\\"907855364FRFM1\\\"> Recognized for playing an instrumental role in exceeding company expectations for turn around time during 4th quarter at 95% in 4 days.\\u00a0\\u00a0 Achieved a strong relationship with agents/sales of company partners in exceeding groups expectation of service, and increased sales relations.</div> </div> </div> <div class=\\\"section\\\" id=\\\"SECTION_EXPR907854986\\\" style=\\\"padding-top:0px;\\\"> <div class=\\\"heading\\\"> <div class=\\\"sectiontitle\\\" id=\\\"SECTNAME_EXPR907854986\\\"> Experience</div> </div> <div class=\\\"paragraph firstparagraph\\\" id=\\\"PARAGRAPH_907854986_1_595728136\\\" itemscope=\\\"\\\" itemtype=\\\"https://schema.org/Organization\\\" style=\\\"padding-top:0px;\\\"> <div class=\\\"singlecolumn\\\"> <span class=\\\"paddedline\\\"> <span class=\\\"jobtitle\\\" id=\\\"907854986JTIT1\\\"> BPO Team Leader</span> <span class=\\\"datesWrapper\\\"> <span class=\\\"jobdates\\\" format=\\\"%m/%Y\\\" id=\\\"907854986JSTD1\\\"> 02/2015</span> <span class=\\\"jobdates\\\">  to </span> <span class=\\\"jobdates\\\" format=\\\"%m/%Y\\\" id=\\\"907854986EDDT1\\\"> 02/2017</span> </span> </span> <span class=\\\"paddedline\\\" itemscope=\\\"\\\" itemtype=\\\"https://schema.org/postalAddress\\\"> <span class=\\\"companyname\\\" id=\\\"907854986COMP1\\\" itemprop=\\\"name\\\"> Company Name</span> <span class=\\\"datesWrapper\\\"> <span class=\\\"joblocation jobcity\\\" id=\\\"907854986JCIT1\\\" itemprop=\\\"addressLocality\\\"> City</span> <span class=\\\"joblocation\\\"> , </span> <span class=\\\"joblocation jobstate\\\" id=\\\"907854986JSTA1\\\" itemprop=\\\"addressRegion\\\"> State</span> </span> </span> <span class=\\\"paddedline\\\"> <span class=\\\"jobline\\\" id=\\\"907854986JDES1\\\" itemprop=\\\"description\\\"> <ul> <li> Managed and motivate BPO Onboarding Team to meet team goals</li> <li> Auditor of documentation and group implementation.</li> <li> Interact with PPO Network management, clients, agents and sales</li> <li> Executed and met project deadlines</li> <li> Strong sense of urgency; able to resolve escalated issues immediately.</li> <li> Developed and executed implementation workflow/processes.</li> <li> Maintain 95% within 4 days TAT for implementation of groups, 5% above agreement with client.</li> <li> Manage over 3000 clients and brokers.</li> </ul> </span> </span> </div> </div> <div class=\\\"paragraph\\\" id=\\\"PARAGRAPH_907854986_2_595728137\\\" itemscope=\\\"\\\" itemtype=\\\"https://schema.org/Organization\\\" style=\\\"padding-top:0px;\\\"> <div class=\\\"singlecolumn\\\"> <span class=\\\"paddedline\\\"> <span class=\\\"jobtitle\\\" id=\\\"907854986JTIT2\\\"> BPO Implementation Specialist</span> <span class=\\\"datesWrapper\\\"> <span class=\\\"jobdates\\\" format=\\\"%m/%Y\\\" id=\\\"907854986JSTD2\\\"> 05/2013</span> <span class=\\\"jobdates\\\">  to </span> <span class=\\\"jobdates\\\" format=\\\"%m/%Y\\\" id=\\\"907854986EDDT2\\\"> 02/2015</span> </span> </span> <span class=\\\"paddedline\\\" itemscope=\\\"\\\" itemtype=\\\"https://schema.org/postalAddress\\\"> <span class=\\\"companyname\\\" id=\\\"907854986COMP2\\\" itemprop=\\\"name\\\"> Company Name</span> <span class=\\\"datesWrapper\\\"> <span class=\\\"joblocation jobcity\\\" id=\\\"907854986JCIT2\\\" itemprop=\\\"addressLocality\\\"> City</span> <span class=\\\"joblocation\\\"> , </span> <span class=\\\"joblocation jobstate\\\" id=\\\"907854986JSTA2\\\" itemprop=\\\"addressRegion\\\"> State</span> </span> </span> <span class=\\\"paddedline\\\"> <span class=\\\"jobline\\\" id=\\\"907854986JDES2\\\" itemprop=\\\"description\\\"> <ul> <li> Infrastructure for O drive and folders.</li> <li> Developed a more\\u00a0efficient system for emails/BPO Workflow and manual</li> <li> Enhanced\\u00a0and improved\\u00a0maintenance of agent/group information\\u00a0with DW (Data Warehouse program) </li> <li> Assistant to Account management team and VP of Administration.</li> </ul> <div> </div> <div> </div> <div> \\u200b</div> <div> </div> <div> \\u200b</div> </span> </span> </div> </div> <div class=\\\"paragraph\\\" id=\\\"PARAGRAPH_907854986_3_595728138\\\" itemscope=\\\"\\\" itemtype=\\\"https://schema.org/Organization\\\" style=\\\"padding-top:0px;\\\"> <div class=\\\"singlecolumn\\\"> <span class=\\\"paddedline\\\"> <span class=\\\"jobtitle\\\" id=\\\"907854986JTIT3\\\"> Re-pricing Coordinator</span> <span class=\\\"datesWrapper\\\"> <span class=\\\"jobdates\\\" format=\\\"%m/%Y\\\" id=\\\"907854986JSTD3\\\"> 06/2009</span> <span class=\\\"jobdates\\\">  to </span> <span class=\\\"jobdates\\\" format=\\\"%m/%Y\\\" id=\\\"907854986EDDT3\\\"> 06/2013</span> </span> </span> <span class=\\\"paddedline\\\" itemscope=\\\"\\\" itemtype=\\\"https://schema.org/postalAddress\\\"> <span class=\\\"companyname\\\" id=\\\"907854986COMP3\\\" itemprop=\\\"name\\\"> Company Name</span> <span class=\\\"datesWrapper\\\"> <span class=\\\"joblocation jobcity\\\" id=\\\"907854986JCIT3\\\" itemprop=\\\"addressLocality\\\"> City</span> <span class=\\\"joblocation\\\"> , </span> <span class=\\\"joblocation jobstate\\\" id=\\\"907854986JSTA3\\\" itemprop=\\\"addressRegion\\\"> State</span> </span> </span> <span class=\\\"paddedline\\\"> <span class=\\\"jobline\\\" id=\\\"907854986JDES3\\\" itemprop=\\\"description\\\"> <ul> <li> Re-pricing of\\u00a0HCFA and UB's claims.\\u00a0\\u00a0<span> <span> Developed relationships with PPO network management vendors:\\u00a0 </span> </span> Select Health Partners, Encore, Multiplan, Medicare, DHS and Aetna claims.</li> <li> Correspond with Examiners regarding status of RRT referrals.</li> <li> Solely responsible for all Aetna claims, 30,000 lives.\\u00a0 Implemented workflow and\\u00a0first manual of Aetna process.</li> <li> Improved and decreased errors with auditing process</li> <li> Verification of Provider/Facility PPO status.</li> </ul> <p> <br/> </p> </span> </span> </div> </div> <div class=\\\"paragraph\\\" id=\\\"PARAGRAPH_907854986_4_595728139\\\" itemscope=\\\"\\\" itemtype=\\\"https://schema.org/Organization\\\" style=\\\"padding-top:0px;\\\"> <div class=\\\"singlecolumn\\\"> <span class=\\\"paddedline\\\"> <span class=\\\"jobtitle\\\" id=\\\"907854986JTIT4\\\"> Administrative Assistant/HR Assistant</span> <span class=\\\"datesWrapper\\\"> <span class=\\\"jobdates\\\" format=\\\"%m/%Y\\\" id=\\\"907854986JSTD4\\\"> 04/2004</span> <span class=\\\"jobdates\\\">  to </span> <span class=\\\"jobdates\\\" format=\\\"%m/%Y\\\" id=\\\"907854986EDDT4\\\"> 04/2009</span> </span> </span> <span class=\\\"paddedline\\\" itemscope=\\\"\\\" itemtype=\\\"https://schema.org/postalAddress\\\"> <span class=\\\"companyname\\\" id=\\\"907854986COMP4\\\" itemprop=\\\"name\\\"> Company Name</span> <span class=\\\"datesWrapper\\\"> <span class=\\\"joblocation jobcity\\\" id=\\\"907854986JCIT4\\\" itemprop=\\\"addressLocality\\\"> City</span> <span class=\\\"joblocation\\\"> , </span> <span class=\\\"joblocation jobstate\\\" id=\\\"907854986JSTA4\\\" itemprop=\\\"addressRegion\\\"> State</span> </span> </span> <span class=\\\"paddedline\\\"> <span class=\\\"jobline\\\" id=\\\"907854986JDES4\\\" itemprop=\\\"description\\\"> <ul> <li> EZ-Movers - Long Distance Dispatcher Assistant.</li> <li> Long Distance scheduling of drivers/trucks.</li> <li> Administrative paperwork for pickup and delivery.</li> <li> Data entry of information of customers.</li> <li> Spreadsheet upkeep of scheduled deliveries.</li> <li> Interact with customers and drivers in regards to pickups/deliveries and/or payments.</li> <li> Rainbow Hospice - Receptionist.</li> <li> Front desk duties.</li> <li> Incoming and outgoing faxes.</li> <li> Assist PCM, Clinical secretary, RN, Social workers.</li> <li> Handle all incoming calls, to both main office and ARK location.</li> <li> Process all faxes accordingly.</li> <li> Keep accurate track of overnight calls, and team faxes.</li> <li> General Administrative duties.</li> <li> Answering phones.</li> <li> Processing invoices.</li> <li> Data entry of all purchase orders, using scanning system, batch invoices and close file.</li> <li> AS400 used.</li> </ul> </span> </span> </div> </div> <div class=\\\"paragraph\\\" id=\\\"PARAGRAPH_907854986_5_595728147\\\" itemscope=\\\"\\\" itemtype=\\\"https://schema.org/Organization\\\" style=\\\"padding-top:0px;\\\"> <div class=\\\"singlecolumn\\\"> <span class=\\\"paddedline\\\"> <span class=\\\"jobtitle\\\" id=\\\"907854986JTIT5\\\"> Administrative Assistant II/HR Coordinator</span> <span class=\\\"datesWrapper\\\"> <span class=\\\"jobdates\\\" format=\\\"%m/%Y\\\" id=\\\"907854986JSTD5\\\"> 08/2002</span> <span class=\\\"jobdates\\\">  to </span> <span class=\\\"jobdates\\\" format=\\\"%m/%Y\\\" id=\\\"907854986EDDT5\\\"> 01/2004</span> </span> </span> <span class=\\\"paddedline\\\" itemscope=\\\"\\\" itemtype=\\\"https://schema.org/postalAddress\\\"> <span class=\\\"companyname\\\" id=\\\"907854986COMP5\\\" itemprop=\\\"name\\\"> Company Name</span> <span class=\\\"datesWrapper\\\"> <span class=\\\"joblocation jobcity\\\" id=\\\"907854986JCIT5\\\" itemprop=\\\"addressLocality\\\"> City</span> <span class=\\\"joblocation\\\"> , </span> <span class=\\\"joblocation jobstate\\\" id=\\\"907854986JSTA5\\\" itemprop=\\\"addressRegion\\\"> State</span> </span> </span> <span class=\\\"paddedline\\\"> <span class=\\\"jobline\\\" id=\\\"907854986JDES5\\\" itemprop=\\\"description\\\"> <ul> <li> Assist management in coordination of organizational administration activities (performance review, cost center updates, customer issues) and within scope of authority, resolve problems and issues independently and proactively.</li> <li> Responsible for the daily operations of the field office, assuring employees were up to date with pertinent information; work closely with the Office of Building in any issues.</li> <li> Prepare and process, submit reports, timekeeping and other payroll and business operations processes; train staff or management on timekeeping and other administrative processes.</li> <li> Expense reports submission.</li> <li> Review; approve all invoices/billing for process.</li> <li> Submission of checks for payments.</li> <li> Utilize SAP program.</li> <li> Assist management in special projects.</li> <li> Attend meetings, seminars and record notes or provide information when needed.</li> <li> Schedule and coordinate meetings, conferences, travel arrangements and maintain group or manager's business calendar.</li> <li> Manage the process of on-board additions/transfers to staff to assist the manger in ensuring a smooth transition.</li> <li> Responsible for the day to day coordination and routine administration with LAN activities for field office.</li> <li> Interface with internal and external contacts regarding business unit administration issues and concerns.</li> <li> Demonstrate the ability to organize and balance the responsibilities of budget control (travel, supplies, invoice processing).</li> <li> Excellent interpersonal skills, with the ability to interact with internal/external business partners and staff at all levels.</li> <li> Excellent organizational skills to prioritize and coordinate multiple tasks.</li> </ul> </span> </span> </div> </div> </div> <div class=\\\"section\\\" id=\\\"SECTION_EDUC907854987\\\" style=\\\"padding-top:0px;\\\"> <div class=\\\"heading\\\"> <div class=\\\"sectiontitle\\\" id=\\\"SECTNAME_EDUC907854987\\\"> Education</div> </div> <div class=\\\"paragraph firstparagraph\\\" id=\\\"PARAGRAPH_907854987_1_595728148\\\" itemscope=\\\"\\\" itemtype=\\\"https://schema.org/EducationalOrganization\\\" style=\\\"padding-top:0px;\\\"> <div class=\\\"singlecolumn\\\"> <span class=\\\"paddedline\\\" itemprop=\\\"description\\\"> <span class=\\\"degree\\\" id=\\\"907854987DGRE1\\\" itemprop=\\\"name\\\"> Producers License</span> <span> : </span> <span class=\\\"programline\\\" id=\\\"907854987STUY1\\\"> Life and Health</span> <span class=\\\"datesWrapper\\\"> <span class=\\\"jobdates\\\" id=\\\"907854987GRYR1\\\"> 2013</span> <span> </span> </span> </span> <span class=\\\"paddedline\\\"> <span class=\\\"companyname companyname_educ\\\" id=\\\"907854987SCHO1\\\" itemprop=\\\"name\\\"> Kaplan</span> <span class=\\\"datesWrapper\\\"> <span class=\\\"joblocation jobcity educity\\\" id=\\\"907854987SCIT1\\\"> City</span> <span> , </span> <span class=\\\"joblocation jobstate edustate\\\" id=\\\"907854987SSTA1\\\"> State</span> <span class=\\\"joblocation eduCountry\\\" id=\\\"907854987SCNT1\\\"> </span> </span> </span> <span class=\\\"paddedline\\\"> <span class=\\\"field\\\" id=\\\"907854987FRFM1\\\"> </span> </span> </div> </div> <div class=\\\"paragraph\\\" id=\\\"PARAGRAPH_907854987_2_595728149\\\" itemscope=\\\"\\\" itemtype=\\\"https://schema.org/EducationalOrganization\\\" style=\\\"padding-top:0px;\\\"> <div class=\\\"singlecolumn\\\"> <span class=\\\"paddedline\\\" itemprop=\\\"description\\\"> <span class=\\\"degree\\\" id=\\\"907854987DGRE2\\\" itemprop=\\\"name\\\"> B.A</span> <span> : </span> <span class=\\\"programline\\\" id=\\\"907854987STUY2\\\"> Business Administration</span> <span class=\\\"datesWrapper\\\"> <span class=\\\"jobdates\\\" id=\\\"907854987GRYR2\\\"> 2018</span> <span> </span> </span> </span> <span class=\\\"paddedline\\\"> <span class=\\\"companyname companyname_educ\\\" id=\\\"907854987SCHO2\\\" itemprop=\\\"name\\\"> Kaplan University</span> <span class=\\\"datesWrapper\\\"> <span class=\\\"joblocation jobcity educity\\\" id=\\\"907854987SCIT2\\\"> City</span> <span> , </span> <span class=\\\"joblocation jobstate edustate\\\" id=\\\"907854987SSTA2\\\"> State</span> <span class=\\\"joblocation eduCountry\\\" id=\\\"907854987SCNT2\\\"> </span> </span> </span> <span class=\\\"paddedline\\\"> <span class=\\\"field\\\" id=\\\"907854987FRFM2\\\"> </span> </span> </div> </div> <div class=\\\"paragraph\\\" id=\\\"PARAGRAPH_907854987_3_595728150\\\" itemscope=\\\"\\\" itemtype=\\\"https://schema.org/EducationalOrganization\\\" style=\\\"padding-top:0px;\\\"> <div class=\\\"singlecolumn\\\"> <span class=\\\"paddedline\\\" itemprop=\\\"description\\\"> <span class=\\\"degree\\\" id=\\\"907854987DGRE3\\\" itemprop=\\\"name\\\"> Associate of Science</span> <span> : </span> <span class=\\\"programline\\\" id=\\\"907854987STUY3\\\"> Business Administration</span> <span class=\\\"datesWrapper\\\"> <span class=\\\"jobdates\\\" id=\\\"907854987GRYR3\\\"> 1992</span> <span> </span> </span> </span> <span class=\\\"paddedline\\\"> <span class=\\\"companyname companyname_educ\\\" id=\\\"907854987SCHO3\\\" itemprop=\\\"name\\\"> Northwestern Business College</span> <span class=\\\"datesWrapper\\\"> <span class=\\\"joblocation jobcity educity\\\" id=\\\"907854987SCIT3\\\"> City</span> <span> , </span> <span class=\\\"joblocation jobstate edustate\\\" id=\\\"907854987SSTA3\\\"> State</span> <span class=\\\"joblocation eduCountry\\\" id=\\\"907854987SCNT3\\\"> </span> </span> </span> <span class=\\\"paddedline\\\"> <span class=\\\"field\\\" id=\\\"907854987FRFM3\\\"> Business Administration</span> </span> </div> </div> <div class=\\\"paragraph\\\" id=\\\"PARAGRAPH_907854987_4_595728151\\\" itemscope=\\\"\\\" itemtype=\\\"https://schema.org/EducationalOrganization\\\" style=\\\"padding-top:0px;\\\"> <div class=\\\"singlecolumn\\\"> <span class=\\\"paddedline\\\" itemprop=\\\"description\\\"> <span class=\\\"degree\\\" id=\\\"907854987DGRE4\\\" itemprop=\\\"name\\\"> </span> <span class=\\\"programline\\\" id=\\\"907854987STUY4\\\"> Pastoral Counseling</span> <span class=\\\"datesWrapper\\\"> <span class=\\\"jobdates\\\" id=\\\"907854987GRYR4\\\"> 2014</span> <span> </span> </span> </span> <span class=\\\"paddedline\\\"> <span class=\\\"companyname companyname_educ\\\" id=\\\"907854987SCHO4\\\" itemprop=\\\"name\\\"> New Hope Counseling School</span> <span class=\\\"datesWrapper\\\"> <span class=\\\"joblocation jobcity educity\\\" id=\\\"907854987SCIT4\\\"> City</span> <span> , </span> <span class=\\\"joblocation jobstate edustate\\\" id=\\\"907854987SSTA4\\\"> State</span> <span class=\\\"joblocation eduCountry\\\" id=\\\"907854987SCNT4\\\"> </span> </span> </span> <span class=\\\"paddedline\\\"> <span class=\\\"field\\\" id=\\\"907854987FRFM4\\\"> </span> </span> </div> </div> <div class=\\\"paragraph\\\" id=\\\"PARAGRAPH_907854987_5_595728152\\\" itemscope=\\\"\\\" itemtype=\\\"https://schema.org/EducationalOrganization\\\" style=\\\"padding-top:0px;\\\"> <div class=\\\"singlecolumn\\\"> <span class=\\\"paddedline\\\" itemprop=\\\"description\\\"> <span class=\\\"degree\\\" id=\\\"907854987DGRE5\\\" itemprop=\\\"name\\\"> B.A. (nonaccrediated)</span> <span> : </span> <span class=\\\"programline\\\" id=\\\"907854987STUY5\\\"> Ministry and Biblical Studies</span> <span class=\\\"datesWrapper\\\"> <span class=\\\"jobdates\\\" id=\\\"907854987GRYR5\\\"> 2014</span> <span> </span> </span> </span> <span class=\\\"paddedline\\\"> <span class=\\\"companyname companyname_educ\\\" id=\\\"907854987SCHO5\\\" itemprop=\\\"name\\\"> International School of Ministry</span> <span class=\\\"datesWrapper\\\"> <span class=\\\"joblocation jobcity educity\\\" id=\\\"907854987SCIT5\\\"> City</span> <span> , </span> <span class=\\\"joblocation jobstate edustate\\\" id=\\\"907854987SSTA5\\\"> State</span> <span class=\\\"joblocation eduCountry\\\" id=\\\"907854987SCNT5\\\"> </span> </span> </span> <span class=\\\"paddedline\\\"> <span class=\\\"field\\\" id=\\\"907854987FRFM5\\\"> </span> </span> </div> </div> </div> <div class=\\\"section\\\" id=\\\"SECTION_SKLL907854990\\\" style=\\\"padding-top:0px;\\\"> <div class=\\\"heading\\\"> <div class=\\\"sectiontitle\\\" id=\\\"SECTNAME_SKLL907854990\\\"> Skills</div> </div> <div class=\\\"paragraph firstparagraph\\\" id=\\\"PARAGRAPH_907854990_1_595728155\\\" style=\\\"padding-top:0px;\\\"> <div class=\\\"field singlecolumn\\\" id=\\\"907854990FRFM1\\\"> <strong> Administrative duties:</strong> \\u00a0\\u00a0Active Learning, Calendaring, Client Relations, Computer Proficiency, Coordination, Creative Problem Solving, Critical Thinking, Customer Needs Assessment, Customer Service,\\u00a0Data Entry, Documentation, Email, Executive Management Support, Filing, Grammar, Internet Research, Letters and Memos,\\u00a0,\\u00a0Multi-Task Management, Organizational Skills, Prioritization,\\u00a0Scheduling, Service Orientation, Telephone Skills, Time Management, Travel Arrangements,\\u00a0 Type\\u00a085 WPM, Typing, Vendor Management, Documentation auditor.\\u00a0 Hospice Assistant, Human Resources assistant.\\u00a0Invoice processing,\\u00a0\\u00a0Order entry,\\u00a0\\u00a0Re-pricing of claims, Receptionist, Recruiting and trainer.\\u00a0 <span> <strong> People skills</strong> : great\\u00a0enthusiastic people person, advanced problem-solving, great organizational skills.\\u00a0 <strong> Computer skills:\\u00a0 </strong> MS Office, Data entry, RIMS, SAP, Outlook, Data Warehouse Maintenance, Provider Maintenance Microsoft Excel, Microsoft Office Suite, Microsoft Outlook, Microsoft PowerPoint, Microsoft Word.</span> </div> </div> </div> </div>\",\n          \"<div class=\\\"fontsize fontface vmargins hmargins linespacing pagesize\\\" id=\\\"document\\\"> <div class=\\\"section firstsection\\\" id=\\\"SECTION_NAME910390641\\\" style=\\\"padding-top:0px;\\\"> <div class=\\\"paragraph PARAGRAPH_NAME firstparagraph\\\" id=\\\"PARAGRAPH_910390641_1_597519386\\\" style=\\\"padding-top:0px;\\\"> <div class=\\\"name thinbottomborder\\\" itemprop=\\\"name\\\"> <span class=\\\"field fName\\\" id=\\\"910390641FNAM1\\\"> </span> <span> </span> <span class=\\\"field\\\" id=\\\"910390641LNAM1\\\"> SENIOR DIGITAL MARKETING ANALYST</span> </div> </div> </div> <div class=\\\"section\\\" id=\\\"SECTION_SUMM910390643\\\" style=\\\"padding-top:0px;\\\"> <div class=\\\"heading\\\"> <div class=\\\"sectiontitle\\\" id=\\\"SECTNAME_SUMM910390643\\\"> Summary</div> </div> <div class=\\\"paragraph firstparagraph\\\" id=\\\"PARAGRAPH_910390643_1_597519397\\\" style=\\\"padding-top:0px;\\\"> <div class=\\\"field singlecolumn noPind\\\" id=\\\"910390643FRFM1\\\"> Highly analytical and process-oriented data analyst with in-depth knowledge of \\nmarketing project management, data manipulation and visualization. Furnish insights, analytics and business intelligence to advance opportunity identification, process reengineering and corporate growth.\\nCore Qualifications  \\nMarket Segmentation\\nBusiness Intelligence\\nReporting\\nRegression Analysis\\nBusiness Analysis\\nDashboard generation\\nData Mining\\nData Modeling\\nStatistical Analysis\\nData Experiments\\nProject Management\\nProcess Improvement</div> </div> </div> <div class=\\\"section\\\" id=\\\"SECTION_HILT910390644\\\" style=\\\"padding-top:0px;\\\"> <div class=\\\"heading\\\"> <div class=\\\"sectiontitle\\\" id=\\\"SECTNAME_HILT910390644\\\"> Highlights</div> </div> <div class=\\\"paragraph firstparagraph\\\" id=\\\"PARAGRAPH_910390644_1_597519399\\\" style=\\\"padding-top:0px;\\\"> <div class=\\\"singlecolumn maincolumn\\\"> <table class=\\\"twocol\\\"> <tbody> <tr> <td class=\\\"field twocol_1\\\" id=\\\"910390644SKC11\\\"> Power user of MS Excel, Power BI, Power Query, Power Pivot, Qlikview Desktop, Minitab, Tableau, Google Analytics, JIRA, Salesforce, TSQL, SQL, HTML, PHP, JavaScript, MS Access, MS Visio, MS Project.\\nIn progress - R, Python.</td> <td class=\\\"field twocol_2\\\" id=\\\"910390644SKC21\\\"> </td> </tr> </tbody> </table> </div> </div> </div> <div class=\\\"section\\\" id=\\\"SECTION_ACCM910390645\\\" style=\\\"padding-top:0px;\\\"> </div> <div class=\\\"section\\\" id=\\\"SECTION_EXPR910390646\\\" style=\\\"padding-top:0px;\\\"> <div class=\\\"heading\\\"> <div class=\\\"sectiontitle\\\" id=\\\"SECTNAME_EXPR910390646\\\"> Experience</div> </div> <div class=\\\"paragraph firstparagraph\\\" id=\\\"PARAGRAPH_910390646_1_597519389\\\" itemscope=\\\"\\\" itemtype=\\\"https://schema.org/Organization\\\" style=\\\"padding-top:0px;\\\"> <span class=\\\"dates_wrapper\\\"> <span class=\\\"jobdates\\\" format=\\\"%m/%Y\\\" id=\\\"910390646JSTD1\\\"> 07/2016</span> <span>  to </span> <span class=\\\"jobdates\\\" format=\\\"%m/%Y\\\" id=\\\"910390646EDDT1\\\"> Current</span> </span> <div class=\\\"singlecolumn\\\"> <span class=\\\"paddedline\\\"> <span class=\\\"jobtitle\\\" id=\\\"910390646JTIT1\\\"> Senior Digital Marketing Analyst</span> </span> <span class=\\\"paddedline\\\" itemscope=\\\"\\\" itemtype=\\\"https://schema.org/postalAddress\\\"> <span class=\\\"companyname\\\" id=\\\"910390646COMP1\\\" itemprop=\\\"name\\\"> Company Name</span> <span>  \\uff0d </span> <span class=\\\"joblocation jobcity\\\" id=\\\"910390646JCIT1\\\" itemprop=\\\"addressLocality\\\"> City</span> <span> , </span> <span class=\\\"joblocation jobstate\\\" id=\\\"910390646JSTA1\\\" itemprop=\\\"addressRegion\\\"> State</span> </span> <span class=\\\"paddedline\\\"> <span class=\\\"jobline\\\" id=\\\"910390646JDES1\\\" itemprop=\\\"description\\\"> <ul> <li> Design and build dashboards to help analyze, monitor and visualize key performance metrics.</li> <li> ADD skills, accomplishment style.</li> <li> Interpret data, extract trends and identify insights or opportunities for product decisions.</li> <li> Design and monitor end-user reporting tools and systems, ensuring reports are accurate and up-to-date.</li> <li> Work with internal stakeholders and teams across the company.</li> <li> Accomplishment:.</li> <li> A 30% increase in revenue by segmenting, resulting in an incremental $2M profit.</li> </ul> </span> </span> </div> </div> <div class=\\\"paragraph\\\" id=\\\"PARAGRAPH_910390646_2_597519390\\\" itemscope=\\\"\\\" itemtype=\\\"https://schema.org/Organization\\\" style=\\\"padding-top:0px;\\\"> <span class=\\\"dates_wrapper\\\"> <span class=\\\"jobdates\\\" format=\\\"%m/%Y\\\" id=\\\"910390646JSTD2\\\"> 02/2014</span> <span>  to </span> <span class=\\\"jobdates\\\" format=\\\"%m/%Y\\\" id=\\\"910390646EDDT2\\\"> 03/2016</span> </span> <div class=\\\"singlecolumn\\\"> <span class=\\\"paddedline\\\"> <span class=\\\"jobtitle\\\" id=\\\"910390646JTIT2\\\"> Web Analyst</span> </span> <span class=\\\"paddedline\\\" itemscope=\\\"\\\" itemtype=\\\"https://schema.org/postalAddress\\\"> <span class=\\\"companyname\\\" id=\\\"910390646COMP2\\\" itemprop=\\\"name\\\"> Company Name</span> <span>  \\uff0d </span> <span class=\\\"joblocation jobcity\\\" id=\\\"910390646JCIT2\\\" itemprop=\\\"addressLocality\\\"> City</span> <span> , </span> <span class=\\\"joblocation jobstate\\\" id=\\\"910390646JSTA2\\\" itemprop=\\\"addressRegion\\\"> State</span> </span> <span class=\\\"paddedline\\\"> <span class=\\\"jobline\\\" id=\\\"910390646JDES2\\\" itemprop=\\\"description\\\"> <ul> <li> Extracted, transformed and loaded (ETL) customer data using code that was\\n    Developed.</li> <li> using SQL.</li> <li> Built dashboards to monitor and control marketing efforts.</li> <li> Helped identify and repair datasets that are incomplete, inconsistent, or require\\n    cleaning.</li> <li> Handled internal customer data inquiries, data investigations, or other information\\n    requests from project teams.</li> <li> Helped investigate and understand available data sources on the market to solve\\n    customer site content challenges.</li> <li> Accomplishment:.</li> <li> A 20% optimization in marketing cost by re-allocating $2M budget to profitable areas.</li> </ul> </span> </span> </div> </div> <div class=\\\"paragraph\\\" id=\\\"PARAGRAPH_910390646_3_597519391\\\" itemscope=\\\"\\\" itemtype=\\\"https://schema.org/Organization\\\" style=\\\"padding-top:0px;\\\"> <span class=\\\"dates_wrapper\\\"> <span class=\\\"jobdates\\\" format=\\\"%m/%Y\\\" id=\\\"910390646JSTD3\\\"> 06/2002</span> <span>  to </span> <span class=\\\"jobdates\\\" format=\\\"%m/%Y\\\" id=\\\"910390646EDDT3\\\"> 08/2005</span> </span> <div class=\\\"singlecolumn\\\"> <span class=\\\"paddedline\\\"> <span class=\\\"jobtitle\\\" id=\\\"910390646JTIT3\\\"> Web Developer</span> </span> <span class=\\\"paddedline\\\" itemscope=\\\"\\\" itemtype=\\\"https://schema.org/postalAddress\\\"> <span class=\\\"companyname\\\" id=\\\"910390646COMP3\\\" itemprop=\\\"name\\\"> Company Name</span> <span>  \\uff0d </span> <span class=\\\"joblocation jobcity\\\" id=\\\"910390646JCIT3\\\" itemprop=\\\"addressLocality\\\"> City</span> <span class=\\\"joblocation jobstate\\\" id=\\\"910390646JSTA3\\\" itemprop=\\\"addressRegion\\\"> </span> </span> <span class=\\\"paddedline\\\"> <span class=\\\"jobline\\\" id=\\\"910390646JDES3\\\" itemprop=\\\"description\\\"> <ul> <li> Developed customized web solutions using PHP, HTML, and JavaScript for clients.</li> <li> Created database structures, relationships, and data types in MySQL and MS\\n    Access.</li> <li> Accomplishment:.</li> <li> Increase of 22% in sales by increasing overall visitor traffic by over 400K.</li> </ul> </span> </span> </div> </div> </div> <div class=\\\"section\\\" id=\\\"SECTION_EDUC910390647\\\" style=\\\"padding-top:0px;\\\"> <div class=\\\"heading\\\"> <div class=\\\"sectiontitle\\\" id=\\\"SECTNAME_EDUC910390647\\\"> Education</div> </div> <div class=\\\"paragraph firstparagraph\\\" id=\\\"PARAGRAPH_910390647_1_597519392\\\" itemscope=\\\"\\\" itemtype=\\\"https://schema.org/EducationalOrganization\\\" style=\\\"padding-top:0px;\\\"> <span class=\\\"dates_wrapper\\\"> <span class=\\\"jobdates\\\" id=\\\"910390647GRYR1\\\"> </span> </span> <div class=\\\"singlecolumn\\\"> <span class=\\\"paddedline\\\" itemprop=\\\"description\\\"> <span class=\\\"degree\\\" id=\\\"910390647DGRE1\\\" itemprop=\\\"name\\\"> Masters of Business Administration</span> <span class=\\\"programline\\\" id=\\\"910390647STUY1\\\"> </span> </span> <span class=\\\"paddedline\\\"> <span class=\\\"field\\\" id=\\\"910390647FRFM1\\\"> </span> </span> </div> </div> <div class=\\\"paragraph\\\" id=\\\"PARAGRAPH_910390647_2_597519393\\\" itemscope=\\\"\\\" itemtype=\\\"https://schema.org/EducationalOrganization\\\" style=\\\"padding-top:0px;\\\"> <span class=\\\"dates_wrapper\\\"> <span class=\\\"jobdates\\\" id=\\\"910390647GRYR2\\\"> 2013</span> </span> <div class=\\\"singlecolumn\\\"> <span class=\\\"paddedline\\\" itemprop=\\\"description\\\"> <span class=\\\"degree\\\" id=\\\"910390647DGRE2\\\" itemprop=\\\"name\\\"> MBA</span> <span class=\\\"programline\\\" id=\\\"910390647STUY2\\\"> </span> </span> <span class=\\\"paddedline\\\"> <span class=\\\"companyname companyname_educ\\\" dependency=\\\"SCHO\\\" id=\\\"910390647SCHO2\\\" itemprop=\\\"name\\\"> University of Redlands</span> <span class=\\\"joblocation jobcity\\\" id=\\\"910390647SCIT2\\\"> </span> <span class=\\\"joblocation jobstate\\\" id=\\\"910390647SSTA2\\\"> </span> <span class=\\\"joblocation jobstate\\\" id=\\\"910390647SCNT2\\\"> </span> </span> <span class=\\\"paddedline\\\"> <span class=\\\"field\\\" id=\\\"910390647FRFM2\\\"> </span> </span> </div> </div> <div class=\\\"paragraph\\\" id=\\\"PARAGRAPH_910390647_3_597519394\\\" itemscope=\\\"\\\" itemtype=\\\"https://schema.org/EducationalOrganization\\\" style=\\\"padding-top:0px;\\\"> <span class=\\\"dates_wrapper\\\"> <span class=\\\"jobdates\\\" id=\\\"910390647GRYR3\\\"> 2011</span> </span> <div class=\\\"singlecolumn\\\"> <span class=\\\"paddedline\\\" itemprop=\\\"description\\\"> <span class=\\\"degree\\\" id=\\\"910390647DGRE3\\\" itemprop=\\\"name\\\"> Bachelor of Sciences</span> <span class=\\\"programline\\\" id=\\\"910390647STUY3\\\"> </span> </span> <span class=\\\"paddedline\\\"> <span class=\\\"companyname companyname_educ\\\" dependency=\\\"SCHO\\\" id=\\\"910390647SCHO3\\\" itemprop=\\\"name\\\"> University of Hamburg</span> <span class=\\\"joblocation jobcity\\\" id=\\\"910390647SCIT3\\\"> </span> <span class=\\\"joblocation jobstate\\\" id=\\\"910390647SSTA3\\\"> </span> <span class=\\\"joblocation jobstate\\\" id=\\\"910390647SCNT3\\\"> </span> </span> <span class=\\\"paddedline\\\"> <span class=\\\"field\\\" id=\\\"910390647FRFM3\\\"> </span> </span> </div> </div> <div class=\\\"paragraph\\\" id=\\\"PARAGRAPH_910390647_4_597519396\\\" itemscope=\\\"\\\" itemtype=\\\"https://schema.org/EducationalOrganization\\\" style=\\\"padding-top:0px;\\\"> <span class=\\\"dates_wrapper\\\"> <span class=\\\"jobdates\\\" id=\\\"910390647GRYR4\\\"> 2007</span> </span> <div class=\\\"singlecolumn\\\"> <span class=\\\"paddedline\\\" itemprop=\\\"description\\\"> <span class=\\\"degree\\\" id=\\\"910390647DGRE4\\\" itemprop=\\\"name\\\"> College - Berufsschule City Nord,</span> <span class=\\\"programline\\\" id=\\\"910390647STUY4\\\"> </span> </span> <span class=\\\"paddedline\\\"> <span class=\\\"field\\\" id=\\\"910390647FRFM4\\\"> </span> </span> </div> </div> </div> <div class=\\\"section\\\" id=\\\"SECTION_LANG910390648\\\" style=\\\"padding-top:0px;\\\"> <div class=\\\"heading\\\"> <div class=\\\"sectiontitle\\\" id=\\\"SECTNAME_LANG910390648\\\"> Languages</div> </div> <div class=\\\"paragraph firstparagraph\\\" id=\\\"PARAGRAPH_910390648_1_597519398\\\" style=\\\"padding-top:0px;\\\"> <div class=\\\"field singlecolumn\\\" id=\\\"910390648FRFM1\\\"> English, German, Hindi, Punjabi</div> </div> </div> <div class=\\\"section\\\" id=\\\"SECTION_SKLL910390649\\\" style=\\\"padding-top:0px;\\\"> <div class=\\\"heading\\\"> <div class=\\\"sectiontitle\\\" id=\\\"SECTNAME_SKLL910390649\\\"> Skills</div> </div> <div class=\\\"paragraph firstparagraph\\\" id=\\\"PARAGRAPH_910390649_1_597519401\\\" style=\\\"padding-top:0px;\\\"> <div class=\\\"field singlecolumn\\\" id=\\\"910390649FRFM1\\\"> budget, BI, content, clients, database, English, ETL, German, Google Analytics, Hindi, HTML, PHP, JavaScript, marketing, market, MS\\n    Access, MS Access, MS Excel, MS Project, Minitab, MySQL, optimization, profit, progress, Punjabi, Python, reporting, sales, SQL, Tableau, TSQL, Visio</div> </div> </div> </div>\"\n        ],\n        \"semantic_type\": \"\",\n        \"description\": \"\"\n      }\n    },\n    {\n      \"column\": \"Category\",\n      \"properties\": {\n        \"dtype\": \"category\",\n        \"num_unique_values\": 24,\n        \"samples\": [\n          \"FINANCE\",\n          \"TEACHER\",\n          \"CHEF\"\n        ],\n        \"semantic_type\": \"\",\n        \"description\": \"\"\n      }\n    }\n  ]\n}"
            }
          },
          "metadata": {},
          "execution_count": 88
        }
      ]
    },
    {
      "cell_type": "code",
      "source": [
        "df.info()"
      ],
      "metadata": {
        "execution": {
          "iopub.status.busy": "2023-08-13T14:27:59.685386Z",
          "iopub.execute_input": "2023-08-13T14:27:59.685754Z",
          "iopub.status.idle": "2023-08-13T14:27:59.699355Z",
          "shell.execute_reply.started": "2023-08-13T14:27:59.685703Z",
          "shell.execute_reply": "2023-08-13T14:27:59.698280Z"
        },
        "trusted": true,
        "id": "5PIPc0Ju18YH",
        "colab": {
          "base_uri": "https://localhost:8080/"
        },
        "outputId": "83c8367e-5286-47fe-d9aa-2ada467b6dd2"
      },
      "execution_count": null,
      "outputs": [
        {
          "output_type": "stream",
          "name": "stdout",
          "text": [
            "<class 'pandas.core.frame.DataFrame'>\n",
            "Index: 2111 entries, 1443 to 1999\n",
            "Data columns (total 4 columns):\n",
            " #   Column       Non-Null Count  Dtype \n",
            "---  ------       --------------  ----- \n",
            " 0   ID           2111 non-null   int64 \n",
            " 1   Resume_str   2111 non-null   object\n",
            " 2   Resume_html  2111 non-null   object\n",
            " 3   Category     2111 non-null   object\n",
            "dtypes: int64(1), object(3)\n",
            "memory usage: 82.5+ KB\n"
          ]
        }
      ]
    },
    {
      "cell_type": "markdown",
      "source": [
        "Here we see, there are 4 columns such as ID, Resume_str, Resume_html, and Category. Category columns are our target columns, and the rest of the target columns are used to train the model."
      ],
      "metadata": {
        "id": "awB-gjYB18YI"
      }
    },
    {
      "cell_type": "code",
      "source": [
        "df.shape"
      ],
      "metadata": {
        "execution": {
          "iopub.status.busy": "2023-08-13T14:27:59.701119Z",
          "iopub.execute_input": "2023-08-13T14:27:59.701505Z",
          "iopub.status.idle": "2023-08-13T14:27:59.712912Z",
          "shell.execute_reply.started": "2023-08-13T14:27:59.701473Z",
          "shell.execute_reply": "2023-08-13T14:27:59.711811Z"
        },
        "trusted": true,
        "id": "pizT3Yue18YI",
        "colab": {
          "base_uri": "https://localhost:8080/"
        },
        "outputId": "8b63127e-afae-4598-8b82-341b8e1aa47a"
      },
      "execution_count": null,
      "outputs": [
        {
          "output_type": "execute_result",
          "data": {
            "text/plain": [
              "(2111, 4)"
            ]
          },
          "metadata": {},
          "execution_count": 90
        }
      ]
    },
    {
      "cell_type": "code",
      "source": [
        "df['Category'].unique()"
      ],
      "metadata": {
        "execution": {
          "iopub.status.busy": "2023-08-13T14:27:59.714579Z",
          "iopub.execute_input": "2023-08-13T14:27:59.715556Z",
          "iopub.status.idle": "2023-08-13T14:27:59.723232Z",
          "shell.execute_reply.started": "2023-08-13T14:27:59.715530Z",
          "shell.execute_reply": "2023-08-13T14:27:59.722126Z"
        },
        "trusted": true,
        "id": "SuKEB7gY18YJ",
        "colab": {
          "base_uri": "https://localhost:8080/"
        },
        "outputId": "d25dbc38-4aae-4318-b90f-2630f9e0c440"
      },
      "execution_count": null,
      "outputs": [
        {
          "output_type": "execute_result",
          "data": {
            "text/plain": [
              "array(['CHEF', 'HR', 'CONSULTANT', 'AVIATION', 'ENGINEERING', 'BANKING',\n",
              "       'BUSINESS-DEVELOPMENT', 'ADVOCATE', 'FINANCE', 'DIGITAL-MEDIA',\n",
              "       'CONSTRUCTION', 'HEALTHCARE', 'DESIGNER', 'AGRICULTURE', 'ARTS',\n",
              "       'FITNESS', 'TEACHER', 'PUBLIC-RELATIONS', 'APPAREL',\n",
              "       'INFORMATION-TECHNOLOGY', 'ACCOUNTANT', 'SALES', 'BPO',\n",
              "       'AUTOMOBILE'], dtype=object)"
            ]
          },
          "metadata": {},
          "execution_count": 91
        }
      ]
    },
    {
      "cell_type": "code",
      "source": [
        "df['Category'].value_counts()"
      ],
      "metadata": {
        "execution": {
          "iopub.status.busy": "2023-08-13T14:27:59.724923Z",
          "iopub.execute_input": "2023-08-13T14:27:59.725477Z",
          "iopub.status.idle": "2023-08-13T14:27:59.736566Z",
          "shell.execute_reply.started": "2023-08-13T14:27:59.725446Z",
          "shell.execute_reply": "2023-08-13T14:27:59.735478Z"
        },
        "trusted": true,
        "id": "BilajT0D18YJ",
        "colab": {
          "base_uri": "https://localhost:8080/"
        },
        "outputId": "596c2d59-9182-4b54-90b8-21b76979271e"
      },
      "execution_count": null,
      "outputs": [
        {
          "output_type": "execute_result",
          "data": {
            "text/plain": [
              "Category\n",
              "BUSINESS-DEVELOPMENT      102\n",
              "INFORMATION-TECHNOLOGY    102\n",
              "CHEF                      100\n",
              "ENGINEERING               100\n",
              "ADVOCATE                  100\n",
              "FINANCE                   100\n",
              "ACCOUNTANT                100\n",
              "AVIATION                   99\n",
              "SALES                      99\n",
              "FITNESS                    99\n",
              "CONSULTANT                 98\n",
              "BANKING                    98\n",
              "HEALTHCARE                 98\n",
              "CONSTRUCTION               95\n",
              "PUBLIC-RELATIONS           94\n",
              "HR                         93\n",
              "DESIGNER                   91\n",
              "ARTS                       88\n",
              "TEACHER                    87\n",
              "APPAREL                    82\n",
              "DIGITAL-MEDIA              82\n",
              "AGRICULTURE                54\n",
              "AUTOMOBILE                 31\n",
              "BPO                        19\n",
              "Name: count, dtype: int64"
            ]
          },
          "metadata": {},
          "execution_count": 92
        }
      ]
    },
    {
      "cell_type": "code",
      "source": [
        "len(df['Category'].value_counts())"
      ],
      "metadata": {
        "execution": {
          "iopub.status.busy": "2023-08-13T14:27:59.738395Z",
          "iopub.execute_input": "2023-08-13T14:27:59.738909Z",
          "iopub.status.idle": "2023-08-13T14:27:59.747686Z",
          "shell.execute_reply.started": "2023-08-13T14:27:59.738844Z",
          "shell.execute_reply": "2023-08-13T14:27:59.746621Z"
        },
        "trusted": true,
        "id": "f_F3LRZ518YJ",
        "colab": {
          "base_uri": "https://localhost:8080/"
        },
        "outputId": "f79af836-7624-49f5-edfb-0472dc7aa6b9"
      },
      "execution_count": null,
      "outputs": [
        {
          "output_type": "execute_result",
          "data": {
            "text/plain": [
              "24"
            ]
          },
          "metadata": {},
          "execution_count": 93
        }
      ]
    },
    {
      "cell_type": "markdown",
      "source": [
        "# Exploratory Data Analysis (EDA)"
      ],
      "metadata": {
        "id": "m7V2eeUnmvRn"
      }
    },
    {
      "cell_type": "code",
      "source": [
        "plt.figure(figsize=(15, 6))\n",
        "sns.countplot(x=df['Category'])\n",
        "plt.xticks(rotation=90)\n",
        "plt.title('Category Distribution')\n",
        "plt.show()\n"
      ],
      "metadata": {
        "execution": {
          "iopub.status.busy": "2023-08-13T14:27:59.749280Z",
          "iopub.execute_input": "2023-08-13T14:27:59.750317Z",
          "iopub.status.idle": "2023-08-13T14:28:00.202126Z",
          "shell.execute_reply.started": "2023-08-13T14:27:59.750288Z",
          "shell.execute_reply": "2023-08-13T14:28:00.201114Z"
        },
        "trusted": true,
        "id": "sbnFWTuX18YK",
        "colab": {
          "base_uri": "https://localhost:8080/",
          "height": 644
        },
        "outputId": "5a4d6996-97f7-4d00-86ae-596bf1f30625"
      },
      "execution_count": null,
      "outputs": [
        {
          "output_type": "display_data",
          "data": {
            "text/plain": [
              "<Figure size 1500x600 with 1 Axes>"
            ],
            "image/png": "[encoded data removed]"
          },
          "metadata": {}
        }
      ]
    },
    {
      "cell_type": "code",
      "source": [
        "missing_values = df.isnull().sum()\n",
        "\n",
        "\n",
        "plt.figure(figsize=(8, 5))\n",
        "sns.heatmap(df.isnull(), cbar=False, cmap='viridis')\n",
        "plt.title('Missing Values Heatmap')\n",
        "plt.show()\n"
      ],
      "metadata": {
        "execution": {
          "iopub.status.busy": "2023-08-13T14:28:02.583095Z",
          "iopub.execute_input": "2023-08-13T14:28:02.584145Z",
          "iopub.status.idle": "2023-08-13T14:28:03.011783Z",
          "shell.execute_reply.started": "2023-08-13T14:28:02.584108Z",
          "shell.execute_reply": "2023-08-13T14:28:03.010828Z"
        },
        "trusted": true,
        "id": "pKjQ-L-l18YL",
        "colab": {
          "base_uri": "https://localhost:8080/",
          "height": 468
        },
        "outputId": "f436d6c2-44e6-4388-ef37-441988969774"
      },
      "execution_count": null,
      "outputs": [
        {
          "output_type": "display_data",
          "data": {
            "text/plain": [
              "<Figure size 800x500 with 1 Axes>"
            ],
            "image/png": "[encoded data removed]"
          },
          "metadata": {}
        }
      ]
    },
    {
      "cell_type": "code",
      "source": [
        "df.isnull().sum()"
      ],
      "metadata": {
        "execution": {
          "iopub.status.busy": "2023-08-13T14:28:03.013206Z",
          "iopub.execute_input": "2023-08-13T14:28:03.014189Z",
          "iopub.status.idle": "2023-08-13T14:28:03.026228Z",
          "shell.execute_reply.started": "2023-08-13T14:28:03.014148Z",
          "shell.execute_reply": "2023-08-13T14:28:03.024959Z"
        },
        "trusted": true,
        "id": "opAov3nm18YL",
        "colab": {
          "base_uri": "https://localhost:8080/"
        },
        "outputId": "cc3b58ff-1812-46ae-fb20-251234513725"
      },
      "execution_count": null,
      "outputs": [
        {
          "output_type": "execute_result",
          "data": {
            "text/plain": [
              "ID             0\n",
              "Resume_str     0\n",
              "Resume_html    0\n",
              "Category       0\n",
              "dtype: int64"
            ]
          },
          "metadata": {},
          "execution_count": 96
        }
      ]
    },
    {
      "cell_type": "markdown",
      "source": [
        "## Cleaning function\n"
      ],
      "metadata": {
        "id": "JJs71I1G18YM"
      }
    },
    {
      "cell_type": "code",
      "source": [
        "\"\"\"\n",
        "The `resume_cleaning` function provided here is designed to preprocess resume text data for analysis. It employs a series of text cleaning steps, including removing HTML tags using regular expressions, eliminating non-alphabetic characters, digits, and multiple whitespaces, as well as replacing URLs with a space. Next, the text is converted to lowercase and tokenized using the NLTK library's word_tokenize function. Stopwords from the English language are removed, and stemming is applied to reduce words to their root form using the Porter stemming algorithm. Finally, the cleaned and preprocessed text is returned for further analysis or modeling.\n",
        "\"\"\"\n",
        "\n",
        "\n",
        "def resume_cleaning(text):\n",
        "\n",
        "    cleaned_text = re.sub(r'<.*?>', ' ', text)\n",
        "\n",
        "\n",
        "    cleaned_text = re.sub('[^a-zA-Z]', ' ', cleaned_text)\n",
        "    cleaned_text = re.sub(r'[^\\w\\s]|_', ' ', cleaned_text)\n",
        "    cleaned_text = re.sub(r'\\d+', ' ', cleaned_text)\n",
        "    cleaned_text = re.sub(r'\\s+', ' ', cleaned_text).strip()\n",
        "    cleaned_text=re.sub('http\\S+\\s', \" \", cleaned_text)\n",
        "\n",
        "\n",
        "\n",
        "    # Convert to lowercase\n",
        "    cleaned_text = cleaned_text.lower()\n",
        "    words = word_tokenize(cleaned_text)\n",
        "\n",
        "    # Remove stopwords\n",
        "    stop_words = set(stopwords.words('english'))\n",
        "    filtered_words = [word for word in words if word not in stop_words]\n",
        "\n",
        "    # Tokenize the cleaned text\n",
        "    words = word_tokenize(cleaned_text)\n",
        "\n",
        "    # Apply stemming\n",
        "    stemmer = PorterStemmer()\n",
        "    stemmed_words = [stemmer.stem(word) for word in filtered_words]\n",
        "\n",
        "    cleaned_text = ' '.join(stemmed_words)\n",
        "\n",
        "    return cleaned_text\n",
        "\n",
        "\n"
      ],
      "metadata": {
        "execution": {
          "iopub.status.busy": "2023-08-13T14:28:03.038403Z",
          "iopub.execute_input": "2023-08-13T14:28:03.038910Z",
          "iopub.status.idle": "2023-08-13T14:28:03.049077Z",
          "shell.execute_reply.started": "2023-08-13T14:28:03.038852Z",
          "shell.execute_reply": "2023-08-13T14:28:03.047968Z"
        },
        "trusted": true,
        "id": "igMzJV3X18YN"
      },
      "execution_count": null,
      "outputs": []
    },
    {
      "cell_type": "code",
      "source": [
        "#now apply text cleaning function in my dataset\n",
        "df['Cleaned_Resume']=df['Resume_str'].apply(lambda x:resume_cleaning(x))"
      ],
      "metadata": {
        "execution": {
          "iopub.status.busy": "2023-08-13T14:28:03.050487Z",
          "iopub.execute_input": "2023-08-13T14:28:03.051217Z",
          "iopub.status.idle": "2023-08-13T14:29:21.948966Z",
          "shell.execute_reply.started": "2023-08-13T14:28:03.051182Z",
          "shell.execute_reply": "2023-08-13T14:29:21.947951Z"
        },
        "trusted": true,
        "id": "fTVbPPdh18YN"
      },
      "execution_count": null,
      "outputs": []
    },
    {
      "cell_type": "code",
      "source": [
        "df.head()"
      ],
      "metadata": {
        "execution": {
          "iopub.status.busy": "2023-08-13T14:29:21.950642Z",
          "iopub.execute_input": "2023-08-13T14:29:21.951034Z",
          "iopub.status.idle": "2023-08-13T14:29:21.964142Z",
          "shell.execute_reply.started": "2023-08-13T14:29:21.950997Z",
          "shell.execute_reply": "2023-08-13T14:29:21.963147Z"
        },
        "trusted": true,
        "id": "2efrxy0A18YN",
        "colab": {
          "base_uri": "https://localhost:8080/",
          "height": 293
        },
        "outputId": "7e1101fa-f816-4c09-cc2d-f246c55937b7"
      },
      "execution_count": null,
      "outputs": [
        {
          "output_type": "execute_result",
          "data": {
            "text/plain": [
              "            ID                                         Resume_str  \\\n",
              "1443  16066857           SENIOR EXECUTIVE CHEF           Execu...   \n",
              "56    52979663           SENIOR HR             Highlights     ...   \n",
              "1131  15281412           CONSULTANT       Summary    Transitio...   \n",
              "2472  16279537           SUPERVISORY LOGISTICS MANAGEMENT SPEC...   \n",
              "1710  24647794           ENGINEERING INTERN           Profile ...   \n",
              "\n",
              "                                            Resume_html     Category  \\\n",
              "1443  <div class=\"fontsize fontface vmargins hmargin...         CHEF   \n",
              "56    <div class=\"fontsize fontface vmargins hmargin...           HR   \n",
              "1131  <div class=\"fontsize fontface vmargins hmargin...   CONSULTANT   \n",
              "2472  <div class=\"fontsize fontface vmargins hmargin...     AVIATION   \n",
              "1710  <div class=\"fontsize fontface vmargins hmargin...  ENGINEERING   \n",
              "\n",
              "                                         Cleaned_Resume  \n",
              "1443  senior execut chef execut profil seek employ e...  \n",
              "56    senior hr highlight safeti managementemploye e...  \n",
              "1131  consult summari transit applic develop secur p...  \n",
              "2472  supervisori logist manag specialist summari ta...  \n",
              "1710  engin intern profil profici entri level electr...  "
            ],
            "text/html": [
              "\n",
              "  <div id=\"df-fe459354-eaeb-4f45-b7d7-a2922674ea58\" class=\"colab-df-container\">\n",
              "    <div>\n",
              "<style scoped>\n",
              "    .dataframe tbody tr th:only-of-type {\n",
              "        vertical-align: middle;\n",
              "    }\n",
              "\n",
              "    .dataframe tbody tr th {\n",
              "        vertical-align: top;\n",
              "    }\n",
              "\n",
              "    .dataframe thead th {\n",
              "        text-align: right;\n",
              "    }\n",
              "</style>\n",
              "<table border=\"1\" class=\"dataframe\">\n",
              "  <thead>\n",
              "    <tr style=\"text-align: right;\">\n",
              "      <th></th>\n",
              "      <th>ID</th>\n",
              "      <th>Resume_str</th>\n",
              "      <th>Resume_html</th>\n",
              "      <th>Category</th>\n",
              "      <th>Cleaned_Resume</th>\n",
              "    </tr>\n",
              "  </thead>\n",
              "  <tbody>\n",
              "    <tr>\n",
              "      <th>1443</th>\n",
              "      <td>16066857</td>\n",
              "      <td>SENIOR EXECUTIVE CHEF           Execu...</td>\n",
              "      <td>&lt;div class=\"fontsize fontface vmargins hmargin...</td>\n",
              "      <td>CHEF</td>\n",
              "      <td>senior execut chef execut profil seek employ e...</td>\n",
              "    </tr>\n",
              "    <tr>\n",
              "      <th>56</th>\n",
              "      <td>52979663</td>\n",
              "      <td>SENIOR HR             Highlights     ...</td>\n",
              "      <td>&lt;div class=\"fontsize fontface vmargins hmargin...</td>\n",
              "      <td>HR</td>\n",
              "      <td>senior hr highlight safeti managementemploye e...</td>\n",
              "    </tr>\n",
              "    <tr>\n",
              "      <th>1131</th>\n",
              "      <td>15281412</td>\n",
              "      <td>CONSULTANT       Summary    Transitio...</td>\n",
              "      <td>&lt;div class=\"fontsize fontface vmargins hmargin...</td>\n",
              "      <td>CONSULTANT</td>\n",
              "      <td>consult summari transit applic develop secur p...</td>\n",
              "    </tr>\n",
              "    <tr>\n",
              "      <th>2472</th>\n",
              "      <td>16279537</td>\n",
              "      <td>SUPERVISORY LOGISTICS MANAGEMENT SPEC...</td>\n",
              "      <td>&lt;div class=\"fontsize fontface vmargins hmargin...</td>\n",
              "      <td>AVIATION</td>\n",
              "      <td>supervisori logist manag specialist summari ta...</td>\n",
              "    </tr>\n",
              "    <tr>\n",
              "      <th>1710</th>\n",
              "      <td>24647794</td>\n",
              "      <td>ENGINEERING INTERN           Profile ...</td>\n",
              "      <td>&lt;div class=\"fontsize fontface vmargins hmargin...</td>\n",
              "      <td>ENGINEERING</td>\n",
              "      <td>engin intern profil profici entri level electr...</td>\n",
              "    </tr>\n",
              "  </tbody>\n",
              "</table>\n",
              "</div>\n",
              "    <div class=\"colab-df-buttons\">\n",
              "\n",
              "  <div class=\"colab-df-container\">\n",
              "    <button class=\"colab-df-convert\" onclick=\"convertToInteractive('df-fe459354-eaeb-4f45-b7d7-a2922674ea58')\"\n",
              "            title=\"Convert this dataframe to an interactive table.\"\n",
              "            style=\"display:none;\">\n",
              "\n",
              "  <svg xmlns=\"http://www.w3.org/2000/svg\" height=\"24px\" viewBox=\"0 -960 960 960\">\n",
              "    <path d=\"M120-120v-720h720v720H120Zm60-500h600v-160H180v160Zm220 220h160v-160H400v160Zm0 220h160v-160H400v160ZM180-400h160v-160H180v160Zm440 0h160v-160H620v160ZM180-180h160v-160H180v160Zm440 0h160v-160H620v160Z\"/>\n",
              "  </svg>\n",
              "    </button>\n",
              "\n",
              "  <style>\n",
              "    .colab-df-container {\n",
              "      display:flex;\n",
              "      gap: 12px;\n",
              "    }\n",
              "\n",
              "    .colab-df-convert {\n",
              "      background-color: #E8F0FE;\n",
              "      border: none;\n",
              "      border-radius: 50%;\n",
              "      cursor: pointer;\n",
              "      display: none;\n",
              "      fill: #1967D2;\n",
              "      height: 32px;\n",
              "      padding: 0 0 0 0;\n",
              "      width: 32px;\n",
              "    }\n",
              "\n",
              "    .colab-df-convert:hover {\n",
              "      background-color: #E2EBFA;\n",
              "      box-shadow: 0px 1px 2px rgba(60, 64, 67, 0.3), 0px 1px 3px 1px rgba(60, 64, 67, 0.15);\n",
              "      fill: #174EA6;\n",
              "    }\n",
              "\n",
              "    .colab-df-buttons div {\n",
              "      margin-bottom: 4px;\n",
              "    }\n",
              "\n",
              "    [theme=dark] .colab-df-convert {\n",
              "      background-color: #3B4455;\n",
              "      fill: #D2E3FC;\n",
              "    }\n",
              "\n",
              "    [theme=dark] .colab-df-convert:hover {\n",
              "      background-color: #434B5C;\n",
              "      box-shadow: 0px 1px 3px 1px rgba(0, 0, 0, 0.15);\n",
              "      filter: drop-shadow(0px 1px 2px rgba(0, 0, 0, 0.3));\n",
              "      fill: #FFFFFF;\n",
              "    }\n",
              "  </style>\n",
              "\n",
              "    <script>\n",
              "      const buttonEl =\n",
              "        document.querySelector('#df-fe459354-eaeb-4f45-b7d7-a2922674ea58 button.colab-df-convert');\n",
              "      buttonEl.style.display =\n",
              "        google.colab.kernel.accessAllowed ? 'block' : 'none';\n",
              "\n",
              "      async function convertToInteractive(key) {\n",
              "        const element = document.querySelector('#df-fe459354-eaeb-4f45-b7d7-a2922674ea58');\n",
              "        const dataTable =\n",
              "          await google.colab.kernel.invokeFunction('convertToInteractive',\n",
              "                                                    [key], {});\n",
              "        if (!dataTable) return;\n",
              "\n",
              "        const docLinkHtml = 'Like what you see? Visit the ' +\n",
              "          '<a target=\"_blank\" href=https://colab.research.google.com/notebooks/data_table.ipynb>data table notebook</a>'\n",
              "          + ' to learn more about interactive tables.';\n",
              "        element.innerHTML = '';\n",
              "        dataTable['output_type'] = 'display_data';\n",
              "        await google.colab.output.renderOutput(dataTable, element);\n",
              "        const docLink = document.createElement('div');\n",
              "        docLink.innerHTML = docLinkHtml;\n",
              "        element.appendChild(docLink);\n",
              "      }\n",
              "    </script>\n",
              "  </div>\n",
              "\n",
              "\n",
              "<div id=\"df-7d055688-7dc0-4737-b9a8-f0dc1cdbf162\">\n",
              "  <button class=\"colab-df-quickchart\" onclick=\"quickchart('df-7d055688-7dc0-4737-b9a8-f0dc1cdbf162')\"\n",
              "            title=\"Suggest charts\"\n",
              "            style=\"display:none;\">\n",
              "\n",
              "<svg xmlns=\"http://www.w3.org/2000/svg\" height=\"24px\"viewBox=\"0 0 24 24\"\n",
              "     width=\"24px\">\n",
              "    <g>\n",
              "        <path d=\"M19 3H5c-1.1 0-2 .9-2 2v14c0 1.1.9 2 2 2h14c1.1 0 2-.9 2-2V5c0-1.1-.9-2-2-2zM9 17H7v-7h2v7zm4 0h-2V7h2v10zm4 0h-2v-4h2v4z\"/>\n",
              "    </g>\n",
              "</svg>\n",
              "  </button>\n",
              "\n",
              "<style>\n",
              "  .colab-df-quickchart {\n",
              "      --bg-color: #E8F0FE;\n",
              "      --fill-color: #1967D2;\n",
              "      --hover-bg-color: #E2EBFA;\n",
              "      --hover-fill-color: #174EA6;\n",
              "      --disabled-fill-color: #AAA;\n",
              "      --disabled-bg-color: #DDD;\n",
              "  }\n",
              "\n",
              "  [theme=dark] .colab-df-quickchart {\n",
              "      --bg-color: #3B4455;\n",
              "      --fill-color: #D2E3FC;\n",
              "      --hover-bg-color: #434B5C;\n",
              "      --hover-fill-color: #FFFFFF;\n",
              "      --disabled-bg-color: #3B4455;\n",
              "      --disabled-fill-color: #666;\n",
              "  }\n",
              "\n",
              "  .colab-df-quickchart {\n",
              "    background-color: var(--bg-color);\n",
              "    border: none;\n",
              "    border-radius: 50%;\n",
              "    cursor: pointer;\n",
              "    display: none;\n",
              "    fill: var(--fill-color);\n",
              "    height: 32px;\n",
              "    padding: 0;\n",
              "    width: 32px;\n",
              "  }\n",
              "\n",
              "  .colab-df-quickchart:hover {\n",
              "    background-color: var(--hover-bg-color);\n",
              "    box-shadow: 0 1px 2px rgba(60, 64, 67, 0.3), 0 1px 3px 1px rgba(60, 64, 67, 0.15);\n",
              "    fill: var(--button-hover-fill-color);\n",
              "  }\n",
              "\n",
              "  .colab-df-quickchart-complete:disabled,\n",
              "  .colab-df-quickchart-complete:disabled:hover {\n",
              "    background-color: var(--disabled-bg-color);\n",
              "    fill: var(--disabled-fill-color);\n",
              "    box-shadow: none;\n",
              "  }\n",
              "\n",
              "  .colab-df-spinner {\n",
              "    border: 2px solid var(--fill-color);\n",
              "    border-color: transparent;\n",
              "    border-bottom-color: var(--fill-color);\n",
              "    animation:\n",
              "      spin 1s steps(1) infinite;\n",
              "  }\n",
              "\n",
              "  @keyframes spin {\n",
              "    0% {\n",
              "      border-color: transparent;\n",
              "      border-bottom-color: var(--fill-color);\n",
              "      border-left-color: var(--fill-color);\n",
              "    }\n",
              "    20% {\n",
              "      border-color: transparent;\n",
              "      border-left-color: var(--fill-color);\n",
              "      border-top-color: var(--fill-color);\n",
              "    }\n",
              "    30% {\n",
              "      border-color: transparent;\n",
              "      border-left-color: var(--fill-color);\n",
              "      border-top-color: var(--fill-color);\n",
              "      border-right-color: var(--fill-color);\n",
              "    }\n",
              "    40% {\n",
              "      border-color: transparent;\n",
              "      border-right-color: var(--fill-color);\n",
              "      border-top-color: var(--fill-color);\n",
              "    }\n",
              "    60% {\n",
              "      border-color: transparent;\n",
              "      border-right-color: var(--fill-color);\n",
              "    }\n",
              "    80% {\n",
              "      border-color: transparent;\n",
              "      border-right-color: var(--fill-color);\n",
              "      border-bottom-color: var(--fill-color);\n",
              "    }\n",
              "    90% {\n",
              "      border-color: transparent;\n",
              "      border-bottom-color: var(--fill-color);\n",
              "    }\n",
              "  }\n",
              "</style>\n",
              "\n",
              "  <script>\n",
              "    async function quickchart(key) {\n",
              "      const quickchartButtonEl =\n",
              "        document.querySelector('#' + key + ' button');\n",
              "      quickchartButtonEl.disabled = true;  // To prevent multiple clicks.\n",
              "      quickchartButtonEl.classList.add('colab-df-spinner');\n",
              "      try {\n",
              "        const charts = await google.colab.kernel.invokeFunction(\n",
              "            'suggestCharts', [key], {});\n",
              "      } catch (error) {\n",
              "        console.error('Error during call to suggestCharts:', error);\n",
              "      }\n",
              "      quickchartButtonEl.classList.remove('colab-df-spinner');\n",
              "      quickchartButtonEl.classList.add('colab-df-quickchart-complete');\n",
              "    }\n",
              "    (() => {\n",
              "      let quickchartButtonEl =\n",
              "        document.querySelector('#df-7d055688-7dc0-4737-b9a8-f0dc1cdbf162 button');\n",
              "      quickchartButtonEl.style.display =\n",
              "        google.colab.kernel.accessAllowed ? 'block' : 'none';\n",
              "    })();\n",
              "  </script>\n",
              "</div>\n",
              "\n",
              "    </div>\n",
              "  </div>\n"
            ],
            "application/vnd.google.colaboratory.intrinsic+json": {
              "type": "dataframe",
              "variable_name": "df",
              "summary": "{\n  \"name\": \"df\",\n  \"rows\": 2111,\n  \"fields\": [\n    {\n      \"column\": \"ID\",\n      \"properties\": {\n        \"dtype\": \"number\",\n        \"std\": 21647735,\n        \"min\": 3547447,\n        \"max\": 99714410,\n        \"num_unique_values\": 2111,\n        \"samples\": [\n          28635795,\n          61065616,\n          14364597\n        ],\n        \"semantic_type\": \"\",\n        \"description\": \"\"\n      }\n    },\n    {\n      \"column\": \"Resume_str\",\n      \"properties\": {\n        \"dtype\": \"string\",\n        \"num_unique_values\": 2109,\n        \"samples\": [\n          \"         APPLECARE CPU ADVISOR           Summary     My goal is to establish a rewarding career in customer service and data entry using my skills in excel proficiency and organization, while being collaborative with a team to serve consumers to provide a positive customer experience.       Highlights          Microsoft Office proficiency  Excellent communication skills  Microsoft Excel certified  Filing and data archiving      Time management  Customer service-oriented  Self-directed  Exceptional telephone etiquette            Accomplishments     Reduced technical escalations to management by 95% to only 2-3 per day.       Skills     Advertising, Budget Maintenance, Data Entry, Graphic Design,  Marketing, Office management, Research,  Phone Support       Experience      AppleCare CPU Advisor    July 2014   to   Current     Company Name   \\uff0d   City  ,   State      Receive inbound calls to provide the customer an individualized experience educating the customer on how to use their Macintosh (Apple) products most efficiently.  Collaborate with customers to improve user experience with software and applications; Resolve technical and computer operating system issues.  Verified that information in the computer system was up-to-date and accurate using iLog/iDesk case-logging tools.  Identified and resolved system and account issues.  Worked with team to represent Apple positively and meet customer expectations.  Adhere and Comply with Apple's business conduct policy; maintain integrity, honesty and respect.          Acquisitions & Public Relations Coordinator    May 2014   to   Current     Company Name   \\uff0d   City  ,   State      Conduct and organize research-relevant content for use on the YDM social media outlets for other means of marketing & advertising.  Contact small businesses and corporations in the Greater Charlotte area to inquire about their marketing needs and acquire sales for Your Design Market products and marketing services to build and establish a firm client base.  Eliminated outdated records by sending the records to be scanned.  Arrange and schedule appointments between the client and the graphics design team.  Host Your Design Market product launch parties introducing latest promotional deals to attain clientele.  Respond to business email inquiries.  Created monthly reports for records, closed terminated records and maintained a master list of clients and potential clients.  Organized billing and invoice data and prepared accounts receivable and expected revenue reports for CEO.  Write and mail response letters.          Hostess    March 2009   to   July 2009     Company Name   \\uff0d   City  ,   State      Provided a warm and welcoming environment for guests.  Assisted diners with seating as needed  Worked with team members to encourage guest satisfaction.  Maintained a clean environment.  Maintained contact with kitchen staff, management, serving staff, and customers  Inspected dining and serving areas to ensure cleanliness and proper setup  Rectified guest complaints.  Planned out the seating chart and organized the reservations.          Education      B.S   :   Business   ,   Present    University of Phoenix    \\uff0d   City  ,   State      GPA:   GPA: 3.0     Business GPA: 3.0         B.A   :   Communication Communication Media  ,   May 2007    Oakwood University   \\uff0d   City  ,   State      GPA:   GPA: 3.0    Communication Communication Media GPA: 3.0        High School Diploma   :     2004    Vance High School                  Additional Information      Volunteer Endeavors:\\nPathfinders of the Seventh Day Adventist Church| August 1998-present \\n1801 Double Oaks Rd. Charlotte, NC 28206 & 827 Tom Hunter Rd, Charlotte, NC 28213 \\n--Community Outreach, Soup Kitchen, Clothes Drive, Fundraising for non-profit organizations, Youth Leadership Development, and life skills enriching activities.     \",\n          \"         BPO TEAM LEADER       Summary    Seeking to provide top-quality support to ensure a competitive advantage in the global marketplace.      Accomplishments    Recognized for playing an instrumental role in exceeding company expectations for turn around time during 4th quarter at 95% in 4 days.\\u00a0\\u00a0 Achieved a strong relationship with agents/sales of company partners in exceeding groups expectation of service, and increased sales relations.      Experience      BPO Team Leader   02/2015   to   02/2017     Company Name   City  ,   State       Managed and motivate BPO Onboarding Team to meet team goals  Auditor of documentation and group implementation.  Interact with PPO Network management, clients, agents and sales  Executed and met project deadlines  Strong sense of urgency; able to resolve escalated issues immediately.  Developed and executed implementation workflow/processes.  Maintain 95% within 4 days TAT for implementation of groups, 5% above agreement with client.  Manage over 3000 clients and brokers.          BPO Implementation Specialist   05/2013   to   02/2015     Company Name   City  ,   State       Infrastructure for O drive and folders.  Developed a more\\u00a0efficient system for emails/BPO Workflow and manual  Enhanced\\u00a0and improved\\u00a0maintenance of agent/group information\\u00a0with DW (Data Warehouse program)   Assistant to Account management team and VP of Administration.       \\u200b    \\u200b         Re-pricing Coordinator   06/2009   to   06/2013     Company Name   City  ,   State       Re-pricing of\\u00a0HCFA and UB's claims.\\u00a0\\u00a0  Developed relationships with PPO network management vendors:\\u00a0   Select Health Partners, Encore, Multiplan, Medicare, DHS and Aetna claims.  Correspond with Examiners regarding status of RRT referrals.  Solely responsible for all Aetna claims, 30,000 lives.\\u00a0 Implemented workflow and\\u00a0first manual of Aetna process.  Improved and decreased errors with auditing process  Verification of Provider/Facility PPO status.             Administrative Assistant/HR Assistant   04/2004   to   04/2009     Company Name   City  ,   State       EZ-Movers - Long Distance Dispatcher Assistant.  Long Distance scheduling of drivers/trucks.  Administrative paperwork for pickup and delivery.  Data entry of information of customers.  Spreadsheet upkeep of scheduled deliveries.  Interact with customers and drivers in regards to pickups/deliveries and/or payments.  Rainbow Hospice - Receptionist.  Front desk duties.  Incoming and outgoing faxes.  Assist PCM, Clinical secretary, RN, Social workers.  Handle all incoming calls, to both main office and ARK location.  Process all faxes accordingly.  Keep accurate track of overnight calls, and team faxes.  General Administrative duties.  Answering phones.  Processing invoices.  Data entry of all purchase orders, using scanning system, batch invoices and close file.  AS400 used.          Administrative Assistant II/HR Coordinator   08/2002   to   01/2004     Company Name   City  ,   State       Assist management in coordination of organizational administration activities (performance review, cost center updates, customer issues) and within scope of authority, resolve problems and issues independently and proactively.  Responsible for the daily operations of the field office, assuring employees were up to date with pertinent information; work closely with the Office of Building in any issues.  Prepare and process, submit reports, timekeeping and other payroll and business operations processes; train staff or management on timekeeping and other administrative processes.  Expense reports submission.  Review; approve all invoices/billing for process.  Submission of checks for payments.  Utilize SAP program.  Assist management in special projects.  Attend meetings, seminars and record notes or provide information when needed.  Schedule and coordinate meetings, conferences, travel arrangements and maintain group or manager's business calendar.  Manage the process of on-board additions/transfers to staff to assist the manger in ensuring a smooth transition.  Responsible for the day to day coordination and routine administration with LAN activities for field office.  Interface with internal and external contacts regarding business unit administration issues and concerns.  Demonstrate the ability to organize and balance the responsibilities of budget control (travel, supplies, invoice processing).  Excellent interpersonal skills, with the ability to interact with internal/external business partners and staff at all levels.  Excellent organizational skills to prioritize and coordinate multiple tasks.          Education      Producers License  :   Life and Health   2013       Kaplan   City  ,   State               B.A  :   Business Administration   2018       Kaplan University   City  ,   State               Associate of Science  :   Business Administration   1992       Northwestern Business College   City  ,   State       Business Administration          Pastoral Counseling   2014       New Hope Counseling School   City  ,   State               B.A. (nonaccrediated)  :   Ministry and Biblical Studies   2014       International School of Ministry   City  ,   State               Skills     Administrative duties: \\u00a0\\u00a0Active Learning, Calendaring, Client Relations, Computer Proficiency, Coordination, Creative Problem Solving, Critical Thinking, Customer Needs Assessment, Customer Service,\\u00a0Data Entry, Documentation, Email, Executive Management Support, Filing, Grammar, Internet Research, Letters and Memos,\\u00a0,\\u00a0Multi-Task Management, Organizational Skills, Prioritization,\\u00a0Scheduling, Service Orientation, Telephone Skills, Time Management, Travel Arrangements,\\u00a0 Type\\u00a085 WPM, Typing, Vendor Management, Documentation auditor.\\u00a0 Hospice Assistant, Human Resources assistant.\\u00a0Invoice processing,\\u00a0\\u00a0Order entry,\\u00a0\\u00a0Re-pricing of claims, Receptionist, Recruiting and trainer.\\u00a0   People skills : great\\u00a0enthusiastic people person, advanced problem-solving, great organizational skills.\\u00a0  Computer skills:\\u00a0  MS Office, Data entry, RIMS, SAP, Outlook, Data Warehouse Maintenance, Provider Maintenance Microsoft Excel, Microsoft Office Suite, Microsoft Outlook, Microsoft PowerPoint, Microsoft Word.    \",\n          \"         SENIOR DIGITAL MARKETING ANALYST       Summary    Highly analytical and process-oriented data analyst with in-depth knowledge of \\nmarketing project management, data manipulation and visualization. Furnish insights, analytics and business intelligence to advance opportunity identification, process reengineering and corporate growth.\\nCore Qualifications  \\nMarket Segmentation\\nBusiness Intelligence\\nReporting\\nRegression Analysis\\nBusiness Analysis\\nDashboard generation\\nData Mining\\nData Modeling\\nStatistical Analysis\\nData Experiments\\nProject Management\\nProcess Improvement      Highlights        Power user of MS Excel, Power BI, Power Query, Power Pivot, Qlikview Desktop, Minitab, Tableau, Google Analytics, JIRA, Salesforce, TSQL, SQL, HTML, PHP, JavaScript, MS Access, MS Visio, MS Project.\\nIn progress - R, Python.              Experience     07/2016   to   Current     Senior Digital Marketing Analyst    Company Name   \\uff0d   City  ,   State      Design and build dashboards to help analyze, monitor and visualize key performance metrics.  ADD skills, accomplishment style.  Interpret data, extract trends and identify insights or opportunities for product decisions.  Design and monitor end-user reporting tools and systems, ensuring reports are accurate and up-to-date.  Work with internal stakeholders and teams across the company.  Accomplishment:.  A 30% increase in revenue by segmenting, resulting in an incremental $2M profit.         02/2014   to   03/2016     Web Analyst    Company Name   \\uff0d   City  ,   State      Extracted, transformed and loaded (ETL) customer data using code that was\\n    Developed.  using SQL.  Built dashboards to monitor and control marketing efforts.  Helped identify and repair datasets that are incomplete, inconsistent, or require\\n    cleaning.  Handled internal customer data inquiries, data investigations, or other information\\n    requests from project teams.  Helped investigate and understand available data sources on the market to solve\\n    customer site content challenges.  Accomplishment:.  A 20% optimization in marketing cost by re-allocating $2M budget to profitable areas.         06/2002   to   08/2005     Web Developer    Company Name   \\uff0d   City        Developed customized web solutions using PHP, HTML, and JavaScript for clients.  Created database structures, relationships, and data types in MySQL and MS\\n    Access.  Accomplishment:.  Increase of 22% in sales by increasing overall visitor traffic by over 400K.          Education          Masters of Business Administration             2013     MBA      University of Redlands                 2011     Bachelor of Sciences      University of Hamburg                 2007     College - Berufsschule City Nord,              Languages    English, German, Hindi, Punjabi      Skills    budget, BI, content, clients, database, English, ETL, German, Google Analytics, Hindi, HTML, PHP, JavaScript, marketing, market, MS\\n    Access, MS Access, MS Excel, MS Project, Minitab, MySQL, optimization, profit, progress, Punjabi, Python, reporting, sales, SQL, Tableau, TSQL, Visio   \"\n        ],\n        \"semantic_type\": \"\",\n        \"description\": \"\"\n      }\n    },\n    {\n      \"column\": \"Resume_html\",\n      \"properties\": {\n        \"dtype\": \"string\",\n        \"num_unique_values\": 2109,\n        \"samples\": [\n          \"<div class=\\\"fontsize fontface vmargins hmargins linespacing pagesize\\\" id=\\\"document\\\"> <div class=\\\"section firstsection\\\" id=\\\"SECTION_NAME530788984\\\" style=\\\"\\n      padding-top:0px;\\n    \\\"> <div class=\\\"paragraph PARAGRAPH_NAME firstparagraph\\\" id=\\\"PARAGRAPH_530788984_1_346657435\\\" style=\\\"\\n      padding-top:0px;\\n    \\\"> <div class=\\\"name thinbottomborder\\\" itemprop=\\\"name\\\"> <span class=\\\"field\\\" id=\\\"530788984FNAM1\\\"> </span> <span> </span> <span class=\\\"field\\\" id=\\\"530788984LNAM1\\\"> APPLECARE CPU ADVISOR</span> </div> <div class=\\\"myGap\\\"> </div> <div class=\\\"lowerborder thinbottomborder\\\"> </div> </div> </div> <div class=\\\"section\\\" id=\\\"SECTION_SUMM530788986\\\" style=\\\"\\n      padding-top:0px;\\n    \\\"> <div class=\\\"heading\\\"> <div class=\\\"sectiontitle thinbottomborder\\\" id=\\\"SECTNAME_SUMM530788986\\\"> Summary</div> </div> <div class=\\\"paragraph firstparagraph\\\" id=\\\"PARAGRAPH_530788986_1_346657450\\\" style=\\\"\\n      padding-top:0px;\\n    \\\"> <div class=\\\"field singlecolumn\\\" id=\\\"530788986FRFM1\\\"> <p align=\\\"LEFT\\\"> My goal is to establish a rewarding career in customer service and data entry using my skills in excel proficiency and organization, while being collaborative with a team to serve consumers to provide a positive customer experience.</p> </div> </div> </div> <div class=\\\"section\\\" id=\\\"SECTION_HILT530788987\\\" style=\\\"\\n      padding-top:0px;\\n    \\\"> <div class=\\\"heading\\\"> <div class=\\\"sectiontitle thinbottomborder\\\" id=\\\"SECTNAME_HILT530788987\\\"> Highlights</div> </div> <div class=\\\"paragraph firstparagraph\\\" id=\\\"PARAGRAPH_530788987_1_346662183\\\" style=\\\"\\n      padding-top:0px;\\n    \\\"> <div class=\\\"singlecolumn maincolumn\\\"> <table class=\\\"twocol\\\"> <tbody> <tr> <td class=\\\"field twocol_1 charspace\\\" id=\\\"530788987SKC11\\\"> <ul> <li> Microsoft Office proficiency</li> <li> Excellent communication skills</li> <li> Microsoft Excel certified</li> <li> Filing and data archiving</li> </ul> </td> <td class=\\\"field twocol_2 charspace\\\" id=\\\"530788987SKC21\\\"> <ul> <li> Time management</li> <li> Customer service-oriented</li> <li> Self-directed</li> <li> Exceptional telephone etiquette</li> </ul> </td> </tr> </tbody> </table> </div> </div> </div> <div class=\\\"section\\\" id=\\\"SECTION_ACCM530788988\\\" style=\\\"\\n      padding-top:0px;\\n    \\\"> <div class=\\\"heading\\\"> <div class=\\\"sectiontitle thinbottomborder\\\" id=\\\"SECTNAME_ACCM530788988\\\"> Accomplishments</div> </div> <div class=\\\"paragraph firstparagraph\\\" id=\\\"PARAGRAPH_530788988_1_346663214\\\" style=\\\"\\n      padding-top:0px;\\n    \\\"> <div class=\\\"field singlecolumn\\\" id=\\\"530788988FRFM1\\\"> <p align=\\\"LEFT\\\"> Reduced technical escalations to management by 95% to only 2-3 per day.</p> </div> </div> </div> <div class=\\\"section\\\" id=\\\"SECTION_SKLL530788998\\\" style=\\\"\\n      padding-top:0px;\\n    \\\"> <div class=\\\"heading\\\"> <div class=\\\"sectiontitle thinbottomborder\\\" id=\\\"SECTNAME_SKLL530788998\\\"> Skills</div> </div> <div class=\\\"paragraph firstparagraph\\\" id=\\\"PARAGRAPH_530788998_1_346657452\\\" style=\\\"\\n      padding-top:0px;\\n    \\\"> <div class=\\\"field singlecolumn\\\" id=\\\"530788998FRFM1\\\"> <p align=\\\"LEFT\\\"> Advertising, Budget Maintenance, Data Entry, Graphic Design,  Marketing, Office management, Research,  Phone Support</p> </div> </div> </div> <div class=\\\"section\\\" id=\\\"SECTION_EXPR530788989\\\" style=\\\"\\n      padding-top:0px;\\n    \\\"> <div class=\\\"heading\\\"> <div class=\\\"sectiontitle thinbottomborder\\\" id=\\\"SECTNAME_EXPR530788989\\\"> Experience</div> </div> <div class=\\\"paragraph firstparagraph\\\" id=\\\"PARAGRAPH_530788989_1_346657439\\\" itemscope=\\\"\\\" itemtype=\\\"https://schema.org/Organization\\\" style=\\\"\\n      padding-top:0px;\\n    \\\"> <div class=\\\"singlecolumn\\\"> <span class=\\\"paddedline\\\"> <span class=\\\"jobtitle\\\" id=\\\"530788989JTIT1\\\"> AppleCare CPU Advisor</span> <br/> <span> <span class=\\\"jobdates\\\" format=\\\"%B %Y\\\" id=\\\"530788989JSTD1\\\"> July 2014</span> <span>  to </span> <span class=\\\"jobdates\\\" format=\\\"%B %Y\\\" id=\\\"530788989EDDT1\\\"> Current</span> </span> </span> <span class=\\\"paddedline\\\" itemscope=\\\"\\\" itemtype=\\\"https://schema.org/postalAddress\\\"> <span class=\\\"companyname\\\" id=\\\"530788989COMP1\\\" itemprop=\\\"name\\\"> Company Name</span> <span>  \\uff0d </span> <span class=\\\"joblocation jobcity\\\" id=\\\"530788989JCIT1\\\" itemprop=\\\"addressLocality\\\"> City</span> <span> , </span> <span class=\\\"joblocation jobstate\\\" id=\\\"530788989JSTA1\\\" itemprop=\\\"addressRegion\\\"> State</span> </span> <span class=\\\"paddedline\\\"> <span class=\\\"jobline\\\" id=\\\"530788989JDES1\\\" itemprop=\\\"description\\\"> <ul> <li> Receive inbound calls to provide the customer an individualized experience educating the customer on how to use their Macintosh (Apple) products most efficiently.</li> <li> Collaborate with customers to improve user experience with software and applications; Resolve technical and computer operating system issues.</li> <li> Verified that information in the computer system was up-to-date and accurate using iLog/iDesk case-logging tools.</li> <li> Identified and resolved system and account issues.</li> <li> Worked with team to represent Apple positively and meet customer expectations.</li> <li> Adhere and Comply with Apple's business conduct policy; maintain integrity, honesty and respect.</li> </ul> </span> </span> </div> </div> <div class=\\\"paragraph\\\" id=\\\"PARAGRAPH_530788989_2_346657441\\\" itemscope=\\\"\\\" itemtype=\\\"https://schema.org/Organization\\\" style=\\\"\\n      padding-top:0px;\\n    \\\"> <div class=\\\"singlecolumn\\\"> <span class=\\\"paddedline\\\"> <span class=\\\"jobtitle\\\" id=\\\"530788989JTIT2\\\"> Acquisitions &amp; Public Relations Coordinator</span> <br/> <span> <span class=\\\"jobdates\\\" format=\\\"%B %Y\\\" id=\\\"530788989JSTD2\\\"> May 2014</span> <span>  to </span> <span class=\\\"jobdates\\\" format=\\\"%B %Y\\\" id=\\\"530788989EDDT2\\\"> Current</span> </span> </span> <span class=\\\"paddedline\\\" itemscope=\\\"\\\" itemtype=\\\"https://schema.org/postalAddress\\\"> <span class=\\\"companyname\\\" id=\\\"530788989COMP2\\\" itemprop=\\\"name\\\"> Company Name</span> <span>  \\uff0d </span> <span class=\\\"joblocation jobcity\\\" id=\\\"530788989JCIT2\\\" itemprop=\\\"addressLocality\\\"> City</span> <span> , </span> <span class=\\\"joblocation jobstate\\\" id=\\\"530788989JSTA2\\\" itemprop=\\\"addressRegion\\\"> State</span> </span> <span class=\\\"paddedline\\\"> <span class=\\\"jobline\\\" id=\\\"530788989JDES2\\\" itemprop=\\\"description\\\"> <ul> <li> Conduct and organize research-relevant content for use on the YDM social media outlets for other means of marketing &amp; advertising.</li> <li> Contact small businesses and corporations in the Greater Charlotte area to inquire about their marketing needs and acquire sales for Your Design Market products and marketing services to build and establish a firm client base.</li> <li> Eliminated outdated records by sending the records to be scanned.</li> <li> Arrange and schedule appointments between the client and the graphics design team.</li> <li> Host Your Design Market product launch parties introducing latest promotional deals to attain clientele.</li> <li> Respond to business email inquiries.</li> <li> Created monthly reports for records, closed terminated records and maintained a master list of clients and potential clients.</li> <li> Organized billing and invoice data and prepared accounts receivable and expected revenue reports for CEO.</li> <li> Write and mail response letters.</li> </ul> </span> </span> </div> </div> <div class=\\\"paragraph\\\" id=\\\"PARAGRAPH_530788989_3_346657444\\\" itemscope=\\\"\\\" itemtype=\\\"https://schema.org/Organization\\\" style=\\\"\\n      padding-top:0px;\\n    \\\"> <div class=\\\"singlecolumn\\\"> <span class=\\\"paddedline\\\"> <span class=\\\"jobtitle\\\" id=\\\"530788989JTIT3\\\"> Hostess</span> <br/> <span> <span class=\\\"jobdates\\\" format=\\\"%B %Y\\\" id=\\\"530788989JSTD3\\\"> March 2009</span> <span>  to </span> <span class=\\\"jobdates\\\" format=\\\"%B %Y\\\" id=\\\"530788989EDDT3\\\"> July 2009</span> </span> </span> <span class=\\\"paddedline\\\" itemscope=\\\"\\\" itemtype=\\\"https://schema.org/postalAddress\\\"> <span class=\\\"companyname\\\" id=\\\"530788989COMP3\\\" itemprop=\\\"name\\\"> Company Name</span> <span>  \\uff0d </span> <span class=\\\"joblocation jobcity\\\" id=\\\"530788989JCIT3\\\" itemprop=\\\"addressLocality\\\"> City</span> <span> , </span> <span class=\\\"joblocation jobstate\\\" id=\\\"530788989JSTA3\\\" itemprop=\\\"addressRegion\\\"> State</span> </span> <span class=\\\"paddedline\\\"> <span class=\\\"jobline\\\" id=\\\"530788989JDES3\\\" itemprop=\\\"description\\\"> <ul> <li> Provided a warm and welcoming environment for guests.</li> <li> Assisted diners with seating as needed</li> <li> Worked with team members to encourage guest satisfaction.</li> <li> Maintained a clean environment.</li> <li> Maintained contact with kitchen staff, management, serving staff, and customers</li> <li> Inspected dining and serving areas to ensure cleanliness and proper setup</li> <li> Rectified guest complaints.</li> <li> Planned out the seating chart and organized the reservations.</li> </ul> </span> </span> </div> </div> </div> <div class=\\\"section\\\" id=\\\"SECTION_EDUC530788990\\\" style=\\\"\\n      padding-top:0px;\\n    \\\"> <div class=\\\"heading\\\"> <div class=\\\"sectiontitle thinbottomborder\\\" id=\\\"SECTNAME_EDUC530788990\\\"> Education</div> </div> <div class=\\\"paragraph firstparagraph\\\" id=\\\"PARAGRAPH_530788990_1_346657447\\\" itemscope=\\\"\\\" itemtype=\\\"https://schema.org/EducationalOrganization\\\" style=\\\"\\n      padding-top:0px;\\n    \\\"> <div class=\\\"singlecolumn\\\"> <span class=\\\"paddedline\\\" itemprop=\\\"description\\\"> <span class=\\\"degree\\\" dependency=\\\"DGRE\\\" id=\\\"530788990DGRE1\\\" itemprop=\\\"name\\\"> B.S</span> <span>  : </span> <span class=\\\"programline\\\" dependency=\\\"STUY\\\" id=\\\"530788990STUY1\\\"> Business </span> <span> , </span> <span class=\\\"jobdates\\\" id=\\\"530788990GRYR1\\\"> Present</span> </span> <span class=\\\"paddedline\\\"> <span class=\\\"companyname companyname_educ\\\" dependency=\\\"SCHO\\\" id=\\\"530788990SCHO1\\\" itemprop=\\\"name\\\"> University of Phoenix </span> <span>  \\uff0d </span> <span class=\\\"joblocation jobcity\\\" id=\\\"530788990SCIT1\\\"> City</span> <span> , </span> <span class=\\\"joblocation jobstate\\\" id=\\\"530788990SSTA1\\\"> State</span> <span class=\\\"joblocation jobstate\\\" id=\\\"530788990SCNT1\\\"> </span> </span> <span class=\\\"paddedline\\\"> <span> GPA: </span> <span class=\\\"field\\\" id=\\\"530788990GRPA1\\\"> GPA: 3.0</span> </span> <span class=\\\"paddedline\\\"> <span class=\\\"field\\\" id=\\\"530788990FRFM1\\\"> <p align=\\\"LEFT\\\"> Business GPA: 3.0</p> </span> </span> </div> </div> <div class=\\\"paragraph\\\" id=\\\"PARAGRAPH_530788990_2_346657448\\\" itemscope=\\\"\\\" itemtype=\\\"https://schema.org/EducationalOrganization\\\" style=\\\"\\n      padding-top:0px;\\n    \\\"> <div class=\\\"singlecolumn\\\"> <span class=\\\"paddedline\\\" itemprop=\\\"description\\\"> <span class=\\\"degree\\\" dependency=\\\"DGRE\\\" id=\\\"530788990DGRE2\\\" itemprop=\\\"name\\\"> B.A</span> <span>  : </span> <span class=\\\"programline\\\" dependency=\\\"STUY\\\" id=\\\"530788990STUY2\\\"> Communication Communication Media</span> <span> , </span> <span class=\\\"jobdates\\\" id=\\\"530788990GRYR2\\\"> May 2007</span> </span> <span class=\\\"paddedline\\\"> <span class=\\\"companyname companyname_educ\\\" dependency=\\\"SCHO\\\" id=\\\"530788990SCHO2\\\" itemprop=\\\"name\\\"> Oakwood University</span> <span>  \\uff0d </span> <span class=\\\"joblocation jobcity\\\" id=\\\"530788990SCIT2\\\"> City</span> <span> , </span> <span class=\\\"joblocation jobstate\\\" id=\\\"530788990SSTA2\\\"> State</span> <span class=\\\"joblocation jobstate\\\" id=\\\"530788990SCNT2\\\"> </span> </span> <span class=\\\"paddedline\\\"> <span> GPA: </span> <span class=\\\"field\\\" id=\\\"530788990GRPA2\\\"> GPA: 3.0</span> </span> <span class=\\\"paddedline\\\"> <span class=\\\"field\\\" id=\\\"530788990FRFM2\\\"> Communication Communication Media GPA: 3.0</span> </span> </div> </div> <div class=\\\"paragraph\\\" id=\\\"PARAGRAPH_530788990_3_346657449\\\" itemscope=\\\"\\\" itemtype=\\\"https://schema.org/EducationalOrganization\\\" style=\\\"\\n      padding-top:0px;\\n    \\\"> <div class=\\\"singlecolumn\\\"> <span class=\\\"paddedline\\\" itemprop=\\\"description\\\"> <span class=\\\"degree\\\" dependency=\\\"DGRE\\\" id=\\\"530788990DGRE3\\\" itemprop=\\\"name\\\"> High School Diploma</span> <span>  : </span> <span class=\\\"programline\\\" dependency=\\\"STUY\\\" id=\\\"530788990STUY3\\\"> </span> <span class=\\\"jobdates\\\" id=\\\"530788990GRYR3\\\"> 2004</span> </span> <span class=\\\"paddedline\\\"> <span class=\\\"companyname companyname_educ\\\" dependency=\\\"SCHO\\\" id=\\\"530788990SCHO3\\\" itemprop=\\\"name\\\"> Vance High School</span> <span class=\\\"joblocation jobcity\\\" id=\\\"530788990SCIT3\\\"> </span> <span class=\\\"joblocation jobstate\\\" id=\\\"530788990SSTA3\\\"> </span> <span class=\\\"joblocation jobstate\\\" id=\\\"530788990SCNT3\\\"> </span> </span> <span class=\\\"paddedline\\\"> <span class=\\\"field\\\" id=\\\"530788990FRFM3\\\"> </span> </span> </div> </div> </div> <div class=\\\"section\\\" id=\\\"SECTION_ADDI530788999\\\" style=\\\"\\n      padding-top:0px;\\n    \\\"> <div class=\\\"heading\\\"> <div class=\\\"sectiontitle thinbottomborder\\\" id=\\\"SECTNAME_ADDI530788999\\\"> Additional Information</div> </div> <div class=\\\"paragraph firstparagraph\\\" id=\\\"PARAGRAPH_530788999_1_346657453\\\" style=\\\"\\n      padding-top:0px;\\n    \\\"> <div class=\\\"field singlecolumn\\\" id=\\\"530788999FRFM1\\\"> <ul> <li> Volunteer Endeavors:\\nPathfinders of the Seventh Day Adventist Church| August 1998-present \\n1801 Double Oaks Rd. Charlotte, NC 28206 &amp; 827 Tom Hunter Rd, Charlotte, NC 28213 \\n--Community Outreach, Soup Kitchen, Clothes Drive, Fundraising for non-profit organizations, Youth Leadership Development, and life skills enriching activities.</li> </ul> </div> </div> </div> </div>\",\n          \"<div class=\\\"fontsize fontface vmargins hmargins linespacing pagesize\\\" id=\\\"document\\\"> <div class=\\\"section firstsection\\\" id=\\\"SECTION_NAME907854984\\\" style=\\\"padding-top:0px;\\\"> <div class=\\\"paragraph PARAGRAPH_NAME firstparagraph\\\" id=\\\"PARAGRAPH_907854984_1_595728132\\\" style=\\\"padding-top:0px;\\\"> <div class=\\\"name\\\" itemprop=\\\"name\\\"> <span class=\\\"field\\\" id=\\\"907854984FNAM1\\\"> </span> <span> </span> <span class=\\\"field lName\\\" id=\\\"907854984LNAM1\\\"> BPO TEAM LEADER</span> </div> </div> </div> <div class=\\\"section\\\" id=\\\"SECTION_SUMM907854988\\\" style=\\\"padding-top:0px;\\\"> <div class=\\\"heading\\\"> <div class=\\\"sectiontitle\\\" id=\\\"SECTNAME_SUMM907854988\\\"> Summary</div> </div> <div class=\\\"paragraph firstparagraph\\\" id=\\\"PARAGRAPH_907854988_1_595728153\\\" style=\\\"padding-top:0px;\\\"> <div class=\\\"field singlecolumn\\\" id=\\\"907854988FRFM1\\\"> Seeking to provide top-quality support to ensure a competitive advantage in the global marketplace.</div> </div> </div> <div class=\\\"section\\\" id=\\\"SECTION_ACCM907855364\\\" style=\\\"padding-top:0px;\\\"> <div class=\\\"heading\\\"> <div class=\\\"sectiontitle\\\" id=\\\"SECTNAME_ACCM907855364\\\"> Accomplishments</div> </div> <div class=\\\"paragraph firstparagraph\\\" id=\\\"PARAGRAPH_907855364_1_595730793\\\" style=\\\"padding-top:0px;\\\"> <div class=\\\"field singlecolumn\\\" id=\\\"907855364FRFM1\\\"> Recognized for playing an instrumental role in exceeding company expectations for turn around time during 4th quarter at 95% in 4 days.\\u00a0\\u00a0 Achieved a strong relationship with agents/sales of company partners in exceeding groups expectation of service, and increased sales relations.</div> </div> </div> <div class=\\\"section\\\" id=\\\"SECTION_EXPR907854986\\\" style=\\\"padding-top:0px;\\\"> <div class=\\\"heading\\\"> <div class=\\\"sectiontitle\\\" id=\\\"SECTNAME_EXPR907854986\\\"> Experience</div> </div> <div class=\\\"paragraph firstparagraph\\\" id=\\\"PARAGRAPH_907854986_1_595728136\\\" itemscope=\\\"\\\" itemtype=\\\"https://schema.org/Organization\\\" style=\\\"padding-top:0px;\\\"> <div class=\\\"singlecolumn\\\"> <span class=\\\"paddedline\\\"> <span class=\\\"jobtitle\\\" id=\\\"907854986JTIT1\\\"> BPO Team Leader</span> <span class=\\\"datesWrapper\\\"> <span class=\\\"jobdates\\\" format=\\\"%m/%Y\\\" id=\\\"907854986JSTD1\\\"> 02/2015</span> <span class=\\\"jobdates\\\">  to </span> <span class=\\\"jobdates\\\" format=\\\"%m/%Y\\\" id=\\\"907854986EDDT1\\\"> 02/2017</span> </span> </span> <span class=\\\"paddedline\\\" itemscope=\\\"\\\" itemtype=\\\"https://schema.org/postalAddress\\\"> <span class=\\\"companyname\\\" id=\\\"907854986COMP1\\\" itemprop=\\\"name\\\"> Company Name</span> <span class=\\\"datesWrapper\\\"> <span class=\\\"joblocation jobcity\\\" id=\\\"907854986JCIT1\\\" itemprop=\\\"addressLocality\\\"> City</span> <span class=\\\"joblocation\\\"> , </span> <span class=\\\"joblocation jobstate\\\" id=\\\"907854986JSTA1\\\" itemprop=\\\"addressRegion\\\"> State</span> </span> </span> <span class=\\\"paddedline\\\"> <span class=\\\"jobline\\\" id=\\\"907854986JDES1\\\" itemprop=\\\"description\\\"> <ul> <li> Managed and motivate BPO Onboarding Team to meet team goals</li> <li> Auditor of documentation and group implementation.</li> <li> Interact with PPO Network management, clients, agents and sales</li> <li> Executed and met project deadlines</li> <li> Strong sense of urgency; able to resolve escalated issues immediately.</li> <li> Developed and executed implementation workflow/processes.</li> <li> Maintain 95% within 4 days TAT for implementation of groups, 5% above agreement with client.</li> <li> Manage over 3000 clients and brokers.</li> </ul> </span> </span> </div> </div> <div class=\\\"paragraph\\\" id=\\\"PARAGRAPH_907854986_2_595728137\\\" itemscope=\\\"\\\" itemtype=\\\"https://schema.org/Organization\\\" style=\\\"padding-top:0px;\\\"> <div class=\\\"singlecolumn\\\"> <span class=\\\"paddedline\\\"> <span class=\\\"jobtitle\\\" id=\\\"907854986JTIT2\\\"> BPO Implementation Specialist</span> <span class=\\\"datesWrapper\\\"> <span class=\\\"jobdates\\\" format=\\\"%m/%Y\\\" id=\\\"907854986JSTD2\\\"> 05/2013</span> <span class=\\\"jobdates\\\">  to </span> <span class=\\\"jobdates\\\" format=\\\"%m/%Y\\\" id=\\\"907854986EDDT2\\\"> 02/2015</span> </span> </span> <span class=\\\"paddedline\\\" itemscope=\\\"\\\" itemtype=\\\"https://schema.org/postalAddress\\\"> <span class=\\\"companyname\\\" id=\\\"907854986COMP2\\\" itemprop=\\\"name\\\"> Company Name</span> <span class=\\\"datesWrapper\\\"> <span class=\\\"joblocation jobcity\\\" id=\\\"907854986JCIT2\\\" itemprop=\\\"addressLocality\\\"> City</span> <span class=\\\"joblocation\\\"> , </span> <span class=\\\"joblocation jobstate\\\" id=\\\"907854986JSTA2\\\" itemprop=\\\"addressRegion\\\"> State</span> </span> </span> <span class=\\\"paddedline\\\"> <span class=\\\"jobline\\\" id=\\\"907854986JDES2\\\" itemprop=\\\"description\\\"> <ul> <li> Infrastructure for O drive and folders.</li> <li> Developed a more\\u00a0efficient system for emails/BPO Workflow and manual</li> <li> Enhanced\\u00a0and improved\\u00a0maintenance of agent/group information\\u00a0with DW (Data Warehouse program) </li> <li> Assistant to Account management team and VP of Administration.</li> </ul> <div> </div> <div> </div> <div> \\u200b</div> <div> </div> <div> \\u200b</div> </span> </span> </div> </div> <div class=\\\"paragraph\\\" id=\\\"PARAGRAPH_907854986_3_595728138\\\" itemscope=\\\"\\\" itemtype=\\\"https://schema.org/Organization\\\" style=\\\"padding-top:0px;\\\"> <div class=\\\"singlecolumn\\\"> <span class=\\\"paddedline\\\"> <span class=\\\"jobtitle\\\" id=\\\"907854986JTIT3\\\"> Re-pricing Coordinator</span> <span class=\\\"datesWrapper\\\"> <span class=\\\"jobdates\\\" format=\\\"%m/%Y\\\" id=\\\"907854986JSTD3\\\"> 06/2009</span> <span class=\\\"jobdates\\\">  to </span> <span class=\\\"jobdates\\\" format=\\\"%m/%Y\\\" id=\\\"907854986EDDT3\\\"> 06/2013</span> </span> </span> <span class=\\\"paddedline\\\" itemscope=\\\"\\\" itemtype=\\\"https://schema.org/postalAddress\\\"> <span class=\\\"companyname\\\" id=\\\"907854986COMP3\\\" itemprop=\\\"name\\\"> Company Name</span> <span class=\\\"datesWrapper\\\"> <span class=\\\"joblocation jobcity\\\" id=\\\"907854986JCIT3\\\" itemprop=\\\"addressLocality\\\"> City</span> <span class=\\\"joblocation\\\"> , </span> <span class=\\\"joblocation jobstate\\\" id=\\\"907854986JSTA3\\\" itemprop=\\\"addressRegion\\\"> State</span> </span> </span> <span class=\\\"paddedline\\\"> <span class=\\\"jobline\\\" id=\\\"907854986JDES3\\\" itemprop=\\\"description\\\"> <ul> <li> Re-pricing of\\u00a0HCFA and UB's claims.\\u00a0\\u00a0<span> <span> Developed relationships with PPO network management vendors:\\u00a0 </span> </span> Select Health Partners, Encore, Multiplan, Medicare, DHS and Aetna claims.</li> <li> Correspond with Examiners regarding status of RRT referrals.</li> <li> Solely responsible for all Aetna claims, 30,000 lives.\\u00a0 Implemented workflow and\\u00a0first manual of Aetna process.</li> <li> Improved and decreased errors with auditing process</li> <li> Verification of Provider/Facility PPO status.</li> </ul> <p> <br/> </p> </span> </span> </div> </div> <div class=\\\"paragraph\\\" id=\\\"PARAGRAPH_907854986_4_595728139\\\" itemscope=\\\"\\\" itemtype=\\\"https://schema.org/Organization\\\" style=\\\"padding-top:0px;\\\"> <div class=\\\"singlecolumn\\\"> <span class=\\\"paddedline\\\"> <span class=\\\"jobtitle\\\" id=\\\"907854986JTIT4\\\"> Administrative Assistant/HR Assistant</span> <span class=\\\"datesWrapper\\\"> <span class=\\\"jobdates\\\" format=\\\"%m/%Y\\\" id=\\\"907854986JSTD4\\\"> 04/2004</span> <span class=\\\"jobdates\\\">  to </span> <span class=\\\"jobdates\\\" format=\\\"%m/%Y\\\" id=\\\"907854986EDDT4\\\"> 04/2009</span> </span> </span> <span class=\\\"paddedline\\\" itemscope=\\\"\\\" itemtype=\\\"https://schema.org/postalAddress\\\"> <span class=\\\"companyname\\\" id=\\\"907854986COMP4\\\" itemprop=\\\"name\\\"> Company Name</span> <span class=\\\"datesWrapper\\\"> <span class=\\\"joblocation jobcity\\\" id=\\\"907854986JCIT4\\\" itemprop=\\\"addressLocality\\\"> City</span> <span class=\\\"joblocation\\\"> , </span> <span class=\\\"joblocation jobstate\\\" id=\\\"907854986JSTA4\\\" itemprop=\\\"addressRegion\\\"> State</span> </span> </span> <span class=\\\"paddedline\\\"> <span class=\\\"jobline\\\" id=\\\"907854986JDES4\\\" itemprop=\\\"description\\\"> <ul> <li> EZ-Movers - Long Distance Dispatcher Assistant.</li> <li> Long Distance scheduling of drivers/trucks.</li> <li> Administrative paperwork for pickup and delivery.</li> <li> Data entry of information of customers.</li> <li> Spreadsheet upkeep of scheduled deliveries.</li> <li> Interact with customers and drivers in regards to pickups/deliveries and/or payments.</li> <li> Rainbow Hospice - Receptionist.</li> <li> Front desk duties.</li> <li> Incoming and outgoing faxes.</li> <li> Assist PCM, Clinical secretary, RN, Social workers.</li> <li> Handle all incoming calls, to both main office and ARK location.</li> <li> Process all faxes accordingly.</li> <li> Keep accurate track of overnight calls, and team faxes.</li> <li> General Administrative duties.</li> <li> Answering phones.</li> <li> Processing invoices.</li> <li> Data entry of all purchase orders, using scanning system, batch invoices and close file.</li> <li> AS400 used.</li> </ul> </span> </span> </div> </div> <div class=\\\"paragraph\\\" id=\\\"PARAGRAPH_907854986_5_595728147\\\" itemscope=\\\"\\\" itemtype=\\\"https://schema.org/Organization\\\" style=\\\"padding-top:0px;\\\"> <div class=\\\"singlecolumn\\\"> <span class=\\\"paddedline\\\"> <span class=\\\"jobtitle\\\" id=\\\"907854986JTIT5\\\"> Administrative Assistant II/HR Coordinator</span> <span class=\\\"datesWrapper\\\"> <span class=\\\"jobdates\\\" format=\\\"%m/%Y\\\" id=\\\"907854986JSTD5\\\"> 08/2002</span> <span class=\\\"jobdates\\\">  to </span> <span class=\\\"jobdates\\\" format=\\\"%m/%Y\\\" id=\\\"907854986EDDT5\\\"> 01/2004</span> </span> </span> <span class=\\\"paddedline\\\" itemscope=\\\"\\\" itemtype=\\\"https://schema.org/postalAddress\\\"> <span class=\\\"companyname\\\" id=\\\"907854986COMP5\\\" itemprop=\\\"name\\\"> Company Name</span> <span class=\\\"datesWrapper\\\"> <span class=\\\"joblocation jobcity\\\" id=\\\"907854986JCIT5\\\" itemprop=\\\"addressLocality\\\"> City</span> <span class=\\\"joblocation\\\"> , </span> <span class=\\\"joblocation jobstate\\\" id=\\\"907854986JSTA5\\\" itemprop=\\\"addressRegion\\\"> State</span> </span> </span> <span class=\\\"paddedline\\\"> <span class=\\\"jobline\\\" id=\\\"907854986JDES5\\\" itemprop=\\\"description\\\"> <ul> <li> Assist management in coordination of organizational administration activities (performance review, cost center updates, customer issues) and within scope of authority, resolve problems and issues independently and proactively.</li> <li> Responsible for the daily operations of the field office, assuring employees were up to date with pertinent information; work closely with the Office of Building in any issues.</li> <li> Prepare and process, submit reports, timekeeping and other payroll and business operations processes; train staff or management on timekeeping and other administrative processes.</li> <li> Expense reports submission.</li> <li> Review; approve all invoices/billing for process.</li> <li> Submission of checks for payments.</li> <li> Utilize SAP program.</li> <li> Assist management in special projects.</li> <li> Attend meetings, seminars and record notes or provide information when needed.</li> <li> Schedule and coordinate meetings, conferences, travel arrangements and maintain group or manager's business calendar.</li> <li> Manage the process of on-board additions/transfers to staff to assist the manger in ensuring a smooth transition.</li> <li> Responsible for the day to day coordination and routine administration with LAN activities for field office.</li> <li> Interface with internal and external contacts regarding business unit administration issues and concerns.</li> <li> Demonstrate the ability to organize and balance the responsibilities of budget control (travel, supplies, invoice processing).</li> <li> Excellent interpersonal skills, with the ability to interact with internal/external business partners and staff at all levels.</li> <li> Excellent organizational skills to prioritize and coordinate multiple tasks.</li> </ul> </span> </span> </div> </div> </div> <div class=\\\"section\\\" id=\\\"SECTION_EDUC907854987\\\" style=\\\"padding-top:0px;\\\"> <div class=\\\"heading\\\"> <div class=\\\"sectiontitle\\\" id=\\\"SECTNAME_EDUC907854987\\\"> Education</div> </div> <div class=\\\"paragraph firstparagraph\\\" id=\\\"PARAGRAPH_907854987_1_595728148\\\" itemscope=\\\"\\\" itemtype=\\\"https://schema.org/EducationalOrganization\\\" style=\\\"padding-top:0px;\\\"> <div class=\\\"singlecolumn\\\"> <span class=\\\"paddedline\\\" itemprop=\\\"description\\\"> <span class=\\\"degree\\\" id=\\\"907854987DGRE1\\\" itemprop=\\\"name\\\"> Producers License</span> <span> : </span> <span class=\\\"programline\\\" id=\\\"907854987STUY1\\\"> Life and Health</span> <span class=\\\"datesWrapper\\\"> <span class=\\\"jobdates\\\" id=\\\"907854987GRYR1\\\"> 2013</span> <span> </span> </span> </span> <span class=\\\"paddedline\\\"> <span class=\\\"companyname companyname_educ\\\" id=\\\"907854987SCHO1\\\" itemprop=\\\"name\\\"> Kaplan</span> <span class=\\\"datesWrapper\\\"> <span class=\\\"joblocation jobcity educity\\\" id=\\\"907854987SCIT1\\\"> City</span> <span> , </span> <span class=\\\"joblocation jobstate edustate\\\" id=\\\"907854987SSTA1\\\"> State</span> <span class=\\\"joblocation eduCountry\\\" id=\\\"907854987SCNT1\\\"> </span> </span> </span> <span class=\\\"paddedline\\\"> <span class=\\\"field\\\" id=\\\"907854987FRFM1\\\"> </span> </span> </div> </div> <div class=\\\"paragraph\\\" id=\\\"PARAGRAPH_907854987_2_595728149\\\" itemscope=\\\"\\\" itemtype=\\\"https://schema.org/EducationalOrganization\\\" style=\\\"padding-top:0px;\\\"> <div class=\\\"singlecolumn\\\"> <span class=\\\"paddedline\\\" itemprop=\\\"description\\\"> <span class=\\\"degree\\\" id=\\\"907854987DGRE2\\\" itemprop=\\\"name\\\"> B.A</span> <span> : </span> <span class=\\\"programline\\\" id=\\\"907854987STUY2\\\"> Business Administration</span> <span class=\\\"datesWrapper\\\"> <span class=\\\"jobdates\\\" id=\\\"907854987GRYR2\\\"> 2018</span> <span> </span> </span> </span> <span class=\\\"paddedline\\\"> <span class=\\\"companyname companyname_educ\\\" id=\\\"907854987SCHO2\\\" itemprop=\\\"name\\\"> Kaplan University</span> <span class=\\\"datesWrapper\\\"> <span class=\\\"joblocation jobcity educity\\\" id=\\\"907854987SCIT2\\\"> City</span> <span> , </span> <span class=\\\"joblocation jobstate edustate\\\" id=\\\"907854987SSTA2\\\"> State</span> <span class=\\\"joblocation eduCountry\\\" id=\\\"907854987SCNT2\\\"> </span> </span> </span> <span class=\\\"paddedline\\\"> <span class=\\\"field\\\" id=\\\"907854987FRFM2\\\"> </span> </span> </div> </div> <div class=\\\"paragraph\\\" id=\\\"PARAGRAPH_907854987_3_595728150\\\" itemscope=\\\"\\\" itemtype=\\\"https://schema.org/EducationalOrganization\\\" style=\\\"padding-top:0px;\\\"> <div class=\\\"singlecolumn\\\"> <span class=\\\"paddedline\\\" itemprop=\\\"description\\\"> <span class=\\\"degree\\\" id=\\\"907854987DGRE3\\\" itemprop=\\\"name\\\"> Associate of Science</span> <span> : </span> <span class=\\\"programline\\\" id=\\\"907854987STUY3\\\"> Business Administration</span> <span class=\\\"datesWrapper\\\"> <span class=\\\"jobdates\\\" id=\\\"907854987GRYR3\\\"> 1992</span> <span> </span> </span> </span> <span class=\\\"paddedline\\\"> <span class=\\\"companyname companyname_educ\\\" id=\\\"907854987SCHO3\\\" itemprop=\\\"name\\\"> Northwestern Business College</span> <span class=\\\"datesWrapper\\\"> <span class=\\\"joblocation jobcity educity\\\" id=\\\"907854987SCIT3\\\"> City</span> <span> , </span> <span class=\\\"joblocation jobstate edustate\\\" id=\\\"907854987SSTA3\\\"> State</span> <span class=\\\"joblocation eduCountry\\\" id=\\\"907854987SCNT3\\\"> </span> </span> </span> <span class=\\\"paddedline\\\"> <span class=\\\"field\\\" id=\\\"907854987FRFM3\\\"> Business Administration</span> </span> </div> </div> <div class=\\\"paragraph\\\" id=\\\"PARAGRAPH_907854987_4_595728151\\\" itemscope=\\\"\\\" itemtype=\\\"https://schema.org/EducationalOrganization\\\" style=\\\"padding-top:0px;\\\"> <div class=\\\"singlecolumn\\\"> <span class=\\\"paddedline\\\" itemprop=\\\"description\\\"> <span class=\\\"degree\\\" id=\\\"907854987DGRE4\\\" itemprop=\\\"name\\\"> </span> <span class=\\\"programline\\\" id=\\\"907854987STUY4\\\"> Pastoral Counseling</span> <span class=\\\"datesWrapper\\\"> <span class=\\\"jobdates\\\" id=\\\"907854987GRYR4\\\"> 2014</span> <span> </span> </span> </span> <span class=\\\"paddedline\\\"> <span class=\\\"companyname companyname_educ\\\" id=\\\"907854987SCHO4\\\" itemprop=\\\"name\\\"> New Hope Counseling School</span> <span class=\\\"datesWrapper\\\"> <span class=\\\"joblocation jobcity educity\\\" id=\\\"907854987SCIT4\\\"> City</span> <span> , </span> <span class=\\\"joblocation jobstate edustate\\\" id=\\\"907854987SSTA4\\\"> State</span> <span class=\\\"joblocation eduCountry\\\" id=\\\"907854987SCNT4\\\"> </span> </span> </span> <span class=\\\"paddedline\\\"> <span class=\\\"field\\\" id=\\\"907854987FRFM4\\\"> </span> </span> </div> </div> <div class=\\\"paragraph\\\" id=\\\"PARAGRAPH_907854987_5_595728152\\\" itemscope=\\\"\\\" itemtype=\\\"https://schema.org/EducationalOrganization\\\" style=\\\"padding-top:0px;\\\"> <div class=\\\"singlecolumn\\\"> <span class=\\\"paddedline\\\" itemprop=\\\"description\\\"> <span class=\\\"degree\\\" id=\\\"907854987DGRE5\\\" itemprop=\\\"name\\\"> B.A. (nonaccrediated)</span> <span> : </span> <span class=\\\"programline\\\" id=\\\"907854987STUY5\\\"> Ministry and Biblical Studies</span> <span class=\\\"datesWrapper\\\"> <span class=\\\"jobdates\\\" id=\\\"907854987GRYR5\\\"> 2014</span> <span> </span> </span> </span> <span class=\\\"paddedline\\\"> <span class=\\\"companyname companyname_educ\\\" id=\\\"907854987SCHO5\\\" itemprop=\\\"name\\\"> International School of Ministry</span> <span class=\\\"datesWrapper\\\"> <span class=\\\"joblocation jobcity educity\\\" id=\\\"907854987SCIT5\\\"> City</span> <span> , </span> <span class=\\\"joblocation jobstate edustate\\\" id=\\\"907854987SSTA5\\\"> State</span> <span class=\\\"joblocation eduCountry\\\" id=\\\"907854987SCNT5\\\"> </span> </span> </span> <span class=\\\"paddedline\\\"> <span class=\\\"field\\\" id=\\\"907854987FRFM5\\\"> </span> </span> </div> </div> </div> <div class=\\\"section\\\" id=\\\"SECTION_SKLL907854990\\\" style=\\\"padding-top:0px;\\\"> <div class=\\\"heading\\\"> <div class=\\\"sectiontitle\\\" id=\\\"SECTNAME_SKLL907854990\\\"> Skills</div> </div> <div class=\\\"paragraph firstparagraph\\\" id=\\\"PARAGRAPH_907854990_1_595728155\\\" style=\\\"padding-top:0px;\\\"> <div class=\\\"field singlecolumn\\\" id=\\\"907854990FRFM1\\\"> <strong> Administrative duties:</strong> \\u00a0\\u00a0Active Learning, Calendaring, Client Relations, Computer Proficiency, Coordination, Creative Problem Solving, Critical Thinking, Customer Needs Assessment, Customer Service,\\u00a0Data Entry, Documentation, Email, Executive Management Support, Filing, Grammar, Internet Research, Letters and Memos,\\u00a0,\\u00a0Multi-Task Management, Organizational Skills, Prioritization,\\u00a0Scheduling, Service Orientation, Telephone Skills, Time Management, Travel Arrangements,\\u00a0 Type\\u00a085 WPM, Typing, Vendor Management, Documentation auditor.\\u00a0 Hospice Assistant, Human Resources assistant.\\u00a0Invoice processing,\\u00a0\\u00a0Order entry,\\u00a0\\u00a0Re-pricing of claims, Receptionist, Recruiting and trainer.\\u00a0 <span> <strong> People skills</strong> : great\\u00a0enthusiastic people person, advanced problem-solving, great organizational skills.\\u00a0 <strong> Computer skills:\\u00a0 </strong> MS Office, Data entry, RIMS, SAP, Outlook, Data Warehouse Maintenance, Provider Maintenance Microsoft Excel, Microsoft Office Suite, Microsoft Outlook, Microsoft PowerPoint, Microsoft Word.</span> </div> </div> </div> </div>\",\n          \"<div class=\\\"fontsize fontface vmargins hmargins linespacing pagesize\\\" id=\\\"document\\\"> <div class=\\\"section firstsection\\\" id=\\\"SECTION_NAME910390641\\\" style=\\\"padding-top:0px;\\\"> <div class=\\\"paragraph PARAGRAPH_NAME firstparagraph\\\" id=\\\"PARAGRAPH_910390641_1_597519386\\\" style=\\\"padding-top:0px;\\\"> <div class=\\\"name thinbottomborder\\\" itemprop=\\\"name\\\"> <span class=\\\"field fName\\\" id=\\\"910390641FNAM1\\\"> </span> <span> </span> <span class=\\\"field\\\" id=\\\"910390641LNAM1\\\"> SENIOR DIGITAL MARKETING ANALYST</span> </div> </div> </div> <div class=\\\"section\\\" id=\\\"SECTION_SUMM910390643\\\" style=\\\"padding-top:0px;\\\"> <div class=\\\"heading\\\"> <div class=\\\"sectiontitle\\\" id=\\\"SECTNAME_SUMM910390643\\\"> Summary</div> </div> <div class=\\\"paragraph firstparagraph\\\" id=\\\"PARAGRAPH_910390643_1_597519397\\\" style=\\\"padding-top:0px;\\\"> <div class=\\\"field singlecolumn noPind\\\" id=\\\"910390643FRFM1\\\"> Highly analytical and process-oriented data analyst with in-depth knowledge of \\nmarketing project management, data manipulation and visualization. Furnish insights, analytics and business intelligence to advance opportunity identification, process reengineering and corporate growth.\\nCore Qualifications  \\nMarket Segmentation\\nBusiness Intelligence\\nReporting\\nRegression Analysis\\nBusiness Analysis\\nDashboard generation\\nData Mining\\nData Modeling\\nStatistical Analysis\\nData Experiments\\nProject Management\\nProcess Improvement</div> </div> </div> <div class=\\\"section\\\" id=\\\"SECTION_HILT910390644\\\" style=\\\"padding-top:0px;\\\"> <div class=\\\"heading\\\"> <div class=\\\"sectiontitle\\\" id=\\\"SECTNAME_HILT910390644\\\"> Highlights</div> </div> <div class=\\\"paragraph firstparagraph\\\" id=\\\"PARAGRAPH_910390644_1_597519399\\\" style=\\\"padding-top:0px;\\\"> <div class=\\\"singlecolumn maincolumn\\\"> <table class=\\\"twocol\\\"> <tbody> <tr> <td class=\\\"field twocol_1\\\" id=\\\"910390644SKC11\\\"> Power user of MS Excel, Power BI, Power Query, Power Pivot, Qlikview Desktop, Minitab, Tableau, Google Analytics, JIRA, Salesforce, TSQL, SQL, HTML, PHP, JavaScript, MS Access, MS Visio, MS Project.\\nIn progress - R, Python.</td> <td class=\\\"field twocol_2\\\" id=\\\"910390644SKC21\\\"> </td> </tr> </tbody> </table> </div> </div> </div> <div class=\\\"section\\\" id=\\\"SECTION_ACCM910390645\\\" style=\\\"padding-top:0px;\\\"> </div> <div class=\\\"section\\\" id=\\\"SECTION_EXPR910390646\\\" style=\\\"padding-top:0px;\\\"> <div class=\\\"heading\\\"> <div class=\\\"sectiontitle\\\" id=\\\"SECTNAME_EXPR910390646\\\"> Experience</div> </div> <div class=\\\"paragraph firstparagraph\\\" id=\\\"PARAGRAPH_910390646_1_597519389\\\" itemscope=\\\"\\\" itemtype=\\\"https://schema.org/Organization\\\" style=\\\"padding-top:0px;\\\"> <span class=\\\"dates_wrapper\\\"> <span class=\\\"jobdates\\\" format=\\\"%m/%Y\\\" id=\\\"910390646JSTD1\\\"> 07/2016</span> <span>  to </span> <span class=\\\"jobdates\\\" format=\\\"%m/%Y\\\" id=\\\"910390646EDDT1\\\"> Current</span> </span> <div class=\\\"singlecolumn\\\"> <span class=\\\"paddedline\\\"> <span class=\\\"jobtitle\\\" id=\\\"910390646JTIT1\\\"> Senior Digital Marketing Analyst</span> </span> <span class=\\\"paddedline\\\" itemscope=\\\"\\\" itemtype=\\\"https://schema.org/postalAddress\\\"> <span class=\\\"companyname\\\" id=\\\"910390646COMP1\\\" itemprop=\\\"name\\\"> Company Name</span> <span>  \\uff0d </span> <span class=\\\"joblocation jobcity\\\" id=\\\"910390646JCIT1\\\" itemprop=\\\"addressLocality\\\"> City</span> <span> , </span> <span class=\\\"joblocation jobstate\\\" id=\\\"910390646JSTA1\\\" itemprop=\\\"addressRegion\\\"> State</span> </span> <span class=\\\"paddedline\\\"> <span class=\\\"jobline\\\" id=\\\"910390646JDES1\\\" itemprop=\\\"description\\\"> <ul> <li> Design and build dashboards to help analyze, monitor and visualize key performance metrics.</li> <li> ADD skills, accomplishment style.</li> <li> Interpret data, extract trends and identify insights or opportunities for product decisions.</li> <li> Design and monitor end-user reporting tools and systems, ensuring reports are accurate and up-to-date.</li> <li> Work with internal stakeholders and teams across the company.</li> <li> Accomplishment:.</li> <li> A 30% increase in revenue by segmenting, resulting in an incremental $2M profit.</li> </ul> </span> </span> </div> </div> <div class=\\\"paragraph\\\" id=\\\"PARAGRAPH_910390646_2_597519390\\\" itemscope=\\\"\\\" itemtype=\\\"https://schema.org/Organization\\\" style=\\\"padding-top:0px;\\\"> <span class=\\\"dates_wrapper\\\"> <span class=\\\"jobdates\\\" format=\\\"%m/%Y\\\" id=\\\"910390646JSTD2\\\"> 02/2014</span> <span>  to </span> <span class=\\\"jobdates\\\" format=\\\"%m/%Y\\\" id=\\\"910390646EDDT2\\\"> 03/2016</span> </span> <div class=\\\"singlecolumn\\\"> <span class=\\\"paddedline\\\"> <span class=\\\"jobtitle\\\" id=\\\"910390646JTIT2\\\"> Web Analyst</span> </span> <span class=\\\"paddedline\\\" itemscope=\\\"\\\" itemtype=\\\"https://schema.org/postalAddress\\\"> <span class=\\\"companyname\\\" id=\\\"910390646COMP2\\\" itemprop=\\\"name\\\"> Company Name</span> <span>  \\uff0d </span> <span class=\\\"joblocation jobcity\\\" id=\\\"910390646JCIT2\\\" itemprop=\\\"addressLocality\\\"> City</span> <span> , </span> <span class=\\\"joblocation jobstate\\\" id=\\\"910390646JSTA2\\\" itemprop=\\\"addressRegion\\\"> State</span> </span> <span class=\\\"paddedline\\\"> <span class=\\\"jobline\\\" id=\\\"910390646JDES2\\\" itemprop=\\\"description\\\"> <ul> <li> Extracted, transformed and loaded (ETL) customer data using code that was\\n    Developed.</li> <li> using SQL.</li> <li> Built dashboards to monitor and control marketing efforts.</li> <li> Helped identify and repair datasets that are incomplete, inconsistent, or require\\n    cleaning.</li> <li> Handled internal customer data inquiries, data investigations, or other information\\n    requests from project teams.</li> <li> Helped investigate and understand available data sources on the market to solve\\n    customer site content challenges.</li> <li> Accomplishment:.</li> <li> A 20% optimization in marketing cost by re-allocating $2M budget to profitable areas.</li> </ul> </span> </span> </div> </div> <div class=\\\"paragraph\\\" id=\\\"PARAGRAPH_910390646_3_597519391\\\" itemscope=\\\"\\\" itemtype=\\\"https://schema.org/Organization\\\" style=\\\"padding-top:0px;\\\"> <span class=\\\"dates_wrapper\\\"> <span class=\\\"jobdates\\\" format=\\\"%m/%Y\\\" id=\\\"910390646JSTD3\\\"> 06/2002</span> <span>  to </span> <span class=\\\"jobdates\\\" format=\\\"%m/%Y\\\" id=\\\"910390646EDDT3\\\"> 08/2005</span> </span> <div class=\\\"singlecolumn\\\"> <span class=\\\"paddedline\\\"> <span class=\\\"jobtitle\\\" id=\\\"910390646JTIT3\\\"> Web Developer</span> </span> <span class=\\\"paddedline\\\" itemscope=\\\"\\\" itemtype=\\\"https://schema.org/postalAddress\\\"> <span class=\\\"companyname\\\" id=\\\"910390646COMP3\\\" itemprop=\\\"name\\\"> Company Name</span> <span>  \\uff0d </span> <span class=\\\"joblocation jobcity\\\" id=\\\"910390646JCIT3\\\" itemprop=\\\"addressLocality\\\"> City</span> <span class=\\\"joblocation jobstate\\\" id=\\\"910390646JSTA3\\\" itemprop=\\\"addressRegion\\\"> </span> </span> <span class=\\\"paddedline\\\"> <span class=\\\"jobline\\\" id=\\\"910390646JDES3\\\" itemprop=\\\"description\\\"> <ul> <li> Developed customized web solutions using PHP, HTML, and JavaScript for clients.</li> <li> Created database structures, relationships, and data types in MySQL and MS\\n    Access.</li> <li> Accomplishment:.</li> <li> Increase of 22% in sales by increasing overall visitor traffic by over 400K.</li> </ul> </span> </span> </div> </div> </div> <div class=\\\"section\\\" id=\\\"SECTION_EDUC910390647\\\" style=\\\"padding-top:0px;\\\"> <div class=\\\"heading\\\"> <div class=\\\"sectiontitle\\\" id=\\\"SECTNAME_EDUC910390647\\\"> Education</div> </div> <div class=\\\"paragraph firstparagraph\\\" id=\\\"PARAGRAPH_910390647_1_597519392\\\" itemscope=\\\"\\\" itemtype=\\\"https://schema.org/EducationalOrganization\\\" style=\\\"padding-top:0px;\\\"> <span class=\\\"dates_wrapper\\\"> <span class=\\\"jobdates\\\" id=\\\"910390647GRYR1\\\"> </span> </span> <div class=\\\"singlecolumn\\\"> <span class=\\\"paddedline\\\" itemprop=\\\"description\\\"> <span class=\\\"degree\\\" id=\\\"910390647DGRE1\\\" itemprop=\\\"name\\\"> Masters of Business Administration</span> <span class=\\\"programline\\\" id=\\\"910390647STUY1\\\"> </span> </span> <span class=\\\"paddedline\\\"> <span class=\\\"field\\\" id=\\\"910390647FRFM1\\\"> </span> </span> </div> </div> <div class=\\\"paragraph\\\" id=\\\"PARAGRAPH_910390647_2_597519393\\\" itemscope=\\\"\\\" itemtype=\\\"https://schema.org/EducationalOrganization\\\" style=\\\"padding-top:0px;\\\"> <span class=\\\"dates_wrapper\\\"> <span class=\\\"jobdates\\\" id=\\\"910390647GRYR2\\\"> 2013</span> </span> <div class=\\\"singlecolumn\\\"> <span class=\\\"paddedline\\\" itemprop=\\\"description\\\"> <span class=\\\"degree\\\" id=\\\"910390647DGRE2\\\" itemprop=\\\"name\\\"> MBA</span> <span class=\\\"programline\\\" id=\\\"910390647STUY2\\\"> </span> </span> <span class=\\\"paddedline\\\"> <span class=\\\"companyname companyname_educ\\\" dependency=\\\"SCHO\\\" id=\\\"910390647SCHO2\\\" itemprop=\\\"name\\\"> University of Redlands</span> <span class=\\\"joblocation jobcity\\\" id=\\\"910390647SCIT2\\\"> </span> <span class=\\\"joblocation jobstate\\\" id=\\\"910390647SSTA2\\\"> </span> <span class=\\\"joblocation jobstate\\\" id=\\\"910390647SCNT2\\\"> </span> </span> <span class=\\\"paddedline\\\"> <span class=\\\"field\\\" id=\\\"910390647FRFM2\\\"> </span> </span> </div> </div> <div class=\\\"paragraph\\\" id=\\\"PARAGRAPH_910390647_3_597519394\\\" itemscope=\\\"\\\" itemtype=\\\"https://schema.org/EducationalOrganization\\\" style=\\\"padding-top:0px;\\\"> <span class=\\\"dates_wrapper\\\"> <span class=\\\"jobdates\\\" id=\\\"910390647GRYR3\\\"> 2011</span> </span> <div class=\\\"singlecolumn\\\"> <span class=\\\"paddedline\\\" itemprop=\\\"description\\\"> <span class=\\\"degree\\\" id=\\\"910390647DGRE3\\\" itemprop=\\\"name\\\"> Bachelor of Sciences</span> <span class=\\\"programline\\\" id=\\\"910390647STUY3\\\"> </span> </span> <span class=\\\"paddedline\\\"> <span class=\\\"companyname companyname_educ\\\" dependency=\\\"SCHO\\\" id=\\\"910390647SCHO3\\\" itemprop=\\\"name\\\"> University of Hamburg</span> <span class=\\\"joblocation jobcity\\\" id=\\\"910390647SCIT3\\\"> </span> <span class=\\\"joblocation jobstate\\\" id=\\\"910390647SSTA3\\\"> </span> <span class=\\\"joblocation jobstate\\\" id=\\\"910390647SCNT3\\\"> </span> </span> <span class=\\\"paddedline\\\"> <span class=\\\"field\\\" id=\\\"910390647FRFM3\\\"> </span> </span> </div> </div> <div class=\\\"paragraph\\\" id=\\\"PARAGRAPH_910390647_4_597519396\\\" itemscope=\\\"\\\" itemtype=\\\"https://schema.org/EducationalOrganization\\\" style=\\\"padding-top:0px;\\\"> <span class=\\\"dates_wrapper\\\"> <span class=\\\"jobdates\\\" id=\\\"910390647GRYR4\\\"> 2007</span> </span> <div class=\\\"singlecolumn\\\"> <span class=\\\"paddedline\\\" itemprop=\\\"description\\\"> <span class=\\\"degree\\\" id=\\\"910390647DGRE4\\\" itemprop=\\\"name\\\"> College - Berufsschule City Nord,</span> <span class=\\\"programline\\\" id=\\\"910390647STUY4\\\"> </span> </span> <span class=\\\"paddedline\\\"> <span class=\\\"field\\\" id=\\\"910390647FRFM4\\\"> </span> </span> </div> </div> </div> <div class=\\\"section\\\" id=\\\"SECTION_LANG910390648\\\" style=\\\"padding-top:0px;\\\"> <div class=\\\"heading\\\"> <div class=\\\"sectiontitle\\\" id=\\\"SECTNAME_LANG910390648\\\"> Languages</div> </div> <div class=\\\"paragraph firstparagraph\\\" id=\\\"PARAGRAPH_910390648_1_597519398\\\" style=\\\"padding-top:0px;\\\"> <div class=\\\"field singlecolumn\\\" id=\\\"910390648FRFM1\\\"> English, German, Hindi, Punjabi</div> </div> </div> <div class=\\\"section\\\" id=\\\"SECTION_SKLL910390649\\\" style=\\\"padding-top:0px;\\\"> <div class=\\\"heading\\\"> <div class=\\\"sectiontitle\\\" id=\\\"SECTNAME_SKLL910390649\\\"> Skills</div> </div> <div class=\\\"paragraph firstparagraph\\\" id=\\\"PARAGRAPH_910390649_1_597519401\\\" style=\\\"padding-top:0px;\\\"> <div class=\\\"field singlecolumn\\\" id=\\\"910390649FRFM1\\\"> budget, BI, content, clients, database, English, ETL, German, Google Analytics, Hindi, HTML, PHP, JavaScript, marketing, market, MS\\n    Access, MS Access, MS Excel, MS Project, Minitab, MySQL, optimization, profit, progress, Punjabi, Python, reporting, sales, SQL, Tableau, TSQL, Visio</div> </div> </div> </div>\"\n        ],\n        \"semantic_type\": \"\",\n        \"description\": \"\"\n      }\n    },\n    {\n      \"column\": \"Category\",\n      \"properties\": {\n        \"dtype\": \"category\",\n        \"num_unique_values\": 24,\n        \"samples\": [\n          \"FINANCE\",\n          \"TEACHER\",\n          \"CHEF\"\n        ],\n        \"semantic_type\": \"\",\n        \"description\": \"\"\n      }\n    },\n    {\n      \"column\": \"Cleaned_Resume\",\n      \"properties\": {\n        \"dtype\": \"string\",\n        \"num_unique_values\": 2109,\n        \"samples\": [\n          \"applecar cpu advisor summari goal establish reward career custom servic data entri use skill excel profici organ collabor team serv consum provid posit custom experi highlight microsoft offic profici excel commun skill microsoft excel certifi file data archiv time manag custom servic orient self direct except telephon etiquett accomplish reduc technic escal manag per day skill advertis budget mainten data entri graphic design market offic manag research phone support experi applecar cpu advisor juli current compani name citi state receiv inbound call provid custom individu experi educ custom use macintosh appl product effici collabor custom improv user experi softwar applic resolv technic comput oper system issu verifi inform comput system date accur use ilog idesk case log tool identifi resolv system account issu work team repres appl posit meet custom expect adher compli appl busi conduct polici maintain integr honesti respect acquisit public relat coordin may current compani name citi state conduct organ research relev content use ydm social media outlet mean market advertis contact small busi corpor greater charlott area inquir market need acquir sale design market product market servic build establish firm client base elimin outdat record send record scan arrang schedul appoint client graphic design team host design market product launch parti introduc latest promot deal attain clientel respond busi email inquiri creat monthli report record close termin record maintain master list client potenti client organ bill invoic data prepar account receiv expect revenu report ceo write mail respons letter hostess march juli compani name citi state provid warm welcom environ guest assist diner seat need work team member encourag guest satisfact maintain clean environ maintain contact kitchen staff manag serv staff custom inspect dine serv area ensur cleanli proper setup rectifi guest complaint plan seat chart organ reserv educ b busi present univers phoenix citi state gpa gpa busi gpa b commun commun media may oakwood univers citi state gpa gpa commun commun media gpa high school diploma vanc high school addit inform volunt endeavor pathfind seventh day adventist church august present doubl oak rd charlott nc tom hunter rd charlott nc commun outreach soup kitchen cloth drive fundrais non profit organ youth leadership develop life skill enrich activ\",\n          \"bpo team leader summari seek provid top qualiti support ensur competit advantag global marketplac accomplish recogn play instrument role exceed compani expect turn around time th quarter day achiev strong relationship agent sale compani partner exceed group expect servic increas sale relat experi bpo team leader compani name citi state manag motiv bpo onboard team meet team goal auditor document group implement interact ppo network manag client agent sale execut met project deadlin strong sens urgenc abl resolv escal issu immedi develop execut implement workflow process maintain within day tat implement group agreement client manag client broker bpo implement specialist compani name citi state infrastructur drive folder develop effici system email bpo workflow manual enhanc improv mainten agent group inform dw data warehous program assist account manag team vp administr price coordin compani name citi state price hcfa ub claim develop relationship ppo network manag vendor select health partner encor multiplan medicar dh aetna claim correspond examin regard statu rrt referr sole respons aetna claim live implement workflow first manual aetna process improv decreas error audit process verif provid facil ppo statu administr assist hr assist compani name citi state ez mover long distanc dispatch assist long distanc schedul driver truck administr paperwork pickup deliveri data entri inform custom spreadsheet upkeep schedul deliveri interact custom driver regard pickup deliveri payment rainbow hospic receptionist front desk duti incom outgo fax assist pcm clinic secretari rn social worker handl incom call main offic ark locat process fax accordingli keep accur track overnight call team fax gener administr duti answer phone process invoic data entri purchas order use scan system batch invoic close file use administr assist ii hr coordin compani name citi state assist manag coordin organiz administr activ perform review cost center updat custom issu within scope author resolv problem issu independ proactiv respons daili oper field offic assur employe date pertin inform work close offic build issu prepar process submit report timekeep payrol busi oper process train staff manag timekeep administr process expens report submiss review approv invoic bill process submiss check payment util sap program assist manag special project attend meet seminar record note provid inform need schedul coordin meet confer travel arrang maintain group manag busi calendar manag process board addit transfer staff assist manger ensur smooth transit respons day day coordin routin administr lan activ field offic interfac intern extern contact regard busi unit administr issu concern demonstr abil organ balanc respons budget control travel suppli invoic process excel interperson skill abil interact intern extern busi partner staff level excel organiz skill priorit coordin multipl task educ produc licens life health kaplan citi state b busi administr kaplan univers citi state associ scienc busi administr northwestern busi colleg citi state busi administr pastor counsel new hope counsel school citi state b nonaccredi ministri biblic studi intern school ministri citi state skill administr duti activ learn calendar client relat comput profici coordin creativ problem solv critic think custom need assess custom servic data entri document email execut manag support file grammar internet research letter memo multi task manag organiz skill priorit schedul servic orient telephon skill time manag travel arrang type wpm type vendor manag document auditor hospic assist human resourc assist invoic process order entri price claim receptionist recruit trainer peopl skill great enthusiast peopl person advanc problem solv great organiz skill comput skill ms offic data entri rim sap outlook data warehous mainten provid mainten microsoft excel microsoft offic suit microsoft outlook microsoft powerpoint microsoft word\",\n          \"senior digit market analyst summari highli analyt process orient data analyst depth knowledg market project manag data manipul visual furnish insight analyt busi intellig advanc opportun identif process reengin corpor growth core qualif market segment busi intellig report regress analysi busi analysi dashboard gener data mine data model statist analysi data experi project manag process improv highlight power user ms excel power bi power queri power pivot qlikview desktop minitab tableau googl analyt jira salesforc tsql sql html php javascript ms access ms visio ms project progress r python experi current senior digit market analyst compani name citi state design build dashboard help analyz monitor visual key perform metric add skill accomplish style interpret data extract trend identifi insight opportun product decis design monitor end user report tool system ensur report accur date work intern stakehold team across compani accomplish increas revenu segment result increment profit web analyst compani name citi state extract transform load etl custom data use code develop use sql built dashboard monitor control market effort help identifi repair dataset incomplet inconsist requir clean handl intern custom data inquiri data investig inform request project team help investig understand avail data sourc market solv custom site content challeng accomplish optim market cost alloc budget profit area web develop compani name citi develop custom web solut use php html javascript client creat databas structur relationship data type mysql ms access accomplish increas sale increas overal visitor traffic k educ master busi administr mba univers redland bachelor scienc univers hamburg colleg berufsschul citi nord languag english german hindi punjabi skill budget bi content client databas english etl german googl analyt hindi html php javascript market market ms access ms access ms excel ms project minitab mysql optim profit progress punjabi python report sale sql tableau tsql visio\"\n        ],\n        \"semantic_type\": \"\",\n        \"description\": \"\"\n      }\n    }\n  ]\n}"
            }
          },
          "metadata": {},
          "execution_count": 99
        }
      ]
    },
    {
      "cell_type": "code",
      "source": [
        "# check any internal pdf are empty or not after cleaning procedure.\n",
        "\n",
        "empty_rows = df[df['Cleaned_Resume'] == '']\n",
        "print(empty_rows)"
      ],
      "metadata": {
        "execution": {
          "iopub.status.busy": "2023-08-13T14:29:21.968812Z",
          "iopub.execute_input": "2023-08-13T14:29:21.969825Z",
          "iopub.status.idle": "2023-08-13T14:29:21.980725Z",
          "shell.execute_reply.started": "2023-08-13T14:29:21.969788Z",
          "shell.execute_reply": "2023-08-13T14:29:21.979632Z"
        },
        "trusted": true,
        "id": "nQZz8_SE18YO",
        "colab": {
          "base_uri": "https://localhost:8080/"
        },
        "outputId": "6c1e5151-bc7a-4779-d622-cb7dc96309d6"
      },
      "execution_count": null,
      "outputs": [
        {
          "output_type": "stream",
          "name": "stdout",
          "text": [
            "           ID             Resume_str  \\\n",
            "656  12632728                          \n",
            "\n",
            "                                           Resume_html              Category  \\\n",
            "656  <div class=\"fontsize fontface vmargins hmargin...  BUSINESS-DEVELOPMENT   \n",
            "\n",
            "    Cleaned_Resume  \n",
            "656                 \n"
          ]
        }
      ]
    },
    {
      "cell_type": "code",
      "source": [
        "# Drop 'Resume_str' and \"Resume_html\" columns\n",
        "df=df.drop(['Resume_str', 'Resume_html'], axis=1)\n",
        "\n",
        "# Drop the rows with empty cleaned text\n",
        "df = df.drop(empty_rows.index)\n"
      ],
      "metadata": {
        "execution": {
          "iopub.status.busy": "2023-08-13T14:29:21.982427Z",
          "iopub.execute_input": "2023-08-13T14:29:21.982836Z",
          "iopub.status.idle": "2023-08-13T14:29:21.994164Z",
          "shell.execute_reply.started": "2023-08-13T14:29:21.982804Z",
          "shell.execute_reply": "2023-08-13T14:29:21.992870Z"
        },
        "trusted": true,
        "id": "ZSBnhQ-H18YO"
      },
      "execution_count": null,
      "outputs": []
    },
    {
      "cell_type": "code",
      "source": [
        "#after cleaning and droping extra columns and others\n",
        "\n",
        "df.Cleaned_Resume[0]"
      ],
      "metadata": {
        "execution": {
          "iopub.status.busy": "2023-08-13T14:29:21.995652Z",
          "iopub.execute_input": "2023-08-13T14:29:21.996523Z",
          "iopub.status.idle": "2023-08-13T14:29:22.008763Z",
          "shell.execute_reply.started": "2023-08-13T14:29:21.996497Z",
          "shell.execute_reply": "2023-08-13T14:29:22.007861Z"
        },
        "trusted": true,
        "id": "Rkfg7H4q18YO",
        "colab": {
          "base_uri": "https://localhost:8080/",
          "height": 163
        },
        "outputId": "02738411-3ca0-4c97-decc-90626358d03c"
      },
      "execution_count": null,
      "outputs": [
        {
          "output_type": "execute_result",
          "data": {
            "text/plain": [
              "'hr administr market associ hr administr summari dedic custom servic manag year experi hospit custom servic manag respect builder leader custom focus team strive instil share enthusiast commit custom servic highlight focus custom satisfact team manag market savvi conflict resolut techniqu train develop skill multi tasker client relat specialist accomplish missouri dot supervisor train certif certifi ihg custom loyalti market segment hilton worldwid gener manag train certif accomplish trainer cross server hospit system hilton onq micro opera pm fidelio opera reserv system or holidex complet cours seminar custom servic sale strategi inventori control loss prevent safeti time manag leadership perform assess experi hr administr market associ hr administr dec current compani name citi state help develop polici direct coordin activ employ compens labor relat benefit train employe servic prepar employe separ notic relat document keep record benefit plan particip insur pension plan personnel transact hire promot transfer perform review termin employe statist govern report advis manag appropri resolut employe relat issu administ benefit program life health dental insur pension plan vacat sick leav leav absenc employe assist market associ design creat market collater sale meet trade show compani execut manag hous advertis program consist print media collater piec assist complet design launch compani websit month creat offici compani page facebook facilit interact custom analyz rate program featur competitor evalu effect market strategi advanc medic claim analyst mar dec compani name citi state review medic bill accuraci treatment test hospit stay prior sanction claim train interpret code icd cpt terminolog commonli use medic bill fulli understand paperwork submit healthcar provid requir organiz analyt skill well comput skill knowledg medic terminolog procedur statist bill standard data analysi law regard medic bill assist gener manag jun dec compani name citi state perform duti includ limit budget financi manag account human resourc payrol purchas establish maintain close work relationship depart hotel ensur maximum oper product moral guest servic handl daili oper report directli corpor offic hire train staff overal object goal emphasi high custom servic market advertis work public relat media govern local busi chamber commerc execut support market assist jul jun compani name citi state provid assist variou depart head execut market custom servic human resourc manag front end oper ensur friendli effici transact ensur swift resolut custom issu preserv custom loyalti compli compani polici exemplifi second none custom servic deliveri interact custom potenti client reserv front offic manag jun jul compani name citi state owner partner dec may compani name citi state price integr coordin aug dec compani name citi state educ n busi administr jefferson colleg citi state busi administr market advertis high school diploma colleg prep studi saint geneviev senior high citi state award american shrubel leadership scholarship jefferson colleg skill account ad advertis analyt skill benefit bill budget client custom servic data analysi deliveri document employe relat financi manag govern relat human resourc insur labor relat layout market market collater medic bill medic terminolog offic organiz payrol perform review personnel polici poster present public relat purchas report statist websit'"
            ],
            "application/vnd.google.colaboratory.intrinsic+json": {
              "type": "string"
            }
          },
          "metadata": {},
          "execution_count": 102
        }
      ]
    },
    {
      "cell_type": "code",
      "source": [
        "\n",
        "categories = np.sort(df['Category'].unique())\n",
        "categories\n",
        "\n",
        "df_categories = [df[df['Category'] == category].loc[:, ['Cleaned_Resume', 'Category']] for category in categories]\n"
      ],
      "metadata": {
        "execution": {
          "iopub.status.busy": "2023-08-13T14:29:22.010216Z",
          "iopub.execute_input": "2023-08-13T14:29:22.010477Z",
          "iopub.status.idle": "2023-08-13T14:29:22.051169Z",
          "shell.execute_reply.started": "2023-08-13T14:29:22.010455Z",
          "shell.execute_reply": "2023-08-13T14:29:22.050365Z"
        },
        "trusted": true,
        "id": "X0iebTik18YP"
      },
      "execution_count": null,
      "outputs": []
    },
    {
      "cell_type": "code",
      "source": [
        "\"\"\"\n",
        "The `remove_extra_word` function defined here aims to eliminate common, non-informative terms from resume text. The function takes a text input and removes specified extra words such as 'company', 'name', 'city', 'state', 'work', and 'manager' using a predefined list. It splits the text into individual words, filters out the extra words, and rejoins the remaining words into a cleaned text string. This function is then applied to the 'Cleaned_Resume' column of the DataFrame `df` using a lambda function, effectively removing the specified extra words from each resume entry in the dataset.\n",
        "\"\"\"\n",
        "\n",
        "def remove_extra_word(text):\n",
        "\n",
        "    extra_word=['compani', 'name', 'citi', 'state', 'work', 'manag'] # extra words\n",
        "    words = text.split()\n",
        "    filter_word = [word for word in words if word not in extra_word]\n",
        "\n",
        "    filter_text = ' '.join(filter_word)\n",
        "\n",
        "    return filter_text\n",
        "\n",
        "\n",
        "# apply df['Cleaned_Resume']\n",
        "\n",
        "df['Cleaned_Resume']=df['Cleaned_Resume'].apply(lambda x:remove_extra_word(x))\n",
        "\n",
        "\n"
      ],
      "metadata": {
        "execution": {
          "iopub.status.busy": "2023-08-13T14:38:23.892864Z",
          "iopub.execute_input": "2023-08-13T14:38:23.893994Z",
          "iopub.status.idle": "2023-08-13T14:38:24.264866Z",
          "shell.execute_reply.started": "2023-08-13T14:38:23.893958Z",
          "shell.execute_reply": "2023-08-13T14:38:24.263865Z"
        },
        "trusted": true,
        "id": "pqmwpAJe18YP"
      },
      "execution_count": null,
      "outputs": []
    },
    {
      "cell_type": "code",
      "source": [
        "from sklearn.preprocessing import LabelEncoder\n",
        "encoder=LabelEncoder()"
      ],
      "metadata": {
        "execution": {
          "iopub.status.busy": "2023-08-13T14:48:26.464951Z",
          "iopub.execute_input": "2023-08-13T14:48:26.465574Z",
          "iopub.status.idle": "2023-08-13T14:48:26.470699Z",
          "shell.execute_reply.started": "2023-08-13T14:48:26.465537Z",
          "shell.execute_reply": "2023-08-13T14:48:26.469522Z"
        },
        "trusted": true,
        "id": "lJFzY-Cl18YQ"
      },
      "execution_count": null,
      "outputs": []
    },
    {
      "cell_type": "code",
      "source": [
        "df['Category']=encoder.fit_transform(df['Category'])"
      ],
      "metadata": {
        "execution": {
          "iopub.status.busy": "2023-08-13T14:48:26.472232Z",
          "iopub.execute_input": "2023-08-13T14:48:26.472825Z",
          "iopub.status.idle": "2023-08-13T14:48:26.484922Z",
          "shell.execute_reply.started": "2023-08-13T14:48:26.472773Z",
          "shell.execute_reply": "2023-08-13T14:48:26.483940Z"
        },
        "trusted": true,
        "id": "6O49Ez_A18YQ"
      },
      "execution_count": null,
      "outputs": []
    },
    {
      "cell_type": "code",
      "source": [
        "df.head()"
      ],
      "metadata": {
        "execution": {
          "iopub.status.busy": "2023-08-13T14:48:26.487044Z",
          "iopub.execute_input": "2023-08-13T14:48:26.487527Z",
          "iopub.status.idle": "2023-08-13T14:48:26.501873Z",
          "shell.execute_reply.started": "2023-08-13T14:48:26.487485Z",
          "shell.execute_reply": "2023-08-13T14:48:26.500935Z"
        },
        "trusted": true,
        "id": "VENGcE3K18YQ",
        "colab": {
          "base_uri": "https://localhost:8080/",
          "height": 206
        },
        "outputId": "71bbd817-0a13-4fd8-ecbd-71e649c7506d"
      },
      "execution_count": null,
      "outputs": [
        {
          "output_type": "execute_result",
          "data": {
            "text/plain": [
              "            ID  Category                                     Cleaned_Resume\n",
              "1443  16066857        10  senior execut chef execut profil seek employ e...\n",
              "56    52979663        19  senior hr highlight safeti managementemploye e...\n",
              "1131  15281412        12  consult summari transit applic develop secur p...\n",
              "2472  16279537         6  supervisori logist specialist summari target f...\n",
              "1710  24647794        15  engin intern profil profici entri level electr..."
            ],
            "text/html": [
              "\n",
              "  <div id=\"df-034b16b5-133f-489a-aa65-33f3ac06d2fb\" class=\"colab-df-container\">\n",
              "    <div>\n",
              "<style scoped>\n",
              "    .dataframe tbody tr th:only-of-type {\n",
              "        vertical-align: middle;\n",
              "    }\n",
              "\n",
              "    .dataframe tbody tr th {\n",
              "        vertical-align: top;\n",
              "    }\n",
              "\n",
              "    .dataframe thead th {\n",
              "        text-align: right;\n",
              "    }\n",
              "</style>\n",
              "<table border=\"1\" class=\"dataframe\">\n",
              "  <thead>\n",
              "    <tr style=\"text-align: right;\">\n",
              "      <th></th>\n",
              "      <th>ID</th>\n",
              "      <th>Category</th>\n",
              "      <th>Cleaned_Resume</th>\n",
              "    </tr>\n",
              "  </thead>\n",
              "  <tbody>\n",
              "    <tr>\n",
              "      <th>1443</th>\n",
              "      <td>16066857</td>\n",
              "      <td>10</td>\n",
              "      <td>senior execut chef execut profil seek employ e...</td>\n",
              "    </tr>\n",
              "    <tr>\n",
              "      <th>56</th>\n",
              "      <td>52979663</td>\n",
              "      <td>19</td>\n",
              "      <td>senior hr highlight safeti managementemploye e...</td>\n",
              "    </tr>\n",
              "    <tr>\n",
              "      <th>1131</th>\n",
              "      <td>15281412</td>\n",
              "      <td>12</td>\n",
              "      <td>consult summari transit applic develop secur p...</td>\n",
              "    </tr>\n",
              "    <tr>\n",
              "      <th>2472</th>\n",
              "      <td>16279537</td>\n",
              "      <td>6</td>\n",
              "      <td>supervisori logist specialist summari target f...</td>\n",
              "    </tr>\n",
              "    <tr>\n",
              "      <th>1710</th>\n",
              "      <td>24647794</td>\n",
              "      <td>15</td>\n",
              "      <td>engin intern profil profici entri level electr...</td>\n",
              "    </tr>\n",
              "  </tbody>\n",
              "</table>\n",
              "</div>\n",
              "    <div class=\"colab-df-buttons\">\n",
              "\n",
              "  <div class=\"colab-df-container\">\n",
              "    <button class=\"colab-df-convert\" onclick=\"convertToInteractive('df-034b16b5-133f-489a-aa65-33f3ac06d2fb')\"\n",
              "            title=\"Convert this dataframe to an interactive table.\"\n",
              "            style=\"display:none;\">\n",
              "\n",
              "  <svg xmlns=\"http://www.w3.org/2000/svg\" height=\"24px\" viewBox=\"0 -960 960 960\">\n",
              "    <path d=\"M120-120v-720h720v720H120Zm60-500h600v-160H180v160Zm220 220h160v-160H400v160Zm0 220h160v-160H400v160ZM180-400h160v-160H180v160Zm440 0h160v-160H620v160ZM180-180h160v-160H180v160Zm440 0h160v-160H620v160Z\"/>\n",
              "  </svg>\n",
              "    </button>\n",
              "\n",
              "  <style>\n",
              "    .colab-df-container {\n",
              "      display:flex;\n",
              "      gap: 12px;\n",
              "    }\n",
              "\n",
              "    .colab-df-convert {\n",
              "      background-color: #E8F0FE;\n",
              "      border: none;\n",
              "      border-radius: 50%;\n",
              "      cursor: pointer;\n",
              "      display: none;\n",
              "      fill: #1967D2;\n",
              "      height: 32px;\n",
              "      padding: 0 0 0 0;\n",
              "      width: 32px;\n",
              "    }\n",
              "\n",
              "    .colab-df-convert:hover {\n",
              "      background-color: #E2EBFA;\n",
              "      box-shadow: 0px 1px 2px rgba(60, 64, 67, 0.3), 0px 1px 3px 1px rgba(60, 64, 67, 0.15);\n",
              "      fill: #174EA6;\n",
              "    }\n",
              "\n",
              "    .colab-df-buttons div {\n",
              "      margin-bottom: 4px;\n",
              "    }\n",
              "\n",
              "    [theme=dark] .colab-df-convert {\n",
              "      background-color: #3B4455;\n",
              "      fill: #D2E3FC;\n",
              "    }\n",
              "\n",
              "    [theme=dark] .colab-df-convert:hover {\n",
              "      background-color: #434B5C;\n",
              "      box-shadow: 0px 1px 3px 1px rgba(0, 0, 0, 0.15);\n",
              "      filter: drop-shadow(0px 1px 2px rgba(0, 0, 0, 0.3));\n",
              "      fill: #FFFFFF;\n",
              "    }\n",
              "  </style>\n",
              "\n",
              "    <script>\n",
              "      const buttonEl =\n",
              "        document.querySelector('#df-034b16b5-133f-489a-aa65-33f3ac06d2fb button.colab-df-convert');\n",
              "      buttonEl.style.display =\n",
              "        google.colab.kernel.accessAllowed ? 'block' : 'none';\n",
              "\n",
              "      async function convertToInteractive(key) {\n",
              "        const element = document.querySelector('#df-034b16b5-133f-489a-aa65-33f3ac06d2fb');\n",
              "        const dataTable =\n",
              "          await google.colab.kernel.invokeFunction('convertToInteractive',\n",
              "                                                    [key], {});\n",
              "        if (!dataTable) return;\n",
              "\n",
              "        const docLinkHtml = 'Like what you see? Visit the ' +\n",
              "          '<a target=\"_blank\" href=https://colab.research.google.com/notebooks/data_table.ipynb>data table notebook</a>'\n",
              "          + ' to learn more about interactive tables.';\n",
              "        element.innerHTML = '';\n",
              "        dataTable['output_type'] = 'display_data';\n",
              "        await google.colab.output.renderOutput(dataTable, element);\n",
              "        const docLink = document.createElement('div');\n",
              "        docLink.innerHTML = docLinkHtml;\n",
              "        element.appendChild(docLink);\n",
              "      }\n",
              "    </script>\n",
              "  </div>\n",
              "\n",
              "\n",
              "<div id=\"df-a9261f98-62ad-4f0d-b7f1-aaee6b511c38\">\n",
              "  <button class=\"colab-df-quickchart\" onclick=\"quickchart('df-a9261f98-62ad-4f0d-b7f1-aaee6b511c38')\"\n",
              "            title=\"Suggest charts\"\n",
              "            style=\"display:none;\">\n",
              "\n",
              "<svg xmlns=\"http://www.w3.org/2000/svg\" height=\"24px\"viewBox=\"0 0 24 24\"\n",
              "     width=\"24px\">\n",
              "    <g>\n",
              "        <path d=\"M19 3H5c-1.1 0-2 .9-2 2v14c0 1.1.9 2 2 2h14c1.1 0 2-.9 2-2V5c0-1.1-.9-2-2-2zM9 17H7v-7h2v7zm4 0h-2V7h2v10zm4 0h-2v-4h2v4z\"/>\n",
              "    </g>\n",
              "</svg>\n",
              "  </button>\n",
              "\n",
              "<style>\n",
              "  .colab-df-quickchart {\n",
              "      --bg-color: #E8F0FE;\n",
              "      --fill-color: #1967D2;\n",
              "      --hover-bg-color: #E2EBFA;\n",
              "      --hover-fill-color: #174EA6;\n",
              "      --disabled-fill-color: #AAA;\n",
              "      --disabled-bg-color: #DDD;\n",
              "  }\n",
              "\n",
              "  [theme=dark] .colab-df-quickchart {\n",
              "      --bg-color: #3B4455;\n",
              "      --fill-color: #D2E3FC;\n",
              "      --hover-bg-color: #434B5C;\n",
              "      --hover-fill-color: #FFFFFF;\n",
              "      --disabled-bg-color: #3B4455;\n",
              "      --disabled-fill-color: #666;\n",
              "  }\n",
              "\n",
              "  .colab-df-quickchart {\n",
              "    background-color: var(--bg-color);\n",
              "    border: none;\n",
              "    border-radius: 50%;\n",
              "    cursor: pointer;\n",
              "    display: none;\n",
              "    fill: var(--fill-color);\n",
              "    height: 32px;\n",
              "    padding: 0;\n",
              "    width: 32px;\n",
              "  }\n",
              "\n",
              "  .colab-df-quickchart:hover {\n",
              "    background-color: var(--hover-bg-color);\n",
              "    box-shadow: 0 1px 2px rgba(60, 64, 67, 0.3), 0 1px 3px 1px rgba(60, 64, 67, 0.15);\n",
              "    fill: var(--button-hover-fill-color);\n",
              "  }\n",
              "\n",
              "  .colab-df-quickchart-complete:disabled,\n",
              "  .colab-df-quickchart-complete:disabled:hover {\n",
              "    background-color: var(--disabled-bg-color);\n",
              "    fill: var(--disabled-fill-color);\n",
              "    box-shadow: none;\n",
              "  }\n",
              "\n",
              "  .colab-df-spinner {\n",
              "    border: 2px solid var(--fill-color);\n",
              "    border-color: transparent;\n",
              "    border-bottom-color: var(--fill-color);\n",
              "    animation:\n",
              "      spin 1s steps(1) infinite;\n",
              "  }\n",
              "\n",
              "  @keyframes spin {\n",
              "    0% {\n",
              "      border-color: transparent;\n",
              "      border-bottom-color: var(--fill-color);\n",
              "      border-left-color: var(--fill-color);\n",
              "    }\n",
              "    20% {\n",
              "      border-color: transparent;\n",
              "      border-left-color: var(--fill-color);\n",
              "      border-top-color: var(--fill-color);\n",
              "    }\n",
              "    30% {\n",
              "      border-color: transparent;\n",
              "      border-left-color: var(--fill-color);\n",
              "      border-top-color: var(--fill-color);\n",
              "      border-right-color: var(--fill-color);\n",
              "    }\n",
              "    40% {\n",
              "      border-color: transparent;\n",
              "      border-right-color: var(--fill-color);\n",
              "      border-top-color: var(--fill-color);\n",
              "    }\n",
              "    60% {\n",
              "      border-color: transparent;\n",
              "      border-right-color: var(--fill-color);\n",
              "    }\n",
              "    80% {\n",
              "      border-color: transparent;\n",
              "      border-right-color: var(--fill-color);\n",
              "      border-bottom-color: var(--fill-color);\n",
              "    }\n",
              "    90% {\n",
              "      border-color: transparent;\n",
              "      border-bottom-color: var(--fill-color);\n",
              "    }\n",
              "  }\n",
              "</style>\n",
              "\n",
              "  <script>\n",
              "    async function quickchart(key) {\n",
              "      const quickchartButtonEl =\n",
              "        document.querySelector('#' + key + ' button');\n",
              "      quickchartButtonEl.disabled = true;  // To prevent multiple clicks.\n",
              "      quickchartButtonEl.classList.add('colab-df-spinner');\n",
              "      try {\n",
              "        const charts = await google.colab.kernel.invokeFunction(\n",
              "            'suggestCharts', [key], {});\n",
              "      } catch (error) {\n",
              "        console.error('Error during call to suggestCharts:', error);\n",
              "      }\n",
              "      quickchartButtonEl.classList.remove('colab-df-spinner');\n",
              "      quickchartButtonEl.classList.add('colab-df-quickchart-complete');\n",
              "    }\n",
              "    (() => {\n",
              "      let quickchartButtonEl =\n",
              "        document.querySelector('#df-a9261f98-62ad-4f0d-b7f1-aaee6b511c38 button');\n",
              "      quickchartButtonEl.style.display =\n",
              "        google.colab.kernel.accessAllowed ? 'block' : 'none';\n",
              "    })();\n",
              "  </script>\n",
              "</div>\n",
              "\n",
              "    </div>\n",
              "  </div>\n"
            ],
            "application/vnd.google.colaboratory.intrinsic+json": {
              "type": "dataframe",
              "variable_name": "df",
              "summary": "{\n  \"name\": \"df\",\n  \"rows\": 2110,\n  \"fields\": [\n    {\n      \"column\": \"ID\",\n      \"properties\": {\n        \"dtype\": \"number\",\n        \"std\": 21648813,\n        \"min\": 3547447,\n        \"max\": 99714410,\n        \"num_unique_values\": 2110,\n        \"samples\": [\n          28635795,\n          61065616,\n          14364597\n        ],\n        \"semantic_type\": \"\",\n        \"description\": \"\"\n      }\n    },\n    {\n      \"column\": \"Category\",\n      \"properties\": {\n        \"dtype\": \"number\",\n        \"std\": 6,\n        \"min\": 0,\n        \"max\": 23,\n        \"num_unique_values\": 24,\n        \"samples\": [\n          16,\n          23,\n          10\n        ],\n        \"semantic_type\": \"\",\n        \"description\": \"\"\n      }\n    },\n    {\n      \"column\": \"Cleaned_Resume\",\n      \"properties\": {\n        \"dtype\": \"string\",\n        \"num_unique_values\": 2108,\n        \"samples\": [\n          \"v p commerci relationship summari accomplish loan offic consist exce sale goal offer utmost care client relat excit motiv help custom build success financi futur highlight sale expertis bottom line loanmast loan servic excel commun analyt excel time detail orient accomplish receiv annual pinnacl award close loan rate implement sever strategi success increas sale improv client retent rate continu improv develop strong middl market custom base experi v p commerci relationship march current respons acquir retain portfolio commerci bank client annual revenu million million conduct relationship review meet opportun identifi commerci loan deposit product tradit bank capit brokerag servic commerci relationship respons develop custom client strategi effect develop relationship ensur attain loan deposit revenu new household role day day respons deliveri superior client servic oper integr adher bank polici well feder regul assign loan portfolio ensur document place applic term condit adher routin review asset qualiti loan assign ensur referr problem situat made appropri associ approv credit applic within assign lend author refer approv outsid author appropri associ negoti profit spread maintain time inform flow insur qualiti portfolio well maintain depth knowledg small busi commerci credit polici procedur lend loan servic wheel hous posit million million dollar individu loan growth per loan opportun close multipl loan million number includ nation lumber million big illinoi missouri indiana groceri store chain million larg automot million multipl properti million success grow build client base small dollar portfolio middl market plan supervisor januari current transport nco e staff sergeant illinoi armi nation guard advis militari depart defens civilian entitl shipment person properti passeng travel prepar necessari document request coordin transport capabl meet movement mission mark label cargo freight shipment accord regulatori requir document inventori freight cargo materiel shipment type oper autom data termin equip prepar movement document relat correspond arrang document report follow respons tracer action prepar transport movement document relat form type shipment mode travel perform offic duti post regul file mainten routin offic correspond respons plan coordin total cradl grave life cycl logist support assign system subsystem integr separ function suppli mainten procur qualiti assur logist activ requir sustain system field profici tc aim blue forc tracker mt multipl logist umo cours train n posit microsoft offic train equip track repair oper militari secur clearanc busi bank offic yr branch busi bank offic march march supervisor us bank hr cover district size area small busi commerci lend relationship need met exceed assign sale goal outsid sale incident activ outsid sale activ contribut profit growth busi bank build develop new expand client relationship small busi custom consult busi custom prospect financi need goal identifi promot bank product servic best meet custom need perform formul busi develop financi review conduct budget plan busi plan strategi help maintain budget analysi goal corpor review financi project evalu provid financi advic budget relat issu busi goal strategi meet goal branch tradit branch thirteen employe well busi partner site leader sale custom servic regulatori polici complianc facil well thing hr includ labor employ relat law polici process procedur experi analyz data metric identifi pattern trend workplac along experi deploy servic process employe direct staff branch exercis discret independ judgment perform duti duti includ peopl develop custom center branch environ expert product servic knowledg partnership area retail store commun involv account branch balanc sheet financi statement branch profit loss also approv branch specif document financi statement ship receiv suppli order item branch oper overal success facil budget plan busi develop target area million revenu million revenu loan growth million dollar per loan busi primarili doctor properti manufactur franchis opportun consult gener novemb march hire consult open art well fit center chase park plaza develop strategi coincid consult group current hotel staff creat process new fit center train hire employe temporari gener facil hire train replac also set logist order ship suppli fit center hotel gener decemb novemb multipl squar foot fit center employe three branch one time payrol schedul train depart custom servic sale person train group exercis also set budget sale team monitor develop maintain report profit loss fit center also develop train other becom advanc educ bachelor degre univers studi southern illinoi univers master busi leadership liberti univers busi leadership skill credit analysi microsoft offic relationship build sale\",\n          \"human resourc summari continu profession human resourc career posit leadership focus creativ peopl strategi improv employe engag drive busi initi focus overal oper perform achiev strateg result busi acumen fiscal knowledg feder labor employ law effici effect project skill abil deliv result sens urgenc abil analyz interpret profit loss statement effect expens budget goal microsoft offic includ word excel powerpoint accomplish effect leader chang agent member sr leadership team respons provid advic council sr leadership regard polici law decis affect workforc respons direct motiv team hr profession influenc oper exceed busi expect goal account drive perform initi goal develop drive employe engag program profici advis associ hr polici practic feder labor law advis regard associ relat concern conduct disciplinari grievanc hear ensur enforc eeoc ofccp dpl guidelin activ maintain employ choic environ render third parti represent obsolet experi human resourc current drive busi initi provid strateg hr guidanc leadership plan organ control activ human resourc depart serv resourc employe ensur understand complianc polici regul keep advis potenti problem area recommend implement solut appropri evalu report decis result client group relat establish goal recommend new approach polici procedur support continu improv plan organ activ hr dept recruit effort exempt non exempt hourli employe monitor recruit program employe relat counsel perform plan maintain record record report activ particip client group project meet senior human resourc repres effect hourli base develop program strategi creat employ choic environ make union obsolet strateg partner leadership provid advic counsel workforc relat activ disciplinari action organiz develop train divers initi advis personnel regard applic intent polici procedur investig prepar report regard intern extern eeo grievanc claim analyz prepar statist report identifi trend impact personnel overal busi strategi advis director five sr thirti eight eleven hundr plu employe refin board process strategi two major divis within fedex central region consist direct report support two region vice presid develop system process sourc first day job streamlin board practic meet feder dot faa guidelin matrix ee consult advis personnel regard polici practic procedur provid input workforc relat activ disciplinari action train divers initi organiz develop investig prepar report regard intern extern eeo grievanc claim analyz prepar statist report identifi trend impact personnel overal busi strategi area partner sourc engag client develop implement staf strategi drive busi goal aspect offic includ employe relat recruit staf train develop corpor legal complianc benefit polici administr select consult organiz develop respons recruit select train develop exempt level personnel generalist recruit respons strateg plan employe relat recruit train retent counsel staff accord polici accept hr practic labor law region recruit travel among matrix facil establish recruit process practic gener result hand project recruit problemat situat client servic branch respons guid team hr profession dedic select qualifi candid variou client locat develop creativ innov forc solut store hr locat gener million sale annual supervis motiv employe proven record increas sale volum gross profit govern purchas cost control shrink reduc payrol expens educ master keller graduat school tinley park il human resourc us keller graduat school tinley park illinoi master human resourc mhrm bachelor scienc alcorn univers busi administr us alcorn univers lorman mississippi bachelor scienc busi administr certif human resourc certif institut hrci senior profession human resourc sphr profession affili profession organ societi human resourc shrm skill human resourc train employe relat recruit organiz develop payrol purchas equal employ opportun recruit staf project labor law strateg plan benefit budget employe engag employ law labor law microsoft offic powerpoint word human resourc\",\n          \"assist footbal coach summari enthusiast reliabl recent graduat academ background busi market abil establish prioriti meet challeng head strong leadership skill seek career busi field highlight except interperson commun skill custom servic skill skill teamwork skill effect leader organ highli depend fast learner abl pressur posit attitud energi strong ethic accomplish utica colleg footbal member fall fall particip divis iii footbal four year member first win team school histori leader account program leadership council member select base perform leader field classroom commun met weekli coach staff discuss team issu footbal field volunt commun servic america greatest heart run walk volunt salvat armi volunt neighborhood clean north utica youth footbal volunt experi current assist footbal coach assist design execut offens scheme athlet includ wide receiv prepar field necess practic game current properti mainten assist distribut media equip classroom instruct professor applic microsoft internet servic answer phone call maintain organ offic student professor enter freeli perform variou mainten duti necessari maintain enhanc valu residenti commerci properti duti includ mow landscap seal driveway etc educ bachelor scienc utica colleg us utica colleg utica ny bachelor scienc may major concentr market gpa militari experi salvat armi volunt neighborhood clean north utica youth footbal volunt profession affili utica colleg footbal skill audio visual game coach custom servic fast learner receptionist retail sale landscap mainten market\"\n        ],\n        \"semantic_type\": \"\",\n        \"description\": \"\"\n      }\n    }\n  ]\n}"
            }
          },
          "metadata": {},
          "execution_count": 107
        }
      ]
    },
    {
      "cell_type": "code",
      "source": [
        "df.Category.unique()"
      ],
      "metadata": {
        "execution": {
          "iopub.status.busy": "2023-08-13T14:48:26.503535Z",
          "iopub.execute_input": "2023-08-13T14:48:26.503835Z",
          "iopub.status.idle": "2023-08-13T14:48:26.510557Z",
          "shell.execute_reply.started": "2023-08-13T14:48:26.503807Z",
          "shell.execute_reply": "2023-08-13T14:48:26.509243Z"
        },
        "trusted": true,
        "id": "1mp-uCim18YQ",
        "colab": {
          "base_uri": "https://localhost:8080/"
        },
        "outputId": "7a5fd78f-2922-4d06-952b-bcd0ceda5e6b"
      },
      "execution_count": null,
      "outputs": [
        {
          "output_type": "execute_result",
          "data": {
            "text/plain": [
              "array([10, 19, 12,  6, 15,  7,  9,  1, 16, 14, 11, 18, 13,  2,  4, 17, 23,\n",
              "       21,  3, 20,  0, 22,  8,  5])"
            ]
          },
          "metadata": {},
          "execution_count": 108
        }
      ]
    },
    {
      "cell_type": "markdown",
      "source": [
        "<div style=\"color:Black; display:fill; border-radius:5px;background-color:#336b87;font-size:200%;font-family:sans-serif;letter-spacing:0.5px;text-align: center\">Dataset Splitting</div>"
      ],
      "metadata": {
        "id": "lNSiLos718YQ"
      }
    },
    {
      "cell_type": "code",
      "source": [
        "X_train, X_valid, y_train, y_valid = train_test_split(df['Cleaned_Resume'], df['Category'], test_size=0.15, random_state=42, stratify=df['Category'])\n",
        "\n",
        "\n",
        "print(\"Train data size:\", X_train.shape)\n",
        "print(\"Validation data size:\", X_valid.shape)\n"
      ],
      "metadata": {
        "execution": {
          "iopub.status.busy": "2023-08-13T14:48:26.512404Z",
          "iopub.execute_input": "2023-08-13T14:48:26.513095Z",
          "iopub.status.idle": "2023-08-13T14:48:26.525733Z",
          "shell.execute_reply.started": "2023-08-13T14:48:26.513037Z",
          "shell.execute_reply": "2023-08-13T14:48:26.524940Z"
        },
        "trusted": true,
        "id": "0pU3L7Ke18YQ",
        "colab": {
          "base_uri": "https://localhost:8080/"
        },
        "outputId": "06917ea2-600b-416d-a3e5-a5c556b06e5d"
      },
      "execution_count": null,
      "outputs": [
        {
          "output_type": "stream",
          "name": "stdout",
          "text": [
            "Train data size: (1793,)\n",
            "Validation data size: (317,)\n"
          ]
        }
      ]
    },
    {
      "cell_type": "markdown",
      "source": [
        "## Vectorization of TF-IDF\n"
      ],
      "metadata": {
        "id": "Juz6_uGE18YR"
      }
    },
    {
      "cell_type": "code",
      "source": [
        "\n",
        "from sklearn.feature_extraction.text import TfidfVectorizer"
      ],
      "metadata": {
        "execution": {
          "iopub.status.busy": "2023-08-13T14:48:26.773947Z",
          "iopub.execute_input": "2023-08-13T14:48:26.774810Z",
          "iopub.status.idle": "2023-08-13T14:48:26.780360Z",
          "shell.execute_reply.started": "2023-08-13T14:48:26.774771Z",
          "shell.execute_reply": "2023-08-13T14:48:26.778713Z"
        },
        "trusted": true,
        "id": "e-KerbLA18YR"
      },
      "execution_count": null,
      "outputs": []
    },
    {
      "cell_type": "code",
      "source": [
        "\n",
        "tfidf=TfidfVectorizer(stop_words='english',max_features=800)"
      ],
      "metadata": {
        "execution": {
          "iopub.status.busy": "2023-08-13T14:48:26.782519Z",
          "iopub.execute_input": "2023-08-13T14:48:26.783319Z",
          "iopub.status.idle": "2023-08-13T14:48:26.794976Z",
          "shell.execute_reply.started": "2023-08-13T14:48:26.783283Z",
          "shell.execute_reply": "2023-08-13T14:48:26.793243Z"
        },
        "trusted": true,
        "id": "wq_4KXUI18YR"
      },
      "execution_count": null,
      "outputs": []
    },
    {
      "cell_type": "code",
      "source": [
        "\n",
        "tfidf_train_vectors = tfidf.fit_transform(X_train)\n",
        "tfidf_valid_vectors =tfidf.transform(X_valid)"
      ],
      "metadata": {
        "execution": {
          "iopub.status.busy": "2023-08-13T14:48:26.798552Z",
          "iopub.execute_input": "2023-08-13T14:48:26.798848Z",
          "iopub.status.idle": "2023-08-13T14:48:28.134790Z",
          "shell.execute_reply.started": "2023-08-13T14:48:26.798813Z",
          "shell.execute_reply": "2023-08-13T14:48:28.133635Z"
        },
        "trusted": true,
        "id": "Ri54dpFz18YR"
      },
      "execution_count": null,
      "outputs": []
    },
    {
      "cell_type": "code",
      "source": [
        "tfidf_train_vectors.shape"
      ],
      "metadata": {
        "execution": {
          "iopub.status.busy": "2023-08-13T14:48:28.136569Z",
          "iopub.execute_input": "2023-08-13T14:48:28.137123Z",
          "iopub.status.idle": "2023-08-13T14:48:28.145589Z",
          "shell.execute_reply.started": "2023-08-13T14:48:28.137080Z",
          "shell.execute_reply": "2023-08-13T14:48:28.144361Z"
        },
        "trusted": true,
        "id": "XH-SjXiL18YR",
        "colab": {
          "base_uri": "https://localhost:8080/"
        },
        "outputId": "24dea894-4fcd-48dd-905c-0ca6469a097f"
      },
      "execution_count": null,
      "outputs": [
        {
          "output_type": "execute_result",
          "data": {
            "text/plain": [
              "(1793, 800)"
            ]
          },
          "metadata": {},
          "execution_count": 113
        }
      ]
    },
    {
      "cell_type": "code",
      "source": [
        "\n",
        "tfidf.get_feature_names_out()"
      ],
      "metadata": {
        "execution": {
          "iopub.status.busy": "2023-08-13T14:48:28.158110Z",
          "iopub.execute_input": "2023-08-13T14:48:28.158600Z",
          "iopub.status.idle": "2023-08-13T14:48:28.178732Z",
          "shell.execute_reply.started": "2023-08-13T14:48:28.158558Z",
          "shell.execute_reply": "2023-08-13T14:48:28.177758Z"
        },
        "trusted": true,
        "id": "xYh7iuVj18YR",
        "colab": {
          "base_uri": "https://localhost:8080/"
        },
        "outputId": "88b8a2b0-79ec-4685-aa08-d9e0b37b2a5c"
      },
      "execution_count": null,
      "outputs": [
        {
          "output_type": "execute_result",
          "data": {
            "text/plain": [
              "array(['abil', 'abl', 'academ', 'accept', 'access', 'accomplish',\n",
              "       'accord', 'account', 'accur', 'accuraci', 'achiev', 'acquisit',\n",
              "       'act', 'action', 'activ', 'ad', 'adapt', 'addit', 'address',\n",
              "       'adher', 'adjust', 'administ', 'administr', 'adob', 'advanc',\n",
              "       'advertis', 'advis', 'advoc', 'affili', 'agenc', 'agent',\n",
              "       'agreement', 'aid', 'air', 'aircraft', 'align', 'allow', 'america',\n",
              "       'american', 'analysi', 'analyst', 'analyt', 'analyz', 'annual',\n",
              "       'answer', 'appli', 'applic', 'appoint', 'approach', 'appropri',\n",
              "       'approv', 'april', 'architectur', 'area', 'armi', 'arrang', 'art',\n",
              "       'aspect', 'assembl', 'assess', 'asset', 'assign', 'assist',\n",
              "       'associ', 'assur', 'attend', 'attent', 'audit', 'august', 'author',\n",
              "       'autom', 'avail', 'averag', 'aviat', 'awar', 'award', 'bachelor',\n",
              "       'background', 'balanc', 'bank', 'base', 'basi', 'basic',\n",
              "       'behavior', 'benefit', 'best', 'board', 'book', 'branch', 'brand',\n",
              "       'budget', 'build', 'built', 'busi', 'calcul', 'campaign', 'campu',\n",
              "       'candid', 'capabl', 'capit', 'card', 'care', 'career', 'case',\n",
              "       'cash', 'cashier', 'cater', 'center', 'central', 'certif',\n",
              "       'certifi', 'challeng', 'chang', 'charg', 'chart', 'check', 'chef',\n",
              "       'child', 'children', 'claim', 'class', 'classroom', 'clean',\n",
              "       'clear', 'client', 'clinic', 'close', 'club', 'coach', 'code',\n",
              "       'collabor', 'collect', 'colleg', 'com', 'commerci', 'commit',\n",
              "       'committe', 'commun', 'compens', 'compet', 'competit', 'compil',\n",
              "       'complaint', 'complet', 'complex', 'complianc', 'compon',\n",
              "       'comprehens', 'comput', 'concept', 'concern', 'condit', 'conduct',\n",
              "       'confer', 'configur', 'conflict', 'connect', 'consist',\n",
              "       'construct', 'consult', 'consum', 'contact', 'content', 'continu',\n",
              "       'contract', 'contractor', 'contribut', 'control', 'convers',\n",
              "       'cook', 'coordin', 'core', 'corpor', 'correct', 'correspond',\n",
              "       'cost', 'counsel', 'counti', 'cours', 'coursework', 'cpr', 'creat',\n",
              "       'creation', 'creativ', 'credit', 'critic', 'cross', 'culinari',\n",
              "       'cultur', 'current', 'curriculum', 'custom', 'cycl', 'daili',\n",
              "       'data', 'databas', 'date', 'day', 'deadlin', 'decemb', 'decis',\n",
              "       'dedic', 'defin', 'degre', 'deliv', 'deliveri', 'demand',\n",
              "       'demonstr', 'depart', 'department', 'deploy', 'deposit', 'design',\n",
              "       'desk', 'desktop', 'determin', 'develop', 'devic', 'differ',\n",
              "       'digit', 'diploma', 'direct', 'directli', 'director', 'discuss',\n",
              "       'display', 'distribut', 'district', 'divers', 'divis', 'document',\n",
              "       'dollar', 'draft', 'draw', 'drive', 'driven', 'duti', 'dynam',\n",
              "       'econom', 'edit', 'educ', 'effect', 'effici', 'effort', 'electr',\n",
              "       'electron', 'email', 'emerg', 'employ', 'employe', 'encourag',\n",
              "       'end', 'enforc', 'engag', 'engin', 'english', 'enhanc', 'ensur',\n",
              "       'enter', 'enterpris', 'entir', 'entri', 'environ', 'equip',\n",
              "       'establish', 'estat', 'estim', 'ethic', 'evalu', 'event', 'everi',\n",
              "       'exceed', 'excel', 'exchang', 'execut', 'exercis', 'exist',\n",
              "       'expand', 'expect', 'expens', 'experi', 'experienc', 'expert',\n",
              "       'expertis', 'extens', 'extern', 'facil', 'facilit', 'famili',\n",
              "       'fashion', 'fast', 'fax', 'featur', 'februari', 'feder',\n",
              "       'feedback', 'field', 'file', 'final', 'financ', 'financi', 'firm',\n",
              "       'fit', 'fix', 'flexibl', 'flight', 'floor', 'flow', 'focu',\n",
              "       'focus', 'follow', 'food', 'forc', 'forecast', 'form', 'friendli',\n",
              "       'function', 'fund', 'futur', 'gain', 'gather', 'gener', 'global',\n",
              "       'goal', 'good', 'govern', 'gpa', 'grade', 'graduat', 'grant',\n",
              "       'graphic', 'great', 'greet', 'group', 'growth', 'guest', 'guid',\n",
              "       'guidanc', 'guidelin', 'hand', 'handl', 'hardwar', 'head',\n",
              "       'health', 'healthcar', 'help', 'high', 'highli', 'highlight',\n",
              "       'hire', 'histori', 'home', 'honor', 'hospit', 'hotel', 'hour',\n",
              "       'hous', 'hr', 'html', 'human', 'identifi', 'ii', 'imag', 'impact',\n",
              "       'implement', 'improv', 'includ', 'incom', 'increas', 'independ',\n",
              "       'individu', 'industri', 'inform', 'infrastructur', 'initi',\n",
              "       'innov', 'inquiri', 'inspect', 'instal', 'institut', 'instruct',\n",
              "       'instructor', 'instrument', 'insur', 'integr', 'interact',\n",
              "       'interfac', 'intern', 'internet', 'interperson', 'interpret',\n",
              "       'interview', 'inventori', 'invest', 'investig', 'invoic', 'involv',\n",
              "       'issu', 'item', 'jan', 'januari', 'job', 'journal', 'juli', 'june',\n",
              "       'kept', 'key', 'kitchen', 'knowledg', 'lab', 'labor', 'languag',\n",
              "       'larg', 'launch', 'law', 'lead', 'leader', 'leadership', 'learn',\n",
              "       'led', 'ledger', 'legal', 'lesson', 'letter', 'level', 'liaison',\n",
              "       'licens', 'life', 'like', 'limit', 'line', 'list', 'listen',\n",
              "       'live', 'load', 'loan', 'local', 'locat', 'logist', 'long', 'loss',\n",
              "       'machin', 'mail', 'maintain', 'mainten', 'major', 'make', 'mani',\n",
              "       'manner', 'manual', 'manufactur', 'march', 'market', 'master',\n",
              "       'materi', 'matter', 'maxim', 'measur', 'mechan', 'media', 'medic',\n",
              "       'meet', 'member', 'mentor', 'menu', 'merchandis', 'messag', 'met',\n",
              "       'method', 'metric', 'microsoft', 'migrat', 'militari', 'million',\n",
              "       'mission', 'mobil', 'model', 'money', 'monitor', 'month',\n",
              "       'monthli', 'motiv', 'ms', 'multi', 'multipl', 'nation',\n",
              "       'necessari', 'need', 'negoti', 'net', 'network', 'new', 'non',\n",
              "       'novemb', 'number', 'nurs', 'object', 'observ', 'obtain', 'octob',\n",
              "       'offer', 'offic', 'onlin', 'open', 'oper', 'opportun', 'optim',\n",
              "       'oracl', 'order', 'organ', 'organiz', 'orient', 'outlook',\n",
              "       'outsid', 'outstand', 'overal', 'oversaw', 'overse', 'owner',\n",
              "       'pace', 'packag', 'page', 'parent', 'parti', 'particip', 'partner',\n",
              "       'partnership', 'patient', 'payabl', 'payment', 'payrol', 'peopl',\n",
              "       'perform', 'period', 'person', 'personnel', 'phone', 'photoshop',\n",
              "       'physic', 'physician', 'place', 'plan', 'plant', 'platform',\n",
              "       'play', 'player', 'point', 'polici', 'portfolio', 'posit', 'post',\n",
              "       'potenti', 'power', 'powerpoint', 'practic', 'pre', 'prepar',\n",
              "       'present', 'presid', 'press', 'pressur', 'prevent', 'price',\n",
              "       'primari', 'print', 'privat', 'problem', 'procedur', 'process',\n",
              "       'procur', 'produc', 'product', 'profession', 'profici', 'profil',\n",
              "       'profit', 'program', 'progress', 'project', 'promot', 'proper',\n",
              "       'properti', 'propos', 'prospect', 'protocol', 'proven', 'provid',\n",
              "       'psycholog', 'public', 'publish', 'purchas', 'qualif', 'qualiti',\n",
              "       'quarterli', 'question', 'quick', 'quickbook', 'quickli', 'rang',\n",
              "       'rate', 'read', 'real', 'receipt', 'receiv', 'recogn', 'recommend',\n",
              "       'reconcil', 'reconcili', 'record', 'recruit', 'reduc', 'refer',\n",
              "       'referr', 'regard', 'region', 'regist', 'regul', 'regulatori',\n",
              "       'relat', 'relationship', 'releas', 'relev', 'reliabl', 'repair',\n",
              "       'report', 'repres', 'request', 'requir', 'research', 'resid',\n",
              "       'resolut', 'resolv', 'resourc', 'respond', 'respons', 'restaur',\n",
              "       'result', 'retail', 'retent', 'return', 'revenu', 'review', 'risk',\n",
              "       'role', 'room', 'run', 'safe', 'safeti', 'sale', 'san', 'sanit',\n",
              "       'sap', 'satisfact', 'save', 'schedul', 'school', 'scienc',\n",
              "       'screen', 'script', 'season', 'secur', 'seek', 'select', 'self',\n",
              "       'sell', 'senior', 'septemb', 'serv', 'server', 'servic', 'session',\n",
              "       'set', 'sever', 'share', 'sheet', 'shift', 'ship', 'shop', 'sigma',\n",
              "       'site', 'situat', 'skill', 'small', 'social', 'societi', 'softwar',\n",
              "       'solut', 'solv', 'sourc', 'spanish', 'speak', 'special',\n",
              "       'specialist', 'specif', 'sport', 'spreadsheet', 'sql', 'staf',\n",
              "       'staff', 'standard', 'start', 'statement', 'station', 'statist',\n",
              "       'statu', 'stock', 'storag', 'store', 'strateg', 'strategi',\n",
              "       'streamlin', 'strength', 'strong', 'structur', 'student', 'studi',\n",
              "       'style', 'submit', 'success', 'suit', 'summari', 'supervis',\n",
              "       'supervisor', 'suppli', 'supplier', 'support', 'survey', 'tabl',\n",
              "       'talent', 'target', 'task', 'taught', 'tax', 'teach', 'teacher',\n",
              "       'team', 'technic', 'technician', 'techniqu', 'technolog',\n",
              "       'telephon', 'term', 'termin', 'territori', 'test', 'texa', 'think',\n",
              "       'time', 'tool', 'total', 'track', 'trade', 'train', 'trainer',\n",
              "       'transact', 'transfer', 'transport', 'travel', 'treatment',\n",
              "       'trend', 'troubleshoot', 'type', 'understand', 'unit', 'univers',\n",
              "       'updat', 'upgrad', 'usa', 'use', 'user', 'util', 'valid', 'valu',\n",
              "       'varieti', 'variou', 'vehicl', 'vendor', 'verbal', 'verifi',\n",
              "       'video', 'visit', 'visual', 'volum', 'volunt', 'warehous', 'way',\n",
              "       'web', 'websit', 'week', 'weekli', 'wide', 'window', 'word',\n",
              "       'worker', 'workflow', 'workshop', 'write', 'written', 'wrote',\n",
              "       'year'], dtype=object)"
            ]
          },
          "metadata": {},
          "execution_count": 114
        }
      ]
    },
    {
      "cell_type": "code",
      "source": [
        "\n",
        "accuracy_lis=[]\n",
        "model_lis=[]"
      ],
      "metadata": {
        "execution": {
          "iopub.status.busy": "2023-08-13T14:48:28.181108Z",
          "iopub.execute_input": "2023-08-13T14:48:28.182191Z",
          "iopub.status.idle": "2023-08-13T14:48:28.188019Z",
          "shell.execute_reply.started": "2023-08-13T14:48:28.182154Z",
          "shell.execute_reply": "2023-08-13T14:48:28.186750Z"
        },
        "trusted": true,
        "id": "TrhcJizh18YR"
      },
      "execution_count": null,
      "outputs": []
    },
    {
      "cell_type": "markdown",
      "source": [
        "## Random Forest classifier\n"
      ],
      "metadata": {
        "id": "R-KmiLPu18YS"
      }
    },
    {
      "cell_type": "code",
      "source": [
        "#import Random Forest Classifier\n",
        "from sklearn.ensemble import RandomForestClassifier\n",
        "\n"
      ],
      "metadata": {
        "execution": {
          "iopub.status.busy": "2023-08-13T14:48:28.189686Z",
          "iopub.execute_input": "2023-08-13T14:48:28.190065Z",
          "iopub.status.idle": "2023-08-13T14:48:28.198027Z",
          "shell.execute_reply.started": "2023-08-13T14:48:28.190030Z",
          "shell.execute_reply": "2023-08-13T14:48:28.196951Z"
        },
        "trusted": true,
        "id": "PUp6xTAG18YS"
      },
      "execution_count": null,
      "outputs": []
    },
    {
      "cell_type": "code",
      "source": [
        "RF = RandomForestClassifier()\n",
        "\n",
        "RF.fit(tfidf_train_vectors,y_train)\n",
        "# Predict on validation data\n",
        "y_val_pred = RF.predict(tfidf_valid_vectors)\n",
        "\n",
        "\n",
        "# Print classification report for validation data\n",
        "print(\"Classification Report (Validation Data):\\n\")\n",
        "print(classification_report(y_valid, y_val_pred))\n",
        "\n",
        "accuracy=accuracy_score(y_valid, y_val_pred)\n",
        "print(\"Accuracy is : \", accuracy)\n",
        "\n",
        "# store info\n",
        "model_lis.append(\"Random Forest Classifier\")\n",
        "accuracy_lis.append(accuracy*100)\n"
      ],
      "metadata": {
        "execution": {
          "iopub.status.busy": "2023-08-13T14:48:28.199650Z",
          "iopub.execute_input": "2023-08-13T14:48:28.200169Z",
          "iopub.status.idle": "2023-08-13T14:48:32.488141Z",
          "shell.execute_reply.started": "2023-08-13T14:48:28.200136Z",
          "shell.execute_reply": "2023-08-13T14:48:32.486797Z"
        },
        "trusted": true,
        "id": "M5qX_6pR18YS",
        "colab": {
          "base_uri": "https://localhost:8080/"
        },
        "outputId": "0cd6ba02-db17-4ade-a8c1-4943753617cc"
      },
      "execution_count": null,
      "outputs": [
        {
          "output_type": "stream",
          "name": "stdout",
          "text": [
            "Classification Report (Validation Data):\n",
            "\n",
            "              precision    recall  f1-score   support\n",
            "\n",
            "           0       0.53      0.67      0.59        15\n",
            "           1       0.75      0.80      0.77        15\n",
            "           2       0.00      0.00      0.00         8\n",
            "           3       0.88      0.58      0.70        12\n",
            "           4       0.25      0.08      0.12        13\n",
            "           5       0.00      0.00      0.00         5\n",
            "           6       0.92      0.80      0.86        15\n",
            "           7       0.62      0.53      0.57        15\n",
            "           8       0.00      0.00      0.00         3\n",
            "           9       0.67      0.67      0.67        15\n",
            "          10       0.83      1.00      0.91        15\n",
            "          11       0.73      0.79      0.76        14\n",
            "          12       0.20      0.07      0.10        15\n",
            "          13       0.85      0.79      0.81        14\n",
            "          14       0.70      0.58      0.64        12\n",
            "          15       0.71      0.80      0.75        15\n",
            "          16       0.50      0.53      0.52        15\n",
            "          17       0.71      0.67      0.69        15\n",
            "          18       0.61      0.73      0.67        15\n",
            "          19       0.62      0.93      0.74        14\n",
            "          20       0.48      0.93      0.64        15\n",
            "          21       0.69      0.64      0.67        14\n",
            "          22       0.60      0.60      0.60        15\n",
            "          23       0.52      0.92      0.67        13\n",
            "\n",
            "    accuracy                           0.64       317\n",
            "   macro avg       0.56      0.59      0.56       317\n",
            "weighted avg       0.60      0.64      0.61       317\n",
            "\n",
            "Accuracy is :  0.6403785488958991\n"
          ]
        },
        {
          "output_type": "stream",
          "name": "stderr",
          "text": [
            "/usr/local/lib/python3.10/dist-packages/sklearn/metrics/_classification.py:1344: UndefinedMetricWarning: Precision and F-score are ill-defined and being set to 0.0 in labels with no predicted samples. Use `zero_division` parameter to control this behavior.\n",
            "  _warn_prf(average, modifier, msg_start, len(result))\n",
            "/usr/local/lib/python3.10/dist-packages/sklearn/metrics/_classification.py:1344: UndefinedMetricWarning: Precision and F-score are ill-defined and being set to 0.0 in labels with no predicted samples. Use `zero_division` parameter to control this behavior.\n",
            "  _warn_prf(average, modifier, msg_start, len(result))\n",
            "/usr/local/lib/python3.10/dist-packages/sklearn/metrics/_classification.py:1344: UndefinedMetricWarning: Precision and F-score are ill-defined and being set to 0.0 in labels with no predicted samples. Use `zero_division` parameter to control this behavior.\n",
            "  _warn_prf(average, modifier, msg_start, len(result))\n"
          ]
        }
      ]
    },
    {
      "cell_type": "markdown",
      "source": [
        "## Logistic Regresssion"
      ],
      "metadata": {
        "id": "UnO0p5i618YS"
      }
    },
    {
      "cell_type": "code",
      "source": [
        "from sklearn.linear_model import LogisticRegression"
      ],
      "metadata": {
        "execution": {
          "iopub.status.busy": "2023-08-13T14:48:32.490048Z",
          "iopub.execute_input": "2023-08-13T14:48:32.490580Z",
          "iopub.status.idle": "2023-08-13T14:48:32.496760Z",
          "shell.execute_reply.started": "2023-08-13T14:48:32.490539Z",
          "shell.execute_reply": "2023-08-13T14:48:32.495337Z"
        },
        "trusted": true,
        "id": "DTLvb4M118YS"
      },
      "execution_count": null,
      "outputs": []
    },
    {
      "cell_type": "code",
      "source": [
        "\"\"\"\n",
        "The logistic regression model was trained using TF-IDF vector representations of the training data and their corresponding labels. After fitting the model, predictions were made on the validation data, and a classification report was generated to evaluate the model's performance. Additionally, the accuracy of the model on the validation data was computed. This process was repeated for documentation purposes, with the model type (\"Logistic Regression\") and its accuracy being stored for reference.\n",
        "\"\"\"\n",
        "\n",
        "LR = LogisticRegression()\n",
        "\n",
        "LR.fit(tfidf_train_vectors,y_train)\n",
        "# Predict on validation data\n",
        "y_val_pred = LR.predict(tfidf_valid_vectors)\n",
        "\n",
        "# Print classification report for validation data\n",
        "print(\"Classification Report (Validation Data):\\n\")\n",
        "print(classification_report(y_valid, y_val_pred))\n",
        "\n",
        "print(\"Accuracy is : \", accuracy_score(y_valid, y_val_pred))\n",
        "\n",
        "# store info\n",
        "model_lis.append(\"Logistic Regression\")\n",
        "accuracy_lis.append(accuracy_score(y_valid, y_val_pred)*100)\n"
      ],
      "metadata": {
        "execution": {
          "iopub.status.busy": "2023-08-13T14:48:32.499080Z",
          "iopub.execute_input": "2023-08-13T14:48:32.499518Z",
          "iopub.status.idle": "2023-08-13T14:48:34.538544Z",
          "shell.execute_reply.started": "2023-08-13T14:48:32.499478Z",
          "shell.execute_reply": "2023-08-13T14:48:34.537387Z"
        },
        "trusted": true,
        "id": "Uy38jOo118YS",
        "colab": {
          "base_uri": "https://localhost:8080/"
        },
        "outputId": "3f803f09-e4c2-4da1-d0aa-4d09b51ea6ab"
      },
      "execution_count": null,
      "outputs": [
        {
          "output_type": "stream",
          "name": "stdout",
          "text": [
            "Classification Report (Validation Data):\n",
            "\n",
            "              precision    recall  f1-score   support\n",
            "\n",
            "           0       0.63      0.80      0.71        15\n",
            "           1       0.47      0.60      0.53        15\n",
            "           2       0.00      0.00      0.00         8\n",
            "           3       0.73      0.67      0.70        12\n",
            "           4       0.45      0.38      0.42        13\n",
            "           5       1.00      0.20      0.33         5\n",
            "           6       0.79      0.73      0.76        15\n",
            "           7       0.70      0.47      0.56        15\n",
            "           8       0.00      0.00      0.00         3\n",
            "           9       0.62      0.67      0.65        15\n",
            "          10       0.79      1.00      0.88        15\n",
            "          11       0.80      0.57      0.67        14\n",
            "          12       0.43      0.20      0.27        15\n",
            "          13       0.67      0.71      0.69        14\n",
            "          14       0.75      0.50      0.60        12\n",
            "          15       0.62      0.67      0.65        15\n",
            "          16       0.53      0.53      0.53        15\n",
            "          17       0.79      0.73      0.76        15\n",
            "          18       0.50      0.53      0.52        15\n",
            "          19       0.76      0.93      0.84        14\n",
            "          20       0.50      1.00      0.67        15\n",
            "          21       0.77      0.71      0.74        14\n",
            "          22       0.55      0.73      0.63        15\n",
            "          23       0.71      0.77      0.74        13\n",
            "\n",
            "    accuracy                           0.63       317\n",
            "   macro avg       0.61      0.59      0.58       317\n",
            "weighted avg       0.63      0.63      0.61       317\n",
            "\n",
            "Accuracy is :  0.6340694006309149\n"
          ]
        },
        {
          "output_type": "stream",
          "name": "stderr",
          "text": [
            "/usr/local/lib/python3.10/dist-packages/sklearn/metrics/_classification.py:1344: UndefinedMetricWarning: Precision and F-score are ill-defined and being set to 0.0 in labels with no predicted samples. Use `zero_division` parameter to control this behavior.\n",
            "  _warn_prf(average, modifier, msg_start, len(result))\n",
            "/usr/local/lib/python3.10/dist-packages/sklearn/metrics/_classification.py:1344: UndefinedMetricWarning: Precision and F-score are ill-defined and being set to 0.0 in labels with no predicted samples. Use `zero_division` parameter to control this behavior.\n",
            "  _warn_prf(average, modifier, msg_start, len(result))\n",
            "/usr/local/lib/python3.10/dist-packages/sklearn/metrics/_classification.py:1344: UndefinedMetricWarning: Precision and F-score are ill-defined and being set to 0.0 in labels with no predicted samples. Use `zero_division` parameter to control this behavior.\n",
            "  _warn_prf(average, modifier, msg_start, len(result))\n"
          ]
        }
      ]
    },
    {
      "cell_type": "markdown",
      "source": [
        "## K-Nearest Neighbors"
      ],
      "metadata": {
        "id": "-UKA4U2818YS"
      }
    },
    {
      "cell_type": "code",
      "source": [
        "from sklearn.neighbors import KNeighborsClassifier"
      ],
      "metadata": {
        "execution": {
          "iopub.status.busy": "2023-08-13T14:48:34.540246Z",
          "iopub.execute_input": "2023-08-13T14:48:34.542353Z",
          "iopub.status.idle": "2023-08-13T14:48:34.550074Z",
          "shell.execute_reply.started": "2023-08-13T14:48:34.542310Z",
          "shell.execute_reply": "2023-08-13T14:48:34.548466Z"
        },
        "trusted": true,
        "id": "-9s9U5wb18YS"
      },
      "execution_count": null,
      "outputs": []
    },
    {
      "cell_type": "code",
      "source": [
        "# Initialize KNN classifier\n",
        "k = 24 # Number of neighbors\n",
        "knn_classifier = KNeighborsClassifier(n_neighbors=k)\n",
        "\n",
        "# Train the KNN classifier\n",
        "knn_classifier.fit(tfidf_train_vectors,y_train)\n",
        "\n",
        "# Predict on validation data\n",
        "y_val_pred = knn_classifier.predict(tfidf_valid_vectors)\n",
        "\n",
        "# Print classification report for validation data\n",
        "print(\"Classification Report (Validation Data):\\n\")\n",
        "print(classification_report(y_valid, y_val_pred))\n",
        "\n",
        "print(\"Accuracy is : \", accuracy_score(y_valid, y_val_pred))\n",
        "\n",
        "# store info\n",
        "model_lis.append(\"K Nearest Neighbors\")\n",
        "accuracy_lis.append(accuracy_score(y_valid, y_val_pred)*100)\n"
      ],
      "metadata": {
        "execution": {
          "iopub.status.busy": "2023-08-13T14:48:34.551783Z",
          "iopub.execute_input": "2023-08-13T14:48:34.552535Z",
          "iopub.status.idle": "2023-08-13T14:48:47.749333Z",
          "shell.execute_reply.started": "2023-08-13T14:48:34.552484Z",
          "shell.execute_reply": "2023-08-13T14:48:47.748402Z"
        },
        "trusted": true,
        "id": "v2FciRk518YS",
        "colab": {
          "base_uri": "https://localhost:8080/"
        },
        "outputId": "07b8f2eb-04b1-4c6f-f7a2-742cb4a1564f"
      },
      "execution_count": null,
      "outputs": [
        {
          "output_type": "stream",
          "name": "stdout",
          "text": [
            "Classification Report (Validation Data):\n",
            "\n",
            "              precision    recall  f1-score   support\n",
            "\n",
            "           0       0.46      0.80      0.59        15\n",
            "           1       0.37      0.47      0.41        15\n",
            "           2       0.00      0.00      0.00         8\n",
            "           3       0.57      0.33      0.42        12\n",
            "           4       0.50      0.15      0.24        13\n",
            "           5       0.00      0.00      0.00         5\n",
            "           6       0.80      0.53      0.64        15\n",
            "           7       0.67      0.40      0.50        15\n",
            "           8       0.00      0.00      0.00         3\n",
            "           9       0.50      0.67      0.57        15\n",
            "          10       0.75      1.00      0.86        15\n",
            "          11       0.80      0.57      0.67        14\n",
            "          12       0.50      0.07      0.12        15\n",
            "          13       0.69      0.64      0.67        14\n",
            "          14       0.88      0.58      0.70        12\n",
            "          15       0.56      0.67      0.61        15\n",
            "          16       0.56      0.33      0.42        15\n",
            "          17       0.89      0.53      0.67        15\n",
            "          18       0.45      0.60      0.51        15\n",
            "          19       0.59      0.93      0.72        14\n",
            "          20       0.42      0.87      0.57        15\n",
            "          21       0.62      0.71      0.67        14\n",
            "          22       0.42      0.67      0.51        15\n",
            "          23       0.50      0.77      0.61        13\n",
            "\n",
            "    accuracy                           0.56       317\n",
            "   macro avg       0.52      0.51      0.49       317\n",
            "weighted avg       0.56      0.56      0.53       317\n",
            "\n",
            "Accuracy is :  0.5583596214511041\n"
          ]
        },
        {
          "output_type": "stream",
          "name": "stderr",
          "text": [
            "/usr/local/lib/python3.10/dist-packages/sklearn/metrics/_classification.py:1344: UndefinedMetricWarning: Precision and F-score are ill-defined and being set to 0.0 in labels with no predicted samples. Use `zero_division` parameter to control this behavior.\n",
            "  _warn_prf(average, modifier, msg_start, len(result))\n",
            "/usr/local/lib/python3.10/dist-packages/sklearn/metrics/_classification.py:1344: UndefinedMetricWarning: Precision and F-score are ill-defined and being set to 0.0 in labels with no predicted samples. Use `zero_division` parameter to control this behavior.\n",
            "  _warn_prf(average, modifier, msg_start, len(result))\n",
            "/usr/local/lib/python3.10/dist-packages/sklearn/metrics/_classification.py:1344: UndefinedMetricWarning: Precision and F-score are ill-defined and being set to 0.0 in labels with no predicted samples. Use `zero_division` parameter to control this behavior.\n",
            "  _warn_prf(average, modifier, msg_start, len(result))\n"
          ]
        }
      ]
    },
    {
      "cell_type": "markdown",
      "source": [
        "## Naive Bayes\n"
      ],
      "metadata": {
        "id": "G5I39T8Q18YT"
      }
    },
    {
      "cell_type": "code",
      "source": [
        "from sklearn.naive_bayes import MultinomialNB"
      ],
      "metadata": {
        "execution": {
          "iopub.status.busy": "2023-08-13T14:48:47.751165Z",
          "iopub.execute_input": "2023-08-13T14:48:47.751485Z",
          "iopub.status.idle": "2023-08-13T14:48:47.758184Z",
          "shell.execute_reply.started": "2023-08-13T14:48:47.751460Z",
          "shell.execute_reply": "2023-08-13T14:48:47.756965Z"
        },
        "trusted": true,
        "id": "TEmpO9jz18YT"
      },
      "execution_count": null,
      "outputs": []
    },
    {
      "cell_type": "code",
      "source": [
        "\"\"\"\n",
        "In the code snippet provided, a Multinomial Naive Bayes classifier is initialized and trained using TF-IDF vectors obtained from the training data. Subsequently, the trained classifier is employed to predict the labels for the validation data. The classification report, including precision, recall, and F1-score metrics, is printed to evaluate the model's performance on the validation dataset. Additionally, the accuracy score of the model on the validation data is calculated and displayed. Finally, the model name (\"Naive Bayes\") and its corresponding accuracy score are appended to lists for documentation and comparison purposes, respectively.\n",
        "\"\"\"\n",
        "nb_classifier = MultinomialNB()\n",
        "\n",
        "# Train the KNN classifier\n",
        "nb_classifier.fit(tfidf_train_vectors,y_train)\n",
        "\n",
        "# Predict on validation data\n",
        "y_val_pred = nb_classifier.predict(tfidf_valid_vectors)\n",
        "\n",
        "# Print classification report for validation data\n",
        "print(\"Classification Report (Validation Data):\\n\")\n",
        "print(classification_report(y_valid, y_val_pred))\n",
        "\n",
        "print(\"Accuracy is : \", accuracy_score(y_valid, y_val_pred))\n",
        "\n",
        "# store info\n",
        "model_lis.append(\"Naive Bayes\")\n",
        "accuracy_lis.append(accuracy_score(y_valid, y_val_pred)*100)"
      ],
      "metadata": {
        "execution": {
          "iopub.status.busy": "2023-08-13T14:48:47.759730Z",
          "iopub.execute_input": "2023-08-13T14:48:47.760150Z",
          "iopub.status.idle": "2023-08-13T14:48:47.787245Z",
          "shell.execute_reply.started": "2023-08-13T14:48:47.760115Z",
          "shell.execute_reply": "2023-08-13T14:48:47.786341Z"
        },
        "trusted": true,
        "id": "mxghR5Oe18YT",
        "colab": {
          "base_uri": "https://localhost:8080/"
        },
        "outputId": "b0abb269-157b-4ba3-cb3f-8f5d4f938fe1"
      },
      "execution_count": null,
      "outputs": [
        {
          "output_type": "stream",
          "name": "stdout",
          "text": [
            "Classification Report (Validation Data):\n",
            "\n",
            "              precision    recall  f1-score   support\n",
            "\n",
            "           0       0.50      0.80      0.62        15\n",
            "           1       0.43      0.60      0.50        15\n",
            "           2       0.00      0.00      0.00         8\n",
            "           3       1.00      0.25      0.40        12\n",
            "           4       0.00      0.00      0.00        13\n",
            "           5       0.00      0.00      0.00         5\n",
            "           6       0.69      0.60      0.64        15\n",
            "           7       0.57      0.53      0.55        15\n",
            "           8       0.00      0.00      0.00         3\n",
            "           9       0.48      0.73      0.58        15\n",
            "          10       0.75      1.00      0.86        15\n",
            "          11       0.80      0.57      0.67        14\n",
            "          12       0.00      0.00      0.00        15\n",
            "          13       0.82      0.64      0.72        14\n",
            "          14       0.86      0.50      0.63        12\n",
            "          15       0.58      0.73      0.65        15\n",
            "          16       0.40      0.27      0.32        15\n",
            "          17       1.00      0.67      0.80        15\n",
            "          18       0.44      0.47      0.45        15\n",
            "          19       0.57      0.93      0.70        14\n",
            "          20       0.45      1.00      0.62        15\n",
            "          21       0.62      0.71      0.67        14\n",
            "          22       0.41      0.60      0.49        15\n",
            "          23       0.53      0.69      0.60        13\n",
            "\n",
            "    accuracy                           0.56       317\n",
            "   macro avg       0.50      0.51      0.48       317\n",
            "weighted avg       0.53      0.56      0.52       317\n",
            "\n",
            "Accuracy is :  0.5615141955835962\n"
          ]
        },
        {
          "output_type": "stream",
          "name": "stderr",
          "text": [
            "/usr/local/lib/python3.10/dist-packages/sklearn/metrics/_classification.py:1344: UndefinedMetricWarning: Precision and F-score are ill-defined and being set to 0.0 in labels with no predicted samples. Use `zero_division` parameter to control this behavior.\n",
            "  _warn_prf(average, modifier, msg_start, len(result))\n",
            "/usr/local/lib/python3.10/dist-packages/sklearn/metrics/_classification.py:1344: UndefinedMetricWarning: Precision and F-score are ill-defined and being set to 0.0 in labels with no predicted samples. Use `zero_division` parameter to control this behavior.\n",
            "  _warn_prf(average, modifier, msg_start, len(result))\n",
            "/usr/local/lib/python3.10/dist-packages/sklearn/metrics/_classification.py:1344: UndefinedMetricWarning: Precision and F-score are ill-defined and being set to 0.0 in labels with no predicted samples. Use `zero_division` parameter to control this behavior.\n",
            "  _warn_prf(average, modifier, msg_start, len(result))\n"
          ]
        }
      ]
    },
    {
      "cell_type": "markdown",
      "source": [
        "# Support Vector Machine"
      ],
      "metadata": {
        "id": "bw4bgasQ18YT"
      }
    },
    {
      "cell_type": "code",
      "source": [
        "\"\"\"\n",
        "The provided code segment employs a Support Vector Machine (SVM) classifier imported from the scikit-learn library. After initializing the SVM classifier, it is trained on TF-IDF vectors derived from the training data. The trained classifier is then utilized to predict labels for the validation dataset. Subsequently, a classification report, comprising precision, recall, and F1-score metrics, is generated to assess the model's performance on the validation data. Additionally, the accuracy score of the SVM model on the validation set is calculated and printed. Lastly, the model name (\"Support Vector Machine\") and its corresponding accuracy score are appended to lists for documentation and comparison purposes, respectively.\n",
        "\"\"\"\n",
        "\n",
        "from sklearn.svm import SVC\n",
        "\n",
        "# Initialize SVM classifier\n",
        "svm_classifier = SVC()\n",
        "\n",
        "# Train the classifier\n",
        "svm_classifier.fit(tfidf_train_vectors,y_train)\n",
        "\n",
        "# Predict on validation data\n",
        "y_val_pred = svm_classifier.predict(tfidf_valid_vectors)\n",
        "\n",
        "# Print classification report for validation data\n",
        "print(\"Classification Report (Validation Data):\\n\")\n",
        "print(classification_report(y_valid, y_val_pred))\n",
        "\n",
        "print(\"Accuracy is : \", accuracy_score(y_valid, y_val_pred))\n",
        "tcan\n",
        "# store info\n",
        "model_lis.append(\"Support Vector Machine\")\n",
        "accuracy_lis.append(accuracy_score(y_valid, y_val_pred)*100)\n"
      ],
      "metadata": {
        "execution": {
          "iopub.status.busy": "2023-08-13T14:48:47.788845Z",
          "iopub.execute_input": "2023-08-13T14:48:47.789557Z",
          "iopub.status.idle": "2023-08-13T14:48:56.545697Z",
          "shell.execute_reply.started": "2023-08-13T14:48:47.789522Z",
          "shell.execute_reply": "2023-08-13T14:48:56.543570Z"
        },
        "trusted": true,
        "id": "NFwo371o18YT",
        "colab": {
          "base_uri": "https://localhost:8080/"
        },
        "outputId": "d06c82ba-27d8-4f85-e05b-10f4f46e2f23"
      },
      "execution_count": null,
      "outputs": [
        {
          "output_type": "stream",
          "name": "stdout",
          "text": [
            "Classification Report (Validation Data):\n",
            "\n",
            "              precision    recall  f1-score   support\n",
            "\n",
            "           0       0.61      0.73      0.67        15\n",
            "           1       0.45      0.67      0.54        15\n",
            "           2       0.00      0.00      0.00         8\n",
            "           3       0.64      0.58      0.61        12\n",
            "           4       0.44      0.54      0.48        13\n",
            "           5       1.00      0.20      0.33         5\n",
            "           6       0.85      0.73      0.79        15\n",
            "           7       0.54      0.47      0.50        15\n",
            "           8       0.00      0.00      0.00         3\n",
            "           9       0.61      0.73      0.67        15\n",
            "          10       0.88      0.93      0.90        15\n",
            "          11       0.89      0.57      0.70        14\n",
            "          12       0.36      0.27      0.31        15\n",
            "          13       0.73      0.79      0.76        14\n",
            "          14       0.75      0.50      0.60        12\n",
            "          15       0.67      0.67      0.67        15\n",
            "          16       0.69      0.60      0.64        15\n",
            "          17       1.00      0.67      0.80        15\n",
            "          18       0.47      0.47      0.47        15\n",
            "          19       0.71      0.86      0.77        14\n",
            "          20       0.50      1.00      0.67        15\n",
            "          21       0.77      0.71      0.74        14\n",
            "          22       0.65      0.73      0.69        15\n",
            "          23       0.77      0.77      0.77        13\n",
            "\n",
            "    accuracy                           0.64       317\n",
            "   macro avg       0.62      0.59      0.59       317\n",
            "weighted avg       0.65      0.64      0.63       317\n",
            "\n",
            "Accuracy is :  0.637223974763407\n"
          ]
        },
        {
          "output_type": "stream",
          "name": "stderr",
          "text": [
            "/usr/local/lib/python3.10/dist-packages/sklearn/metrics/_classification.py:1344: UndefinedMetricWarning: Precision and F-score are ill-defined and being set to 0.0 in labels with no predicted samples. Use `zero_division` parameter to control this behavior.\n",
            "  _warn_prf(average, modifier, msg_start, len(result))\n",
            "/usr/local/lib/python3.10/dist-packages/sklearn/metrics/_classification.py:1344: UndefinedMetricWarning: Precision and F-score are ill-defined and being set to 0.0 in labels with no predicted samples. Use `zero_division` parameter to control this behavior.\n",
            "  _warn_prf(average, modifier, msg_start, len(result))\n",
            "/usr/local/lib/python3.10/dist-packages/sklearn/metrics/_classification.py:1344: UndefinedMetricWarning: Precision and F-score are ill-defined and being set to 0.0 in labels with no predicted samples. Use `zero_division` parameter to control this behavior.\n",
            "  _warn_prf(average, modifier, msg_start, len(result))\n"
          ]
        }
      ]
    },
    {
      "cell_type": "markdown",
      "source": [
        "## Summarization of the models and accuracy"
      ],
      "metadata": {
        "id": "Ifun6_7P18YU"
      }
    },
    {
      "cell_type": "code",
      "source": [
        "\n",
        "\"\"\"\n",
        "The provided code snippet creates a DataFrame named `accuracy_data` using the lists `model_lis` and `accuracy_lis`, which store model names and their corresponding accuracy scores, respectively. Subsequently, a bar plot is generated using Matplotlib, illustrating the accuracy of each model. The x-axis represents the model names, while the y-axis indicates the accuracy scores. The plot is customized with appropriate labels for the axes, rotated x-axis labels for better readability, and a title conveying the purpose of the visualization:\n",
        "providing an overview of models and their accuracy scores.\n",
        "Finally, the plot is displayed using the `plt.show()` function.\n",
        "\"\"\"\n",
        "\n",
        "accuracy_data = pd.DataFrame({'model': model_lis, 'accuracy': accuracy_lis})\n",
        "\n",
        "\n",
        "plt.figure(figsize=(10, 6))\n",
        "plt.bar(accuracy_data['model'], accuracy_data['accuracy'])\n",
        "plt.xlabel('Model Name')\n",
        "plt.ylabel('Accuracy')\n",
        "plt.xticks(rotation=45)\n",
        "plt.title('Overview of the models and accuracy')\n",
        "plt.show()"
      ],
      "metadata": {
        "execution": {
          "iopub.status.busy": "2023-08-13T14:49:13.145344Z",
          "iopub.execute_input": "2023-08-13T14:49:13.146030Z",
          "iopub.status.idle": "2023-08-13T14:49:13.439724Z",
          "shell.execute_reply.started": "2023-08-13T14:49:13.145994Z",
          "shell.execute_reply": "2023-08-13T14:49:13.438784Z"
        },
        "trusted": true,
        "id": "g0pZ8x9K18YU",
        "colab": {
          "base_uri": "https://localhost:8080/",
          "height": 682
        },
        "outputId": "c6c68720-88be-411a-b377-7bafc2facc79"
      },
      "execution_count": null,
      "outputs": [
        {
          "output_type": "display_data",
          "data": {
            "text/plain": [
              "<Figure size 1000x600 with 1 Axes>"
            ],
            "image/png": "[encoded data removed]"
          },
          "metadata": {}
        }
      ]
    },
    {
      "cell_type": "code",
      "source": [
        "accuracy_data"
      ],
      "metadata": {
        "execution": {
          "iopub.status.busy": "2023-08-13T14:49:13.441051Z",
          "iopub.execute_input": "2023-08-13T14:49:13.441377Z",
          "iopub.status.idle": "2023-08-13T14:49:13.452159Z",
          "shell.execute_reply.started": "2023-08-13T14:49:13.441350Z",
          "shell.execute_reply": "2023-08-13T14:49:13.451107Z"
        },
        "trusted": true,
        "id": "Hg36-Dty18YU",
        "colab": {
          "base_uri": "https://localhost:8080/",
          "height": 206
        },
        "outputId": "8029101e-1f0f-49a1-b9ea-68df5dbe226a"
      },
      "execution_count": null,
      "outputs": [
        {
          "output_type": "execute_result",
          "data": {
            "text/plain": [
              "                      model   accuracy\n",
              "0  Random Forest Classifier  64.037855\n",
              "1       Logistic Regression  63.406940\n",
              "2       K Nearest Neighbors  55.835962\n",
              "3               Naive Bayes  56.151420\n",
              "4    Support Vector Machine  63.722397"
            ],
            "text/html": [
              "\n",
              "  <div id=\"df-aa68bc68-9bfc-49b3-a307-2ccb039c100b\" class=\"colab-df-container\">\n",
              "    <div>\n",
              "<style scoped>\n",
              "    .dataframe tbody tr th:only-of-type {\n",
              "        vertical-align: middle;\n",
              "    }\n",
              "\n",
              "    .dataframe tbody tr th {\n",
              "        vertical-align: top;\n",
              "    }\n",
              "\n",
              "    .dataframe thead th {\n",
              "        text-align: right;\n",
              "    }\n",
              "</style>\n",
              "<table border=\"1\" class=\"dataframe\">\n",
              "  <thead>\n",
              "    <tr style=\"text-align: right;\">\n",
              "      <th></th>\n",
              "      <th>model</th>\n",
              "      <th>accuracy</th>\n",
              "    </tr>\n",
              "  </thead>\n",
              "  <tbody>\n",
              "    <tr>\n",
              "      <th>0</th>\n",
              "      <td>Random Forest Classifier</td>\n",
              "      <td>64.037855</td>\n",
              "    </tr>\n",
              "    <tr>\n",
              "      <th>1</th>\n",
              "      <td>Logistic Regression</td>\n",
              "      <td>63.406940</td>\n",
              "    </tr>\n",
              "    <tr>\n",
              "      <th>2</th>\n",
              "      <td>K Nearest Neighbors</td>\n",
              "      <td>55.835962</td>\n",
              "    </tr>\n",
              "    <tr>\n",
              "      <th>3</th>\n",
              "      <td>Naive Bayes</td>\n",
              "      <td>56.151420</td>\n",
              "    </tr>\n",
              "    <tr>\n",
              "      <th>4</th>\n",
              "      <td>Support Vector Machine</td>\n",
              "      <td>63.722397</td>\n",
              "    </tr>\n",
              "  </tbody>\n",
              "</table>\n",
              "</div>\n",
              "    <div class=\"colab-df-buttons\">\n",
              "\n",
              "  <div class=\"colab-df-container\">\n",
              "    <button class=\"colab-df-convert\" onclick=\"convertToInteractive('df-aa68bc68-9bfc-49b3-a307-2ccb039c100b')\"\n",
              "            title=\"Convert this dataframe to an interactive table.\"\n",
              "            style=\"display:none;\">\n",
              "\n",
              "  <svg xmlns=\"http://www.w3.org/2000/svg\" height=\"24px\" viewBox=\"0 -960 960 960\">\n",
              "    <path d=\"M120-120v-720h720v720H120Zm60-500h600v-160H180v160Zm220 220h160v-160H400v160Zm0 220h160v-160H400v160ZM180-400h160v-160H180v160Zm440 0h160v-160H620v160ZM180-180h160v-160H180v160Zm440 0h160v-160H620v160Z\"/>\n",
              "  </svg>\n",
              "    </button>\n",
              "\n",
              "  <style>\n",
              "    .colab-df-container {\n",
              "      display:flex;\n",
              "      gap: 12px;\n",
              "    }\n",
              "\n",
              "    .colab-df-convert {\n",
              "      background-color: #E8F0FE;\n",
              "      border: none;\n",
              "      border-radius: 50%;\n",
              "      cursor: pointer;\n",
              "      display: none;\n",
              "      fill: #1967D2;\n",
              "      height: 32px;\n",
              "      padding: 0 0 0 0;\n",
              "      width: 32px;\n",
              "    }\n",
              "\n",
              "    .colab-df-convert:hover {\n",
              "      background-color: #E2EBFA;\n",
              "      box-shadow: 0px 1px 2px rgba(60, 64, 67, 0.3), 0px 1px 3px 1px rgba(60, 64, 67, 0.15);\n",
              "      fill: #174EA6;\n",
              "    }\n",
              "\n",
              "    .colab-df-buttons div {\n",
              "      margin-bottom: 4px;\n",
              "    }\n",
              "\n",
              "    [theme=dark] .colab-df-convert {\n",
              "      background-color: #3B4455;\n",
              "      fill: #D2E3FC;\n",
              "    }\n",
              "\n",
              "    [theme=dark] .colab-df-convert:hover {\n",
              "      background-color: #434B5C;\n",
              "      box-shadow: 0px 1px 3px 1px rgba(0, 0, 0, 0.15);\n",
              "      filter: drop-shadow(0px 1px 2px rgba(0, 0, 0, 0.3));\n",
              "      fill: #FFFFFF;\n",
              "    }\n",
              "  </style>\n",
              "\n",
              "    <script>\n",
              "      const buttonEl =\n",
              "        document.querySelector('#df-aa68bc68-9bfc-49b3-a307-2ccb039c100b button.colab-df-convert');\n",
              "      buttonEl.style.display =\n",
              "        google.colab.kernel.accessAllowed ? 'block' : 'none';\n",
              "\n",
              "      async function convertToInteractive(key) {\n",
              "        const element = document.querySelector('#df-aa68bc68-9bfc-49b3-a307-2ccb039c100b');\n",
              "        const dataTable =\n",
              "          await google.colab.kernel.invokeFunction('convertToInteractive',\n",
              "                                                    [key], {});\n",
              "        if (!dataTable) return;\n",
              "\n",
              "        const docLinkHtml = 'Like what you see? Visit the ' +\n",
              "          '<a target=\"_blank\" href=https://colab.research.google.com/notebooks/data_table.ipynb>data table notebook</a>'\n",
              "          + ' to learn more about interactive tables.';\n",
              "        element.innerHTML = '';\n",
              "        dataTable['output_type'] = 'display_data';\n",
              "        await google.colab.output.renderOutput(dataTable, element);\n",
              "        const docLink = document.createElement('div');\n",
              "        docLink.innerHTML = docLinkHtml;\n",
              "        element.appendChild(docLink);\n",
              "      }\n",
              "    </script>\n",
              "  </div>\n",
              "\n",
              "\n",
              "<div id=\"df-4521cb9e-6580-402b-bc12-5d9602cb5cc9\">\n",
              "  <button class=\"colab-df-quickchart\" onclick=\"quickchart('df-4521cb9e-6580-402b-bc12-5d9602cb5cc9')\"\n",
              "            title=\"Suggest charts\"\n",
              "            style=\"display:none;\">\n",
              "\n",
              "<svg xmlns=\"http://www.w3.org/2000/svg\" height=\"24px\"viewBox=\"0 0 24 24\"\n",
              "     width=\"24px\">\n",
              "    <g>\n",
              "        <path d=\"M19 3H5c-1.1 0-2 .9-2 2v14c0 1.1.9 2 2 2h14c1.1 0 2-.9 2-2V5c0-1.1-.9-2-2-2zM9 17H7v-7h2v7zm4 0h-2V7h2v10zm4 0h-2v-4h2v4z\"/>\n",
              "    </g>\n",
              "</svg>\n",
              "  </button>\n",
              "\n",
              "<style>\n",
              "  .colab-df-quickchart {\n",
              "      --bg-color: #E8F0FE;\n",
              "      --fill-color: #1967D2;\n",
              "      --hover-bg-color: #E2EBFA;\n",
              "      --hover-fill-color: #174EA6;\n",
              "      --disabled-fill-color: #AAA;\n",
              "      --disabled-bg-color: #DDD;\n",
              "  }\n",
              "\n",
              "  [theme=dark] .colab-df-quickchart {\n",
              "      --bg-color: #3B4455;\n",
              "      --fill-color: #D2E3FC;\n",
              "      --hover-bg-color: #434B5C;\n",
              "      --hover-fill-color: #FFFFFF;\n",
              "      --disabled-bg-color: #3B4455;\n",
              "      --disabled-fill-color: #666;\n",
              "  }\n",
              "\n",
              "  .colab-df-quickchart {\n",
              "    background-color: var(--bg-color);\n",
              "    border: none;\n",
              "    border-radius: 50%;\n",
              "    cursor: pointer;\n",
              "    display: none;\n",
              "    fill: var(--fill-color);\n",
              "    height: 32px;\n",
              "    padding: 0;\n",
              "    width: 32px;\n",
              "  }\n",
              "\n",
              "  .colab-df-quickchart:hover {\n",
              "    background-color: var(--hover-bg-color);\n",
              "    box-shadow: 0 1px 2px rgba(60, 64, 67, 0.3), 0 1px 3px 1px rgba(60, 64, 67, 0.15);\n",
              "    fill: var(--button-hover-fill-color);\n",
              "  }\n",
              "\n",
              "  .colab-df-quickchart-complete:disabled,\n",
              "  .colab-df-quickchart-complete:disabled:hover {\n",
              "    background-color: var(--disabled-bg-color);\n",
              "    fill: var(--disabled-fill-color);\n",
              "    box-shadow: none;\n",
              "  }\n",
              "\n",
              "  .colab-df-spinner {\n",
              "    border: 2px solid var(--fill-color);\n",
              "    border-color: transparent;\n",
              "    border-bottom-color: var(--fill-color);\n",
              "    animation:\n",
              "      spin 1s steps(1) infinite;\n",
              "  }\n",
              "\n",
              "  @keyframes spin {\n",
              "    0% {\n",
              "      border-color: transparent;\n",
              "      border-bottom-color: var(--fill-color);\n",
              "      border-left-color: var(--fill-color);\n",
              "    }\n",
              "    20% {\n",
              "      border-color: transparent;\n",
              "      border-left-color: var(--fill-color);\n",
              "      border-top-color: var(--fill-color);\n",
              "    }\n",
              "    30% {\n",
              "      border-color: transparent;\n",
              "      border-left-color: var(--fill-color);\n",
              "      border-top-color: var(--fill-color);\n",
              "      border-right-color: var(--fill-color);\n",
              "    }\n",
              "    40% {\n",
              "      border-color: transparent;\n",
              "      border-right-color: var(--fill-color);\n",
              "      border-top-color: var(--fill-color);\n",
              "    }\n",
              "    60% {\n",
              "      border-color: transparent;\n",
              "      border-right-color: var(--fill-color);\n",
              "    }\n",
              "    80% {\n",
              "      border-color: transparent;\n",
              "      border-right-color: var(--fill-color);\n",
              "      border-bottom-color: var(--fill-color);\n",
              "    }\n",
              "    90% {\n",
              "      border-color: transparent;\n",
              "      border-bottom-color: var(--fill-color);\n",
              "    }\n",
              "  }\n",
              "</style>\n",
              "\n",
              "  <script>\n",
              "    async function quickchart(key) {\n",
              "      const quickchartButtonEl =\n",
              "        document.querySelector('#' + key + ' button');\n",
              "      quickchartButtonEl.disabled = true;  // To prevent multiple clicks.\n",
              "      quickchartButtonEl.classList.add('colab-df-spinner');\n",
              "      try {\n",
              "        const charts = await google.colab.kernel.invokeFunction(\n",
              "            'suggestCharts', [key], {});\n",
              "      } catch (error) {\n",
              "        console.error('Error during call to suggestCharts:', error);\n",
              "      }\n",
              "      quickchartButtonEl.classList.remove('colab-df-spinner');\n",
              "      quickchartButtonEl.classList.add('colab-df-quickchart-complete');\n",
              "    }\n",
              "    (() => {\n",
              "      let quickchartButtonEl =\n",
              "        document.querySelector('#df-4521cb9e-6580-402b-bc12-5d9602cb5cc9 button');\n",
              "      quickchartButtonEl.style.display =\n",
              "        google.colab.kernel.accessAllowed ? 'block' : 'none';\n",
              "    })();\n",
              "  </script>\n",
              "</div>\n",
              "\n",
              "  <div id=\"id_7eb8ee53-0952-49fd-935c-98fd5b5ea8b2\">\n",
              "    <style>\n",
              "      .colab-df-generate {\n",
              "        background-color: #E8F0FE;\n",
              "        border: none;\n",
              "        border-radius: 50%;\n",
              "        cursor: pointer;\n",
              "        display: none;\n",
              "        fill: #1967D2;\n",
              "        height: 32px;\n",
              "        padding: 0 0 0 0;\n",
              "        width: 32px;\n",
              "      }\n",
              "\n",
              "      .colab-df-generate:hover {\n",
              "        background-color: #E2EBFA;\n",
              "        box-shadow: 0px 1px 2px rgba(60, 64, 67, 0.3), 0px 1px 3px 1px rgba(60, 64, 67, 0.15);\n",
              "        fill: #174EA6;\n",
              "      }\n",
              "\n",
              "      [theme=dark] .colab-df-generate {\n",
              "        background-color: #3B4455;\n",
              "        fill: #D2E3FC;\n",
              "      }\n",
              "\n",
              "      [theme=dark] .colab-df-generate:hover {\n",
              "        background-color: #434B5C;\n",
              "        box-shadow: 0px 1px 3px 1px rgba(0, 0, 0, 0.15);\n",
              "        filter: drop-shadow(0px 1px 2px rgba(0, 0, 0, 0.3));\n",
              "        fill: #FFFFFF;\n",
              "      }\n",
              "    </style>\n",
              "    <button class=\"colab-df-generate\" onclick=\"generateWithVariable('accuracy_data')\"\n",
              "            title=\"Generate code using this dataframe.\"\n",
              "            style=\"display:none;\">\n",
              "\n",
              "  <svg xmlns=\"http://www.w3.org/2000/svg\" height=\"24px\"viewBox=\"0 0 24 24\"\n",
              "       width=\"24px\">\n",
              "    <path d=\"M7,19H8.4L18.45,9,17,7.55,7,17.6ZM5,21V16.75L18.45,3.32a2,2,0,0,1,2.83,0l1.4,1.43a1.91,1.91,0,0,1,.58,1.4,1.91,1.91,0,0,1-.58,1.4L9.25,21ZM18.45,9,17,7.55Zm-12,3A5.31,5.31,0,0,0,4.9,8.1,5.31,5.31,0,0,0,1,6.5,5.31,5.31,0,0,0,4.9,4.9,5.31,5.31,0,0,0,6.5,1,5.31,5.31,0,0,0,8.1,4.9,5.31,5.31,0,0,0,12,6.5,5.46,5.46,0,0,0,6.5,12Z\"/>\n",
              "  </svg>\n",
              "    </button>\n",
              "    <script>\n",
              "      (() => {\n",
              "      const buttonEl =\n",
              "        document.querySelector('#id_7eb8ee53-0952-49fd-935c-98fd5b5ea8b2 button.colab-df-generate');\n",
              "      buttonEl.style.display =\n",
              "        google.colab.kernel.accessAllowed ? 'block' : 'none';\n",
              "\n",
              "      buttonEl.onclick = () => {\n",
              "        google.colab.notebook.generateWithVariable('accuracy_data');\n",
              "      }\n",
              "      })();\n",
              "    </script>\n",
              "  </div>\n",
              "\n",
              "    </div>\n",
              "  </div>\n"
            ],
            "application/vnd.google.colaboratory.intrinsic+json": {
              "type": "dataframe",
              "variable_name": "accuracy_data",
              "summary": "{\n  \"name\": \"accuracy_data\",\n  \"rows\": 5,\n  \"fields\": [\n    {\n      \"column\": \"model\",\n      \"properties\": {\n        \"dtype\": \"string\",\n        \"num_unique_values\": 5,\n        \"samples\": [\n          \"Logistic Regression\",\n          \"Support Vector Machine\",\n          \"K Nearest Neighbors\"\n        ],\n        \"semantic_type\": \"\",\n        \"description\": \"\"\n      }\n    },\n    {\n      \"column\": \"accuracy\",\n      \"properties\": {\n        \"dtype\": \"number\",\n        \"std\": 4.240526817389654,\n        \"min\": 55.83596214511041,\n        \"max\": 64.03785488958991,\n        \"num_unique_values\": 5,\n        \"samples\": [\n          63.40694006309149,\n          63.722397476340696,\n          55.83596214511041\n        ],\n        \"semantic_type\": \"\",\n        \"description\": \"\"\n      }\n    }\n  ]\n}"
            }
          },
          "metadata": {},
          "execution_count": 126
        }
      ]
    },
    {
      "cell_type": "markdown",
      "source": [
        "In conclusion, Random Forest Classifier model  performed much better than all others."
      ],
      "metadata": {
        "id": "GrPn0eHi18YU"
      }
    }
  ]
}